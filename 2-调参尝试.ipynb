{
 "cells": [
  {
   "cell_type": "code",
   "execution_count": 25,
   "id": "c4846497",
   "metadata": {},
   "outputs": [],
   "source": [
    "import xgboost as xgb\n",
    "import lightgbm as lgb\n",
    "from sklearn.preprocessing import LabelEncoder, StandardScaler\n",
    "from sklearn.linear_model import LogisticRegression\n",
    "from sklearn.svm import SVC\n",
    "from sklearn.neighbors import KNeighborsClassifier\n",
    "from catboost import CatBoostRegressor, CatBoostClassifier\n",
    "import pandas as pd\n",
    "import numpy as np\n",
    "import tqdm, datetime, pickle\n",
    "from sklearn.datasets import make_classification\n",
    "from sklearn.ensemble import RandomForestClassifier\n",
    "\n",
    "import torch\n",
    "import torch.nn.functional as F\n",
    "from torch.utils.data import DataLoader\n",
    "\n",
    "import ngboost as ngb\n",
    "\n",
    "from sklearn import datasets\n",
    "\n",
    "import plotnine\n",
    "from plotnine import *\n",
    "\n",
    "import seaborn as sns\n",
    "\n",
    "from sklearn.metrics import roc_auc_score, accuracy_score, f1_score, precision_score, recall_score, classification_report, confusion_matrix\n",
    "\n",
    "import numpy as np\n",
    "from hyperopt import hp, tpe, Trials, STATUS_OK, Trials, anneal\n",
    "from functools import partial\n",
    "from hyperopt.fmin import fmin\n",
    "\n",
    "# from keras.models import Sequential\n",
    "# from keras.layers import Dense, Dropout, Activation, Flatten"
   ]
  },
  {
   "cell_type": "code",
   "execution_count": 2,
   "id": "7d8a9529",
   "metadata": {},
   "outputs": [],
   "source": [
    "data_train = pd.read_csv(\"preprocessedDataset/pre1.csv\")\n",
    "numerical_category_fewValues = [\n",
    "    \"homeOwnership\", \n",
    "    \"verificationStatus\",\n",
    "    \"initialListStatus\",\n",
    "    \"applicationType\",\n",
    "    \"n11\",\n",
    "    \"n12\",\n",
    "]\n",
    "numerical_category_manyValues = [\n",
    "    \"regionCode\",\n",
    "    \"employmentTitle\",\n",
    "    \"purpose\",\n",
    "    \"postCode\",\n",
    "    \"title\",\n",
    "]\n",
    "date_type = [\n",
    "    'issueDate',\n",
    "    'earliesCreditLine',\n",
    "    'issueDateDT',\n",
    "    'earliesCreditLineDT',\n",
    "    'earliesCreditLineYear',\n",
    "    'earliesCreditLineMonth',\n",
    "    'issueYear',\n",
    "    'issueMonth'\n",
    "]\n",
    "numerical_serial = [\n",
    "    \"loanAmnt\",\"interestRate\",\"installment\",\"annualIncome\",\"dti\",\"delinquency_2years\",\"ficoRangeLow\",\"ficoRangeHigh\",\"openAcc\",\n",
    "    \"pubRec\",\"pubRecBankruptcies\",\"revolBal\",\"revolUtil\",\"totalAcc\",\"n0\",\"n1\",\"n2\",\"n3\",\n",
    "    \"n4\",\"n5\",\"n6\",\"n7\",\"n8\",\"n9\",\"n10\",\"n13\",\"n14\",\n",
    "    \"term\", \n",
    "]\n",
    "object_serial = [\n",
    "    \"grade\",\n",
    "    \"subGrade\", \n",
    "    \"employmentLength\"\n",
    "]"
   ]
  },
  {
   "cell_type": "code",
   "execution_count": 3,
   "id": "1dac2179",
   "metadata": {},
   "outputs": [],
   "source": [
    "features = [f for f in data_train.columns if f not in ['id', 'isDefault', \"policyCode\", \"issueDate\", \"earliesCreditLine\"] and '_outliers' not in f]\n",
    "y_full = data_train['isDefault']\n",
    "x_full = data_train[features]"
   ]
  },
  {
   "cell_type": "code",
   "execution_count": 4,
   "id": "aaa30a49",
   "metadata": {},
   "outputs": [],
   "source": [
    "from sklearn.model_selection import train_test_split\n",
    "\n",
    "X_, X_test, y_, y_test = train_test_split(x_full, y_full, test_size=0.5, random_state=0)\n",
    "X_train, X_valid, y_train, y_valid = train_test_split(X_, y_, test_size=0.6, random_state=0)\n",
    "del X_, y_"
   ]
  },
  {
   "cell_type": "code",
   "execution_count": 18,
   "id": "0c33ba13",
   "metadata": {},
   "outputs": [],
   "source": [
    "dtrain = xgb.DMatrix(X_train.to_numpy(), label=y_train.to_numpy())\n",
    "dtest = xgb.DMatrix(X_valid.to_numpy(), label=y_valid.to_numpy())"
   ]
  },
  {
   "cell_type": "markdown",
   "id": "5a4d5ac4",
   "metadata": {},
   "source": [
    "# 贝叶斯优化\n",
    "\n",
    "用hyperopt来搞"
   ]
  },
  {
   "cell_type": "markdown",
   "id": "0b13333c",
   "metadata": {},
   "source": [
    "https://blog.csdn.net/FontThrone/article/details/85045254"
   ]
  },
  {
   "cell_type": "code",
   "execution_count": 20,
   "id": "a209414b",
   "metadata": {},
   "outputs": [
    {
     "name": "stdout",
     "output_type": "stream",
     "text": [
      "{'max_depth': <hyperopt.pyll.base.Apply object at 0x7f9ad0c1d370>, 'n_estimators': <hyperopt.pyll.base.Apply object at 0x7f9ad0c1dbb0>, 'learning_rate': <hyperopt.pyll.base.Apply object at 0x7f9ad0c1da90>, 'subsample': <hyperopt.pyll.base.Apply object at 0x7f9ad0c1dc10>, 'min_child_weight': <hyperopt.pyll.base.Apply object at 0x7f9ad0c1d580>}\n"
     ]
    },
    {
     "data": {
      "text/plain": [
       "{'max_depth': <hyperopt.pyll.base.Apply at 0x7f9ad0c1d370>,\n",
       " 'n_estimators': <hyperopt.pyll.base.Apply at 0x7f9ad0c1dbb0>,\n",
       " 'learning_rate': <hyperopt.pyll.base.Apply at 0x7f9ad0c1da90>,\n",
       " 'subsample': <hyperopt.pyll.base.Apply at 0x7f9ad0c1dc10>,\n",
       " 'min_child_weight': <hyperopt.pyll.base.Apply at 0x7f9ad0c1d580>}"
      ]
     },
     "execution_count": 20,
     "metadata": {},
     "output_type": "execute_result"
    }
   ],
   "source": [
    "# 自定义hyperopt的参数空间\n",
    "space = {\"max_depth\": hp.randint(\"max_depth\", 15),\n",
    "         # \"n_estimators\": hp.randint(\"n_estimators\", 300),\n",
    "         'learning_rate': hp.uniform('learning_rate', 1e-3, 5e-1),\n",
    "         \"subsample\": hp.randint(\"subsample\", 5),\n",
    "         \"min_child_weight\": hp.randint(\"min_child_weight\", 6),\n",
    "         }\n",
    "\n",
    "def argsDict_tranform(argsDict, isPrint=False):\n",
    "    argsDict[\"max_depth\"] = argsDict[\"max_depth\"] # + 5\n",
    "    # argsDict['n_estimators'] = argsDict['n_estimators'] + 150\n",
    "    argsDict[\"learning_rate\"] = argsDict[\"learning_rate\"] * 0.02 + 0.05\n",
    "    argsDict[\"subsample\"] = argsDict[\"subsample\"] * 0.1 + 0.5\n",
    "    argsDict[\"min_child_weight\"] = argsDict[\"min_child_weight\"] + 1\n",
    "    if isPrint:\n",
    "        print(argsDict)\n",
    "    else:\n",
    "        pass\n",
    "\n",
    "    return argsDict"
   ]
  },
  {
   "cell_type": "code",
   "execution_count": 36,
   "id": "8c36ac36",
   "metadata": {},
   "outputs": [],
   "source": [
    "def xgboost_factory(argsDict):\n",
    "    argsDict = argsDict_tranform(argsDict)\n",
    "    \n",
    "    params = {\n",
    "        'booster':'gbtree',\n",
    "        'objective': 'binary:logistic',\n",
    "        'eval_metric': 'auc',\n",
    "        'max_depth': argsDict['max_depth'],  # 最大深度\n",
    "        'scale_pos_weight': 3,\n",
    "        'learning_rate': argsDict['learning_rate'],  # 学习率\n",
    "        'reg_lambda': 5,\n",
    "        'reg_alpha': 0, \n",
    "        'colsample_bytree': 0.8,\n",
    "    }\n",
    "    params['eval_metric'] = ['auc']\n",
    "\n",
    "    xrf = xgb.train(\n",
    "        params, dtrain, \n",
    "        num_boost_round=10000, evals=[(dtrain, 'train'), (dtest, 'test')], \n",
    "        early_stopping_rounds=100, verbose_eval=50\n",
    "    )\n",
    "\n",
    "    prediction = xrf.predict(dtest, ntree_limit=xrf.best_ntree_limit)\n",
    "    \n",
    "    return roc_auc_score(\n",
    "                y_valid, \n",
    "                prediction\n",
    "            )"
   ]
  },
  {
   "cell_type": "code",
   "execution_count": 40,
   "id": "20dc56ef",
   "metadata": {},
   "outputs": [
    {
     "name": "stdout",
     "output_type": "stream",
     "text": [
      "[0]\ttrain-auc:0.82633\ttest-auc:0.66926                                          \n",
      "[50]\ttrain-auc:0.97366\ttest-auc:0.71678                                         \n",
      "[100]\ttrain-auc:0.99063\ttest-auc:0.71865                                        \n",
      "[150]\ttrain-auc:0.99499\ttest-auc:0.71837                                        \n",
      "[200]\ttrain-auc:0.99723\ttest-auc:0.71750                                        \n",
      "[213]\ttrain-auc:0.99746\ttest-auc:0.71745                                        \n",
      "  0%|                                    | 0/20 [01:10<?, ?trial/s, best loss=?]"
     ]
    },
    {
     "name": "stderr",
     "output_type": "stream",
     "text": [
      "/Users/minkexiu/opt/anaconda3/lib/python3.9/site-packages/xgboost/core.py:105: UserWarning: ntree_limit is deprecated, use `iteration_range` or model slicing instead.\n",
      "\n"
     ]
    },
    {
     "name": "stdout",
     "output_type": "stream",
     "text": [
      "[0]\ttrain-auc:0.82633\ttest-auc:0.66926                                          \n",
      "[50]\ttrain-auc:0.97409\ttest-auc:0.71648                                         \n",
      "[100]\ttrain-auc:0.99108\ttest-auc:0.71864                                        \n",
      "[150]\ttrain-auc:0.99443\ttest-auc:0.71882                                        \n",
      "[200]\ttrain-auc:0.99671\ttest-auc:0.71799                                        \n",
      "[232]\ttrain-auc:0.99764\ttest-auc:0.71752                                        \n",
      "  5%|▌         | 1/20 [02:34<23:21, 73.76s/trial, best loss: 0.7187696070131455]"
     ]
    },
    {
     "name": "stderr",
     "output_type": "stream",
     "text": [
      "/Users/minkexiu/opt/anaconda3/lib/python3.9/site-packages/xgboost/core.py:105: UserWarning: ntree_limit is deprecated, use `iteration_range` or model slicing instead.\n",
      "\n"
     ]
    },
    {
     "name": "stdout",
     "output_type": "stream",
     "text": [
      "[0]\ttrain-auc:0.90303\ttest-auc:0.64761                                          \n",
      "[50]\ttrain-auc:0.99894\ttest-auc:0.71265                                         \n",
      "[100]\ttrain-auc:0.99912\ttest-auc:0.71607                                        \n",
      "[150]\ttrain-auc:0.99912\ttest-auc:0.71711                                        \n",
      "[200]\ttrain-auc:0.99912\ttest-auc:0.71743                                        \n",
      "[250]\ttrain-auc:0.99912\ttest-auc:0.71729                                        \n",
      "[300]\ttrain-auc:0.99912\ttest-auc:0.71710                                        \n",
      "[317]\ttrain-auc:0.99912\ttest-auc:0.71718                                        \n",
      " 10%|█         | 2/20 [05:22<23:55, 79.76s/trial, best loss: 0.7187696070131455]"
     ]
    },
    {
     "name": "stderr",
     "output_type": "stream",
     "text": [
      "/Users/minkexiu/opt/anaconda3/lib/python3.9/site-packages/xgboost/core.py:105: UserWarning: ntree_limit is deprecated, use `iteration_range` or model slicing instead.\n",
      "\n"
     ]
    },
    {
     "name": "stdout",
     "output_type": "stream",
     "text": [
      "[0]\ttrain-auc:0.90303\ttest-auc:0.64761                                          \n",
      "[50]\ttrain-auc:0.99893\ttest-auc:0.71256                                         \n",
      "[100]\ttrain-auc:0.99912\ttest-auc:0.71593                                        \n",
      "[150]\ttrain-auc:0.99912\ttest-auc:0.71717                                        \n",
      "[200]\ttrain-auc:0.99912\ttest-auc:0.71742                                        \n",
      "[250]\ttrain-auc:0.99912\ttest-auc:0.71733                                        \n",
      "[297]\ttrain-auc:0.99912\ttest-auc:0.71718                                        \n",
      " 15%|█▋         | 3/20 [08:11<35:18, 124.65s/trial, best loss: 0.71749512510589]"
     ]
    },
    {
     "name": "stderr",
     "output_type": "stream",
     "text": [
      "/Users/minkexiu/opt/anaconda3/lib/python3.9/site-packages/xgboost/core.py:105: UserWarning: ntree_limit is deprecated, use `iteration_range` or model slicing instead.\n",
      "\n"
     ]
    },
    {
     "name": "stdout",
     "output_type": "stream",
     "text": [
      "[0]\ttrain-auc:0.91440\ttest-auc:0.64431                                          \n",
      "[50]\ttrain-auc:0.99900\ttest-auc:0.71197                                         \n",
      "[100]\ttrain-auc:0.99912\ttest-auc:0.71596                                        \n",
      "[150]\ttrain-auc:0.99912\ttest-auc:0.71736                                        \n",
      "[200]\ttrain-auc:0.99912\ttest-auc:0.71761                                        \n",
      "[250]\ttrain-auc:0.99912\ttest-auc:0.71771                                        \n",
      "[300]\ttrain-auc:0.99913\ttest-auc:0.71767                                        \n",
      "[350]\ttrain-auc:0.99913\ttest-auc:0.71765                                        \n",
      "[400]\ttrain-auc:0.99913\ttest-auc:0.71760                                        \n",
      "[425]\ttrain-auc:0.99913\ttest-auc:0.71760                                        \n",
      " 20%|█▊       | 4/20 [12:13<37:45, 141.58s/trial, best loss: 0.7174037316912669]"
     ]
    },
    {
     "name": "stderr",
     "output_type": "stream",
     "text": [
      "/Users/minkexiu/opt/anaconda3/lib/python3.9/site-packages/xgboost/core.py:105: UserWarning: ntree_limit is deprecated, use `iteration_range` or model slicing instead.\n",
      "\n"
     ]
    },
    {
     "name": "stdout",
     "output_type": "stream",
     "text": [
      "[0]\ttrain-auc:0.76600\ttest-auc:0.68730                                          \n",
      "[50]\ttrain-auc:0.87308\ttest-auc:0.72066                                         \n",
      "[100]\ttrain-auc:0.91226\ttest-auc:0.72287                                        \n",
      "[150]\ttrain-auc:0.92989\ttest-auc:0.72307                                        \n",
      "[200]\ttrain-auc:0.94639\ttest-auc:0.72248                                        \n",
      "[225]\ttrain-auc:0.95405\ttest-auc:0.72208                                        \n",
      " 25%|██▎      | 5/20 [13:27<44:58, 179.92s/trial, best loss: 0.7174037316912669]"
     ]
    },
    {
     "name": "stderr",
     "output_type": "stream",
     "text": [
      "/Users/minkexiu/opt/anaconda3/lib/python3.9/site-packages/xgboost/core.py:105: UserWarning: ntree_limit is deprecated, use `iteration_range` or model slicing instead.\n",
      "\n"
     ]
    },
    {
     "name": "stdout",
     "output_type": "stream",
     "text": [
      "[0]\ttrain-auc:0.90303\ttest-auc:0.64761                                          \n",
      "[50]\ttrain-auc:0.99894\ttest-auc:0.71276                                         \n",
      "[100]\ttrain-auc:0.99912\ttest-auc:0.71595                                        \n",
      "[150]\ttrain-auc:0.99912\ttest-auc:0.71707                                        \n",
      "[200]\ttrain-auc:0.99912\ttest-auc:0.71740                                        \n",
      "[250]\ttrain-auc:0.99912\ttest-auc:0.71715                                        \n",
      "[297]\ttrain-auc:0.99912\ttest-auc:0.71711                                        \n",
      " 30%|██▋      | 6/20 [15:59<32:15, 138.23s/trial, best loss: 0.7174037316912669]"
     ]
    },
    {
     "name": "stderr",
     "output_type": "stream",
     "text": [
      "/Users/minkexiu/opt/anaconda3/lib/python3.9/site-packages/xgboost/core.py:105: UserWarning: ntree_limit is deprecated, use `iteration_range` or model slicing instead.\n",
      "\n"
     ]
    },
    {
     "name": "stdout",
     "output_type": "stream",
     "text": [
      "[0]\ttrain-auc:0.87391\ttest-auc:0.65475                                          \n",
      "[50]\ttrain-auc:0.99768\ttest-auc:0.71420                                         \n",
      "[100]\ttrain-auc:0.99908\ttest-auc:0.71688                                        \n",
      "[150]\ttrain-auc:0.99911\ttest-auc:0.71736                                        \n",
      "[200]\ttrain-auc:0.99912\ttest-auc:0.71704                                        \n",
      "[248]\ttrain-auc:0.99912\ttest-auc:0.71666                                        \n",
      " 35%|███▏     | 7/20 [17:52<31:38, 146.04s/trial, best loss: 0.7174028197991095]"
     ]
    },
    {
     "name": "stderr",
     "output_type": "stream",
     "text": [
      "/Users/minkexiu/opt/anaconda3/lib/python3.9/site-packages/xgboost/core.py:105: UserWarning: ntree_limit is deprecated, use `iteration_range` or model slicing instead.\n",
      "\n"
     ]
    },
    {
     "name": "stdout",
     "output_type": "stream",
     "text": [
      "[0]\ttrain-auc:0.87391\ttest-auc:0.65475                                          \n",
      "[50]\ttrain-auc:0.99767\ttest-auc:0.71434                                         \n",
      "[100]\ttrain-auc:0.99909\ttest-auc:0.71680                                        \n",
      "[150]\ttrain-auc:0.99912\ttest-auc:0.71732                                        \n",
      "[200]\ttrain-auc:0.99912\ttest-auc:0.71736                                        \n",
      "[250]\ttrain-auc:0.99912\ttest-auc:0.71672                                        \n",
      "[263]\ttrain-auc:0.99912\ttest-auc:0.71647                                        \n",
      " 40%|███▌     | 8/20 [19:46<26:46, 133.84s/trial, best loss: 0.7173543612841904]"
     ]
    },
    {
     "name": "stderr",
     "output_type": "stream",
     "text": [
      "/Users/minkexiu/opt/anaconda3/lib/python3.9/site-packages/xgboost/core.py:105: UserWarning: ntree_limit is deprecated, use `iteration_range` or model slicing instead.\n",
      "\n"
     ]
    },
    {
     "name": "stdout",
     "output_type": "stream",
     "text": [
      "[0]\ttrain-auc:0.91810\ttest-auc:0.64335                                          \n",
      "[50]\ttrain-auc:0.99902\ttest-auc:0.71161                                         \n",
      "[100]\ttrain-auc:0.99912\ttest-auc:0.71555                                        \n",
      "[150]\ttrain-auc:0.99912\ttest-auc:0.71713                                        \n",
      "[200]\ttrain-auc:0.99912\ttest-auc:0.71732                                        \n",
      "[250]\ttrain-auc:0.99913\ttest-auc:0.71744                                        \n",
      "[300]\ttrain-auc:0.99913\ttest-auc:0.71747                                        \n",
      "[350]\ttrain-auc:0.99913\ttest-auc:0.71734                                        \n",
      "[373]\ttrain-auc:0.99913\ttest-auc:0.71727                                        \n",
      " 45%|████     | 9/20 [23:24<23:25, 127.74s/trial, best loss: 0.7173543612841904]"
     ]
    },
    {
     "name": "stderr",
     "output_type": "stream",
     "text": [
      "/Users/minkexiu/opt/anaconda3/lib/python3.9/site-packages/xgboost/core.py:105: UserWarning: ntree_limit is deprecated, use `iteration_range` or model slicing instead.\n",
      "\n"
     ]
    },
    {
     "name": "stdout",
     "output_type": "stream",
     "text": [
      "[0]\ttrain-auc:0.92106\ttest-auc:0.64244                                          \n",
      "[50]\ttrain-auc:0.99903\ttest-auc:0.71087                                         \n",
      "[100]\ttrain-auc:0.99912\ttest-auc:0.71502                                        \n",
      "[150]\ttrain-auc:0.99912\ttest-auc:0.71645                                        \n",
      "[200]\ttrain-auc:0.99912\ttest-auc:0.71685                                        \n",
      "[250]\ttrain-auc:0.99913\ttest-auc:0.71705                                        \n",
      "[300]\ttrain-auc:0.99913\ttest-auc:0.71716                                        \n",
      "[350]\ttrain-auc:0.99913\ttest-auc:0.71723                                        \n",
      "[400]\ttrain-auc:0.99914\ttest-auc:0.71718                                        \n",
      "[450]\ttrain-auc:0.99913\ttest-auc:0.71706                                        \n",
      "[488]\ttrain-auc:0.99913\ttest-auc:0.71697                                        \n",
      " 50%|████    | 10/20 [28:21<26:28, 158.88s/trial, best loss: 0.7173543612841904]"
     ]
    },
    {
     "name": "stderr",
     "output_type": "stream",
     "text": [
      "/Users/minkexiu/opt/anaconda3/lib/python3.9/site-packages/xgboost/core.py:105: UserWarning: ntree_limit is deprecated, use `iteration_range` or model slicing instead.\n",
      "\n"
     ]
    },
    {
     "name": "stdout",
     "output_type": "stream",
     "text": [
      "[0]\ttrain-auc:0.92106\ttest-auc:0.64244                                          \n",
      "[50]\ttrain-auc:0.99902\ttest-auc:0.71177                                         \n",
      "[100]\ttrain-auc:0.99912\ttest-auc:0.71538                                        \n",
      "[150]\ttrain-auc:0.99912\ttest-auc:0.71695                                        \n",
      "[200]\ttrain-auc:0.99912\ttest-auc:0.71755                                        \n",
      "[250]\ttrain-auc:0.99913\ttest-auc:0.71791                                        \n",
      "[300]\ttrain-auc:0.99913\ttest-auc:0.71802                                        \n",
      "[350]\ttrain-auc:0.99914\ttest-auc:0.71811                                        \n",
      "[400]\ttrain-auc:0.99913\ttest-auc:0.71814                                        \n",
      "[450]\ttrain-auc:0.99913\ttest-auc:0.71807                                        \n",
      "[479]\ttrain-auc:0.99913\ttest-auc:0.71798                                        \n",
      " 55%|████▍   | 11/20 [33:19<30:21, 202.42s/trial, best loss: 0.7172603331753558]"
     ]
    },
    {
     "name": "stderr",
     "output_type": "stream",
     "text": [
      "/Users/minkexiu/opt/anaconda3/lib/python3.9/site-packages/xgboost/core.py:105: UserWarning: ntree_limit is deprecated, use `iteration_range` or model slicing instead.\n",
      "\n"
     ]
    },
    {
     "name": "stdout",
     "output_type": "stream",
     "text": [
      "[0]\ttrain-auc:0.92106\ttest-auc:0.64244                                          \n",
      "[50]\ttrain-auc:0.99902\ttest-auc:0.71168                                         \n",
      "[100]\ttrain-auc:0.99912\ttest-auc:0.71520                                        \n",
      "[150]\ttrain-auc:0.99912\ttest-auc:0.71695                                        \n",
      "[200]\ttrain-auc:0.99913\ttest-auc:0.71744                                        \n",
      "[250]\ttrain-auc:0.99913\ttest-auc:0.71770                                        \n",
      "[300]\ttrain-auc:0.99913\ttest-auc:0.71778                                        \n",
      "[350]\ttrain-auc:0.99913\ttest-auc:0.71782                                        \n",
      "[400]\ttrain-auc:0.99914\ttest-auc:0.71768                                        \n",
      "[418]\ttrain-auc:0.99913\ttest-auc:0.71764                                        \n",
      " 60%|████▊   | 12/20 [37:42<30:53, 231.64s/trial, best loss: 0.7172603331753558]"
     ]
    },
    {
     "name": "stderr",
     "output_type": "stream",
     "text": [
      "/Users/minkexiu/opt/anaconda3/lib/python3.9/site-packages/xgboost/core.py:105: UserWarning: ntree_limit is deprecated, use `iteration_range` or model slicing instead.\n",
      "\n"
     ]
    },
    {
     "name": "stdout",
     "output_type": "stream",
     "text": [
      "[0]\ttrain-auc:0.84421\ttest-auc:0.66387                                          \n",
      "[50]\ttrain-auc:0.98818\ttest-auc:0.71610                                         \n",
      "[100]\ttrain-auc:0.99715\ttest-auc:0.71766                                        \n",
      "[150]\ttrain-auc:0.99835\ttest-auc:0.71771                                        \n",
      "[200]\ttrain-auc:0.99894\ttest-auc:0.71713                                        \n",
      "[221]\ttrain-auc:0.99901\ttest-auc:0.71691                                        \n",
      " 65%|█████▏  | 13/20 [39:21<28:02, 240.30s/trial, best loss: 0.7172603331753558]"
     ]
    },
    {
     "name": "stderr",
     "output_type": "stream",
     "text": [
      "/Users/minkexiu/opt/anaconda3/lib/python3.9/site-packages/xgboost/core.py:105: UserWarning: ntree_limit is deprecated, use `iteration_range` or model slicing instead.\n",
      "\n"
     ]
    },
    {
     "name": "stdout",
     "output_type": "stream",
     "text": [
      "[0]\ttrain-auc:0.89501\ttest-auc:0.64970                                          \n",
      "[50]\ttrain-auc:0.99883\ttest-auc:0.71279                                         \n",
      "[100]\ttrain-auc:0.99912\ttest-auc:0.71598                                        \n",
      "[150]\ttrain-auc:0.99912\ttest-auc:0.71689                                        \n",
      "[200]\ttrain-auc:0.99912\ttest-auc:0.71721                                        \n",
      "[250]\ttrain-auc:0.99912\ttest-auc:0.71716                                        \n",
      "[282]\ttrain-auc:0.99912\ttest-auc:0.71706                                        \n",
      " 70%|█████▌  | 14/20 [41:39<19:17, 192.95s/trial, best loss: 0.7172603331753558]"
     ]
    },
    {
     "name": "stderr",
     "output_type": "stream",
     "text": [
      "/Users/minkexiu/opt/anaconda3/lib/python3.9/site-packages/xgboost/core.py:105: UserWarning: ntree_limit is deprecated, use `iteration_range` or model slicing instead.\n",
      "\n"
     ]
    },
    {
     "name": "stdout",
     "output_type": "stream",
     "text": [
      "[0]\ttrain-auc:0.89501\ttest-auc:0.64970                                          \n",
      "[50]\ttrain-auc:0.99882\ttest-auc:0.71309                                         \n",
      "[100]\ttrain-auc:0.99912\ttest-auc:0.71642                                        \n",
      "[150]\ttrain-auc:0.99912\ttest-auc:0.71722                                        \n",
      "[200]\ttrain-auc:0.99912\ttest-auc:0.71710                                        \n",
      "[250]\ttrain-auc:0.99912\ttest-auc:0.71689                                        \n",
      "[277]\ttrain-auc:0.99912\ttest-auc:0.71673                                        \n",
      " 75%|██████  | 15/20 [43:59<14:52, 178.41s/trial, best loss: 0.7172150355741349]"
     ]
    },
    {
     "name": "stderr",
     "output_type": "stream",
     "text": [
      "/Users/minkexiu/opt/anaconda3/lib/python3.9/site-packages/xgboost/core.py:105: UserWarning: ntree_limit is deprecated, use `iteration_range` or model slicing instead.\n",
      "\n"
     ]
    },
    {
     "name": "stdout",
     "output_type": "stream",
     "text": [
      "[0]\ttrain-auc:0.90945\ttest-auc:0.64556                                          \n",
      "[50]\ttrain-auc:0.99897\ttest-auc:0.71214                                         \n",
      "[100]\ttrain-auc:0.99912\ttest-auc:0.71587                                        \n",
      "[150]\ttrain-auc:0.99912\ttest-auc:0.71730                                        \n",
      "[200]\ttrain-auc:0.99912\ttest-auc:0.71771                                        \n",
      "[250]\ttrain-auc:0.99912\ttest-auc:0.71763                                        \n",
      "[300]\ttrain-auc:0.99912\ttest-auc:0.71762                                        \n",
      "[301]\ttrain-auc:0.99913\ttest-auc:0.71761                                        \n",
      " 80%|██████▍ | 16/20 [54:48<11:17, 169.45s/trial, best loss: 0.7172150355741349]"
     ]
    },
    {
     "name": "stderr",
     "output_type": "stream",
     "text": [
      "/Users/minkexiu/opt/anaconda3/lib/python3.9/site-packages/xgboost/core.py:105: UserWarning: ntree_limit is deprecated, use `iteration_range` or model slicing instead.\n",
      "\n"
     ]
    },
    {
     "name": "stdout",
     "output_type": "stream",
     "text": [
      "[0]\ttrain-auc:0.89501\ttest-auc:0.64970                                          \n",
      "[50]\ttrain-auc:0.99882\ttest-auc:0.71300                                         \n",
      "[100]\ttrain-auc:0.99912\ttest-auc:0.71631                                        \n",
      "[150]\ttrain-auc:0.99912\ttest-auc:0.71732                                        \n",
      "[200]\ttrain-auc:0.99912\ttest-auc:0.71712                                        \n",
      "[250]\ttrain-auc:0.99912\ttest-auc:0.71697                                        \n",
      "[272]\ttrain-auc:0.99912\ttest-auc:0.71699                                        \n",
      " 85%|██████▊ | 17/20 [57:10<15:36, 312.13s/trial, best loss: 0.7172150355741349]"
     ]
    },
    {
     "name": "stderr",
     "output_type": "stream",
     "text": [
      "/Users/minkexiu/opt/anaconda3/lib/python3.9/site-packages/xgboost/core.py:105: UserWarning: ntree_limit is deprecated, use `iteration_range` or model slicing instead.\n",
      "\n"
     ]
    },
    {
     "name": "stdout",
     "output_type": "stream",
     "text": [
      "[0]\ttrain-auc:0.74821\ttest-auc:0.69329                                          \n",
      "[50]\ttrain-auc:0.83215\ttest-auc:0.72215                                         \n",
      "[100]\ttrain-auc:0.87198\ttest-auc:0.72464                                        \n",
      "[150]\ttrain-auc:0.89367\ttest-auc:0.72509                                        \n",
      "[200]\ttrain-auc:0.91007\ttest-auc:0.72471                                        \n",
      "[238]\ttrain-auc:0.92097\ttest-auc:0.72439                                        \n",
      " 90%|███████▏| 18/20 [58:12<08:39, 259.81s/trial, best loss: 0.7172150355741349]"
     ]
    },
    {
     "name": "stderr",
     "output_type": "stream",
     "text": [
      "/Users/minkexiu/opt/anaconda3/lib/python3.9/site-packages/xgboost/core.py:105: UserWarning: ntree_limit is deprecated, use `iteration_range` or model slicing instead.\n",
      "\n"
     ]
    },
    {
     "name": "stdout",
     "output_type": "stream",
     "text": [
      "[0]\ttrain-auc:0.80680\ttest-auc:0.67419                                          \n",
      "[50]\ttrain-auc:0.95023\ttest-auc:0.71818                                         \n",
      "[100]\ttrain-auc:0.97462\ttest-auc:0.72001                                        \n",
      "[150]\ttrain-auc:0.98394\ttest-auc:0.71973                                        \n",
      "[200]\ttrain-auc:0.99027\ttest-auc:0.71911                                        \n",
      "[216]\ttrain-auc:0.99105\ttest-auc:0.71897                                        \n",
      " 95%|███████▌| 19/20 [59:17<03:17, 197.88s/trial, best loss: 0.7172150355741349]"
     ]
    },
    {
     "name": "stderr",
     "output_type": "stream",
     "text": [
      "/Users/minkexiu/opt/anaconda3/lib/python3.9/site-packages/xgboost/core.py:105: UserWarning: ntree_limit is deprecated, use `iteration_range` or model slicing instead.\n",
      "\n"
     ]
    },
    {
     "name": "stdout",
     "output_type": "stream",
     "text": [
      "100%|████████| 20/20 [59:18<00:00, 177.95s/trial, best loss: 0.7172150355741349]\n"
     ]
    }
   ],
   "source": [
    "algo = partial(tpe.suggest, n_startup_jobs=1) # partial(anneal.suggest,) # \n",
    "best = fmin(\n",
    "    xgboost_factory, space, \n",
    "    algo=algo, max_evals=20, \n",
    "    pass_expr_memo_ctrl=None, \n",
    "    trials=Trials(), \n",
    "    return_argmin=True,\n",
    ")\n",
    "## best_params = fmin(factory, space, algo=partial(anneal.suggest,), max_evals=eval_iters, trials=Trials(),return_argmin=True)"
   ]
  },
  {
   "cell_type": "code",
   "execution_count": 41,
   "id": "a9c72b83",
   "metadata": {},
   "outputs": [
    {
     "data": {
      "text/plain": [
       "{'learning_rate': 0.22557954545205516,\n",
       " 'max_depth': 9,\n",
       " 'min_child_weight': 3,\n",
       " 'n_estimators': 176,\n",
       " 'subsample': 4}"
      ]
     },
     "execution_count": 41,
     "metadata": {},
     "output_type": "execute_result"
    }
   ],
   "source": [
    "best"
   ]
  },
  {
   "cell_type": "markdown",
   "id": "163a29d6",
   "metadata": {},
   "source": [
    "# GridSearch"
   ]
  },
  {
   "cell_type": "code",
   "execution_count": null,
   "id": "2ff027ae",
   "metadata": {},
   "outputs": [],
   "source": []
  }
 ],
 "metadata": {
  "kernelspec": {
   "display_name": "Python 3 (ipykernel)",
   "language": "python",
   "name": "python3"
  },
  "language_info": {
   "codemirror_mode": {
    "name": "ipython",
    "version": 3
   },
   "file_extension": ".py",
   "mimetype": "text/x-python",
   "name": "python",
   "nbconvert_exporter": "python",
   "pygments_lexer": "ipython3",
   "version": "3.9.7"
  },
  "toc": {
   "base_numbering": 1,
   "nav_menu": {},
   "number_sections": true,
   "sideBar": true,
   "skip_h1_title": false,
   "title_cell": "Table of Contents",
   "title_sidebar": "Contents",
   "toc_cell": false,
   "toc_position": {},
   "toc_section_display": true,
   "toc_window_display": false
  }
 },
 "nbformat": 4,
 "nbformat_minor": 5
}
