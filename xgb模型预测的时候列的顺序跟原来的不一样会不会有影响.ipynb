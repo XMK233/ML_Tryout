{
 "cells": [
  {
   "cell_type": "markdown",
   "id": "2748389f",
   "metadata": {},
   "source": [
    "结论：有影响。列的顺序必然不能乱。"
   ]
  },
  {
   "cell_type": "code",
   "execution_count": 1,
   "id": "295294c1",
   "metadata": {},
   "outputs": [],
   "source": [
    "import xgboost as xgb\n",
    "import lightgbm as lgb\n",
    "from sklearn.preprocessing import LabelEncoder, StandardScaler\n",
    "from sklearn.linear_model import LogisticRegression\n",
    "from sklearn.svm import SVC\n",
    "from sklearn.neighbors import KNeighborsClassifier\n",
    "from catboost import CatBoostRegressor, CatBoostClassifier\n",
    "import pandas as pd\n",
    "import numpy as np\n",
    "import tqdm, datetime, pickle\n",
    "from sklearn.datasets import make_classification\n",
    "from sklearn.ensemble import RandomForestClassifier\n",
    "\n",
    "import torch\n",
    "import torch.nn.functional as F\n",
    "from torch.utils.data import DataLoader\n",
    "\n",
    "import ngboost as ngb\n",
    "\n",
    "from sklearn import datasets\n",
    "\n",
    "import plotnine\n",
    "from plotnine import *\n",
    "\n",
    "import seaborn as sns\n",
    "\n",
    "# from keras.models import Sequential\n",
    "# from keras.layers import Dense, Dropout, Activation, Flatten"
   ]
  },
  {
   "cell_type": "code",
   "execution_count": 2,
   "id": "f5e93e00",
   "metadata": {},
   "outputs": [],
   "source": [
    "data_train = pd.read_csv(\"preprocessedDataset/pre1.csv\")\n",
    "numerical_category_fewValues = [\n",
    "    \"homeOwnership\", \n",
    "    \"verificationStatus\",\n",
    "    \"initialListStatus\",\n",
    "    \"applicationType\",\n",
    "    \"n11\",\n",
    "    \"n12\",\n",
    "]\n",
    "numerical_category_manyValues = [\n",
    "    \"regionCode\",\n",
    "    \"employmentTitle\",\n",
    "    \"purpose\",\n",
    "    \"postCode\",\n",
    "    \"title\",\n",
    "]\n",
    "date_type = [\n",
    "    'issueDate',\n",
    "    'earliesCreditLine',\n",
    "    'issueDateDT',\n",
    "    'earliesCreditLineDT',\n",
    "    'earliesCreditLineYear',\n",
    "    'earliesCreditLineMonth',\n",
    "    'issueYear',\n",
    "    'issueMonth'\n",
    "]\n",
    "numerical_serial = [\n",
    "    \"loanAmnt\",\"interestRate\",\"installment\",\"annualIncome\",\"dti\",\"delinquency_2years\",\"ficoRangeLow\",\"ficoRangeHigh\",\"openAcc\",\n",
    "    \"pubRec\",\"pubRecBankruptcies\",\"revolBal\",\"revolUtil\",\"totalAcc\",\"n0\",\"n1\",\"n2\",\"n3\",\n",
    "    \"n4\",\"n5\",\"n6\",\"n7\",\"n8\",\"n9\",\"n10\",\"n13\",\"n14\",\n",
    "    \"term\", \n",
    "]\n",
    "object_serial = [\n",
    "    \"grade\",\n",
    "    \"subGrade\", \n",
    "    \"employmentLength\"\n",
    "]"
   ]
  },
  {
   "cell_type": "code",
   "execution_count": 3,
   "id": "225abdd9",
   "metadata": {},
   "outputs": [],
   "source": [
    "features = [f for f in data_train.columns if f not in ['id', 'isDefault', \"policyCode\", \"issueDate\", \"earliesCreditLine\"] and '_outliers' not in f]\n",
    "y_full = data_train['isDefault']\n",
    "x_full = data_train[features]"
   ]
  },
  {
   "cell_type": "code",
   "execution_count": 4,
   "id": "53aa8962",
   "metadata": {},
   "outputs": [],
   "source": [
    "from copy import deepcopy\n",
    "from random import randint\n",
    "\n",
    "def shuffle(lst):\n",
    "    temp_lst = deepcopy(lst)\n",
    "    m = len(temp_lst)\n",
    "    while (m):\n",
    "        m -= 1\n",
    "        i = randint(0, m)\n",
    "        temp_lst[m], temp_lst[i] = temp_lst[i], temp_lst[m]\n",
    "    return temp_lst\n",
    "\n",
    "features = shuffle(features)"
   ]
  },
  {
   "cell_type": "code",
   "execution_count": 5,
   "id": "1a1539ac",
   "metadata": {},
   "outputs": [],
   "source": [
    "x_full = x_full[features]"
   ]
  },
  {
   "cell_type": "code",
   "execution_count": 6,
   "id": "3224272a",
   "metadata": {},
   "outputs": [],
   "source": [
    "from sklearn.model_selection import train_test_split\n",
    "\n",
    "X_, X_test, y_, y_test = train_test_split(x_full, y_full, test_size=0.5, random_state=0)\n",
    "X_train, X_valid, y_train, y_valid = train_test_split(X_, y_, test_size=0.6, random_state=0)\n",
    "del X_, y_"
   ]
  },
  {
   "cell_type": "code",
   "execution_count": 7,
   "id": "60f71aa7",
   "metadata": {},
   "outputs": [],
   "source": [
    "xgb_model = xgb.Booster()\n",
    "xgb_model.load_model(\"trainedModel/xgb.json\")"
   ]
  },
  {
   "cell_type": "code",
   "execution_count": 8,
   "id": "07f06fc2",
   "metadata": {},
   "outputs": [],
   "source": [
    "lgb_model = lgb.Booster(model_file='trainedModel/lgb.json')"
   ]
  },
  {
   "cell_type": "code",
   "execution_count": 9,
   "id": "6b2d730d",
   "metadata": {},
   "outputs": [
    {
     "data": {
      "text/plain": [
       "array([0.11767495, 0.07059092, 0.22284453, 0.255933  , 0.15696532,\n",
       "       0.1303988 , 0.17525958, 0.08638427, 0.28543937, 0.20266764],\n",
       "      dtype=float32)"
      ]
     },
     "execution_count": 9,
     "metadata": {},
     "output_type": "execute_result"
    }
   ],
   "source": [
    "proba_xgb = xgb_model.predict(\n",
    "    xgb.DMatrix(X_test.to_numpy())\n",
    ")\n",
    "proba_xgb[:10]"
   ]
  },
  {
   "cell_type": "code",
   "execution_count": 10,
   "id": "608e0c74",
   "metadata": {},
   "outputs": [
    {
     "data": {
      "text/plain": [
       "array([0.1051176 , 0.09611536, 0.08662769, 0.11381645, 0.09870612,\n",
       "       0.11577522, 0.08210272, 0.0795115 , 0.0894371 , 0.10454692])"
      ]
     },
     "execution_count": 10,
     "metadata": {},
     "output_type": "execute_result"
    }
   ],
   "source": [
    "proba_lgb = lgb_model.predict(\n",
    "    X_test.to_numpy()\n",
    ")\n",
    "proba_lgb[:10]"
   ]
  },
  {
   "cell_type": "code",
   "execution_count": 11,
   "id": "5b8d6495",
   "metadata": {},
   "outputs": [
    {
     "data": {
      "text/html": [
       "<div>\n",
       "<style scoped>\n",
       "    .dataframe tbody tr th:only-of-type {\n",
       "        vertical-align: middle;\n",
       "    }\n",
       "\n",
       "    .dataframe tbody tr th {\n",
       "        vertical-align: top;\n",
       "    }\n",
       "\n",
       "    .dataframe thead th {\n",
       "        text-align: right;\n",
       "    }\n",
       "</style>\n",
       "<table border=\"1\" class=\"dataframe\">\n",
       "  <thead>\n",
       "    <tr style=\"text-align: right;\">\n",
       "      <th></th>\n",
       "      <th>proba_xgb</th>\n",
       "      <th>proba_lgb</th>\n",
       "      <th>label</th>\n",
       "    </tr>\n",
       "  </thead>\n",
       "  <tbody>\n",
       "    <tr>\n",
       "      <th>158171</th>\n",
       "      <td>0.117675</td>\n",
       "      <td>0.105118</td>\n",
       "      <td>0</td>\n",
       "    </tr>\n",
       "    <tr>\n",
       "      <th>480078</th>\n",
       "      <td>0.070591</td>\n",
       "      <td>0.096115</td>\n",
       "      <td>0</td>\n",
       "    </tr>\n",
       "    <tr>\n",
       "      <th>258275</th>\n",
       "      <td>0.222845</td>\n",
       "      <td>0.086628</td>\n",
       "      <td>1</td>\n",
       "    </tr>\n",
       "    <tr>\n",
       "      <th>20237</th>\n",
       "      <td>0.255933</td>\n",
       "      <td>0.113816</td>\n",
       "      <td>0</td>\n",
       "    </tr>\n",
       "    <tr>\n",
       "      <th>354111</th>\n",
       "      <td>0.156965</td>\n",
       "      <td>0.098706</td>\n",
       "      <td>0</td>\n",
       "    </tr>\n",
       "  </tbody>\n",
       "</table>\n",
       "</div>"
      ],
      "text/plain": [
       "        proba_xgb  proba_lgb  label\n",
       "158171   0.117675   0.105118      0\n",
       "480078   0.070591   0.096115      0\n",
       "258275   0.222845   0.086628      1\n",
       "20237    0.255933   0.113816      0\n",
       "354111   0.156965   0.098706      0"
      ]
     },
     "execution_count": 11,
     "metadata": {},
     "output_type": "execute_result"
    }
   ],
   "source": [
    "cross = pd.DataFrame(\n",
    "    {\n",
    "        k:v for v, k in zip(\n",
    "            [proba_xgb, proba_lgb, y_test], \n",
    "            [\"proba_xgb\", \"proba_lgb\", \"label\"]\n",
    "        )\n",
    "    }\n",
    ")\n",
    "cross.head()"
   ]
  },
  {
   "cell_type": "code",
   "execution_count": 12,
   "id": "2da92421",
   "metadata": {},
   "outputs": [
    {
     "data": {
      "text/html": [
       "<div>\n",
       "<style scoped>\n",
       "    .dataframe tbody tr th:only-of-type {\n",
       "        vertical-align: middle;\n",
       "    }\n",
       "\n",
       "    .dataframe tbody tr th {\n",
       "        vertical-align: top;\n",
       "    }\n",
       "\n",
       "    .dataframe thead th {\n",
       "        text-align: right;\n",
       "    }\n",
       "</style>\n",
       "<table border=\"1\" class=\"dataframe\">\n",
       "  <thead>\n",
       "    <tr style=\"text-align: right;\">\n",
       "      <th></th>\n",
       "      <th>auc</th>\n",
       "      <th>precision</th>\n",
       "      <th>precision_lift</th>\n",
       "      <th>recall</th>\n",
       "      <th>f1_score</th>\n",
       "    </tr>\n",
       "  </thead>\n",
       "  <tbody>\n",
       "    <tr>\n",
       "      <th>proba_xgb</th>\n",
       "      <td>0.493646</td>\n",
       "      <td>0.208251</td>\n",
       "      <td>1.040356</td>\n",
       "      <td>0.082529</td>\n",
       "      <td>0.118211</td>\n",
       "    </tr>\n",
       "    <tr>\n",
       "      <th>proba_lgb</th>\n",
       "      <td>0.461252</td>\n",
       "      <td>0.290070</td>\n",
       "      <td>1.449102</td>\n",
       "      <td>0.018534</td>\n",
       "      <td>0.034842</td>\n",
       "    </tr>\n",
       "  </tbody>\n",
       "</table>\n",
       "</div>"
      ],
      "text/plain": [
       "                auc  precision  precision_lift    recall  f1_score\n",
       "proba_xgb  0.493646   0.208251        1.040356  0.082529  0.118211\n",
       "proba_lgb  0.461252   0.290070        1.449102  0.018534  0.034842"
      ]
     },
     "execution_count": 12,
     "metadata": {},
     "output_type": "execute_result"
    }
   ],
   "source": [
    "import sklearn\n",
    "import numpy as np\n",
    "from sklearn.metrics import roc_auc_score, accuracy_score, f1_score, precision_score, recall_score, classification_report, confusion_matrix\n",
    "\n",
    "cols_score = ['auc', 'precision', 'precision_lift', 'recall',  'f1_score']\n",
    "score_comparison = pd.DataFrame(columns=cols_score, index=None)\n",
    "\n",
    "for colName in [\"proba_xgb\", \"proba_lgb\"]: ## the cols are `cross` table\n",
    "    auc = roc_auc_score(\n",
    "        y_test, \n",
    "        cross.loc[:, colName]\n",
    "    )\n",
    "    fpr,tpr,threshes = sklearn.metrics.roc_curve(\n",
    "        np.array(y_test), \n",
    "        cross.loc[:, colName]\n",
    "    )\n",
    "    ks = np.argmax(tpr-fpr)\n",
    "    thresh = threshes[ks]\n",
    "    \n",
    "    pred_col_name = f\"{colName}-pred\"\n",
    "    cross[pred_col_name] = -1\n",
    "    cross.loc[cross[colName] > thresh, pred_col_name] = 1\n",
    "    cross.loc[cross[colName] <= thresh, pred_col_name] = 0\n",
    "    cross[pred_col_name].astype(np.int64)\n",
    "    \n",
    "    precision = precision_score(cross[\"label\"], cross[pred_col_name])\n",
    "    recall = recall_score(cross[\"label\"], cross[pred_col_name])\n",
    "    f1_score_ = f1_score(cross[\"label\"], cross[pred_col_name])\n",
    "    pn_ratio = cross[\"label\"].sum()/len(cross[\"label\"])\n",
    "    precision_lift = precision/pn_ratio\n",
    "    \n",
    "    score_comparison = score_comparison.append({'auc': auc, 'precision': precision, 'precision_lift': precision_lift, 'recall': recall, 'f1_score': f1_score_}, ignore_index=True)   \n",
    "\n",
    "score_comparison.index=[\"proba_xgb\", \"proba_lgb\"]\n",
    "score_comparison"
   ]
  },
  {
   "cell_type": "code",
   "execution_count": null,
   "id": "f261e398",
   "metadata": {},
   "outputs": [],
   "source": []
  }
 ],
 "metadata": {
  "kernelspec": {
   "display_name": "Python 3 (ipykernel)",
   "language": "python",
   "name": "python3"
  },
  "language_info": {
   "codemirror_mode": {
    "name": "ipython",
    "version": 3
   },
   "file_extension": ".py",
   "mimetype": "text/x-python",
   "name": "python",
   "nbconvert_exporter": "python",
   "pygments_lexer": "ipython3",
   "version": "3.9.7"
  },
  "toc": {
   "base_numbering": 1,
   "nav_menu": {},
   "number_sections": true,
   "sideBar": true,
   "skip_h1_title": false,
   "title_cell": "Table of Contents",
   "title_sidebar": "Contents",
   "toc_cell": false,
   "toc_position": {},
   "toc_section_display": true,
   "toc_window_display": false
  }
 },
 "nbformat": 4,
 "nbformat_minor": 5
}
