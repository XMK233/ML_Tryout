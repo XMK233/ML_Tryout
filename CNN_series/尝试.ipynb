{
 "cells": [
  {
   "cell_type": "markdown",
   "id": "dd7ec468",
   "metadata": {},
   "source": [
    "这里主要是测试一些代码而已，不以获得能跑的代码为主要目的。"
   ]
  },
  {
   "cell_type": "code",
   "execution_count": 2,
   "id": "e92f618f",
   "metadata": {},
   "outputs": [],
   "source": [
    "import xgboost as xgb\n",
    "import lightgbm as lgb\n",
    "from sklearn.preprocessing import LabelEncoder, StandardScaler\n",
    "from sklearn.linear_model import LogisticRegression\n",
    "from sklearn.svm import SVC\n",
    "from sklearn.neighbors import KNeighborsClassifier\n",
    "from catboost import CatBoostRegressor, CatBoostClassifier\n",
    "import pandas as pd\n",
    "import numpy as np\n",
    "import tqdm, datetime, pickle\n",
    "from sklearn.datasets import make_classification\n",
    "from sklearn.ensemble import RandomForestClassifier\n",
    "\n",
    "import torch\n",
    "import torch.nn.functional as F\n",
    "from torch.utils.data import DataLoader\n",
    "\n",
    "import ngboost as ngb\n",
    "\n",
    "from sklearn import datasets\n",
    "\n",
    "import plotnine\n",
    "from plotnine import *\n",
    "\n",
    "import seaborn as sns\n",
    "\n",
    "# from keras.models import Sequential\n",
    "# from keras.layers import Dense, Dropout, Activation, Flatten"
   ]
  },
  {
   "cell_type": "code",
   "execution_count": 4,
   "id": "c373d93b",
   "metadata": {},
   "outputs": [],
   "source": [
    "torch.nn.Conv2d?"
   ]
  },
  {
   "cell_type": "code",
   "execution_count": 5,
   "id": "65d8ca30",
   "metadata": {},
   "outputs": [],
   "source": [
    "torch.nn.ReLU?"
   ]
  },
  {
   "cell_type": "code",
   "execution_count": null,
   "id": "8a7bae18",
   "metadata": {},
   "outputs": [],
   "source": []
  }
 ],
 "metadata": {
  "kernelspec": {
   "display_name": "Python 3 (ipykernel)",
   "language": "python",
   "name": "python3"
  },
  "language_info": {
   "codemirror_mode": {
    "name": "ipython",
    "version": 3
   },
   "file_extension": ".py",
   "mimetype": "text/x-python",
   "name": "python",
   "nbconvert_exporter": "python",
   "pygments_lexer": "ipython3",
   "version": "3.9.7"
  },
  "toc": {
   "base_numbering": 1,
   "nav_menu": {},
   "number_sections": true,
   "sideBar": true,
   "skip_h1_title": false,
   "title_cell": "Table of Contents",
   "title_sidebar": "Contents",
   "toc_cell": false,
   "toc_position": {},
   "toc_section_display": true,
   "toc_window_display": false
  }
 },
 "nbformat": 4,
 "nbformat_minor": 5
}
