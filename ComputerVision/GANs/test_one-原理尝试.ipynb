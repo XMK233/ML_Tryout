{
 "cells": [
  {
   "cell_type": "code",
   "execution_count": 1,
   "metadata": {},
   "outputs": [],
   "source": [
    "import numpy as np\n",
    "import matplotlib.pyplot as plt\n",
    "import torch\n",
    "import torch.nn as nn\n",
    "import torch.optim as optim\n",
    "from torch.autograd import Variable"
   ]
  },
  {
   "cell_type": "code",
   "execution_count": 2,
   "metadata": {},
   "outputs": [],
   "source": [
    "# generating dataset for discriminator\n",
    "def get_dataset():\n",
    "    return torch.Tensor(np.random.normal(4,1.25,(1,100)))"
   ]
  },
  {
   "cell_type": "code",
   "execution_count": 3,
   "metadata": {},
   "outputs": [],
   "source": [
    "# generating noise for generator\n",
    "def make_noise():\n",
    "    return torch.Tensor(np.random.uniform(0,0,(1,50)))"
   ]
  },
  {
   "cell_type": "code",
   "execution_count": 4,
   "metadata": {},
   "outputs": [],
   "source": [
    "class generator(nn.Module):\n",
    "    \n",
    "    def __init__(self,inp,out):\n",
    "        super(generator,self).__init__()\n",
    "        self.net = nn.Sequential(nn.Linear(inp,300),\n",
    "                                 nn.ReLU(inplace=True),\n",
    "                                nn.Linear(300,300),\n",
    "                                 nn.ReLU(inplace=True),\n",
    "                                nn.Linear(300,out)\n",
    "                               )\n",
    "        \n",
    "    def forward(self,x):\n",
    "        x = self.net(x)\n",
    "        return x\n",
    "        "
   ]
  },
  {
   "cell_type": "code",
   "execution_count": 5,
   "metadata": {},
   "outputs": [],
   "source": [
    "class discriminator(nn.Module):\n",
    "    \n",
    "    def __init__(self,inp,out):\n",
    "        super(discriminator,self).__init__()\n",
    "        self.net = nn.Sequential(nn.Linear(inp,300),\n",
    "                                 nn.ReLU(inplace=True),\n",
    "                                 nn.Linear(300,300),\n",
    "                                 nn.ReLU(inplace=True),\n",
    "                                 nn.Linear(300,out),\n",
    "                                 nn.Sigmoid()\n",
    "                                )\n",
    "        \n",
    "    def forward(self,x):\n",
    "        x = self.net(x)\n",
    "        return x"
   ]
  },
  {
   "cell_type": "code",
   "execution_count": 6,
   "metadata": {},
   "outputs": [],
   "source": [
    "def stats(array):\n",
    "    array = array.detach().numpy()\n",
    "    return [np.mean(array),np.std(array)]"
   ]
  },
  {
   "cell_type": "code",
   "execution_count": 7,
   "metadata": {},
   "outputs": [],
   "source": [
    "gen = generator(50,100)"
   ]
  },
  {
   "cell_type": "code",
   "execution_count": 8,
   "metadata": {},
   "outputs": [
    {
     "data": {
      "text/plain": [
       "generator(\n",
       "  (net): Sequential(\n",
       "    (0): Linear(in_features=50, out_features=300, bias=True)\n",
       "    (1): ReLU(inplace=True)\n",
       "    (2): Linear(in_features=300, out_features=300, bias=True)\n",
       "    (3): ReLU(inplace=True)\n",
       "    (4): Linear(in_features=300, out_features=100, bias=True)\n",
       "  )\n",
       ")"
      ]
     },
     "execution_count": 8,
     "metadata": {},
     "output_type": "execute_result"
    }
   ],
   "source": [
    "gen"
   ]
  },
  {
   "cell_type": "code",
   "execution_count": 9,
   "metadata": {},
   "outputs": [],
   "source": [
    "x = make_noise()"
   ]
  },
  {
   "cell_type": "code",
   "execution_count": 10,
   "metadata": {},
   "outputs": [
    {
     "data": {
      "text/plain": [
       "torch.Size([1, 50])"
      ]
     },
     "execution_count": 10,
     "metadata": {},
     "output_type": "execute_result"
    }
   ],
   "source": [
    "x.shape"
   ]
  },
  {
   "cell_type": "code",
   "execution_count": 12,
   "metadata": {},
   "outputs": [],
   "source": [
    "x1 = gen(x)"
   ]
  },
  {
   "cell_type": "code",
   "execution_count": 14,
   "metadata": {},
   "outputs": [
    {
     "data": {
      "text/plain": [
       "torch.Size([1, 100])"
      ]
     },
     "execution_count": 14,
     "metadata": {},
     "output_type": "execute_result"
    }
   ],
   "source": [
    "x1.shape"
   ]
  },
  {
   "cell_type": "code",
   "execution_count": null,
   "metadata": {},
   "outputs": [],
   "source": []
  },
  {
   "cell_type": "code",
   "execution_count": null,
   "metadata": {},
   "outputs": [],
   "source": []
  },
  {
   "cell_type": "code",
   "execution_count": 17,
   "metadata": {},
   "outputs": [
    {
     "data": {
      "text/plain": [
       "[0.0016335561, 0.039144013]"
      ]
     },
     "execution_count": 17,
     "metadata": {},
     "output_type": "execute_result"
    }
   ],
   "source": [
    "stats(x1)"
   ]
  },
  {
   "cell_type": "code",
   "execution_count": 18,
   "metadata": {},
   "outputs": [],
   "source": [
    "discrim = discriminator(100,1)"
   ]
  },
  {
   "cell_type": "code",
   "execution_count": 19,
   "metadata": {},
   "outputs": [
    {
     "data": {
      "text/plain": [
       "discriminator(\n",
       "  (net): Sequential(\n",
       "    (0): Linear(in_features=100, out_features=300, bias=True)\n",
       "    (1): ReLU(inplace=True)\n",
       "    (2): Linear(in_features=300, out_features=300, bias=True)\n",
       "    (3): ReLU(inplace=True)\n",
       "    (4): Linear(in_features=300, out_features=1, bias=True)\n",
       "    (5): Sigmoid()\n",
       "  )\n",
       ")"
      ]
     },
     "execution_count": 19,
     "metadata": {},
     "output_type": "execute_result"
    }
   ],
   "source": [
    "discrim"
   ]
  },
  {
   "cell_type": "code",
   "execution_count": 20,
   "metadata": {},
   "outputs": [],
   "source": [
    "x2 = discrim(x1)"
   ]
  },
  {
   "cell_type": "code",
   "execution_count": 21,
   "metadata": {},
   "outputs": [
    {
     "data": {
      "text/plain": [
       "tensor([[0.4936]], grad_fn=<SigmoidBackward0>)"
      ]
     },
     "execution_count": 21,
     "metadata": {},
     "output_type": "execute_result"
    }
   ],
   "source": [
    "x2"
   ]
  },
  {
   "cell_type": "code",
   "execution_count": 22,
   "metadata": {},
   "outputs": [],
   "source": [
    "epochs = 500"
   ]
  },
  {
   "cell_type": "code",
   "execution_count": 23,
   "metadata": {},
   "outputs": [],
   "source": [
    "\n",
    "d_step = 10\n",
    "g_step = 8\n",
    "criteriond1 = nn.BCELoss()\n",
    "optimizerd1 = optim.SGD(discrim.parameters(), lr=0.001, momentum=0.9)\n",
    "\n",
    "criteriond2 = nn.BCELoss()\n",
    "optimizerd2 = optim.SGD(gen.parameters(), lr=0.001, momentum=0.9)\n",
    "\n",
    "printing_steps = 20"
   ]
  },
  {
   "cell_type": "code",
   "execution_count": 24,
   "metadata": {},
   "outputs": [
    {
     "data": {
      "text/plain": [
       "tensor([[1.]])"
      ]
     },
     "execution_count": 24,
     "metadata": {},
     "output_type": "execute_result"
    }
   ],
   "source": [
    "torch.ones(1,1)"
   ]
  },
  {
   "cell_type": "code",
   "execution_count": 25,
   "metadata": {
    "scrolled": true
   },
   "outputs": [
    {
     "name": "stdout",
     "output_type": "stream",
     "text": [
      "Epoch: 0\n",
      "[0.0016335561, 0.039144013]\n",
      "[0.0016359552, 0.039144386]\n",
      "[0.0016405022, 0.03914513]\n",
      "[0.001646986, 0.0391462]\n",
      "[0.0016552131, 0.03914757]\n",
      "[0.0016650116, 0.039149236]\n",
      "[0.0016762214, 0.039151173]\n",
      "[0.0016887039, 0.03915337]\n",
      "\n",
      "\n",
      "\n",
      "Epoch: 20\n",
      "[0.010587318, 0.03810849]\n",
      "[0.010663982, 0.03809866]\n",
      "[0.010740876, 0.038089383]\n",
      "[0.010817978, 0.03808085]\n",
      "[0.010895262, 0.038073123]\n",
      "[0.010972977, 0.038066484]\n",
      "[0.011051335, 0.038061216]\n",
      "[0.011130328, 0.03805738]\n",
      "\n",
      "\n",
      "\n",
      "Epoch: 40\n",
      "[0.03368272, 0.06299022]\n",
      "[0.03390099, 0.063307285]\n",
      "[0.03411659, 0.06362578]\n",
      "[0.03433002, 0.06394556]\n",
      "[0.034546394, 0.06426869]\n",
      "[0.034766678, 0.064595155]\n",
      "[0.034991134, 0.06492497]\n",
      "[0.03521941, 0.065258205]\n",
      "\n",
      "\n",
      "\n",
      "Epoch: 60\n",
      "[0.09592845, 0.14154112]\n",
      "[0.09665898, 0.14217396]\n",
      "[0.0973979, 0.14280893]\n",
      "[0.09814462, 0.14344665]\n",
      "[0.098898135, 0.14408834]\n",
      "[0.0996585, 0.14473371]\n",
      "[0.100426465, 0.14538291]\n",
      "[0.10120194, 0.14603662]\n",
      "\n",
      "\n",
      "\n",
      "Epoch: 80\n",
      "[0.33868617, 0.2939974]\n",
      "[0.34165776, 0.2951768]\n",
      "[0.34464785, 0.29634568]\n",
      "[0.34765995, 0.29750937]\n",
      "[0.3506978, 0.2986757]\n",
      "[0.3537635, 0.2998491]\n",
      "[0.35685384, 0.30103445]\n",
      "[0.35997024, 0.30223617]\n",
      "\n",
      "\n",
      "\n",
      "Epoch: 100\n",
      "[1.4758395, 0.481164]\n",
      "[1.4921975, 0.48527458]\n",
      "[1.5086012, 0.48923334]\n",
      "[1.5250951, 0.49319977]\n",
      "[1.5417284, 0.49729565]\n",
      "[1.5585284, 0.50164914]\n",
      "[1.5755112, 0.50637174]\n",
      "[1.5926812, 0.5115527]\n",
      "\n",
      "\n",
      "\n",
      "Epoch: 120\n",
      "[3.3807526, 1.2472208]\n",
      "[3.389543, 1.2489765]\n",
      "[3.3987129, 1.2488315]\n",
      "[3.408271, 1.2472452]\n",
      "[3.418211, 1.2446425]\n",
      "[3.428498, 1.2414093]\n",
      "[3.4390845, 1.2378815]\n",
      "[3.449892, 1.2343221]\n",
      "\n",
      "\n",
      "\n",
      "Epoch: 140\n",
      "[4.640718, 0.8171619]\n",
      "[4.6473894, 0.816072]\n",
      "[4.653279, 0.8152242]\n",
      "[4.6587815, 0.81544757]\n",
      "[4.664231, 0.817436]\n",
      "[4.669869, 0.82168937]\n",
      "[4.6758013, 0.828416]\n",
      "[4.6820064, 0.837526]\n",
      "\n",
      "\n",
      "\n",
      "Epoch: 160\n",
      "[5.935237, 1.1768708]\n",
      "[5.9393287, 1.1823924]\n",
      "[5.9434123, 1.1857799]\n",
      "[5.947717, 1.1877649]\n",
      "[5.952423, 1.1890602]\n",
      "[5.9576626, 1.1903142]\n",
      "[5.9634905, 1.1920496]\n",
      "[5.9698734, 1.1946483]\n",
      "\n",
      "\n",
      "\n",
      "Epoch: 180\n",
      "[6.538918, 0.9630026]\n",
      "[6.547149, 0.9656021]\n",
      "[6.5554895, 0.9683759]\n",
      "[6.5639167, 0.97154826]\n",
      "[6.5723805, 0.97525245]\n",
      "[6.5807414, 0.9795241]\n",
      "[6.588989, 0.98421]\n",
      "[6.597096, 0.9891823]\n",
      "\n",
      "\n",
      "\n",
      "Epoch: 200\n",
      "[6.906281, 1.1887693]\n",
      "[6.9082766, 1.1696317]\n",
      "[6.909893, 1.1504079]\n",
      "[6.91149, 1.1319631]\n",
      "[6.913308, 1.115016]\n",
      "[6.9154663, 1.1000817]\n",
      "[6.9179783, 1.087444]\n",
      "[6.9207892, 1.0771639]\n",
      "\n",
      "\n",
      "\n",
      "Epoch: 220\n",
      "[6.4626503, 0.95833594]\n",
      "[6.4632072, 0.9576499]\n",
      "[6.4638586, 0.9570742]\n",
      "[6.4646244, 0.95665413]\n",
      "[6.4655223, 0.95641947]\n",
      "[6.466561, 0.956352]\n",
      "[6.467741, 0.9564818]\n",
      "[6.469053, 0.95682526]\n",
      "\n",
      "\n",
      "\n",
      "Epoch: 240\n",
      "[5.1577635, 0.72917205]\n",
      "[5.1459503, 0.7248689]\n",
      "[5.131988, 0.7201278]\n",
      "[5.116252, 0.7150931]\n",
      "[5.0991464, 0.7100479]\n",
      "[5.0810475, 0.70524997]\n",
      "[5.0623055, 0.70091164]\n",
      "[5.043243, 0.6972146]\n",
      "\n",
      "\n",
      "\n",
      "Epoch: 260\n",
      "[3.3681974, 0.40057272]\n",
      "[3.3559284, 0.39710164]\n",
      "[3.344596, 0.39421842]\n",
      "[3.3341994, 0.39191306]\n",
      "[3.3247209, 0.3901588]\n",
      "[3.3161294, 0.3889163]\n",
      "[3.3083825, 0.3881382]\n",
      "[3.3014333, 0.3877724]\n",
      "\n",
      "\n",
      "\n",
      "Epoch: 280\n",
      "[2.7038457, 0.26663452]\n",
      "[2.704944, 0.26629654]\n",
      "[2.705877, 0.26592028]\n",
      "[2.7066724, 0.26552373]\n",
      "[2.707356, 0.26512548]\n",
      "[2.707953, 0.26474252]\n",
      "[2.7084842, 0.2643903]\n",
      "[2.708972, 0.26408243]\n",
      "\n",
      "\n",
      "\n",
      "Epoch: 300\n",
      "[2.9961271, 0.2442558]\n",
      "[3.0007715, 0.24454981]\n",
      "[3.0053911, 0.24489225]\n",
      "[3.0099957, 0.24529022]\n",
      "[3.0145907, 0.24575028]\n",
      "[3.019185, 0.24627817]\n",
      "[3.0237644, 0.246887]\n",
      "[3.0283353, 0.24758247]\n",
      "\n",
      "\n",
      "\n",
      "Epoch: 320\n",
      "[4.099344, 0.34605455]\n",
      "[4.107664, 0.34675103]\n",
      "[4.116042, 0.34751534]\n",
      "[4.124473, 0.34833515]\n",
      "[4.1329527, 0.34920517]\n",
      "[4.1414733, 0.35012546]\n",
      "[4.1500306, 0.35109982]\n",
      "[4.158622, 0.3521342]\n",
      "\n",
      "\n",
      "\n",
      "Epoch: 340\n",
      "[5.3363366, 0.43630606]\n",
      "[5.342434, 0.4382626]\n",
      "[5.3484435, 0.44014263]\n",
      "[5.3543763, 0.4419524]\n",
      "[5.360241, 0.44369856]\n",
      "[5.366047, 0.44538832]\n",
      "[5.371802, 0.44702864]\n",
      "[5.377514, 0.44862622]\n",
      "\n",
      "\n",
      "\n",
      "Epoch: 360\n",
      "[5.313772, 0.63675207]\n",
      "[5.3080196, 0.63907534]\n",
      "[5.3016205, 0.64078605]\n",
      "[5.2946224, 0.64192784]\n",
      "[5.2870874, 0.64254844]\n",
      "[5.2790737, 0.6426961]\n",
      "[5.270634, 0.6424175]\n",
      "[5.26182, 0.6417579]\n",
      "\n",
      "\n",
      "\n",
      "Epoch: 380\n",
      "[3.963066, 0.5127431]\n",
      "[3.951129, 0.5163323]\n",
      "[3.9399676, 0.5199985]\n",
      "[3.929618, 0.5237406]\n",
      "[3.9200952, 0.52755386]\n",
      "[3.9113984, 0.53142846]\n",
      "[3.9035125, 0.53535354]\n",
      "[3.8964128, 0.5393114]\n",
      "\n",
      "\n",
      "\n",
      "Epoch: 400\n",
      "[2.969789, 0.4425255]\n",
      "[2.9693365, 0.44257438]\n",
      "[2.9691687, 0.44264403]\n",
      "[2.9692805, 0.44273955]\n",
      "[2.9696512, 0.44286796]\n",
      "[2.9702613, 0.44303563]\n",
      "[2.9710941, 0.4432455]\n",
      "[2.9721344, 0.4434992]\n",
      "\n",
      "\n",
      "\n",
      "Epoch: 420\n",
      "[3.2131126, 0.41907883]\n",
      "[3.2161727, 0.41945353]\n",
      "[3.2192428, 0.4198427]\n",
      "[3.2223313, 0.42025274]\n",
      "[3.225448, 0.42068973]\n",
      "[3.2285995, 0.42115867]\n",
      "[3.2317917, 0.4216643]\n",
      "[3.2350276, 0.42221025]\n",
      "\n",
      "\n",
      "\n",
      "Epoch: 440\n",
      "[3.7848184, 0.46077862]\n",
      "[3.7856987, 0.46391314]\n",
      "[3.7851486, 0.466908]\n",
      "[3.7834678, 0.46968704]\n",
      "[3.7808962, 0.47237843]\n",
      "[3.7776532, 0.4750966]\n",
      "[3.7739332, 0.47794175]\n",
      "[3.7699425, 0.48100293]\n",
      "\n",
      "\n",
      "\n",
      "Epoch: 460\n",
      "[4.6524844, 0.43417072]\n",
      "[4.658416, 0.4338555]\n",
      "[4.664383, 0.43359056]\n",
      "[4.670383, 0.43337122]\n",
      "[4.676414, 0.4331938]\n",
      "[4.6824756, 0.43305528]\n",
      "[4.688566, 0.43295324]\n",
      "[4.6946845, 0.43288535]\n",
      "\n",
      "\n",
      "\n",
      "Epoch: 480\n",
      "[4.9409328, 0.46370324]\n",
      "[4.9367585, 0.4630735]\n",
      "[4.932598, 0.46245632]\n",
      "[4.9284534, 0.4618523]\n",
      "[4.9243255, 0.4612613]\n",
      "[4.920214, 0.46068397]\n",
      "[4.916122, 0.4601203]\n",
      "[4.9120483, 0.45957053]\n",
      "\n",
      "\n",
      "\n"
     ]
    }
   ],
   "source": [
    "for epoch in range(epochs):\n",
    "    ## 核心：每一个epoch里面，生成器训练一下，变强，然后再轮给辨别器训练一下，也变强。\n",
    "    ## 最后生成器和辨别器都变得很强了。\n",
    "    ## 这里面，假图和真图的标签是直接用torch.zeros, torch.ones生成的，也就是钦定的。\n",
    "    ## 嗨，是不是，你觉得很难的算法，其实掰开了都不会很难，或者说核心都是简单的。\n",
    "    \n",
    "    if epoch%printing_steps==0:\n",
    "        print(\"Epoch:\", epoch)\n",
    "    \n",
    "    # training discriminator\n",
    "    for d_i in range(d_step): \n",
    "        ## 辨别器先单独训练10轮，然后生成器在单独训练8轮。\n",
    "        ## 辨别器的目标就是，读取一张真实图片，把它判断为真图。\n",
    "        ## 随即读取一张假图，将之判断为假图。\n",
    "        ## 也就是说，辨别器需要把图的真实情况辨别出来，所以既要懂得真货长啥样，也要懂得假货长啥样。\n",
    "        discrim.zero_grad()\n",
    "        \n",
    "        #real\n",
    "        data_d_real = Variable(get_dataset())\n",
    "        data_d_real_pred = discrim(data_d_real)\n",
    "        data_d_real_loss = criteriond1(data_d_real_pred,Variable(torch.ones(1,1)))\n",
    "        data_d_real_loss.backward()\n",
    "        \n",
    "        \n",
    "        #fake\n",
    "        data_d_noise = Variable(make_noise())\n",
    "        data_d_gen_out = gen(data_d_noise).detach() ## 这里，gen的运算不纳入到梯度计算当中，应当只在gen的训练过程中纳入梯度计算。\n",
    "        data_fake_dicrim_out = discrim(data_d_gen_out)\n",
    "        data_fake_d_loss = criteriond1(data_fake_dicrim_out,Variable(torch.zeros(1,1)))\n",
    "        data_fake_d_loss.backward()\n",
    "        \n",
    "        optimizerd1.step()\n",
    "        \n",
    "    for g_i in range(g_step): \n",
    "        ## 喏，生成器来了。这里自己先跑8轮，每一轮只生成一张图。\n",
    "        ## 生成一个假图，然后这个图被辨别器判断为真图。\n",
    "        ## 整个过程中，要更新生成器的参数。\n",
    "        ## 通俗话讲，就是假货根据自己的感觉，把图生成成自己觉得像真货的样子。\n",
    "        gen.zero_grad()\n",
    "        \n",
    "        data_noise_gen = Variable(make_noise())\n",
    "        data_g_gen_out = gen(data_noise_gen)\n",
    "        data_g_dis_out = discrim(data_g_gen_out)\n",
    "        data_g_loss = criteriond2(data_g_dis_out,Variable(torch.ones(1,1)))\n",
    "        data_g_loss.backward()\n",
    "        \n",
    "        optimizerd2.step()\n",
    "        \n",
    "        if epoch%printing_steps==0:\n",
    "            print(stats(data_g_gen_out))\n",
    "    \n",
    "    if epoch%printing_steps==0:\n",
    "        print(\"\\n\\n\")\n",
    "    "
   ]
  },
  {
   "cell_type": "code",
   "execution_count": 26,
   "metadata": {
    "scrolled": true
   },
   "outputs": [
    {
     "data": {
      "text/plain": [
       "generator(\n",
       "  (net): Sequential(\n",
       "    (0): Linear(in_features=50, out_features=300, bias=True)\n",
       "    (1): ReLU(inplace=True)\n",
       "    (2): Linear(in_features=300, out_features=300, bias=True)\n",
       "    (3): ReLU(inplace=True)\n",
       "    (4): Linear(in_features=300, out_features=100, bias=True)\n",
       "  )\n",
       ")"
      ]
     },
     "execution_count": 26,
     "metadata": {},
     "output_type": "execute_result"
    }
   ],
   "source": [
    "gen"
   ]
  },
  {
   "cell_type": "code",
   "execution_count": 20,
   "metadata": {},
   "outputs": [],
   "source": [
    "# torch.save(gen.state_dict(),\"d_step_5000_g_step_2000\")"
   ]
  },
  {
   "cell_type": "code",
   "execution_count": 27,
   "metadata": {},
   "outputs": [],
   "source": [
    "y = gen(make_noise())"
   ]
  },
  {
   "cell_type": "code",
   "execution_count": 28,
   "metadata": {},
   "outputs": [
    {
     "data": {
      "text/plain": [
       "[4.2606764, 0.4248111]"
      ]
     },
     "execution_count": 28,
     "metadata": {},
     "output_type": "execute_result"
    }
   ],
   "source": [
    "stats(y)"
   ]
  },
  {
   "cell_type": "code",
   "execution_count": null,
   "metadata": {},
   "outputs": [],
   "source": []
  }
 ],
 "metadata": {
  "kernelspec": {
   "display_name": "Python 3 (ipykernel)",
   "language": "python",
   "name": "python3"
  },
  "language_info": {
   "codemirror_mode": {
    "name": "ipython",
    "version": 3
   },
   "file_extension": ".py",
   "mimetype": "text/x-python",
   "name": "python",
   "nbconvert_exporter": "python",
   "pygments_lexer": "ipython3",
   "version": "3.9.7"
  },
  "toc": {
   "base_numbering": 1,
   "nav_menu": {},
   "number_sections": true,
   "sideBar": true,
   "skip_h1_title": false,
   "title_cell": "Table of Contents",
   "title_sidebar": "Contents",
   "toc_cell": false,
   "toc_position": {},
   "toc_section_display": true,
   "toc_window_display": false
  }
 },
 "nbformat": 4,
 "nbformat_minor": 2
}
