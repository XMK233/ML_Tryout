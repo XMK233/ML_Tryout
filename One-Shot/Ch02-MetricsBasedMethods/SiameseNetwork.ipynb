{
 "cells": [
  {
   "cell_type": "markdown",
   "metadata": {},
   "source": [
    "# Siamese Network Architecture using MNIST Dataset\n",
    "\n",
    "If you recall Chapter 2: Metrics Based Methods, in book, Siamese Networks looks something like this:\n",
    "\n",
    "![practical_gan_3.gif](Images/Siamese.gif)\n",
    "\n",
    "\n",
    "In this tutorial, we will build a Siamese Network Architecture for One-Shot Learning using Pytorch and other python libraries. \n",
    "we will building modules step by step:\n",
    "\n",
    "1. Data Preprocessing: Creating Pairs.\n",
    "\n",
    "2. Create a Siamese Network Architecture.\n",
    "\n",
    "3. Train it using Small MNIST dataset. \n",
    "\n",
    "4. Visualize Embeddings."
   ]
  },
  {
   "cell_type": "markdown",
   "metadata": {},
   "source": [
    "##### Step1: Lets first import all libraries needed."
   ]
  },
  {
   "cell_type": "code",
   "execution_count": 2,
   "metadata": {},
   "outputs": [],
   "source": [
    "# -*- encoding: utf-8 -*-\n",
    "import argparse\n",
    "import torch\n",
    "import torchvision.datasets as dsets\n",
    "import random\n",
    "import numpy as np\n",
    "import time\n",
    "import matplotlib.pyplot as plt\n",
    "from torch.autograd import Variable\n",
    "from torchvision import transforms\n",
    "import pickle\n",
    "import torch\n",
    "import torch.nn as nn"
   ]
  },
  {
   "cell_type": "markdown",
   "metadata": {},
   "source": [
    "### Data Preprocessing\n",
    "As we learned in theory part of Siamese Network, that as part of data preprocessing we need to create pairs.\n",
    "1. 1 pair-> similar; y=0\n",
    "2. 1 pair-> dissimilar; y=1\n",
    "\n",
    "![Screen%20Shot%202019-06-17%20at%2010.02.52%20AM.png](Images/example.png)\n",
    "\n",
    "Note: We are using contrastive loss function."
   ]
  },
  {
   "cell_type": "markdown",
   "metadata": {},
   "source": [
    "#### Step2: To preporcess data, and create iterator for model, first create a Dataset Loader Class."
   ]
  },
  {
   "cell_type": "code",
   "execution_count": 3,
   "metadata": {},
   "outputs": [],
   "source": [
    "class Dataset(object):\n",
    "    '''\n",
    "    Class Dataset:\n",
    "    Input: numpy values\n",
    "    Output: torch variables.\n",
    "    '''\n",
    "    def __init__(self, x0, x1, label):\n",
    "        self.size = label.shape[0] \n",
    "        self.x0 = torch.from_numpy(x0)\n",
    "        self.x1 = torch.from_numpy(x1)\n",
    "        self.label = torch.from_numpy(label)\n",
    "\n",
    "    def __getitem__(self, index):\n",
    "        return (self.x0[index],\n",
    "                self.x1[index],\n",
    "                self.label[index])\n",
    "\n",
    "    def __len__(self):\n",
    "        return self.size"
   ]
  },
  {
   "cell_type": "markdown",
   "metadata": {},
   "source": [
    "##### Before creating an iterator, lets create pairs, and preprocess images in them."
   ]
  },
  {
   "cell_type": "code",
   "execution_count": 4,
   "metadata": {},
   "outputs": [],
   "source": [
    "def create_pairs(data, digit_indices):\n",
    "    x0_data = []\n",
    "    x1_data = []\n",
    "    label = []\n",
    "    n = min([len(digit_indices[d]) for d in range(10)]) - 1\n",
    "    for d in range(10): # for MNIST dataset: as we have 10 digits ## 目标数字，比如说5\n",
    "        for i in range(n):\n",
    "            z1, z2 = digit_indices[d][i], digit_indices[d][i + 1] ## 把数字5的相邻两个数据放在一起。\n",
    "            x0_data.append(data[z1] / 255.) # Image Preprocessing Step\n",
    "            x1_data.append(data[z2] / 255.) # Image Preprocessing Step\n",
    "            label.append(1) ## 标签是1，啊，前面不是说相似的标签是0吗？\n",
    "            inc = random.randrange(1, 10)\n",
    "            dn = (d + inc) % 10 ## 目标数字不是5了，而是其他的值，假设是6吧。\n",
    "            z1, z2 = digit_indices[d][i], digit_indices[dn][i] ## 取出5和6对应的数据，放在一起。\n",
    "            x0_data.append(data[z1] / 255.) # Image Preprocessing Step\n",
    "            x1_data.append(data[z2] / 255.) # Image Preprocessing Step\n",
    "            label.append(0) ## 标签是0. 前面不是说好了不同的话，标签应该是1嘛？？？\n",
    "\n",
    "    x0_data = np.array(x0_data, dtype=np.float32)\n",
    "    x0_data = x0_data.reshape([-1, 1, 28, 28])\n",
    "    x1_data = np.array(x1_data, dtype=np.float32)\n",
    "    x1_data = x1_data.reshape([-1, 1, 28, 28])\n",
    "    label = np.array(label, dtype=np.int32)\n",
    "    return x0_data, x1_data, label"
   ]
  },
  {
   "cell_type": "markdown",
   "metadata": {},
   "source": [
    "###### create iterator: returns set of given batchsize for training purpose"
   ]
  },
  {
   "cell_type": "code",
   "execution_count": 5,
   "metadata": {},
   "outputs": [],
   "source": [
    "def create_iterator(data, label, batchsize, shuffle=False):\n",
    "    ### train.data.numpy()[indices], train.targets.numpy()[indices], batchsize\n",
    "    digit_indices = [np.where(label == i)[0] for i in range(10)]\n",
    "    x0, x1, label = create_pairs(data, digit_indices)\n",
    "    ret = Dataset(x0, x1, label)\n",
    "    return ret"
   ]
  },
  {
   "cell_type": "markdown",
   "metadata": {},
   "source": [
    "# Loss Function: Contrastive Loss Function "
   ]
  },
  {
   "cell_type": "markdown",
   "metadata": {},
   "source": [
    "#### Step 3: Create Loss Function\n",
    "As we know contrastive loss function consists of 2 parts:\n",
    "![contrastive%20Loss.png](Images/contrastiveLoss.png)\n",
    "\n",
    "1. for similar points: (1-y)*(distance_function)^2\n",
    "2. for dissimilar points: y*{max(0,(m-distance_function^2)}\n",
    "\n",
    "Here Distance Function is taken as euclidean distance, also known as root mean square."
   ]
  },
  {
   "cell_type": "code",
   "execution_count": 6,
   "metadata": {},
   "outputs": [],
   "source": [
    "def contrastive_loss_function(x0, x1, y, margin=1.0):\n",
    "    # euclidean distance\n",
    "    diff = x0 - x1\n",
    "    dist_sq = torch.sum(torch.pow(diff, 2), 1)\n",
    "    dist = torch.sqrt(dist_sq)\n",
    "    mdist = margin - dist\n",
    "    dist = torch.clamp(mdist, min=0.0)\n",
    "    loss = y * dist_sq + (1 - y) * torch.pow(dist, 2)\n",
    "    loss = torch.sum(loss) / 2.0 / x0.size()[0]\n",
    "    return loss"
   ]
  },
  {
   "cell_type": "markdown",
   "metadata": {},
   "source": [
    "# Siamese Network Architecture"
   ]
  },
  {
   "cell_type": "markdown",
   "metadata": {},
   "source": [
    "##### Step 4: Creating Siamese Network Architecture\n",
    "For this first lets create a class called SiameseNetwork with 2 functions:\n",
    "###### 1. forward_once: In forward_once pass through all layers and returns the output embeddings \n",
    "###### 2. forward: In forward, call forward_once 2 times for the Input pair given, and returns the embeddings obtained\n",
    "\n",
    "\n",
    "As discussed in theory part of Siamese Network, we share parameters of twins, so we don't need to create explicitly both brances, we can just create one."
   ]
  },
  {
   "cell_type": "code",
   "execution_count": 7,
   "metadata": {},
   "outputs": [],
   "source": [
    "class SiameseNetwork(nn.Module):\n",
    "    def __init__(self):\n",
    "        super(SiameseNetwork, self).__init__()\n",
    "        self.cnn1 = nn.Sequential(\n",
    "            nn.Conv2d(1, 20, kernel_size=5),\n",
    "            nn.MaxPool2d(2, stride=2),\n",
    "            nn.Conv2d(20, 50, kernel_size=5),\n",
    "            nn.MaxPool2d(2, stride=2))\n",
    "        self.fc1 = nn.Sequential(\n",
    "            nn.Linear(50 * 4 * 4, 500),\n",
    "            nn.ReLU(inplace=True),\n",
    "            nn.Linear(500,10),\n",
    "            nn.Linear(10, 2))\n",
    "        \n",
    "    def forward_once(self, x):\n",
    "        output = self.cnn1(x)\n",
    "        output = output.view(output.size()[0], -1)\n",
    "        output = self.fc1(output)\n",
    "        return output\n",
    "\n",
    "    def forward(self, input1, input2):\n",
    "        output1 = self.forward_once(input1)\n",
    "        output2 = self.forward_once(input2)\n",
    "        return output1, output2\n"
   ]
  },
  {
   "cell_type": "markdown",
   "metadata": {},
   "source": [
    "#### Reduce MNIST dataset, choose random '2000' points\n",
    "Setting Batch-Size=128, and importing MNIST dataset\n",
    "\n",
    "You can download MNIST dataset from link\n",
    "\n",
    "*** feel free to modify these parameters and experiment with them !!! ***"
   ]
  },
  {
   "cell_type": "code",
   "execution_count": 8,
   "metadata": {},
   "outputs": [],
   "source": [
    "batchsize=128\n",
    "train = dsets.MNIST(root='../../originalDataset/data/',train=True,download=True)\n",
    "test = dsets.MNIST(root='../../originalDataset/data/',train=False,transform=transforms.Compose([transforms.ToTensor(),]))\n",
    "indices= np.random.choice(len(train.targets.numpy()), 2000, replace=False) ## 从60000个样本中，抽出2000.\n",
    "indices_test= np.random.choice(len(test.targets.numpy()), 100, replace=False) ## 从测试样本中，抽出100."
   ]
  },
  {
   "cell_type": "code",
   "execution_count": 10,
   "metadata": {},
   "outputs": [
    {
     "data": {
      "text/plain": [
       "(array([5, 0, 4, ..., 5, 6, 8]), 60000)"
      ]
     },
     "execution_count": 10,
     "metadata": {},
     "output_type": "execute_result"
    }
   ],
   "source": [
    "train.targets.numpy(), len(train.targets.numpy())"
   ]
  },
  {
   "cell_type": "markdown",
   "metadata": {},
   "source": [
    "##### We created an iterator above, here we will use it to create training and test set iterators. "
   ]
  },
  {
   "cell_type": "code",
   "execution_count": 12,
   "metadata": {},
   "outputs": [],
   "source": [
    "train_iter = create_iterator(train.data.numpy()[indices],train.targets.numpy()[indices],batchsize)\n",
    "test_iter = create_iterator(test.data.numpy()[indices_test],test.targets.numpy()[indices_test],batchsize)\n",
    "\n",
    "# call model\n",
    "model = SiameseNetwork()\n",
    "learning_rate = 0.01 # learning rate for optimization\n",
    "momentum = 0.9 # momentum\n",
    "\n",
    "# Loss and Optimizer\n",
    "criterion = contrastive_loss_function # we will use contrastive loss function as defined above\n",
    "optimizer = torch.optim.SGD(model.parameters(), lr=learning_rate,momentum=momentum)\n",
    "\n",
    "# creating a train loader, and a test loader.\n",
    "## 这两份数据，大概长啥样呢？\n",
    "## train里面，一行（这里不是严格的一行，我们就用一行来表示一个样本）包括两部分，\n",
    "## 一部分是一张图，另一部分也是一张图。\n",
    "## 这两张图是否相等（也就是，这俩图是不是同一个数字），就是最终label。\n",
    "## 而且，根据前面cell的数据生成逻辑，一行是相等的样本，一行是不等的样本，这俩交替出现。\n",
    "train_loader = torch.utils.data.DataLoader(train_iter,batch_size=batchsize, shuffle=True)\n",
    "\n",
    "## test数据可不像train一样。\n",
    "## test的数据里面，就是普通的数据和数字标签的对应；而非数据和是否相似的标签。\n",
    "test_loader = torch.utils.data.DataLoader(test,batch_size=batchsize, shuffle=True)"
   ]
  },
  {
   "cell_type": "markdown",
   "metadata": {},
   "source": [
    "## Let's Train our Model !!!"
   ]
  },
  {
   "cell_type": "markdown",
   "metadata": {},
   "source": [
    "#### Step 5: Train Model for certain number of epochs. "
   ]
  },
  {
   "cell_type": "code",
   "execution_count": 13,
   "metadata": {},
   "outputs": [
    {
     "name": "stdout",
     "output_type": "stream",
     "text": [
      "Epoch: 0 \tLoss: 0.207485\n",
      "Epoch: 1 \tLoss: 0.202738\n",
      "Epoch: 2 \tLoss: 0.122799\n",
      "Epoch: 3 \tLoss: 0.111147\n",
      "Epoch: 4 \tLoss: 0.093026\n",
      "Epoch: 5 \tLoss: 0.081729\n",
      "Epoch: 6 \tLoss: 0.089102\n",
      "Epoch: 7 \tLoss: 0.075160\n",
      "Epoch: 8 \tLoss: 0.069565\n",
      "Epoch: 9 \tLoss: 0.070593\n",
      "Epoch: 10 \tLoss: 0.062037\n",
      "Epoch: 11 \tLoss: 0.060788\n",
      "Epoch: 12 \tLoss: 0.057229\n",
      "Epoch: 13 \tLoss: 0.060910\n",
      "Epoch: 14 \tLoss: 0.053700\n",
      "Epoch: 15 \tLoss: 0.054530\n",
      "Epoch: 16 \tLoss: 0.046718\n",
      "Epoch: 17 \tLoss: 0.057923\n",
      "Epoch: 18 \tLoss: 0.038124\n",
      "Epoch: 19 \tLoss: 0.043876\n",
      "Epoch: 20 \tLoss: 0.040916\n",
      "Epoch: 21 \tLoss: 0.044778\n",
      "Epoch: 22 \tLoss: 0.044021\n",
      "Epoch: 23 \tLoss: 0.040119\n",
      "Epoch: 24 \tLoss: 0.035172\n",
      "Epoch: 25 \tLoss: 0.034164\n",
      "Epoch: 26 \tLoss: 0.032686\n",
      "Epoch: 27 \tLoss: 0.037523\n",
      "Epoch: 28 \tLoss: 0.029720\n",
      "Epoch: 29 \tLoss: 0.027623\n",
      "Epoch: 30 \tLoss: 0.028363\n",
      "Epoch: 31 \tLoss: 0.024881\n",
      "Epoch: 32 \tLoss: 0.021552\n",
      "Epoch: 33 \tLoss: 0.021637\n",
      "Epoch: 34 \tLoss: 0.018668\n",
      "Epoch: 35 \tLoss: 0.019939\n",
      "Epoch: 36 \tLoss: 0.024437\n",
      "Epoch: 37 \tLoss: 0.020477\n",
      "Epoch: 38 \tLoss: 0.019934\n",
      "Epoch: 39 \tLoss: 0.020960\n",
      "Epoch: 40 \tLoss: 0.023091\n",
      "Epoch: 41 \tLoss: 0.016808\n",
      "Epoch: 42 \tLoss: 0.015733\n",
      "Epoch: 43 \tLoss: 0.018261\n",
      "Epoch: 44 \tLoss: 0.014923\n",
      "Epoch: 45 \tLoss: 0.017706\n",
      "Epoch: 46 \tLoss: 0.015666\n",
      "Epoch: 47 \tLoss: 0.016274\n",
      "Epoch: 48 \tLoss: 0.012894\n",
      "Epoch: 49 \tLoss: 0.013795\n",
      "Epoch: 50 \tLoss: 0.013772\n",
      "Epoch: 51 \tLoss: 0.010079\n",
      "Epoch: 52 \tLoss: 0.008441\n",
      "Epoch: 53 \tLoss: 0.014359\n",
      "Epoch: 54 \tLoss: 0.008877\n",
      "Epoch: 55 \tLoss: 0.014226\n",
      "Epoch: 56 \tLoss: 0.012415\n",
      "Epoch: 57 \tLoss: 0.007778\n",
      "Epoch: 58 \tLoss: 0.007980\n",
      "Epoch: 59 \tLoss: 0.008328\n",
      "Epoch: 60 \tLoss: 0.012595\n",
      "Epoch: 61 \tLoss: 0.008428\n",
      "Epoch: 62 \tLoss: 0.006981\n",
      "Epoch: 63 \tLoss: 0.006638\n",
      "Epoch: 64 \tLoss: 0.008579\n",
      "Epoch: 65 \tLoss: 0.008593\n",
      "Epoch: 66 \tLoss: 0.007469\n",
      "Epoch: 67 \tLoss: 0.006611\n",
      "Epoch: 68 \tLoss: 0.008100\n",
      "Epoch: 69 \tLoss: 0.005603\n",
      "Epoch: 70 \tLoss: 0.006769\n",
      "Epoch: 71 \tLoss: 0.004669\n",
      "Epoch: 72 \tLoss: 0.007844\n",
      "Epoch: 73 \tLoss: 0.006676\n",
      "Epoch: 74 \tLoss: 0.006198\n",
      "Epoch: 75 \tLoss: 0.005919\n",
      "Epoch: 76 \tLoss: 0.005894\n",
      "Epoch: 77 \tLoss: 0.006111\n",
      "Epoch: 78 \tLoss: 0.006942\n",
      "Epoch: 79 \tLoss: 0.005244\n",
      "Epoch: 80 \tLoss: 0.005237\n",
      "Epoch: 81 \tLoss: 0.006592\n",
      "Epoch: 82 \tLoss: 0.004354\n",
      "Epoch: 83 \tLoss: 0.003756\n",
      "Epoch: 84 \tLoss: 0.003545\n",
      "Epoch: 85 \tLoss: 0.005162\n",
      "Epoch: 86 \tLoss: 0.005347\n",
      "Epoch: 87 \tLoss: 0.004514\n",
      "Epoch: 88 \tLoss: 0.005172\n",
      "Epoch: 89 \tLoss: 0.004045\n",
      "Epoch: 90 \tLoss: 0.003690\n",
      "Epoch: 91 \tLoss: 0.004423\n",
      "Epoch: 92 \tLoss: 0.003386\n",
      "Epoch: 93 \tLoss: 0.003821\n",
      "Epoch: 94 \tLoss: 0.003022\n",
      "Epoch: 95 \tLoss: 0.003864\n",
      "Epoch: 96 \tLoss: 0.003530\n",
      "Epoch: 97 \tLoss: 0.004114\n",
      "Epoch: 98 \tLoss: 0.004359\n",
      "Epoch: 99 \tLoss: 0.003039\n"
     ]
    }
   ],
   "source": [
    "train_loss = []\n",
    "epochs =100\n",
    "for epoch in range(epochs):\n",
    "    for batch_idx, (x0, x1, labels) in enumerate(train_loader):\n",
    "        labels = labels.float()\n",
    "        x0, x1, labels = Variable(x0), Variable(x1), Variable(labels)\n",
    "        output1, output2 = model(x0, x1)\n",
    "        loss = criterion(output1, output2, labels)\n",
    "        optimizer.zero_grad()\n",
    "        loss.backward()\n",
    "        optimizer.step()\n",
    "        train_loss.append(loss.item())\n",
    "        if batch_idx % batchsize == 0:\n",
    "            print('Epoch: {} \\tLoss: {:.6f}'.format(epoch, loss.item()))\n"
   ]
  },
  {
   "cell_type": "markdown",
   "metadata": {},
   "source": [
    "# Let's Visualize our Plots"
   ]
  },
  {
   "cell_type": "markdown",
   "metadata": {},
   "source": [
    "##### Step5: Lets Create all functions for plotting embeddings and loss function"
   ]
  },
  {
   "cell_type": "code",
   "execution_count": 10,
   "metadata": {},
   "outputs": [],
   "source": [
    "def plot_loss(train_loss,name=\"train_loss.png\"):\n",
    "    plt.plot(train_loss, label=\"train loss\")\n",
    "    plt.legend()"
   ]
  },
  {
   "cell_type": "code",
   "execution_count": 11,
   "metadata": {},
   "outputs": [],
   "source": [
    "def plot_mnist(numpy_all, numpy_labels,name=\"./embeddings_plot.png\"):\n",
    "        c = ['#ff0000', '#ffff00', '#00ff00', '#00ffff', '#0000ff',\n",
    "             '#ff00ff', '#990000', '#999900', '#009900', '#009999']\n",
    "\n",
    "        for i in range(10):\n",
    "            f = numpy_all[np.where(numpy_labels == i)]\n",
    "            plt.plot(f[:, 0], f[:, 1], '.', c=c[i])\n",
    "        plt.legend(['0', '1', '2', '3', '4', '5', '6', '7', '8', '9'])\n",
    "        plt.savefig(name)"
   ]
  },
  {
   "cell_type": "markdown",
   "metadata": {},
   "source": [
    "##### Loss Function Plot"
   ]
  },
  {
   "cell_type": "code",
   "execution_count": 12,
   "metadata": {},
   "outputs": [
    {
     "data": {
      "image/png": "[encoded data removed]",
      "text/plain": [
       "<Figure size 432x288 with 1 Axes>"
      ]
     },
     "metadata": {
      "needs_background": "light"
     },
     "output_type": "display_data"
    }
   ],
   "source": [
    "plot_loss(train_loss)"
   ]
  },
  {
   "cell_type": "markdown",
   "metadata": {},
   "source": [
    "### Plotting test-set Embeddings of MNIST dataset"
   ]
  },
  {
   "cell_type": "code",
   "execution_count": 13,
   "metadata": {},
   "outputs": [],
   "source": [
    "def test_model(model):\n",
    "        model.eval()\n",
    "        all_ = []\n",
    "        all_labels = []\n",
    "        with torch.no_grad():\n",
    "            for batch_idx, (x, labels) in enumerate(test_loader):\n",
    "                x, labels = Variable(x), Variable(labels)\n",
    "                output = model.forward_once(x)\n",
    "                all_.extend(output.data.cpu().numpy().tolist())\n",
    "                all_labels.extend(labels.data.cpu().numpy().tolist())\n",
    "\n",
    "        numpy_all = np.array(all_)\n",
    "        numpy_labels = np.array(all_labels)\n",
    "        return numpy_all, numpy_labels\n",
    "\n",
    "def testing_plots(model):\n",
    "        dict_pickle={}\n",
    "        numpy_all, numpy_labels = test_model(model)\n",
    "        dict_pickle[\"numpy_all\"]=numpy_all\n",
    "        dict_pickle[\"numpy_labels\"]=numpy_labels\n",
    "        plot_mnist(numpy_all, numpy_labels)"
   ]
  },
  {
   "cell_type": "code",
   "execution_count": 14,
   "metadata": {},
   "outputs": [
    {
     "data": {
      "image/png": "[encoded data removed]",
      "text/plain": [
       "<Figure size 432x288 with 1 Axes>"
      ]
     },
     "metadata": {
      "needs_background": "light"
     },
     "output_type": "display_data"
    }
   ],
   "source": [
    "testing_plots(model)"
   ]
  },
  {
   "cell_type": "markdown",
   "metadata": {},
   "source": [
    "#### In above embeddings Plot, what we can observe is that majority of points are in a cluster, whereas some points are not part of cluster, can be seen as outliers."
   ]
  }
 ],
 "metadata": {
  "kernelspec": {
   "display_name": "Python 3 (ipykernel)",
   "language": "python",
   "name": "python3"
  },
  "language_info": {
   "codemirror_mode": {
    "name": "ipython",
    "version": 3
   },
   "file_extension": ".py",
   "mimetype": "text/x-python",
   "name": "python",
   "nbconvert_exporter": "python",
   "pygments_lexer": "ipython3",
   "version": "3.9.7"
  },
  "toc": {
   "base_numbering": 1,
   "nav_menu": {},
   "number_sections": true,
   "sideBar": true,
   "skip_h1_title": false,
   "title_cell": "Table of Contents",
   "title_sidebar": "Contents",
   "toc_cell": false,
   "toc_position": {},
   "toc_section_display": true,
   "toc_window_display": false
  }
 },
 "nbformat": 4,
 "nbformat_minor": 2
}
