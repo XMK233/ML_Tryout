{
 "cells": [
  {
   "cell_type": "raw",
   "id": "c8f4e5f5-5049-493d-98b7-6c9c867f0922",
   "metadata": {},
   "source": [
    "import ebooklib\n",
    "from ebooklib import epub\n",
    "\n",
    "book = epub.read_epub('/Users/minkexiu/Desktop/长城之外-北境与大明边防（1368—1644） (【美】窦德士) (Z-Library).epub')\n",
    "# /Users/minkexiu/Desktop\n",
    "for doc in book.get_items_of_type(ebooklib.ITEM_DOCUMENT):\n",
    "    print(doc)\n",
    "    break"
   ]
  },
  {
   "cell_type": "code",
   "execution_count": 6,
   "id": "b3a6273e-afa1-41d3-a25b-f78b80dfcbff",
   "metadata": {},
   "outputs": [
    {
     "name": "stderr",
     "output_type": "stream",
     "text": [
      "/opt/anaconda3/envs/ml12/lib/python3.12/site-packages/ebooklib/epub.py:1395: UserWarning: In the future version we will turn default option ignore_ncx to True.\n",
      "  warnings.warn('In the future version we will turn default option ignore_ncx to True.')\n",
      "/opt/anaconda3/envs/ml12/lib/python3.12/site-packages/ebooklib/epub.py:1423: FutureWarning: This search incorrectly ignores the root element, and will be fixed in a future version.  If you rely on the current behaviour, change it to './/xmlns:rootfile[@media-type]'\n",
      "  for root_file in tree.findall('//xmlns:rootfile[@media-type]', namespaces={'xmlns': NAMESPACES['CONTAINERNS']}):\n"
     ]
    }
   ],
   "source": [
    "from epub2txt import epub2txt\n",
    "# from a url to epub\n",
    "# url = \"https://github.com/ffreemt/tmx2epub/raw/master/tests/1.tmx.epub\"\n",
    "# res = epub2txt(url)\n",
    "\n",
    "# from a local epub file\n",
    "filepath = r'/Users/minkexiu/Desktop/长城之外-北境与大明边防（1368—1644） (【美】窦德士) (Z-Library).epub'\n",
    "res = epub2txt(filepath)\n",
    "\n",
    "# output as a list of chapters\n",
    "ch_list = epub2txt(filepath, outputlist=True)\n",
    "# chapter titles will be available as epub2txt.content_titles if available"
   ]
  },
  {
   "cell_type": "code",
   "execution_count": 12,
   "id": "f1f09adb-4771-4128-9560-943916e350f8",
   "metadata": {
    "scrolled": true
   },
   "outputs": [],
   "source": [
    "# \",\".join(ch_list)"
   ]
  },
  {
   "cell_type": "code",
   "execution_count": null,
   "id": "bb175215-4e51-4621-8cb2-6af7644aefe3",
   "metadata": {},
   "outputs": [],
   "source": []
  }
 ],
 "metadata": {
  "kernelspec": {
   "display_name": "Python 3 (ipykernel)",
   "language": "python",
   "name": "python3"
  },
  "language_info": {
   "codemirror_mode": {
    "name": "ipython",
    "version": 3
   },
   "file_extension": ".py",
   "mimetype": "text/x-python",
   "name": "python",
   "nbconvert_exporter": "python",
   "pygments_lexer": "ipython3",
   "version": "3.12.0"
  }
 },
 "nbformat": 4,
 "nbformat_minor": 5
}
