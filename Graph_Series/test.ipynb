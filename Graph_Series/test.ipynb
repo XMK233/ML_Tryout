{
 "cells": [
  {
   "cell_type": "code",
   "execution_count": 2,
   "id": "35ee41d1-e984-469a-ad1e-fb8affac7632",
   "metadata": {},
   "outputs": [
    {
     "name": "stderr",
     "output_type": "stream",
     "text": [
      "<>:1: SyntaxWarning: invalid escape sequence '\\w'\n",
      "<>:1: SyntaxWarning: invalid escape sequence '\\w'\n",
      "/var/folders/s1/1jpfx0m52rj4k7cgqkh7g3q40000gn/T/ipykernel_3435/1304893467.py:1: SyntaxWarning: invalid escape sequence '\\w'\n",
      "  files = '''regsvr32: Successfully registered DLL 'c:\\windows\\syswow64\\quartz.dll'\n"
     ]
    }
   ],
   "source": [
    "files = '''regsvr32: Successfully registered DLL 'c:\\windows\\syswow64\\quartz.dll'\n",
    "regsvr32: Successfully registered DLL 'c:\\windows\\syswow64\\qasf.dll'\n",
    "regsvr32: Successfully registered DLL 'c:\\windows\\syswow64\\qcap.dll'\n",
    "regsvr32: Successfully registered DLL 'c:\\windows\\syswow64\\qedit.dll'\n",
    "regsvr32: Successfully registered DLL 'c:\\windows\\syswow64\\qdvd.dll'\n",
    "regsvr32: Successfully registered DLL 'c:\\windows\\syswow64\\evr.dll'\n",
    "regsvr32: Successfully registered DLL 'c:\\windows\\syswow64\\msmpeg2vdec.dll'\n",
    "regsvr32: Successfully registered DLL 'c:\\windows\\syswow64\\mp3dmod.dll'\n",
    "regsvr32: Successfully registered DLL 'c:\\windows\\system32\\quartz.dll'\n",
    "regsvr32: Successfully registered DLL 'c:\\windows\\system32\\qasf.dll'\n",
    "regsvr32: Successfully registered DLL 'c:\\windows\\system32\\qcap.dll'\n",
    "regsvr32: Successfully registered DLL 'c:\\windows\\system32\\qedit.dll'\n",
    "regsvr32: Successfully registered DLL 'c:\\windows\\system32\\qdvd.dll'\n",
    "regsvr32: Successfully registered DLL 'c:\\windows\\system32\\evr.dll'\n",
    "regsvr32: Successfully registered DLL 'c:\\windows\\system32\\msmpeg2vdec.dll'\n",
    "regsvr32: Successfully registered DLL 'c:\\windows\\system32\\mp3dmod.dll'''"
   ]
  },
  {
   "cell_type": "code",
   "execution_count": 7,
   "id": "52759b48-9940-4933-919b-e21e270225ba",
   "metadata": {},
   "outputs": [],
   "source": [
    "fnames = []\n",
    "for line in files.split(\"\\n\"):\n",
    "    rst = line.replace(\"regsvr32: Successfully registered DLL \", \"\").replace(\"'\", \"\")\n",
    "    fname = rst.split(\"\\\\\")[-1]\n",
    "    fnames.append(fname)\n",
    "fnames = set(fnames)"
   ]
  },
  {
   "cell_type": "code",
   "execution_count": 8,
   "id": "e0331b2e-269b-4b28-9781-75c6f8eb2579",
   "metadata": {},
   "outputs": [
    {
     "data": {
      "text/plain": [
       "{'evr.dll',\n",
       " 'mp3dmod.dll',\n",
       " 'msmpeg2vdec.dll',\n",
       " 'qasf.dll',\n",
       " 'qcap.dll',\n",
       " 'qdvd.dll',\n",
       " 'qedit.dll',\n",
       " 'quartz.dll'}"
      ]
     },
     "execution_count": 8,
     "metadata": {},
     "output_type": "execute_result"
    }
   ],
   "source": [
    "fnames"
   ]
  },
  {
   "cell_type": "code",
   "execution_count": 14,
   "id": "3dcaf9e3-1db1-4759-9a5e-1133c84271dc",
   "metadata": {},
   "outputs": [
    {
     "name": "stdout",
     "output_type": "stream",
     "text": [
      "mkdir: tmp_dlls: File exists\n"
     ]
    }
   ],
   "source": [
    "!mkdir tmp_dlls"
   ]
  },
  {
   "cell_type": "code",
   "execution_count": 11,
   "id": "f84c2464-bfc9-447e-9a10-5e481eb12230",
   "metadata": {},
   "outputs": [],
   "source": [
    "import shutil, os"
   ]
  },
  {
   "cell_type": "code",
   "execution_count": 17,
   "id": "1b04b479-73ff-4afa-b97c-fdb56fb88148",
   "metadata": {},
   "outputs": [
    {
     "name": "stdout",
     "output_type": "stream",
     "text": [
      "/Users/minkexiu/Library/Application Support/CrossOver/Bottles/steam/drive_c/windows/system32/qcap.dll\n",
      "/Users/minkexiu/Library/Application Support/CrossOver/Bottles/steam/drive_c/windows/system32/mp3dmod.dll\n",
      "/Users/minkexiu/Library/Application Support/CrossOver/Bottles/steam/drive_c/windows/system32/qdvd.dll\n",
      "/Users/minkexiu/Library/Application Support/CrossOver/Bottles/steam/drive_c/windows/system32/quartz.dll\n",
      "/Users/minkexiu/Library/Application Support/CrossOver/Bottles/steam/drive_c/windows/system32/msmpeg2vdec.dll\n",
      "/Users/minkexiu/Library/Application Support/CrossOver/Bottles/steam/drive_c/windows/system32/qedit.dll\n",
      "/Users/minkexiu/Library/Application Support/CrossOver/Bottles/steam/drive_c/windows/system32/evr.dll\n",
      "/Users/minkexiu/Library/Application Support/CrossOver/Bottles/steam/drive_c/windows/system32/qasf.dll\n"
     ]
    }
   ],
   "source": [
    "for fname in fnames:\n",
    "    f_64 = os.path.join(\n",
    "        \"/Users/minkexiu/Library/Application Support/CrossOver/Bottles/steam/drive_c/windows/syswow64\", \n",
    "        fname\n",
    "    )\n",
    "    f_32 = os.path.join(\n",
    "        \"/Users/minkexiu/Library/Application Support/CrossOver/Bottles/steam/drive_c/windows/system32\", \n",
    "        fname\n",
    "    )\n",
    "    shutil.copy(\n",
    "        f_64, f\"tmp_dlls/{fname}-64\"\n",
    "    )\n",
    "    shutil.copy(\n",
    "        f_32, f\"tmp_dlls/{fname}-32\"\n",
    "    )"
   ]
  },
  {
   "cell_type": "code",
   "execution_count": 25,
   "id": "53045365-6973-42a3-a0c7-961da250487e",
   "metadata": {},
   "outputs": [
    {
     "name": "stdout",
     "output_type": "stream",
     "text": [
      "qcap.dll\n",
      "mp3dmod.dll\n",
      "qdvd.dll\n",
      "quartz.dll\n",
      "msmpeg2vdec.dll\n",
      "qedit.dll\n",
      "evr.dll\n",
      "qasf.dll\n"
     ]
    }
   ],
   "source": [
    "for fname in fnames:\n",
    "    p1, p2 = fname.split(\".\")\n",
    "    \n",
    "    path_32 = f\"/Users/minkexiu/Desktop/new_dlls/{p1}/{p1}.dll\"\n",
    "    path_64 = f\"/Users/minkexiu/Desktop/new_dlls/{p1} (1)/{p1}.dll\"\n",
    "\n",
    "    to_32 = f\"/Users/minkexiu/Library/Application Support/CrossOver/Bottles/steam/drive_c/windows/system32/{p1}.dll\" ## \n",
    "    to_64 = f\"/Users/minkexiu/Library/Application Support/CrossOver/Bottles/steam/drive_c/windows/syswow64/{p1}.dll\"\n",
    "\n",
    "    shutil.copy(\n",
    "        path_32, to_32\n",
    "    )\n",
    "    shutil.copy(\n",
    "        path_64, to_64\n",
    "    )\n",
    "    \n",
    "    print(fname)"
   ]
  },
  {
   "cell_type": "code",
   "execution_count": 23,
   "id": "80f4ad34-b7f4-4043-b77a-0d040d4631cc",
   "metadata": {},
   "outputs": [
    {
     "name": "stdout",
     "output_type": "stream",
     "text": [
      "/Users/minkexiu/Desktop/new_dlls/qcap (1)/qcap.dll\n"
     ]
    }
   ],
   "source": [
    "!ls \"/Users/minkexiu/Desktop/new_dlls/qcap (1)/qcap.dll\""
   ]
  },
  {
   "cell_type": "code",
   "execution_count": null,
   "id": "28f71795-f40f-44be-9fa5-4aeede79c02d",
   "metadata": {},
   "outputs": [],
   "source": []
  },
  {
   "cell_type": "code",
   "execution_count": null,
   "id": "b5f0cc4b-07f1-4978-b518-d6035e1e68a2",
   "metadata": {},
   "outputs": [],
   "source": []
  },
  {
   "cell_type": "code",
   "execution_count": null,
   "id": "5363b0b9-3fb0-4009-ab59-96e82e2ca05e",
   "metadata": {},
   "outputs": [],
   "source": []
  },
  {
   "cell_type": "code",
   "execution_count": null,
   "id": "a8b16740-2572-404b-ada2-ff269d8049fe",
   "metadata": {},
   "outputs": [],
   "source": []
  },
  {
   "cell_type": "code",
   "execution_count": null,
   "id": "35e8b8b0-94bd-463f-adbf-5203314cecb5",
   "metadata": {},
   "outputs": [],
   "source": []
  },
  {
   "cell_type": "code",
   "execution_count": null,
   "id": "1eede765-ef44-4e88-93c5-7b851c215ddf",
   "metadata": {},
   "outputs": [],
   "source": []
  },
  {
   "cell_type": "code",
   "execution_count": null,
   "id": "f70791a0-fd12-4ffc-93a3-8070b6141488",
   "metadata": {},
   "outputs": [],
   "source": []
  },
  {
   "cell_type": "code",
   "execution_count": null,
   "id": "d78203c0-495d-4812-aa04-29e16cdb664e",
   "metadata": {},
   "outputs": [],
   "source": []
  },
  {
   "cell_type": "code",
   "execution_count": null,
   "id": "f4ff2f19-14cb-4936-8019-046450f7cdde",
   "metadata": {},
   "outputs": [],
   "source": []
  },
  {
   "cell_type": "code",
   "execution_count": null,
   "id": "b752c528-4fd9-4012-a66d-801f49847487",
   "metadata": {},
   "outputs": [],
   "source": []
  },
  {
   "cell_type": "code",
   "execution_count": null,
   "id": "3cec5719-92e9-4d48-a24a-b6189d55f65d",
   "metadata": {},
   "outputs": [],
   "source": []
  },
  {
   "cell_type": "code",
   "execution_count": 1,
   "id": "55cb4074",
   "metadata": {},
   "outputs": [
    {
     "name": "stderr",
     "output_type": "stream",
     "text": [
      "/Users/minkexiu/opt/miniforge3/lib/python3.9/site-packages/requests/__init__.py:102: RequestsDependencyWarning: urllib3 (1.26.8) or chardet (5.2.0)/charset_normalizer (2.0.12) doesn't match a supported version!\n",
      "  warnings.warn(\"urllib3 ({}) or chardet ({})/charset_normalizer ({}) doesn't match a supported \"\n",
      "Downloading https://github.com/kimiyoung/planetoid/raw/master/data/ind.cora.x\n",
      "Downloading https://github.com/kimiyoung/planetoid/raw/master/data/ind.cora.tx\n",
      "Downloading https://github.com/kimiyoung/planetoid/raw/master/data/ind.cora.allx\n",
      "Downloading https://github.com/kimiyoung/planetoid/raw/master/data/ind.cora.y\n",
      "Downloading https://github.com/kimiyoung/planetoid/raw/master/data/ind.cora.ty\n",
      "Downloading https://github.com/kimiyoung/planetoid/raw/master/data/ind.cora.ally\n",
      "Downloading https://github.com/kimiyoung/planetoid/raw/master/data/ind.cora.graph\n",
      "Downloading https://github.com/kimiyoung/planetoid/raw/master/data/ind.cora.test.index\n",
      "Processing...\n",
      "Done!\n",
      "/Users/minkexiu/opt/miniforge3/lib/python3.9/site-packages/torch_geometric/deprecation.py:22: UserWarning: 'train_test_split_edges' is deprecated, use 'transforms.RandomLinkSplit' instead\n",
      "  warnings.warn(out)\n"
     ]
    },
    {
     "name": "stdout",
     "output_type": "stream",
     "text": [
      "wrong!\n",
      "Epoch: 001, Loss: 0.6930, Val: 0.7086, Test: 0.7060\n",
      "wrong!\n",
      "Epoch: 002, Loss: 0.6826, Val: 0.7026, Test: 0.7060\n",
      "wrong!\n",
      "Epoch: 003, Loss: 0.7068, Val: 0.7049, Test: 0.7060\n",
      "wrong!\n",
      "Epoch: 004, Loss: 0.6779, Val: 0.7083, Test: 0.7060\n",
      "wrong!\n",
      "Epoch: 005, Loss: 0.6850, Val: 0.7232, Test: 0.7234\n",
      "wrong!\n",
      "Epoch: 006, Loss: 0.6881, Val: 0.7433, Test: 0.7319\n",
      "wrong!\n",
      "Epoch: 007, Loss: 0.6888, Val: 0.7366, Test: 0.7319\n",
      "wrong!\n",
      "Epoch: 008, Loss: 0.6882, Val: 0.7257, Test: 0.7319\n",
      "wrong!\n",
      "Epoch: 009, Loss: 0.6857, Val: 0.7185, Test: 0.7319\n",
      "wrong!\n",
      "Epoch: 010, Loss: 0.6811, Val: 0.7128, Test: 0.7319\n",
      "Epoch: 011, Loss: 0.6749, Val: 0.7088, Test: 0.7319\n",
      "wrong!\n",
      "Epoch: 012, Loss: 0.6712, Val: 0.7074, Test: 0.7319\n",
      "Epoch: 013, Loss: 0.6720, Val: 0.7093, Test: 0.7319\n",
      "Epoch: 014, Loss: 0.6647, Val: 0.7221, Test: 0.7319\n",
      "wrong!\n",
      "Epoch: 015, Loss: 0.6566, Val: 0.7489, Test: 0.7417\n",
      "Epoch: 016, Loss: 0.6496, Val: 0.7633, Test: 0.7611\n",
      "wrong!\n",
      "Epoch: 017, Loss: 0.6420, Val: 0.7649, Test: 0.7630\n",
      "wrong!\n",
      "Epoch: 018, Loss: 0.6279, Val: 0.7592, Test: 0.7630\n",
      "Epoch: 019, Loss: 0.6130, Val: 0.7594, Test: 0.7630\n",
      "Epoch: 020, Loss: 0.5969, Val: 0.7611, Test: 0.7630\n",
      "wrong!\n",
      "Epoch: 021, Loss: 0.5831, Val: 0.7526, Test: 0.7630\n",
      "wrong!\n",
      "Epoch: 022, Loss: 0.5792, Val: 0.7509, Test: 0.7630\n",
      "Epoch: 023, Loss: 0.5666, Val: 0.7502, Test: 0.7630\n",
      "wrong!\n",
      "Epoch: 024, Loss: 0.5700, Val: 0.7475, Test: 0.7630\n",
      "Epoch: 025, Loss: 0.5701, Val: 0.7471, Test: 0.7630\n",
      "wrong!\n",
      "Epoch: 026, Loss: 0.5585, Val: 0.7623, Test: 0.7630\n",
      "wrong!\n",
      "Epoch: 027, Loss: 0.5529, Val: 0.7791, Test: 0.8025\n",
      "Epoch: 028, Loss: 0.5462, Val: 0.7909, Test: 0.8131\n",
      "wrong!\n",
      "Epoch: 029, Loss: 0.5324, Val: 0.7995, Test: 0.8210\n",
      "Epoch: 030, Loss: 0.5309, Val: 0.8097, Test: 0.8282\n",
      "wrong!\n",
      "Epoch: 031, Loss: 0.5252, Val: 0.8186, Test: 0.8352\n",
      "wrong!\n",
      "Epoch: 032, Loss: 0.5192, Val: 0.8227, Test: 0.8404\n",
      "Epoch: 033, Loss: 0.5120, Val: 0.8244, Test: 0.8427\n",
      "wrong!\n",
      "Epoch: 034, Loss: 0.5117, Val: 0.8238, Test: 0.8427\n",
      "Epoch: 035, Loss: 0.5152, Val: 0.8222, Test: 0.8427\n",
      "Epoch: 036, Loss: 0.5101, Val: 0.8241, Test: 0.8427\n",
      "Epoch: 037, Loss: 0.5118, Val: 0.8233, Test: 0.8427\n",
      "wrong!\n",
      "Epoch: 038, Loss: 0.5086, Val: 0.8213, Test: 0.8427\n",
      "wrong!\n",
      "Epoch: 039, Loss: 0.5088, Val: 0.8222, Test: 0.8427\n",
      "wrong!\n",
      "Epoch: 040, Loss: 0.5002, Val: 0.8239, Test: 0.8427\n",
      "wrong!\n",
      "Epoch: 041, Loss: 0.5073, Val: 0.8235, Test: 0.8427\n",
      "wrong!\n",
      "Epoch: 042, Loss: 0.5045, Val: 0.8215, Test: 0.8427\n",
      "wrong!\n",
      "Epoch: 043, Loss: 0.4964, Val: 0.8205, Test: 0.8427\n",
      "Epoch: 044, Loss: 0.4992, Val: 0.8203, Test: 0.8427\n",
      "wrong!\n",
      "Epoch: 045, Loss: 0.4997, Val: 0.8204, Test: 0.8427\n",
      "wrong!\n",
      "Epoch: 046, Loss: 0.4960, Val: 0.8199, Test: 0.8427\n",
      "wrong!\n",
      "Epoch: 047, Loss: 0.4915, Val: 0.8205, Test: 0.8427\n",
      "wrong!\n",
      "Epoch: 048, Loss: 0.4926, Val: 0.8223, Test: 0.8427\n",
      "wrong!\n",
      "Epoch: 049, Loss: 0.4923, Val: 0.8248, Test: 0.8479\n",
      "Epoch: 050, Loss: 0.4955, Val: 0.8269, Test: 0.8501\n",
      "wrong!\n",
      "Epoch: 051, Loss: 0.4920, Val: 0.8272, Test: 0.8516\n",
      "wrong!\n",
      "Epoch: 052, Loss: 0.4888, Val: 0.8273, Test: 0.8523\n",
      "wrong!\n",
      "Epoch: 053, Loss: 0.4900, Val: 0.8281, Test: 0.8534\n",
      "wrong!\n",
      "Epoch: 054, Loss: 0.4873, Val: 0.8296, Test: 0.8559\n",
      "wrong!\n",
      "Epoch: 055, Loss: 0.4877, Val: 0.8325, Test: 0.8587\n",
      "Epoch: 056, Loss: 0.4809, Val: 0.8341, Test: 0.8611\n",
      "Epoch: 057, Loss: 0.4766, Val: 0.8364, Test: 0.8643\n",
      "Epoch: 058, Loss: 0.4799, Val: 0.8395, Test: 0.8682\n",
      "wrong!\n",
      "Epoch: 059, Loss: 0.4780, Val: 0.8432, Test: 0.8715\n",
      "wrong!\n",
      "Epoch: 060, Loss: 0.4768, Val: 0.8464, Test: 0.8746\n",
      "wrong!\n",
      "Epoch: 061, Loss: 0.4692, Val: 0.8512, Test: 0.8777\n",
      "wrong!\n",
      "Epoch: 062, Loss: 0.4665, Val: 0.8552, Test: 0.8800\n",
      "wrong!\n",
      "Epoch: 063, Loss: 0.4623, Val: 0.8589, Test: 0.8818\n",
      "Epoch: 064, Loss: 0.4653, Val: 0.8606, Test: 0.8821\n",
      "Epoch: 065, Loss: 0.4656, Val: 0.8604, Test: 0.8821\n",
      "Epoch: 066, Loss: 0.4695, Val: 0.8624, Test: 0.8842\n",
      "wrong!\n",
      "Epoch: 067, Loss: 0.4651, Val: 0.8645, Test: 0.8860\n",
      "wrong!\n",
      "Epoch: 068, Loss: 0.4646, Val: 0.8652, Test: 0.8864\n",
      "Epoch: 069, Loss: 0.4639, Val: 0.8652, Test: 0.8864\n",
      "wrong!\n",
      "Epoch: 070, Loss: 0.4582, Val: 0.8666, Test: 0.8885\n",
      "Epoch: 071, Loss: 0.4532, Val: 0.8678, Test: 0.8904\n",
      "wrong!\n",
      "Epoch: 072, Loss: 0.4604, Val: 0.8691, Test: 0.8920\n",
      "wrong!\n",
      "Epoch: 073, Loss: 0.4569, Val: 0.8694, Test: 0.8920\n",
      "wrong!\n",
      "Epoch: 074, Loss: 0.4489, Val: 0.8700, Test: 0.8925\n",
      "Epoch: 075, Loss: 0.4575, Val: 0.8708, Test: 0.8946\n",
      "wrong!\n",
      "Epoch: 076, Loss: 0.4503, Val: 0.8734, Test: 0.8970\n",
      "Epoch: 077, Loss: 0.4540, Val: 0.8752, Test: 0.8982\n",
      "Epoch: 078, Loss: 0.4490, Val: 0.8767, Test: 0.8983\n",
      "Epoch: 079, Loss: 0.4485, Val: 0.8777, Test: 0.8979\n",
      "wrong!\n",
      "Epoch: 080, Loss: 0.4529, Val: 0.8798, Test: 0.8989\n",
      "wrong!\n",
      "Epoch: 081, Loss: 0.4508, Val: 0.8813, Test: 0.8995\n",
      "wrong!\n",
      "Epoch: 082, Loss: 0.4528, Val: 0.8824, Test: 0.8994\n",
      "wrong!\n",
      "Epoch: 083, Loss: 0.4500, Val: 0.8824, Test: 0.8994\n",
      "wrong!\n",
      "Epoch: 084, Loss: 0.4460, Val: 0.8822, Test: 0.8994\n",
      "wrong!\n",
      "Epoch: 085, Loss: 0.4491, Val: 0.8816, Test: 0.8994\n",
      "wrong!\n",
      "Epoch: 086, Loss: 0.4469, Val: 0.8807, Test: 0.8994\n",
      "wrong!\n",
      "Epoch: 087, Loss: 0.4439, Val: 0.8816, Test: 0.8994\n",
      "wrong!\n",
      "Epoch: 088, Loss: 0.4435, Val: 0.8812, Test: 0.8994\n",
      "wrong!\n",
      "Epoch: 089, Loss: 0.4489, Val: 0.8811, Test: 0.8994\n",
      "wrong!\n",
      "Epoch: 090, Loss: 0.4533, Val: 0.8806, Test: 0.8994\n",
      "wrong!\n",
      "Epoch: 091, Loss: 0.4403, Val: 0.8800, Test: 0.8994\n",
      "wrong!\n",
      "Epoch: 092, Loss: 0.4411, Val: 0.8801, Test: 0.8994\n",
      "wrong!\n",
      "Epoch: 093, Loss: 0.4443, Val: 0.8799, Test: 0.8994\n",
      "wrong!\n",
      "Epoch: 094, Loss: 0.4464, Val: 0.8800, Test: 0.8994\n",
      "Epoch: 095, Loss: 0.4452, Val: 0.8805, Test: 0.8994\n",
      "wrong!\n",
      "Epoch: 096, Loss: 0.4406, Val: 0.8813, Test: 0.8994\n",
      "Epoch: 097, Loss: 0.4384, Val: 0.8820, Test: 0.8994\n",
      "wrong!\n",
      "Epoch: 098, Loss: 0.4385, Val: 0.8826, Test: 0.9042\n",
      "wrong!\n",
      "Epoch: 099, Loss: 0.4435, Val: 0.8830, Test: 0.9043\n",
      "wrong!\n",
      "Epoch: 100, Loss: 0.4429, Val: 0.8834, Test: 0.9047\n"
     ]
    }
   ],
   "source": [
    "from logging import root\n",
    "import os.path as osp\n",
    "\n",
    "import torch\n",
    "import torch.nn.functional as F\n",
    "import torch_geometric.transforms as T\n",
    "from sklearn.metrics import roc_auc_score\n",
    "from torch_geometric.datasets import Planetoid\n",
    "from torch_geometric.nn import GCNConv\n",
    "from torch_geometric.utils import negative_sampling, train_test_split_edges\n",
    "\n",
    "\n",
    "class Net(torch.nn.Module):\n",
    "    def __init__(self, in_channels, out_channels):\n",
    "        super(Net, self).__init__()\n",
    "        self.conv1 = GCNConv(in_channels, 128)\n",
    "        self.conv2 = GCNConv(128, out_channels)\n",
    "\n",
    "    def encode(self, x, edge_index):\n",
    "        x = self.conv1(x, edge_index)\n",
    "        x = x.relu()\n",
    "        return self.conv2(x, edge_index)\n",
    "\n",
    "    def decode(self, z, pos_edge_index, neg_edge_index):\n",
    "        edge_index = torch.cat([pos_edge_index, neg_edge_index], dim=-1)\n",
    "        return (z[edge_index[0]] * z[edge_index[1]]).sum(dim=-1)\n",
    "\n",
    "    def decode_all(self, z):\n",
    "        prob_adj = z @ z.t()\n",
    "        return (prob_adj > 0).nonzero(as_tuple=False).t()\n",
    "\n",
    "\n",
    "def get_link_labels(pos_edge_index, neg_edge_index):\n",
    "    num_links = pos_edge_index.size(1) + neg_edge_index.size(1)\n",
    "    link_labels = torch.zeros(num_links, dtype=torch.float)\n",
    "    link_labels[:pos_edge_index.size(1)] = 1.\n",
    "    return link_labels\n",
    "\n",
    "\n",
    "def train(data, model, optimizer):\n",
    "    model.train()\n",
    "\n",
    "    neg_edge_index = negative_sampling(\n",
    "        edge_index=data.train_pos_edge_index,\n",
    "        num_nodes=data.num_nodes,\n",
    "        num_neg_samples=data.train_pos_edge_index.size(1))\n",
    "    \n",
    "    train_neg_edge_set = set(map(tuple, neg_edge_index.T.tolist()))\n",
    "    val_pos_edge_set = set(map(tuple, data.val_pos_edge_index.T.tolist()))\n",
    "    test_pos_edge_set = set(map(tuple, data.test_pos_edge_index.T.tolist()))\n",
    "    if (len(train_neg_edge_set & val_pos_edge_set) > 0) or (len(train_neg_edge_set & test_pos_edge_set) > 0):\n",
    "        # 训练集负样本与验证集负样本存在交集，或训练集负样本与测试集负样本存在交集\n",
    "        print('wrong!')\n",
    "\n",
    "    optimizer.zero_grad()\n",
    "    z = model.encode(data.x, data.train_pos_edge_index)\n",
    "    link_logits = model.decode(z, data.train_pos_edge_index, neg_edge_index)\n",
    "    link_labels = get_link_labels(data.train_pos_edge_index, neg_edge_index).to(data.x.device)\n",
    "    loss = F.binary_cross_entropy_with_logits(link_logits, link_labels)\n",
    "    loss.backward()\n",
    "    optimizer.step()\n",
    "\n",
    "    return loss\n",
    "\n",
    "\n",
    "@torch.no_grad()\n",
    "def test(data, model):\n",
    "    model.eval()\n",
    "\n",
    "    z = model.encode(data.x, data.train_pos_edge_index)\n",
    "\n",
    "    results = []\n",
    "    for prefix in ['val', 'test']:\n",
    "        pos_edge_index = data[f'{prefix}_pos_edge_index']\n",
    "        neg_edge_index = data[f'{prefix}_neg_edge_index']\n",
    "        link_logits = model.decode(z, pos_edge_index, neg_edge_index)\n",
    "        link_probs = link_logits.sigmoid()\n",
    "        link_labels = get_link_labels(pos_edge_index, neg_edge_index)\n",
    "        results.append(roc_auc_score(link_labels.cpu(), link_probs.cpu()))\n",
    "    return results\n",
    "\n",
    "def main():\n",
    "    device = torch.device('cuda' if torch.cuda.is_available() else 'cpu')\n",
    "    dataset = Planetoid(root='data', name='Cora', transform=T.NormalizeFeatures())\n",
    "    data = dataset[0]\n",
    "    ground_truth_edge_index = data.edge_index.to(device)\n",
    "    data.train_mask = data.val_mask = data.test_mask = data.y = None\n",
    "    data = train_test_split_edges(data)\n",
    "    data = data.to(device)\n",
    "\n",
    "    model = Net(dataset.num_features, 64).to(device)\n",
    "    optimizer = torch.optim.Adam(params=model.parameters(), lr=0.01)\n",
    "\n",
    "    best_val_auc = test_auc = 0\n",
    "    for epoch in range(1, 101):\n",
    "        loss = train(data, model, optimizer)\n",
    "        val_auc, tmp_test_auc = test(data, model)\n",
    "        if val_auc > best_val_auc:\n",
    "            best_val_auc = val_auc\n",
    "            test_auc = tmp_test_auc\n",
    "        print(f'Epoch: {epoch:03d}, Loss: {loss:.4f}, Val: {val_auc:.4f}, '\n",
    "              f'Test: {test_auc:.4f}')\n",
    "\n",
    "    z = model.encode(data.x, data.train_pos_edge_index)\n",
    "    final_edge_index = model.decode_all(z)\n",
    "\n",
    "\n",
    "if __name__ == \"__main__\":\n",
    "    main()"
   ]
  },
  {
   "cell_type": "code",
   "execution_count": null,
   "id": "3594781b",
   "metadata": {},
   "outputs": [],
   "source": []
  },
  {
   "cell_type": "code",
   "execution_count": null,
   "id": "08172f65",
   "metadata": {},
   "outputs": [],
   "source": []
  },
  {
   "cell_type": "code",
   "execution_count": null,
   "id": "64410819",
   "metadata": {},
   "outputs": [],
   "source": []
  },
  {
   "cell_type": "code",
   "execution_count": null,
   "id": "327b61c2",
   "metadata": {},
   "outputs": [],
   "source": []
  },
  {
   "cell_type": "code",
   "execution_count": null,
   "id": "e6e0643f",
   "metadata": {},
   "outputs": [],
   "source": []
  },
  {
   "cell_type": "code",
   "execution_count": null,
   "id": "c77d21f6",
   "metadata": {},
   "outputs": [],
   "source": []
  },
  {
   "cell_type": "code",
   "execution_count": null,
   "id": "a87fc9c4",
   "metadata": {},
   "outputs": [],
   "source": []
  },
  {
   "cell_type": "code",
   "execution_count": null,
   "id": "01072aa4",
   "metadata": {},
   "outputs": [],
   "source": []
  },
  {
   "cell_type": "code",
   "execution_count": null,
   "id": "2ae30d28",
   "metadata": {},
   "outputs": [],
   "source": []
  },
  {
   "cell_type": "code",
   "execution_count": 17,
   "id": "52ea9103",
   "metadata": {},
   "outputs": [],
   "source": [
    "# !pip install torch_geometric"
   ]
  },
  {
   "cell_type": "code",
   "execution_count": null,
   "id": "0255a669",
   "metadata": {},
   "outputs": [],
   "source": []
  },
  {
   "cell_type": "code",
   "execution_count": 4,
   "id": "34479f76",
   "metadata": {},
   "outputs": [],
   "source": [
    "import networkx as nx\n",
    "\n",
    "G = nx.karate_club_graph()"
   ]
  },
  {
   "cell_type": "code",
   "execution_count": 6,
   "id": "2dd50947",
   "metadata": {},
   "outputs": [],
   "source": [
    "from torch_geometric.datasets import Planetoid\n",
    "from torch_geometric.transforms import NormalizeFeatures\n",
    "from torch_geometric.utils.convert import from_networkx\n",
    "\n",
    "# 作者：实力\n",
    "# 链接：https://juejin.cn/post/7225053568152518714\n",
    "# 来源：稀土掘金\n",
    "# 著作权归作者所有。商业转载请联系作者获得授权，非商业转载请注明出处。"
   ]
  },
  {
   "cell_type": "code",
   "execution_count": 7,
   "id": "cfce0d8b",
   "metadata": {},
   "outputs": [],
   "source": [
    "data = from_networkx(G)"
   ]
  },
  {
   "cell_type": "code",
   "execution_count": 10,
   "id": "ad2b01ff",
   "metadata": {},
   "outputs": [
    {
     "data": {
      "text/plain": [
       "Data(edge_index=[2, 156], club=[34], weight=[156], name='Zachary's Karate Club', num_nodes=34)"
      ]
     },
     "execution_count": 10,
     "metadata": {},
     "output_type": "execute_result"
    }
   ],
   "source": [
    "data"
   ]
  },
  {
   "cell_type": "code",
   "execution_count": 16,
   "id": "a5aca879",
   "metadata": {},
   "outputs": [
    {
     "data": {
      "text/plain": [
       "tensor([[ 0,  0,  0,  0,  0,  0,  0,  0,  0,  0,  0,  0,  0,  0,  0,  0,  1,  1,\n",
       "          1,  1,  1,  1,  1,  1,  1,  2,  2,  2,  2,  2,  2,  2,  2,  2,  2,  3,\n",
       "          3,  3,  3,  3,  3,  4,  4,  4,  5,  5,  5,  5,  6,  6,  6,  6,  7,  7,\n",
       "          7,  7,  8,  8,  8,  8,  8,  9,  9, 10, 10, 10, 11, 12, 12, 13, 13, 13,\n",
       "         13, 13, 14, 14, 15, 15, 16, 16, 17, 17, 18, 18, 19, 19, 19, 20, 20, 21,\n",
       "         21, 22, 22, 23, 23, 23, 23, 23, 24, 24, 24, 25, 25, 25, 26, 26, 27, 27,\n",
       "         27, 27, 28, 28, 28, 29, 29, 29, 29, 30, 30, 30, 30, 31, 31, 31, 31, 31,\n",
       "         31, 32, 32, 32, 32, 32, 32, 32, 32, 32, 32, 32, 32, 33, 33, 33, 33, 33,\n",
       "         33, 33, 33, 33, 33, 33, 33, 33, 33, 33, 33, 33],\n",
       "        [ 1,  2,  3,  4,  5,  6,  7,  8, 10, 11, 12, 13, 17, 19, 21, 31,  0,  2,\n",
       "          3,  7, 13, 17, 19, 21, 30,  0,  1,  3,  7,  8,  9, 13, 27, 28, 32,  0,\n",
       "          1,  2,  7, 12, 13,  0,  6, 10,  0,  6, 10, 16,  0,  4,  5, 16,  0,  1,\n",
       "          2,  3,  0,  2, 30, 32, 33,  2, 33,  0,  4,  5,  0,  0,  3,  0,  1,  2,\n",
       "          3, 33, 32, 33, 32, 33,  5,  6,  0,  1, 32, 33,  0,  1, 33, 32, 33,  0,\n",
       "          1, 32, 33, 25, 27, 29, 32, 33, 25, 27, 31, 23, 24, 31, 29, 33,  2, 23,\n",
       "         24, 33,  2, 31, 33, 23, 26, 32, 33,  1,  8, 32, 33,  0, 24, 25, 28, 32,\n",
       "         33,  2,  8, 14, 15, 18, 20, 22, 23, 29, 30, 31, 33,  8,  9, 13, 14, 15,\n",
       "         18, 19, 20, 23, 26, 27, 28, 29, 30, 31, 32, 22]])"
      ]
     },
     "execution_count": 16,
     "metadata": {},
     "output_type": "execute_result"
    }
   ],
   "source": [
    "data.edge_index"
   ]
  },
  {
   "cell_type": "code",
   "execution_count": 14,
   "id": "53cb76fe",
   "metadata": {},
   "outputs": [
    {
     "data": {
      "text/plain": [
       "['Mr. Hi',\n",
       " 'Mr. Hi',\n",
       " 'Mr. Hi',\n",
       " 'Mr. Hi',\n",
       " 'Mr. Hi',\n",
       " 'Mr. Hi',\n",
       " 'Mr. Hi',\n",
       " 'Mr. Hi',\n",
       " 'Mr. Hi',\n",
       " 'Officer',\n",
       " 'Mr. Hi',\n",
       " 'Mr. Hi',\n",
       " 'Mr. Hi',\n",
       " 'Mr. Hi',\n",
       " 'Officer',\n",
       " 'Officer',\n",
       " 'Mr. Hi',\n",
       " 'Mr. Hi',\n",
       " 'Officer',\n",
       " 'Mr. Hi',\n",
       " 'Officer',\n",
       " 'Mr. Hi',\n",
       " 'Officer',\n",
       " 'Officer',\n",
       " 'Officer',\n",
       " 'Officer',\n",
       " 'Officer',\n",
       " 'Officer',\n",
       " 'Officer',\n",
       " 'Officer',\n",
       " 'Officer',\n",
       " 'Officer',\n",
       " 'Officer',\n",
       " 'Officer']"
      ]
     },
     "execution_count": 14,
     "metadata": {},
     "output_type": "execute_result"
    }
   ],
   "source": [
    "data.club"
   ]
  },
  {
   "cell_type": "code",
   "execution_count": 18,
   "id": "ade8f7d7",
   "metadata": {},
   "outputs": [],
   "source": [
    "data.x"
   ]
  },
  {
   "cell_type": "code",
   "execution_count": 12,
   "id": "b33030c0",
   "metadata": {},
   "outputs": [
    {
     "data": {
      "text/plain": [
       "torch.Size([156])"
      ]
     },
     "execution_count": 12,
     "metadata": {},
     "output_type": "execute_result"
    }
   ],
   "source": [
    "data.weight.shape"
   ]
  },
  {
   "cell_type": "code",
   "execution_count": 19,
   "id": "db006fc3",
   "metadata": {},
   "outputs": [
    {
     "ename": "ImportError",
     "evalue": "cannot import name 'ClusterData' from 'torch_geometric.transforms' (/Users/minkexiu/opt/miniforge3/lib/python3.9/site-packages/torch_geometric/transforms/__init__.py)",
     "output_type": "error",
     "traceback": [
      "\u001b[0;31m---------------------------------------------------------------------------\u001b[0m",
      "\u001b[0;31mImportError\u001b[0m                               Traceback (most recent call last)",
      "Input \u001b[0;32mIn [19]\u001b[0m, in \u001b[0;36m<cell line: 2>\u001b[0;34m()\u001b[0m\n\u001b[1;32m      1\u001b[0m \u001b[38;5;28;01mfrom\u001b[39;00m \u001b[38;5;21;01mtorch_geometric\u001b[39;00m\u001b[38;5;21;01m.\u001b[39;00m\u001b[38;5;21;01mutils\u001b[39;00m \u001b[38;5;28;01mimport\u001b[39;00m degree, to_undirected\n\u001b[0;32m----> 2\u001b[0m \u001b[38;5;28;01mfrom\u001b[39;00m \u001b[38;5;21;01mtorch_geometric\u001b[39;00m\u001b[38;5;21;01m.\u001b[39;00m\u001b[38;5;21;01mtransforms\u001b[39;00m \u001b[38;5;28;01mimport\u001b[39;00m ClusterData\n\u001b[1;32m      4\u001b[0m \u001b[38;5;66;03m# Convert the graph to an undirected graph, so we can aggregate neighbors in both directions.\u001b[39;00m\n\u001b[1;32m      5\u001b[0m G \u001b[38;5;241m=\u001b[39m to_undirected(G)\n",
      "\u001b[0;31mImportError\u001b[0m: cannot import name 'ClusterData' from 'torch_geometric.transforms' (/Users/minkexiu/opt/miniforge3/lib/python3.9/site-packages/torch_geometric/transforms/__init__.py)"
     ]
    }
   ],
   "source": [
    "from torch_geometric.utils import degree, to_undirected\n",
    "from torch_geometric.transforms import ClusterData\n",
    "\n",
    "# Convert the graph to an undirected graph, so we can aggregate neighbors in both directions.\n",
    "G = to_undirected(G)\n",
    "\n",
    "# Compute the degree of each node.\n",
    "deg = degree(data.edge_index[0], num_nodes=data.num_nodes)\n",
    "\n",
    "# Use METIS algorithm to partition the graph into multiple subgraphs.\n",
    "cluster_data = ClusterData(data, num_parts=2, recursive=False, transform=NormalizeFeatures(),\n",
    "                           degree=deg)\n",
    "\n",
    "# 作者：实力\n",
    "# 链接：https://juejin.cn/post/7225053568152518714\n",
    "# 来源：稀土掘金\n",
    "# 著作权归作者所有。商业转载请联系作者获得授权，非商业转载请注明出处。"
   ]
  },
  {
   "cell_type": "code",
   "execution_count": null,
   "id": "9c397c9e",
   "metadata": {},
   "outputs": [],
   "source": []
  },
  {
   "cell_type": "code",
   "execution_count": null,
   "id": "2129f337",
   "metadata": {},
   "outputs": [],
   "source": []
  },
  {
   "cell_type": "code",
   "execution_count": 21,
   "id": "0388546a",
   "metadata": {},
   "outputs": [
    {
     "name": "stdout",
     "output_type": "stream",
     "text": [
      "zsh:1: no matches found: stellargraph[demos]\r\n"
     ]
    }
   ],
   "source": [
    "!pip install stellargraph[demos]"
   ]
  },
  {
   "cell_type": "code",
   "execution_count": 22,
   "id": "03e3900f",
   "metadata": {},
   "outputs": [
    {
     "name": "stdout",
     "output_type": "stream",
     "text": [
      "Collecting package metadata (current_repodata.json): done\n",
      "Solving environment: \\ \n",
      "The environment is inconsistent, please check the package plan carefully\n",
      "The following packages are causing the inconsistency:\n",
      "\n",
      "  - conda-forge/noarch::blinker==1.4=py_1\n",
      "  - conda-forge/noarch::requests==2.27.1=pyhd8ed1ab_0\n",
      "  - conda-forge/noarch::prompt_toolkit==3.0.27=hd8ed1ab_0\n",
      "  - conda-forge/noarch::google-auth-oauthlib==0.4.6=pyhd8ed1ab_0\n",
      "  - conda-forge/noarch::pyasn1-modules==0.2.7=py_0\n",
      "  - conda-forge/noarch::nbformat==5.1.3=pyhd8ed1ab_0\n",
      "  - conda-forge/noarch::six==1.16.0=pyh6c4a22f_0\n",
      "  - conda-forge/noarch::flit-core==3.7.1=pyhd8ed1ab_0\n",
      "  - conda-forge/noarch::charset-normalizer==2.0.12=pyhd8ed1ab_0\n",
      "  - conda-forge/noarch::pyparsing==3.0.7=pyhd8ed1ab_0\n",
      "  - conda-forge/noarch::pure_eval==0.2.2=pyhd8ed1ab_0\n",
      "  - conda-forge/noarch::gast==0.4.0=pyh9f0ad1d_0\n",
      "  - conda-forge/noarch::typing_extensions==4.2.0=pyha770c72_1\n",
      "  - conda-forge/osx-arm64::tensorflow-base==2.7.0=cpu_py39hbdae8f9_0\n",
      "  - conda-forge/noarch::tensorboard-plugin-wit==1.8.1=pyhd8ed1ab_0\n",
      "  - conda-forge/noarch::jsonschema==4.4.0=pyhd8ed1ab_0\n",
      "  - conda-forge/noarch::google-pasta==0.2.0=pyh8c360ce_0\n",
      "  - conda-forge/noarch::bleach==4.1.0=pyhd8ed1ab_0\n",
      "  - conda-forge/noarch::attrs==21.4.0=pyhd8ed1ab_0\n",
      "  - conda-forge/noarch::send2trash==1.8.0=pyhd8ed1ab_0\n",
      "  - conda-forge/noarch::python-flatbuffers==2.0=pyhd8ed1ab_0\n",
      "  - conda-forge/noarch::jupyterlab_pygments==0.1.2=pyh9f0ad1d_0\n",
      "  - conda-forge/osx-arm64::jupyter_core==4.9.2=py39h2804cbe_0\n",
      "  - conda-forge/osx-arm64::jedi==0.18.1=py39h2804cbe_0\n",
      "  - conda-forge/noarch::backcall==0.2.0=pyh9f0ad1d_0\n",
      "  - conda-forge/noarch::python-dateutil==2.8.2=pyhd8ed1ab_0\n",
      "  - conda-forge/osx-arm64::ipykernel==6.9.1=py39h32adebf_0\n",
      "  - conda-forge/noarch::cached_property==1.5.2=pyha770c72_1\n",
      "  - conda-forge/noarch::testpath==0.6.0=pyhd8ed1ab_0\n",
      "  - conda-forge/noarch::nest-asyncio==1.5.4=pyhd8ed1ab_0\n",
      "  - conda-forge/osx-arm64::jupyter==1.0.0=py39h2804cbe_7\n",
      "  - conda-forge/noarch::ptyprocess==0.7.0=pyhd3deb0d_0\n",
      "  - conda-forge/noarch::oauthlib==3.2.0=pyhd8ed1ab_0\n",
      "  - conda-forge/noarch::pygments==2.11.2=pyhd8ed1ab_0\n",
      "  - conda-forge/noarch::pyasn1==0.4.8=py_0\n",
      "  - conda-forge/noarch::pickleshare==0.7.5=py_1003\n",
      "  - conda-forge/noarch::packaging==21.3=pyhd8ed1ab_0\n",
      "  - conda-forge/noarch::cached-property==1.5.2=hd8ed1ab_1\n",
      "  - conda-forge/osx-arm64::tensorboard-data-server==0.6.0=py39hbe5e4b8_2\n",
      "  - conda-forge/noarch::pandocfilters==1.5.0=pyhd8ed1ab_0\n",
      "  - conda-forge/noarch::werkzeug==2.1.2=pyhd8ed1ab_1\n",
      "  - conda-forge/osx-arm64::multidict==6.0.2=py39hb18efdd_1\n",
      "  - conda-forge/noarch::ipywidgets==7.6.5=pyhd8ed1ab_0\n",
      "  - conda-forge/noarch::wheel==0.37.1=pyhd8ed1ab_0\n",
      "  - conda-forge/noarch::typing-extensions==4.2.0=hd8ed1ab_1\n",
      "  - conda-forge/osx-arm64::sqlite==3.37.0=h72a2b83_0\n",
      "  - conda-forge/noarch::prompt-toolkit==3.0.27=pyha770c72_0\n",
      "  - conda-forge/osx-arm64::readline==8.1=hedafd6a_0\n",
      "  - conda-forge/osx-arm64::markupsafe==2.1.0=py39hb18efdd_1\n",
      "  - conda-forge/noarch::backports==1.0=py_2\n",
      "  - conda-forge/osx-arm64::mistune==0.8.4=py39h5161555_1005\n",
      "  - conda-forge/noarch::webencodings==0.5.1=py_1\n",
      "  - conda-forge/noarch::urllib3==1.26.8=pyhd8ed1ab_1\n",
      "  - apple/osx-arm64::tensorflow-deps==2.8.0=0\n",
      "  - conda-forge/noarch::jinja2==3.0.3=pyhd8ed1ab_0\n",
      "  - conda-forge/osx-arm64::certifi==2021.10.8=py39h2804cbe_2\n",
      "  - conda-forge/noarch::stack_data==0.2.0=pyhd8ed1ab_0\n",
      "  - conda-forge/osx-arm64::importlib-metadata==4.11.2=py39h2804cbe_0\n",
      "  - conda-forge/noarch::pyjwt==2.4.0=pyhd8ed1ab_0\n",
      "  - conda-forge/noarch::colorama==0.4.4=pyh9f0ad1d_0\n",
      "  - conda-forge/osx-arm64::grpcio==1.42.0=py39h9e1b6db_0\n",
      "  - conda-forge/noarch::rsa==4.8=pyhd8ed1ab_0\n",
      "  - conda-forge/noarch::zipp==3.7.0=pyhd8ed1ab_1\n",
      "  - conda-forge/noarch::prometheus_client==0.13.1=pyhd8ed1ab_0\n",
      "  - conda-forge/noarch::jupyter_console==6.4.3=pyhd8ed1ab_0\n",
      "  - conda-forge/osx-arm64::cffi==1.15.0=py39h52b1de0_0\n",
      "  - conda-forge/osx-arm64::yarl==1.7.2=py39hb18efdd_2\n",
      "  - conda-forge/osx-arm64::nbconvert==6.4.2=py39h2804cbe_0\n",
      "  - conda-forge/noarch::argon2-cffi==21.3.0=pyhd8ed1ab_0\n",
      "  - conda-forge/osx-arm64::pyzmq==22.3.0=py39h02c6a76_1\n",
      "  - conda-forge/noarch::async-timeout==4.0.2=pyhd8ed1ab_0\n",
      "  - conda-forge/noarch::defusedxml==0.7.1=pyhd8ed1ab_0\n",
      "  - conda-forge/noarch::pyopenssl==22.0.0=pyhd8ed1ab_0\n",
      "  - conda-forge/noarch::keras-preprocessing==1.1.2=pyhd8ed1ab_0\n",
      "  - conda-forge/osx-arm64::debugpy==1.5.1=py39hfb83b0d_0\n",
      "  - conda-forge/noarch::termcolor==1.1.0=py_2\n",
      "  - conda-forge/osx-arm64::scipy==1.8.0=py39h5060c3b_1\n",
      "  - conda-forge/osx-arm64::pysocks==1.7.1=py39h2804cbe_4\n",
      "  - conda-forge/noarch::requests-oauthlib==1.3.1=pyhd8ed1ab_0\n",
      "  - conda-forge/osx-arm64::frozenlist==1.3.0=py39hb18efdd_1\n",
      "  - conda-forge/noarch::asttokens==2.0.5=pyhd8ed1ab_0\n",
      "  - conda-forge/noarch::absl-py==1.0.0=pyhd8ed1ab_0\n",
      "  - conda-forge/osx-arm64::conda-package-handling==1.7.3=py39h5161555_1\n",
      "  - conda-forge/noarch::importlib_resources==5.4.0=pyhd8ed1ab_0\n",
      "  - conda-forge/noarch::nbclient==0.5.12=pyhd8ed1ab_0\n",
      "  - conda-forge/osx-arm64::argon2-cffi-bindings==21.2.0=py39h5161555_1\n",
      "  - conda-forge/osx-arm64::click==8.1.3=py39h2804cbe_0\n",
      "  - conda-forge/noarch::astunparse==1.6.3=pyhd8ed1ab_0\n",
      "  - conda-forge/noarch::idna==3.3=pyhd8ed1ab_0\n",
      "  - conda-forge/osx-arm64::wrapt==1.14.1=py39h9eb174b_0\n",
      "  - conda-forge/osx-arm64::numpy==1.21.5=py39h47fb9ce_0\n",
      "  - conda-forge/noarch::opt_einsum==3.3.0=pyhd8ed1ab_1\n",
      "  - conda-forge/noarch::keras==2.7.0=pyhd8ed1ab_0\n",
      "  - conda-forge/noarch::notebook==6.4.8=pyha770c72_0\n",
      "  - conda-forge/osx-arm64::protobuf==3.19.4=py39hfb83b0d_0\n",
      "  - conda-forge/osx-arm64::aiohttp==3.8.1=py39hb18efdd_1\n",
      "  - conda-forge/noarch::tensorboard==2.6.0=pyhd8ed1ab_1\n",
      "  - conda-forge/noarch::markdown==3.3.7=pyhd8ed1ab_0\n",
      "  - conda-forge/noarch::pip==22.0.3=pyhd8ed1ab_0\n",
      "  - conda-forge/noarch::wcwidth==0.2.5=pyh9f0ad1d_2\n",
      "  - conda-forge/noarch::jupyterlab_widgets==1.0.2=pyhd8ed1ab_0\n",
      "  - conda-forge/osx-arm64::brotlipy==0.7.0=py39h5161555_1003\n",
      "  - conda-forge/osx-arm64::tornado==6.1=py39h5161555_2\n",
      "  - conda-forge/osx-arm64::ruamel_yaml==0.15.80=py39h5161555_1006\n",
      "  - conda-forge/osx-arm64::python==3.9.10=hd16f9c5_2_cpython\n",
      "  - conda-forge/osx-arm64::conda==4.12.0=py39h2804cbe_0\n",
      "  - conda-forge/osx-arm64::python_abi==3.9=2_cp39\n",
      "  - conda-forge/osx-arm64::tensorflow-estimator==2.7.0=cpu_py39h91c69d6_0\n",
      "  - conda-forge/osx-arm64::pyrsistent==0.18.1=py39h5161555_0\n",
      "  - conda-forge/noarch::executing==0.8.3=pyhd8ed1ab_0\n",
      "  - conda-forge/osx-arm64::widgetsnbextension==3.5.2=py39h2804cbe_1\n",
      "  - conda-forge/noarch::decorator==5.1.1=pyhd8ed1ab_0\n",
      "  - conda-forge/noarch::tqdm==4.62.3=pyhd8ed1ab_0\n",
      "  - conda-forge/noarch::cachetools==4.2.4=pyhd8ed1ab_0\n",
      "  - conda-forge/noarch::pexpect==4.8.0=pyh9f0ad1d_2\n",
      "  - conda-forge/osx-arm64::ipython==8.1.1=py39h2804cbe_0\n",
      "  - conda-forge/noarch::google-auth==1.35.0=pyh6c4a22f_0\n",
      "  - conda-forge/osx-arm64::pycosat==0.6.3=py39h5161555_1009\n",
      "  - conda-forge/noarch::ipython_genutils==0.2.0=py_1\n",
      "  - conda-forge/osx-arm64::h5py==3.6.0=nompi_py39hd982b79_100\n",
      "  - conda-forge/osx-arm64::cryptography==36.0.1=py39hfb8cd70_0\n",
      "  - conda-forge/osx-arm64::tensorflow==2.7.0=cpu_py39h2839aeb_0\n",
      "  - conda-forge/osx-arm64::appnope==0.1.2=py39h2804cbe_2\n",
      "  - conda-forge/noarch::matplotlib-inline==0.1.3=pyhd8ed1ab_0\n",
      "  - conda-forge/noarch::aiosignal==1.2.0=pyhd8ed1ab_0\n",
      "  - conda-forge/noarch::backports.functools_lru_cache==1.6.4=pyhd8ed1ab_0\n",
      "  - conda-forge/noarch::jupyter_client==7.1.2=pyhd8ed1ab_0\n",
      "  - conda-forge/noarch::pycparser==2.21=pyhd8ed1ab_0\n",
      "  - conda-forge/noarch::entrypoints==0.4=pyhd8ed1ab_0\n",
      "  - conda-forge/noarch::parso==0.8.3=pyhd8ed1ab_0\n",
      "  - conda-forge/osx-arm64::terminado==0.13.3=py39h2804cbe_0\n",
      "  - conda-forge/osx-arm64::setuptools==60.9.3=py39h2804cbe_0\n",
      "  - conda-forge/noarch::pyu2f==0.1.5=pyhd8ed1ab_0\n",
      "  - conda-forge/noarch::traitlets==5.1.1=pyhd8ed1ab_0\n",
      "failed with initial frozen solve. Retrying with flexible solve.\n",
      "Solving environment: failed with repodata from current_repodata.json, will retry with next repodata source.\n",
      "Collecting package metadata (repodata.json): done\n",
      "Solving environment: done\n",
      "\n",
      "\n",
      "==> WARNING: A newer version of conda exists. <==\n",
      "  current version: 4.12.0\n",
      "  latest version: 23.10.0\n",
      "\n",
      "Please update conda by running\n",
      "\n",
      "    $ conda update -n base conda\n",
      "\n",
      "\n"
     ]
    },
    {
     "name": "stdout",
     "output_type": "stream",
     "text": [
      "\r\n",
      "## Package Plan ##\r\n",
      "\r\n",
      "  environment location: /Users/minkexiu/opt/miniforge3\r\n",
      "\r\n",
      "  added / updated specs:\r\n",
      "    - stellargraph\r\n",
      "\r\n",
      "\r\n",
      "The following packages will be downloaded:\r\n",
      "\r\n",
      "    package                    |            build\r\n",
      "    ---------------------------|-----------------\r\n",
      "    boltons-23.0.0             |   py39hca03da5_0         429 KB  https://mirrors.tuna.tsinghua.edu.cn/anaconda/pkgs/main\r\n",
      "    bottleneck-1.3.5           |   py39heec5a64_0         100 KB  https://mirrors.tuna.tsinghua.edu.cn/anaconda/pkgs/main\r\n",
      "    brotli-1.0.9               |       h1a28f6b_7          18 KB  https://mirrors.tuna.tsinghua.edu.cn/anaconda/pkgs/main\r\n",
      "    brotli-bin-1.0.9           |       h1a28f6b_7          17 KB  https://mirrors.tuna.tsinghua.edu.cn/anaconda/pkgs/main\r\n",
      "    ca-certificates-2023.08.22 |       hca03da5_0         124 KB  https://mirrors.tuna.tsinghua.edu.cn/anaconda/pkgs/main\r\n",
      "    certifi-2023.7.22          |   py39hca03da5_0         154 KB  https://mirrors.tuna.tsinghua.edu.cn/anaconda/pkgs/main\r\n",
      "    conda-23.3.1               |   py39hca03da5_0         963 KB  https://mirrors.tuna.tsinghua.edu.cn/anaconda/pkgs/main\r\n",
      "    cycler-0.11.0              |     pyhd3eb1b0_0          12 KB  https://mirrors.tuna.tsinghua.edu.cn/anaconda/pkgs/main\r\n",
      "    cython-3.0.0               |   py39h80987f9_0         3.0 MB  https://mirrors.tuna.tsinghua.edu.cn/anaconda/pkgs/main\r\n",
      "    fonttools-4.25.0           |     pyhd3eb1b0_0         632 KB  https://mirrors.tuna.tsinghua.edu.cn/anaconda/pkgs/main\r\n",
      "    freetype-2.11.0            |       h1192e45_0         567 KB  https://mirrors.tuna.tsinghua.edu.cn/anaconda/pkgs/main\r\n",
      "    gensim-4.1.2               |   py39hc377ac9_0        18.2 MB  https://mirrors.tuna.tsinghua.edu.cn/anaconda/pkgs/main\r\n",
      "    joblib-1.2.0               |   py39hca03da5_0         391 KB  https://mirrors.tuna.tsinghua.edu.cn/anaconda/pkgs/main\r\n",
      "    jsonpatch-1.32             |     pyhd3eb1b0_0          15 KB  https://mirrors.tuna.tsinghua.edu.cn/anaconda/pkgs/main\r\n",
      "    jsonpointer-2.1            |     pyhd3eb1b0_0           9 KB  https://mirrors.tuna.tsinghua.edu.cn/anaconda/pkgs/main\r\n",
      "    kiwisolver-1.4.2           |   py39hc377ac9_0          54 KB  https://mirrors.tuna.tsinghua.edu.cn/anaconda/pkgs/main\r\n",
      "    lcms2-2.12                 |       hba8e193_0         273 KB  https://mirrors.tuna.tsinghua.edu.cn/anaconda/pkgs/main\r\n",
      "    libbrotlicommon-1.0.9      |       h1a28f6b_7          70 KB  https://mirrors.tuna.tsinghua.edu.cn/anaconda/pkgs/main\r\n",
      "    libbrotlidec-1.0.9         |       h1a28f6b_7          27 KB  https://mirrors.tuna.tsinghua.edu.cn/anaconda/pkgs/main\r\n",
      "    libbrotlienc-1.0.9         |       h1a28f6b_7         256 KB  https://mirrors.tuna.tsinghua.edu.cn/anaconda/pkgs/main\r\n",
      "    libtiff-4.2.0              |       h11e2f9f_0         461 KB  https://mirrors.tuna.tsinghua.edu.cn/anaconda/pkgs/main\r\n",
      "    libwebp-1.2.4              |       ha3663a8_1          86 KB  https://mirrors.tuna.tsinghua.edu.cn/anaconda/pkgs/main\r\n",
      "    libwebp-base-1.2.4         |       h80987f9_1         293 KB  https://mirrors.tuna.tsinghua.edu.cn/anaconda/pkgs/main\r\n",
      "    lz4-c-1.9.3                |       hc377ac9_0         126 KB  https://mirrors.tuna.tsinghua.edu.cn/anaconda/pkgs/main\r\n",
      "    matplotlib-3.5.2           |   py39hca03da5_0           7 KB  https://mirrors.tuna.tsinghua.edu.cn/anaconda/pkgs/main\r\n",
      "    matplotlib-base-3.5.2      |   py39hc377ac9_0         5.6 MB  https://mirrors.tuna.tsinghua.edu.cn/anaconda/pkgs/main\r\n",
      "    munkres-1.1.4              |             py_0          13 KB  https://mirrors.tuna.tsinghua.edu.cn/anaconda/pkgs/main\r\n",
      "    networkx-3.1               |   py39hca03da5_0         2.7 MB  https://mirrors.tuna.tsinghua.edu.cn/anaconda/pkgs/main\r\n",
      "    numexpr-2.8.3              |   py39h144ceef_0         110 KB  https://mirrors.tuna.tsinghua.edu.cn/anaconda/pkgs/main\r\n",
      "    openssl-1.1.1w             |       h1a28f6b_0         3.1 MB  https://mirrors.tuna.tsinghua.edu.cn/anaconda/pkgs/main\r\n",
      "    pandas-1.4.4               |   py39hc377ac9_0         9.4 MB  https://mirrors.tuna.tsinghua.edu.cn/anaconda/pkgs/main\r\n",
      "    pillow-9.0.1               |   py39h4d1bdd5_0         585 KB  https://mirrors.tuna.tsinghua.edu.cn/anaconda/pkgs/main\r\n",
      "    pluggy-1.0.0               |   py39hca03da5_1          26 KB  https://mirrors.tuna.tsinghua.edu.cn/anaconda/pkgs/main\r\n",
      "    pytz-2023.3.post1          |   py39hca03da5_0         215 KB  https://mirrors.tuna.tsinghua.edu.cn/anaconda/pkgs/main\r\n",
      "    ruamel.yaml-0.17.21        |   py39h1a28f6b_0         178 KB  https://mirrors.tuna.tsinghua.edu.cn/anaconda/pkgs/main\r\n",
      "    ruamel.yaml.clib-0.2.6     |   py39h1a28f6b_1         116 KB  https://mirrors.tuna.tsinghua.edu.cn/anaconda/pkgs/main\r\n",
      "    scikit-learn-1.1.1         |   py39hc377ac9_0         5.6 MB  https://mirrors.tuna.tsinghua.edu.cn/anaconda/pkgs/main\r\n",
      "    smart_open-5.2.1           |   py39hca03da5_0          76 KB  https://mirrors.tuna.tsinghua.edu.cn/anaconda/pkgs/main\r\n",
      "    stellargraph-1.2.1         |             py_0         9.3 MB  stellargraph\r\n",
      "    threadpoolctl-2.2.0        |     pyh0d69192_0          16 KB  https://mirrors.tuna.tsinghua.edu.cn/anaconda/pkgs/main\r\n",
      "    toolz-0.12.0               |   py39hca03da5_0         106 KB  https://mirrors.tuna.tsinghua.edu.cn/anaconda/pkgs/main\r\n",
      "    zstd-1.4.9                 |       h8574219_1         405 KB  https://mirrors.tuna.tsinghua.edu.cn/anaconda/pkgs/main\r\n",
      "    ------------------------------------------------------------\r\n",
      "                                           Total:        63.8 MB\r\n",
      "\r\n",
      "The following NEW packages will be INSTALLED:\r\n",
      "\r\n",
      "  boltons            anaconda/pkgs/main/osx-arm64::boltons-23.0.0-py39hca03da5_0\r\n",
      "  bottleneck         anaconda/pkgs/main/osx-arm64::bottleneck-1.3.5-py39heec5a64_0\r\n",
      "  brotli             anaconda/pkgs/main/osx-arm64::brotli-1.0.9-h1a28f6b_7\r\n",
      "  brotli-bin         anaconda/pkgs/main/osx-arm64::brotli-bin-1.0.9-h1a28f6b_7\r\n",
      "  cycler             anaconda/pkgs/main/noarch::cycler-0.11.0-pyhd3eb1b0_0\r\n",
      "  cython             anaconda/pkgs/main/osx-arm64::cython-3.0.0-py39h80987f9_0\r\n",
      "  fonttools          anaconda/pkgs/main/noarch::fonttools-4.25.0-pyhd3eb1b0_0\r\n",
      "  freetype           anaconda/pkgs/main/osx-arm64::freetype-2.11.0-h1192e45_0\r\n",
      "  gensim             anaconda/pkgs/main/osx-arm64::gensim-4.1.2-py39hc377ac9_0\r\n",
      "  joblib             anaconda/pkgs/main/osx-arm64::joblib-1.2.0-py39hca03da5_0\r\n",
      "  jsonpatch          anaconda/pkgs/main/noarch::jsonpatch-1.32-pyhd3eb1b0_0\r\n",
      "  jsonpointer        anaconda/pkgs/main/noarch::jsonpointer-2.1-pyhd3eb1b0_0\r\n",
      "  kiwisolver         anaconda/pkgs/main/osx-arm64::kiwisolver-1.4.2-py39hc377ac9_0\r\n",
      "  lcms2              anaconda/pkgs/main/osx-arm64::lcms2-2.12-hba8e193_0\r\n",
      "  libbrotlicommon    anaconda/pkgs/main/osx-arm64::libbrotlicommon-1.0.9-h1a28f6b_7\r\n",
      "  libbrotlidec       anaconda/pkgs/main/osx-arm64::libbrotlidec-1.0.9-h1a28f6b_7\r\n",
      "  libbrotlienc       anaconda/pkgs/main/osx-arm64::libbrotlienc-1.0.9-h1a28f6b_7\r\n",
      "  libtiff            anaconda/pkgs/main/osx-arm64::libtiff-4.2.0-h11e2f9f_0\r\n",
      "  libwebp            anaconda/pkgs/main/osx-arm64::libwebp-1.2.4-ha3663a8_1\r\n",
      "  libwebp-base       anaconda/pkgs/main/osx-arm64::libwebp-base-1.2.4-h80987f9_1\r\n",
      "  lz4-c              anaconda/pkgs/main/osx-arm64::lz4-c-1.9.3-hc377ac9_0\r\n",
      "  matplotlib         anaconda/pkgs/main/osx-arm64::matplotlib-3.5.2-py39hca03da5_0\r\n",
      "  matplotlib-base    anaconda/pkgs/main/osx-arm64::matplotlib-base-3.5.2-py39hc377ac9_0\r\n",
      "  munkres            anaconda/pkgs/main/noarch::munkres-1.1.4-py_0\r\n",
      "  networkx           anaconda/pkgs/main/osx-arm64::networkx-3.1-py39hca03da5_0\r\n",
      "  numexpr            anaconda/pkgs/main/osx-arm64::numexpr-2.8.3-py39h144ceef_0\r\n",
      "  pandas             anaconda/pkgs/main/osx-arm64::pandas-1.4.4-py39hc377ac9_0\r\n",
      "  pillow             anaconda/pkgs/main/osx-arm64::pillow-9.0.1-py39h4d1bdd5_0\r\n",
      "  pluggy             anaconda/pkgs/main/osx-arm64::pluggy-1.0.0-py39hca03da5_1\r\n",
      "  pytz               anaconda/pkgs/main/osx-arm64::pytz-2023.3.post1-py39hca03da5_0\r\n",
      "  ruamel.yaml        anaconda/pkgs/main/osx-arm64::ruamel.yaml-0.17.21-py39h1a28f6b_0\r\n",
      "  ruamel.yaml.clib   anaconda/pkgs/main/osx-arm64::ruamel.yaml.clib-0.2.6-py39h1a28f6b_1\r\n",
      "  scikit-learn       anaconda/pkgs/main/osx-arm64::scikit-learn-1.1.1-py39hc377ac9_0\r\n",
      "  smart_open         anaconda/pkgs/main/osx-arm64::smart_open-5.2.1-py39hca03da5_0\r\n",
      "  stellargraph       stellargraph/noarch::stellargraph-1.2.1-py_0\r\n",
      "  threadpoolctl      anaconda/pkgs/main/noarch::threadpoolctl-2.2.0-pyh0d69192_0\r\n",
      "  toolz              anaconda/pkgs/main/osx-arm64::toolz-0.12.0-py39hca03da5_0\r\n",
      "  zstd               anaconda/pkgs/main/osx-arm64::zstd-1.4.9-h8574219_1\r\n",
      "\r\n",
      "The following packages will be UPDATED:\r\n",
      "\r\n",
      "  ca-certificates    conda-forge::ca-certificates-2021.10.~ --> anaconda/pkgs/main::ca-certificates-2023.08.22-hca03da5_0\r\n",
      "  certifi            conda-forge::certifi-2021.10.8-py39h2~ --> anaconda/pkgs/main::certifi-2023.7.22-py39hca03da5_0\r\n",
      "  conda              conda-forge::conda-4.12.0-py39h2804cb~ --> anaconda/pkgs/main::conda-23.3.1-py39hca03da5_0\r\n",
      "  openssl            conda-forge::openssl-1.1.1o-ha287fd2_0 --> anaconda/pkgs/main::openssl-1.1.1w-h1a28f6b_0\r\n",
      "\r\n",
      "\r\n",
      "Proceed ([y]/n)? "
     ]
    }
   ],
   "source": [
    "!conda install -c stellargraph stellargraph"
   ]
  },
  {
   "cell_type": "code",
   "execution_count": null,
   "id": "5ae74d8f",
   "metadata": {},
   "outputs": [],
   "source": []
  },
  {
   "cell_type": "code",
   "execution_count": null,
   "id": "13190db1",
   "metadata": {},
   "outputs": [],
   "source": []
  },
  {
   "cell_type": "code",
   "execution_count": null,
   "id": "64361c5d",
   "metadata": {},
   "outputs": [],
   "source": []
  },
  {
   "cell_type": "code",
   "execution_count": null,
   "id": "ecc058c0",
   "metadata": {},
   "outputs": [],
   "source": []
  },
  {
   "cell_type": "code",
   "execution_count": null,
   "id": "58a3fe26",
   "metadata": {},
   "outputs": [],
   "source": []
  },
  {
   "cell_type": "code",
   "execution_count": null,
   "id": "dcc0be20",
   "metadata": {},
   "outputs": [],
   "source": []
  },
  {
   "cell_type": "code",
   "execution_count": null,
   "id": "29f99e9e",
   "metadata": {},
   "outputs": [],
   "source": []
  },
  {
   "cell_type": "code",
   "execution_count": null,
   "id": "dae2adb9",
   "metadata": {},
   "outputs": [],
   "source": []
  },
  {
   "cell_type": "code",
   "execution_count": null,
   "id": "12f2197e",
   "metadata": {},
   "outputs": [],
   "source": []
  },
  {
   "cell_type": "code",
   "execution_count": 3,
   "id": "7c452059",
   "metadata": {},
   "outputs": [],
   "source": [
    "import torch\n",
    "from torch_geometric.data import Data\n",
    "\n",
    "\n",
    "x = torch.tensor([\n",
    "    [2,1], \n",
    "    [5,6], \n",
    "    [3,7], \n",
    "    [12,0]\n",
    "], dtype=torch.float)\n",
    "\n",
    "y = torch.tensor([0, 1, 0, 1], dtype=torch.float)\n",
    "\n",
    "edge_index = torch.tensor([[0, 2, 1, 0, 3],\n",
    "                           [3, 1, 0, 1, 2]], dtype=torch.long)\n",
    "\n",
    "\n",
    "data = Data(x=x, y=y, edge_index=edge_index)"
   ]
  },
  {
   "cell_type": "code",
   "execution_count": null,
   "id": "4b518ac6",
   "metadata": {},
   "outputs": [],
   "source": []
  },
  {
   "cell_type": "code",
   "execution_count": null,
   "id": "8f3b4661",
   "metadata": {},
   "outputs": [],
   "source": []
  },
  {
   "cell_type": "code",
   "execution_count": null,
   "id": "5ce0dbf6",
   "metadata": {},
   "outputs": [],
   "source": []
  },
  {
   "cell_type": "code",
   "execution_count": 2,
   "id": "cb0be725",
   "metadata": {},
   "outputs": [],
   "source": [
    "import numpy as np"
   ]
  },
  {
   "cell_type": "code",
   "execution_count": null,
   "id": "d4cefd0d",
   "metadata": {},
   "outputs": [],
   "source": [
    "2/0.1*(np.log(2**877-2)-np.log(0.01))"
   ]
  },
  {
   "cell_type": "code",
   "execution_count": null,
   "id": "2f9a56b4",
   "metadata": {},
   "outputs": [],
   "source": []
  }
 ],
 "metadata": {
  "kernelspec": {
   "display_name": "Python 3 (ipykernel)",
   "language": "python",
   "name": "python3"
  },
  "language_info": {
   "codemirror_mode": {
    "name": "ipython",
    "version": 3
   },
   "file_extension": ".py",
   "mimetype": "text/x-python",
   "name": "python",
   "nbconvert_exporter": "python",
   "pygments_lexer": "ipython3",
   "version": "3.12.0"
  },
  "toc": {
   "base_numbering": 1,
   "nav_menu": {},
   "number_sections": true,
   "sideBar": true,
   "skip_h1_title": false,
   "title_cell": "Table of Contents",
   "title_sidebar": "Contents",
   "toc_cell": false,
   "toc_position": {},
   "toc_section_display": true,
   "toc_window_display": false
  }
 },
 "nbformat": 4,
 "nbformat_minor": 5
}
