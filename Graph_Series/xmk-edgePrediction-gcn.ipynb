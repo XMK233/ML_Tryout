{
 "cells": [
  {
   "cell_type": "markdown",
   "id": "5acb4985",
   "metadata": {},
   "source": [
    "https://github.com/datawhalechina/team-learning-nlp/blob/master/GNN/Markdown%E7%89%88%E6%9C%AC/6-2-%E8%8A%82%E7%82%B9%E9%A2%84%E6%B5%8B%E4%B8%8E%E8%BE%B9%E9%A2%84%E6%B5%8B%E4%BB%BB%E5%8A%A1%E5%AE%9E%E8%B7%B5.md"
   ]
  },
  {
   "cell_type": "code",
   "execution_count": null,
   "id": "1061cd03",
   "metadata": {},
   "outputs": [],
   "source": []
  },
  {
   "cell_type": "code",
   "execution_count": 1,
   "id": "2a423dd9",
   "metadata": {},
   "outputs": [
    {
     "name": "stderr",
     "output_type": "stream",
     "text": [
      "/Users/minkexiu/opt/miniforge3/lib/python3.9/site-packages/requests/__init__.py:102: RequestsDependencyWarning: urllib3 (1.26.8) or chardet (5.2.0)/charset_normalizer (2.0.12) doesn't match a supported version!\n",
      "  warnings.warn(\"urllib3 ({}) or chardet ({})/charset_normalizer ({}) doesn't match a supported \"\n"
     ]
    }
   ],
   "source": [
    "import os.path as osp\n",
    "\n",
    "from torch_geometric.utils import negative_sampling\n",
    "from torch_geometric.datasets import Planetoid\n",
    "import torch_geometric.transforms as T\n",
    "from torch_geometric.utils import train_test_split_edges\n",
    "import torch.nn.functional as F\n",
    "from sklearn.metrics import roc_auc_score"
   ]
  },
  {
   "cell_type": "code",
   "execution_count": null,
   "id": "0e348b74",
   "metadata": {},
   "outputs": [],
   "source": [
    "dataset = Planetoid('dataset', 'Cora', transform=T.NormalizeFeatures())\n",
    "data = dataset[0]\n",
    "data.train_mask = data.val_mask = data.test_mask = data.y = None # 不再有用\n",
    "\n",
    "print(data.edge_index.shape)\n",
    "# torch.Size([2, 10556])\n",
    "\n",
    "data = train_test_split_edges(data)\n",
    "# data.sort(sort_by_row=False)\n",
    "\n",
    "for key in data.keys():\n",
    "    print(key, getattr(data, key).shape)\n",
    "\n",
    "# x torch.Size([2708, 1433])\n",
    "# val_pos_edge_index torch.Size([2, 263])\n",
    "# test_pos_edge_index torch.Size([2, 527])\n",
    "# train_pos_edge_index torch.Size([2, 8976])\n",
    "# train_neg_adj_mask torch.Size([2708, 2708])\n",
    "# val_neg_edge_index torch.Size([2, 263])\n",
    "# test_neg_edge_index torch.Size([2, 527])\n",
    "# 263 + 527 + 8976 = 9766 != 10556\n",
    "# 263 + 527 + 8976/2 = 5278 = 10556/2"
   ]
  },
  {
   "cell_type": "code",
   "execution_count": null,
   "id": "ea144b0e",
   "metadata": {},
   "outputs": [],
   "source": []
  },
  {
   "cell_type": "code",
   "execution_count": 2,
   "id": "f75fe158",
   "metadata": {},
   "outputs": [],
   "source": [
    "import torch\n",
    "from torch_geometric.nn import GCNConv, SAGEConv, GATConv\n",
    "\n",
    "class Net(torch.nn.Module):\n",
    "    def __init__(self, in_channels, out_channels):\n",
    "        super(Net, self).__init__()\n",
    "        self.conv1 = GCNConv(in_channels, 128) # SAGEConv(in_channels, 128, \"max\")\n",
    "        self.conv2 = GCNConv(128, out_channels) # SAGEConv(128, out_channels, \"max\")\n",
    "\n",
    "    def encode(self, x, edge_index):\n",
    "        x = self.conv1(x, edge_index)\n",
    "        x = x.relu()\n",
    "        return self.conv2(x, edge_index)\n",
    "\n",
    "    def decode(self, z, pos_edge_index, neg_edge_index):\n",
    "        edge_index = torch.cat([pos_edge_index, neg_edge_index], dim=-1)\n",
    "        return (z[edge_index[0]] * z[edge_index[1]]).sum(dim=-1)\n",
    "\n",
    "    def decode_all(self, z):\n",
    "        prob_adj = z @ z.t()\n",
    "        return (prob_adj > 0).nonzero(as_tuple=False).t()\n"
   ]
  },
  {
   "cell_type": "code",
   "execution_count": 3,
   "id": "b4c6662d",
   "metadata": {},
   "outputs": [],
   "source": [
    "def get_link_labels(pos_edge_index, neg_edge_index):\n",
    "    num_links = pos_edge_index.size(1) + neg_edge_index.size(1)\n",
    "    link_labels = torch.zeros(num_links, dtype=torch.float)\n",
    "    link_labels[:pos_edge_index.size(1)] = 1.\n",
    "    return link_labels\n",
    "\n",
    "def train(data, model, optimizer):\n",
    "    model.train()\n",
    "\n",
    "    neg_edge_index = negative_sampling(\n",
    "        edge_index=data.train_pos_edge_index,\n",
    "        num_nodes=data.num_nodes,\n",
    "        num_neg_samples=data.train_pos_edge_index.size(1))\n",
    "\n",
    "    optimizer.zero_grad()\n",
    "    z = model.encode(data.x, data.train_pos_edge_index)\n",
    "    link_logits = model.decode(z, data.train_pos_edge_index, neg_edge_index)\n",
    "    link_labels = get_link_labels(data.train_pos_edge_index, neg_edge_index).to(data.x.device)\n",
    "    loss = F.binary_cross_entropy_with_logits(link_logits, link_labels)\n",
    "    loss.backward()\n",
    "    optimizer.step()\n",
    "\n",
    "    return loss\n"
   ]
  },
  {
   "cell_type": "code",
   "execution_count": 4,
   "id": "f78340a8",
   "metadata": {},
   "outputs": [],
   "source": [
    "@torch.no_grad()\n",
    "def test(data, model):\n",
    "    model.eval()\n",
    "\n",
    "    z = model.encode(data.x, data.train_pos_edge_index)\n",
    "\n",
    "    results = []\n",
    "    for prefix in ['val', 'test']:\n",
    "        pos_edge_index = data[f'{prefix}_pos_edge_index']\n",
    "        neg_edge_index = data[f'{prefix}_neg_edge_index']\n",
    "        link_logits = model.decode(z, pos_edge_index, neg_edge_index)\n",
    "        link_probs = link_logits.sigmoid()\n",
    "        link_labels = get_link_labels(pos_edge_index, neg_edge_index)\n",
    "        results.append(roc_auc_score(link_labels.cpu(), link_probs.cpu()))\n",
    "    return results\n"
   ]
  },
  {
   "cell_type": "code",
   "execution_count": 5,
   "id": "19155d37",
   "metadata": {},
   "outputs": [
    {
     "name": "stderr",
     "output_type": "stream",
     "text": [
      "/Users/minkexiu/opt/miniforge3/lib/python3.9/site-packages/torch_geometric/deprecation.py:22: UserWarning: 'train_test_split_edges' is deprecated, use 'transforms.RandomLinkSplit' instead\n",
      "  warnings.warn(out)\n"
     ]
    },
    {
     "name": "stdout",
     "output_type": "stream",
     "text": [
      "Epoch: 001, Loss: 0.6930, Val: 0.6575, Test: 0.7050\n",
      "Epoch: 002, Loss: 0.6808, Val: 0.6504, Test: 0.7050\n",
      "Epoch: 003, Loss: 0.7211, Val: 0.6616, Test: 0.7016\n",
      "Epoch: 004, Loss: 0.6766, Val: 0.6911, Test: 0.7085\n",
      "Epoch: 005, Loss: 0.6851, Val: 0.7499, Test: 0.7423\n",
      "Epoch: 006, Loss: 0.6896, Val: 0.7637, Test: 0.7746\n",
      "Epoch: 007, Loss: 0.6910, Val: 0.6941, Test: 0.7746\n",
      "Epoch: 008, Loss: 0.6913, Val: 0.6535, Test: 0.7746\n",
      "Epoch: 009, Loss: 0.6906, Val: 0.6425, Test: 0.7746\n",
      "Epoch: 010, Loss: 0.6888, Val: 0.6426, Test: 0.7746\n",
      "Epoch: 011, Loss: 0.6853, Val: 0.6483, Test: 0.7746\n",
      "Epoch: 012, Loss: 0.6812, Val: 0.6528, Test: 0.7746\n",
      "Epoch: 013, Loss: 0.6809, Val: 0.6634, Test: 0.7746\n",
      "Epoch: 014, Loss: 0.6800, Val: 0.6766, Test: 0.7746\n",
      "Epoch: 015, Loss: 0.6750, Val: 0.6889, Test: 0.7746\n",
      "Epoch: 016, Loss: 0.6705, Val: 0.6964, Test: 0.7746\n",
      "Epoch: 017, Loss: 0.6675, Val: 0.6997, Test: 0.7746\n",
      "Epoch: 018, Loss: 0.6635, Val: 0.6978, Test: 0.7746\n",
      "Epoch: 019, Loss: 0.6582, Val: 0.6944, Test: 0.7746\n",
      "Epoch: 020, Loss: 0.6537, Val: 0.6957, Test: 0.7746\n",
      "Epoch: 021, Loss: 0.6496, Val: 0.7076, Test: 0.7746\n",
      "Epoch: 022, Loss: 0.6418, Val: 0.7362, Test: 0.7746\n",
      "Epoch: 023, Loss: 0.6349, Val: 0.7655, Test: 0.7352\n",
      "Epoch: 024, Loss: 0.6275, Val: 0.7786, Test: 0.7601\n",
      "Epoch: 025, Loss: 0.6154, Val: 0.7795, Test: 0.7701\n",
      "Epoch: 026, Loss: 0.6040, Val: 0.7783, Test: 0.7701\n",
      "Epoch: 027, Loss: 0.5958, Val: 0.7741, Test: 0.7701\n",
      "Epoch: 028, Loss: 0.5810, Val: 0.7694, Test: 0.7701\n",
      "Epoch: 029, Loss: 0.5707, Val: 0.7661, Test: 0.7701\n",
      "Epoch: 030, Loss: 0.5614, Val: 0.7607, Test: 0.7701\n",
      "Epoch: 031, Loss: 0.5576, Val: 0.7536, Test: 0.7701\n",
      "Epoch: 032, Loss: 0.5590, Val: 0.7569, Test: 0.7701\n",
      "Epoch: 033, Loss: 0.5578, Val: 0.7627, Test: 0.7701\n",
      "Epoch: 034, Loss: 0.5518, Val: 0.7682, Test: 0.7701\n",
      "Epoch: 035, Loss: 0.5428, Val: 0.7814, Test: 0.8033\n",
      "Epoch: 036, Loss: 0.5363, Val: 0.7955, Test: 0.8142\n",
      "Epoch: 037, Loss: 0.5215, Val: 0.8102, Test: 0.8240\n",
      "Epoch: 038, Loss: 0.5164, Val: 0.8237, Test: 0.8341\n",
      "Epoch: 039, Loss: 0.5106, Val: 0.8335, Test: 0.8444\n",
      "Epoch: 040, Loss: 0.4994, Val: 0.8424, Test: 0.8522\n",
      "Epoch: 041, Loss: 0.4952, Val: 0.8520, Test: 0.8567\n",
      "Epoch: 042, Loss: 0.4950, Val: 0.8620, Test: 0.8613\n",
      "Epoch: 043, Loss: 0.4855, Val: 0.8656, Test: 0.8663\n",
      "Epoch: 044, Loss: 0.4863, Val: 0.8650, Test: 0.8663\n",
      "Epoch: 045, Loss: 0.4826, Val: 0.8651, Test: 0.8663\n",
      "Epoch: 046, Loss: 0.4816, Val: 0.8655, Test: 0.8663\n",
      "Epoch: 047, Loss: 0.4800, Val: 0.8676, Test: 0.8712\n",
      "Epoch: 048, Loss: 0.4817, Val: 0.8675, Test: 0.8712\n",
      "Epoch: 049, Loss: 0.4759, Val: 0.8663, Test: 0.8712\n",
      "Epoch: 050, Loss: 0.4799, Val: 0.8653, Test: 0.8712\n",
      "Epoch: 051, Loss: 0.4727, Val: 0.8659, Test: 0.8712\n",
      "Epoch: 052, Loss: 0.4774, Val: 0.8681, Test: 0.8733\n",
      "Epoch: 053, Loss: 0.4745, Val: 0.8687, Test: 0.8748\n",
      "Epoch: 054, Loss: 0.4711, Val: 0.8695, Test: 0.8769\n",
      "Epoch: 055, Loss: 0.4720, Val: 0.8702, Test: 0.8780\n",
      "Epoch: 056, Loss: 0.4741, Val: 0.8728, Test: 0.8785\n",
      "Epoch: 057, Loss: 0.4703, Val: 0.8756, Test: 0.8783\n",
      "Epoch: 058, Loss: 0.4637, Val: 0.8778, Test: 0.8784\n",
      "Epoch: 059, Loss: 0.4693, Val: 0.8797, Test: 0.8804\n",
      "Epoch: 060, Loss: 0.4662, Val: 0.8807, Test: 0.8821\n",
      "Epoch: 061, Loss: 0.4715, Val: 0.8798, Test: 0.8821\n",
      "Epoch: 062, Loss: 0.4644, Val: 0.8802, Test: 0.8821\n",
      "Epoch: 063, Loss: 0.4677, Val: 0.8817, Test: 0.8840\n",
      "Epoch: 064, Loss: 0.4603, Val: 0.8843, Test: 0.8854\n",
      "Epoch: 065, Loss: 0.4669, Val: 0.8846, Test: 0.8870\n",
      "Epoch: 066, Loss: 0.4701, Val: 0.8828, Test: 0.8870\n",
      "Epoch: 067, Loss: 0.4619, Val: 0.8803, Test: 0.8870\n",
      "Epoch: 068, Loss: 0.4643, Val: 0.8804, Test: 0.8870\n",
      "Epoch: 069, Loss: 0.4657, Val: 0.8827, Test: 0.8870\n",
      "Epoch: 070, Loss: 0.4617, Val: 0.8837, Test: 0.8870\n",
      "Epoch: 071, Loss: 0.4650, Val: 0.8806, Test: 0.8870\n",
      "Epoch: 072, Loss: 0.4570, Val: 0.8785, Test: 0.8870\n",
      "Epoch: 073, Loss: 0.4571, Val: 0.8809, Test: 0.8870\n",
      "Epoch: 074, Loss: 0.4593, Val: 0.8824, Test: 0.8870\n",
      "Epoch: 075, Loss: 0.4610, Val: 0.8823, Test: 0.8870\n",
      "Epoch: 076, Loss: 0.4572, Val: 0.8814, Test: 0.8870\n",
      "Epoch: 077, Loss: 0.4583, Val: 0.8811, Test: 0.8870\n",
      "Epoch: 078, Loss: 0.4586, Val: 0.8821, Test: 0.8870\n",
      "Epoch: 079, Loss: 0.4643, Val: 0.8837, Test: 0.8870\n",
      "Epoch: 080, Loss: 0.4584, Val: 0.8858, Test: 0.8920\n",
      "Epoch: 081, Loss: 0.4492, Val: 0.8862, Test: 0.8921\n",
      "Epoch: 082, Loss: 0.4547, Val: 0.8852, Test: 0.8921\n",
      "Epoch: 083, Loss: 0.4591, Val: 0.8840, Test: 0.8921\n",
      "Epoch: 084, Loss: 0.4522, Val: 0.8851, Test: 0.8921\n",
      "Epoch: 085, Loss: 0.4540, Val: 0.8868, Test: 0.8953\n",
      "Epoch: 086, Loss: 0.4525, Val: 0.8897, Test: 0.8965\n",
      "Epoch: 087, Loss: 0.4510, Val: 0.8898, Test: 0.8974\n",
      "Epoch: 088, Loss: 0.4501, Val: 0.8892, Test: 0.8974\n",
      "Epoch: 089, Loss: 0.4454, Val: 0.8893, Test: 0.8974\n",
      "Epoch: 090, Loss: 0.4436, Val: 0.8915, Test: 0.8997\n",
      "Epoch: 091, Loss: 0.4485, Val: 0.8931, Test: 0.8991\n",
      "Epoch: 092, Loss: 0.4475, Val: 0.8929, Test: 0.8991\n",
      "Epoch: 093, Loss: 0.4501, Val: 0.8916, Test: 0.8991\n",
      "Epoch: 094, Loss: 0.4441, Val: 0.8909, Test: 0.8991\n",
      "Epoch: 095, Loss: 0.4505, Val: 0.8917, Test: 0.8991\n",
      "Epoch: 096, Loss: 0.4491, Val: 0.8944, Test: 0.8991\n",
      "Epoch: 097, Loss: 0.4453, Val: 0.8970, Test: 0.9006\n",
      "Epoch: 098, Loss: 0.4466, Val: 0.8970, Test: 0.9006\n",
      "Epoch: 099, Loss: 0.4452, Val: 0.8945, Test: 0.9006\n",
      "Epoch: 100, Loss: 0.4402, Val: 0.8945, Test: 0.9006\n"
     ]
    }
   ],
   "source": [
    "\n",
    "device = torch.device('cuda' if torch.cuda.is_available() else 'cpu')\n",
    "\n",
    "dataset = 'Cora'\n",
    "path = osp.join('..', 'data', dataset)\n",
    "dataset = Planetoid(path, dataset, transform=T.NormalizeFeatures())\n",
    "data = dataset[0]\n",
    "ground_truth_edge_index = data.edge_index.to(device)\n",
    "data.train_mask = data.val_mask = data.test_mask = data.y = None\n",
    "data = train_test_split_edges(data)\n",
    "data = data.to(device)\n",
    "\n",
    "model = Net(dataset.num_features, 64).to(device)\n",
    "optimizer = torch.optim.Adam(params=model.parameters(), lr=0.01)\n",
    "\n",
    "best_val_auc = test_auc = 0\n",
    "for epoch in range(1, 101):\n",
    "    loss = train(data, model, optimizer)\n",
    "    val_auc, tmp_test_auc = test(data, model)\n",
    "    if val_auc > best_val_auc:\n",
    "        best_val_auc = val_auc\n",
    "        test_auc = tmp_test_auc\n",
    "    print(f'Epoch: {epoch:03d}, Loss: {loss:.4f}, Val: {val_auc:.4f}, '\n",
    "          f'Test: {test_auc:.4f}')\n",
    "\n",
    "z = model.encode(data.x, data.train_pos_edge_index)\n",
    "final_edge_index = model.decode_all(z)\n"
   ]
  },
  {
   "cell_type": "code",
   "execution_count": 6,
   "id": "30055ed2",
   "metadata": {},
   "outputs": [],
   "source": [
    "# Epoch: 100, Loss: 0.4344, Val: 0.9281, Test: 0.8863 GraphSAGE mean\n",
    "# Epoch: 100, Loss: 0.4129, Val: 0.8898, Test: 0.8938 GraphSAGE max\n",
    "# Epoch: 100, Loss: 0.4421, Val: 0.9054, Test: 0.9134 GCN\n",
    "# Epoch: 100, Loss: 0.4439, Val: 0.9164, Test: 0.9056 GAT"
   ]
  },
  {
   "cell_type": "code",
   "execution_count": null,
   "id": "7997fcc9",
   "metadata": {},
   "outputs": [],
   "source": []
  },
  {
   "cell_type": "code",
   "execution_count": null,
   "id": "76b55551",
   "metadata": {},
   "outputs": [],
   "source": []
  },
  {
   "cell_type": "code",
   "execution_count": null,
   "id": "cc3b7edf",
   "metadata": {},
   "outputs": [],
   "source": []
  },
  {
   "cell_type": "code",
   "execution_count": null,
   "id": "4f57977c",
   "metadata": {},
   "outputs": [],
   "source": []
  },
  {
   "cell_type": "code",
   "execution_count": null,
   "id": "02c56569",
   "metadata": {},
   "outputs": [],
   "source": []
  },
  {
   "cell_type": "code",
   "execution_count": null,
   "id": "4846857b",
   "metadata": {},
   "outputs": [],
   "source": []
  },
  {
   "cell_type": "code",
   "execution_count": null,
   "id": "529712e4",
   "metadata": {},
   "outputs": [],
   "source": []
  },
  {
   "cell_type": "code",
   "execution_count": null,
   "id": "9715be9a",
   "metadata": {},
   "outputs": [],
   "source": []
  },
  {
   "cell_type": "code",
   "execution_count": null,
   "id": "9f81d031",
   "metadata": {},
   "outputs": [],
   "source": []
  },
  {
   "cell_type": "code",
   "execution_count": null,
   "id": "00bab3b8",
   "metadata": {},
   "outputs": [],
   "source": []
  },
  {
   "cell_type": "code",
   "execution_count": null,
   "id": "c695bbbf",
   "metadata": {},
   "outputs": [],
   "source": []
  },
  {
   "cell_type": "code",
   "execution_count": null,
   "id": "853301fd",
   "metadata": {},
   "outputs": [],
   "source": []
  },
  {
   "cell_type": "code",
   "execution_count": null,
   "id": "2ecc9c9f",
   "metadata": {},
   "outputs": [],
   "source": []
  },
  {
   "cell_type": "code",
   "execution_count": null,
   "id": "127f1195",
   "metadata": {},
   "outputs": [],
   "source": []
  },
  {
   "cell_type": "code",
   "execution_count": null,
   "id": "1f2ffc51",
   "metadata": {},
   "outputs": [],
   "source": []
  }
 ],
 "metadata": {
  "kernelspec": {
   "display_name": "Python 3 (ipykernel)",
   "language": "python",
   "name": "python3"
  },
  "language_info": {
   "codemirror_mode": {
    "name": "ipython",
    "version": 3
   },
   "file_extension": ".py",
   "mimetype": "text/x-python",
   "name": "python",
   "nbconvert_exporter": "python",
   "pygments_lexer": "ipython3",
   "version": "3.9.10"
  },
  "toc": {
   "base_numbering": 1,
   "nav_menu": {},
   "number_sections": true,
   "sideBar": true,
   "skip_h1_title": false,
   "title_cell": "Table of Contents",
   "title_sidebar": "Contents",
   "toc_cell": false,
   "toc_position": {},
   "toc_section_display": true,
   "toc_window_display": false
  }
 },
 "nbformat": 4,
 "nbformat_minor": 5
}
