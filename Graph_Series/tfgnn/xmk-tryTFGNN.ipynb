{
 "cells": [
  {
   "cell_type": "markdown",
   "id": "880e3a49",
   "metadata": {},
   "source": [
    "https://www.kaggle.com/code/fidels/introduction-to-tf-gnn"
   ]
  },
  {
   "cell_type": "code",
   "execution_count": 1,
   "id": "c28ea3bf",
   "metadata": {},
   "outputs": [],
   "source": [
    "# from IPython.display import clear_output\n",
    "\n",
    "# # install non-Python dependencies\n",
    "# !apt-get -y install graphviz graphviz-dev\n",
    "\n",
    "# # Upgrade to TensorFlow 2.8\n",
    "# !pip install tensorflow==2.8 tensorflow-io==0.25.0 tfds-nightly pygraphviz\n",
    "\n",
    "# # Install TensorFlow-GNN\n",
    "# !pip install tensorflow_gnn==0.2.0\n",
    "\n",
    "# # Fix some dependencies\n",
    "# !pip install httplib2==0.20.4\n",
    "\n",
    "# clear_output()"
   ]
  },
  {
   "cell_type": "code",
   "execution_count": 9,
   "id": "82c287ba",
   "metadata": {
    "collapsed": true
   },
   "outputs": [
    {
     "name": "stdout",
     "output_type": "stream",
     "text": [
      "Requirement already satisfied: tensorflow in /Users/minkexiu/anaconda3/lib/python3.11/site-packages (2.15.0)\n",
      "Collecting tensorflow-io\n",
      "  Obtaining dependency information for tensorflow-io from https://files.pythonhosted.org/packages/0d/cd/7abc497cbdb056cd22d4740ad735c8bce42912b142368185e99bc40ccc46/tensorflow_io-0.34.0-cp311-cp311-macosx_12_0_arm64.whl.metadata\n",
      "  Downloading tensorflow_io-0.34.0-cp311-cp311-macosx_12_0_arm64.whl.metadata (14 kB)\n",
      "Collecting tfds-nightly\n",
      "  Obtaining dependency information for tfds-nightly from https://files.pythonhosted.org/packages/4a/79/1991d058a98c5b33aa2fd119db50d9298e98e21eea1d180581783fb2d69e/tfds_nightly-4.9.3.dev202311230044-py3-none-any.whl.metadata\n",
      "  Downloading tfds_nightly-4.9.3.dev202311230044-py3-none-any.whl.metadata (9.3 kB)\n",
      "Requirement already satisfied: tensorflow-macos==2.15.0 in /Users/minkexiu/anaconda3/lib/python3.11/site-packages (from tensorflow) (2.15.0)\n",
      "Requirement already satisfied: absl-py>=1.0.0 in /Users/minkexiu/anaconda3/lib/python3.11/site-packages (from tensorflow-macos==2.15.0->tensorflow) (2.0.0)\n",
      "Requirement already satisfied: astunparse>=1.6.0 in /Users/minkexiu/anaconda3/lib/python3.11/site-packages (from tensorflow-macos==2.15.0->tensorflow) (1.6.3)\n",
      "Requirement already satisfied: flatbuffers>=23.5.26 in /Users/minkexiu/anaconda3/lib/python3.11/site-packages (from tensorflow-macos==2.15.0->tensorflow) (23.5.26)\n",
      "Requirement already satisfied: gast!=0.5.0,!=0.5.1,!=0.5.2,>=0.2.1 in /Users/minkexiu/anaconda3/lib/python3.11/site-packages (from tensorflow-macos==2.15.0->tensorflow) (0.5.4)\n",
      "Requirement already satisfied: google-pasta>=0.1.1 in /Users/minkexiu/anaconda3/lib/python3.11/site-packages (from tensorflow-macos==2.15.0->tensorflow) (0.2.0)\n",
      "Requirement already satisfied: h5py>=2.9.0 in /Users/minkexiu/anaconda3/lib/python3.11/site-packages (from tensorflow-macos==2.15.0->tensorflow) (3.9.0)\n",
      "Requirement already satisfied: libclang>=13.0.0 in /Users/minkexiu/anaconda3/lib/python3.11/site-packages (from tensorflow-macos==2.15.0->tensorflow) (16.0.6)\n",
      "Requirement already satisfied: ml-dtypes~=0.2.0 in /Users/minkexiu/anaconda3/lib/python3.11/site-packages (from tensorflow-macos==2.15.0->tensorflow) (0.2.0)\n",
      "Requirement already satisfied: numpy<2.0.0,>=1.23.5 in /Users/minkexiu/anaconda3/lib/python3.11/site-packages (from tensorflow-macos==2.15.0->tensorflow) (1.24.3)\n",
      "Requirement already satisfied: opt-einsum>=2.3.2 in /Users/minkexiu/anaconda3/lib/python3.11/site-packages (from tensorflow-macos==2.15.0->tensorflow) (3.3.0)\n",
      "Requirement already satisfied: packaging in /Users/minkexiu/anaconda3/lib/python3.11/site-packages (from tensorflow-macos==2.15.0->tensorflow) (23.1)\n",
      "Requirement already satisfied: protobuf!=4.21.0,!=4.21.1,!=4.21.2,!=4.21.3,!=4.21.4,!=4.21.5,<5.0.0dev,>=3.20.3 in /Users/minkexiu/anaconda3/lib/python3.11/site-packages (from tensorflow-macos==2.15.0->tensorflow) (4.22.5)\n",
      "Requirement already satisfied: setuptools in /Users/minkexiu/anaconda3/lib/python3.11/site-packages (from tensorflow-macos==2.15.0->tensorflow) (68.0.0)\n",
      "Requirement already satisfied: six>=1.12.0 in /Users/minkexiu/anaconda3/lib/python3.11/site-packages (from tensorflow-macos==2.15.0->tensorflow) (1.16.0)\n",
      "Requirement already satisfied: termcolor>=1.1.0 in /Users/minkexiu/anaconda3/lib/python3.11/site-packages (from tensorflow-macos==2.15.0->tensorflow) (2.4.0)\n",
      "Requirement already satisfied: typing-extensions>=3.6.6 in /Users/minkexiu/anaconda3/lib/python3.11/site-packages (from tensorflow-macos==2.15.0->tensorflow) (4.7.1)\n",
      "Requirement already satisfied: wrapt<1.15,>=1.11.0 in /Users/minkexiu/anaconda3/lib/python3.11/site-packages (from tensorflow-macos==2.15.0->tensorflow) (1.14.1)\n",
      "Requirement already satisfied: tensorflow-io-gcs-filesystem>=0.23.1 in /Users/minkexiu/anaconda3/lib/python3.11/site-packages (from tensorflow-macos==2.15.0->tensorflow) (0.34.0)\n",
      "Requirement already satisfied: grpcio<2.0,>=1.24.3 in /Users/minkexiu/anaconda3/lib/python3.11/site-packages (from tensorflow-macos==2.15.0->tensorflow) (1.59.3)\n",
      "Requirement already satisfied: tensorboard<2.16,>=2.15 in /Users/minkexiu/anaconda3/lib/python3.11/site-packages (from tensorflow-macos==2.15.0->tensorflow) (2.15.1)\n",
      "Requirement already satisfied: tensorflow-estimator<2.16,>=2.15.0 in /Users/minkexiu/anaconda3/lib/python3.11/site-packages (from tensorflow-macos==2.15.0->tensorflow) (2.15.0)\n",
      "Requirement already satisfied: keras<2.16,>=2.15.0 in /Users/minkexiu/anaconda3/lib/python3.11/site-packages (from tensorflow-macos==2.15.0->tensorflow) (2.15.0)\n",
      "Requirement already satisfied: click in /Users/minkexiu/anaconda3/lib/python3.11/site-packages (from tfds-nightly) (8.0.4)\n",
      "Collecting dm-tree (from tfds-nightly)\n",
      "  Downloading dm_tree-0.1.8-cp311-cp311-macosx_11_0_arm64.whl (110 kB)\n",
      "\u001b[2K     \u001b[90m━━━━━━━━━━━━━━━━━━━━━━━━━━━━━━━━━━━━━\u001b[0m \u001b[32m110.7/110.7 kB\u001b[0m \u001b[31m580.2 kB/s\u001b[0m eta \u001b[36m0:00:00\u001b[0ma \u001b[36m0:00:01\u001b[0m\n",
      "\u001b[?25hCollecting etils[enp,epath,etree]>=0.9.0 (from tfds-nightly)\n",
      "  Obtaining dependency information for etils[enp,epath,etree]>=0.9.0 from https://files.pythonhosted.org/packages/0f/6a/d2aaebacf73d5da7126c632ec0d9dc2df99cc4bbd259bad48904a034fc1b/etils-1.5.2-py3-none-any.whl.metadata\n",
      "  Downloading etils-1.5.2-py3-none-any.whl.metadata (6.3 kB)\n",
      "Collecting promise (from tfds-nightly)\n",
      "  Downloading promise-2.3.tar.gz (19 kB)\n",
      "  Preparing metadata (setup.py) ... \u001b[?25ldone\n",
      "\u001b[?25hRequirement already satisfied: psutil in /Users/minkexiu/anaconda3/lib/python3.11/site-packages (from tfds-nightly) (5.9.0)\n",
      "Requirement already satisfied: requests>=2.19.0 in /Users/minkexiu/anaconda3/lib/python3.11/site-packages (from tfds-nightly) (2.31.0)\n",
      "Collecting tensorflow-metadata (from tfds-nightly)\n",
      "  Obtaining dependency information for tensorflow-metadata from https://files.pythonhosted.org/packages/41/23/3705c7139886c079ef4c0e3be56a5a1fb90e9ee413a4b7caaee0ee0ea6fe/tensorflow_metadata-1.14.0-py3-none-any.whl.metadata\n",
      "  Downloading tensorflow_metadata-1.14.0-py3-none-any.whl.metadata (2.1 kB)\n",
      "Requirement already satisfied: toml in /Users/minkexiu/anaconda3/lib/python3.11/site-packages (from tfds-nightly) (0.10.2)\n",
      "Requirement already satisfied: tqdm in /Users/minkexiu/anaconda3/lib/python3.11/site-packages (from tfds-nightly) (4.65.0)\n",
      "Requirement already satisfied: fsspec in /Users/minkexiu/anaconda3/lib/python3.11/site-packages (from etils[enp,epath,etree]>=0.9.0->tfds-nightly) (2023.4.0)\n",
      "Collecting importlib_resources (from etils[enp,epath,etree]>=0.9.0->tfds-nightly)\n",
      "  Obtaining dependency information for importlib_resources from https://files.pythonhosted.org/packages/93/e8/facde510585869b5ec694e8e0363ffe4eba067cb357a8398a55f6a1f8023/importlib_resources-6.1.1-py3-none-any.whl.metadata\n",
      "  Downloading importlib_resources-6.1.1-py3-none-any.whl.metadata (4.1 kB)\n",
      "Requirement already satisfied: zipp in /Users/minkexiu/anaconda3/lib/python3.11/site-packages (from etils[enp,epath,etree]>=0.9.0->tfds-nightly) (3.11.0)\n",
      "Requirement already satisfied: charset-normalizer<4,>=2 in /Users/minkexiu/anaconda3/lib/python3.11/site-packages (from requests>=2.19.0->tfds-nightly) (2.0.4)\n",
      "Requirement already satisfied: idna<4,>=2.5 in /Users/minkexiu/anaconda3/lib/python3.11/site-packages (from requests>=2.19.0->tfds-nightly) (3.4)\n",
      "Requirement already satisfied: urllib3<3,>=1.21.1 in /Users/minkexiu/anaconda3/lib/python3.11/site-packages (from requests>=2.19.0->tfds-nightly) (1.26.16)\n",
      "Requirement already satisfied: certifi>=2017.4.17 in /Users/minkexiu/anaconda3/lib/python3.11/site-packages (from requests>=2.19.0->tfds-nightly) (2023.11.17)\n",
      "Collecting absl-py>=1.0.0 (from tensorflow-macos==2.15.0->tensorflow)\n",
      "  Downloading absl_py-1.4.0-py3-none-any.whl (126 kB)\n",
      "\u001b[2K     \u001b[90m━━━━━━━━━━━━━━━━━━━━━━━━━━━━━━━━━━━━━━━\u001b[0m \u001b[32m126.5/126.5 kB\u001b[0m \u001b[31m2.9 MB/s\u001b[0m eta \u001b[36m0:00:00\u001b[0ma \u001b[36m0:00:01\u001b[0m\n",
      "\u001b[?25hRequirement already satisfied: googleapis-common-protos<2,>=1.52.0 in /Users/minkexiu/anaconda3/lib/python3.11/site-packages (from tensorflow-metadata->tfds-nightly) (1.61.0)\n",
      "Collecting protobuf!=4.21.0,!=4.21.1,!=4.21.2,!=4.21.3,!=4.21.4,!=4.21.5,<5.0.0dev,>=3.20.3 (from tensorflow-macos==2.15.0->tensorflow)\n",
      "  Downloading protobuf-3.20.3-py2.py3-none-any.whl (162 kB)\n"
     ]
    },
    {
     "name": "stdout",
     "output_type": "stream",
     "text": [
      "\u001b[2K     \u001b[90m━━━━━━━━━━━━━━━━━━━━━━━━━━━━━━━━━━━━━━━\u001b[0m \u001b[32m162.1/162.1 kB\u001b[0m \u001b[31m1.4 MB/s\u001b[0m eta \u001b[36m0:00:00\u001b[0ma \u001b[36m0:00:01\u001b[0m\n",
      "\u001b[?25hRequirement already satisfied: wheel<1.0,>=0.23.0 in /Users/minkexiu/anaconda3/lib/python3.11/site-packages (from astunparse>=1.6.0->tensorflow-macos==2.15.0->tensorflow) (0.38.4)\n",
      "Requirement already satisfied: google-auth<3,>=1.6.3 in /Users/minkexiu/anaconda3/lib/python3.11/site-packages (from tensorboard<2.16,>=2.15->tensorflow-macos==2.15.0->tensorflow) (2.24.0)\n",
      "Requirement already satisfied: google-auth-oauthlib<2,>=0.5 in /Users/minkexiu/anaconda3/lib/python3.11/site-packages (from tensorboard<2.16,>=2.15->tensorflow-macos==2.15.0->tensorflow) (1.1.0)\n",
      "Requirement already satisfied: markdown>=2.6.8 in /Users/minkexiu/anaconda3/lib/python3.11/site-packages (from tensorboard<2.16,>=2.15->tensorflow-macos==2.15.0->tensorflow) (3.4.1)\n",
      "Requirement already satisfied: tensorboard-data-server<0.8.0,>=0.7.0 in /Users/minkexiu/anaconda3/lib/python3.11/site-packages (from tensorboard<2.16,>=2.15->tensorflow-macos==2.15.0->tensorflow) (0.7.2)\n",
      "Requirement already satisfied: werkzeug>=1.0.1 in /Users/minkexiu/anaconda3/lib/python3.11/site-packages (from tensorboard<2.16,>=2.15->tensorflow-macos==2.15.0->tensorflow) (2.2.3)\n",
      "Requirement already satisfied: cachetools<6.0,>=2.0.0 in /Users/minkexiu/anaconda3/lib/python3.11/site-packages (from google-auth<3,>=1.6.3->tensorboard<2.16,>=2.15->tensorflow-macos==2.15.0->tensorflow) (5.3.2)\n",
      "Requirement already satisfied: pyasn1-modules>=0.2.1 in /Users/minkexiu/anaconda3/lib/python3.11/site-packages (from google-auth<3,>=1.6.3->tensorboard<2.16,>=2.15->tensorflow-macos==2.15.0->tensorflow) (0.2.8)\n",
      "Requirement already satisfied: rsa<5,>=3.1.4 in /Users/minkexiu/anaconda3/lib/python3.11/site-packages (from google-auth<3,>=1.6.3->tensorboard<2.16,>=2.15->tensorflow-macos==2.15.0->tensorflow) (4.9)\n",
      "Requirement already satisfied: requests-oauthlib>=0.7.0 in /Users/minkexiu/anaconda3/lib/python3.11/site-packages (from google-auth-oauthlib<2,>=0.5->tensorboard<2.16,>=2.15->tensorflow-macos==2.15.0->tensorflow) (1.3.1)\n",
      "Requirement already satisfied: MarkupSafe>=2.1.1 in /Users/minkexiu/anaconda3/lib/python3.11/site-packages (from werkzeug>=1.0.1->tensorboard<2.16,>=2.15->tensorflow-macos==2.15.0->tensorflow) (2.1.1)\n",
      "Requirement already satisfied: pyasn1<0.5.0,>=0.4.6 in /Users/minkexiu/anaconda3/lib/python3.11/site-packages (from pyasn1-modules>=0.2.1->google-auth<3,>=1.6.3->tensorboard<2.16,>=2.15->tensorflow-macos==2.15.0->tensorflow) (0.4.8)\n",
      "Requirement already satisfied: oauthlib>=3.0.0 in /Users/minkexiu/anaconda3/lib/python3.11/site-packages (from requests-oauthlib>=0.7.0->google-auth-oauthlib<2,>=0.5->tensorboard<2.16,>=2.15->tensorflow-macos==2.15.0->tensorflow) (3.2.2)\n",
      "Downloading tensorflow_io-0.34.0-cp311-cp311-macosx_12_0_arm64.whl (34.9 MB)\n",
      "\u001b[2K   \u001b[90m━━━━━━━━━━━━━━━━━━━━━━━━━━━━━━━━━━━━━━━━\u001b[0m \u001b[32m34.9/34.9 MB\u001b[0m \u001b[31m139.7 kB/s\u001b[0m eta \u001b[36m0:00:00\u001b[0m00:01\u001b[0m00:06\u001b[0m\n",
      "\u001b[?25hDownloading tfds_nightly-4.9.3.dev202311230044-py3-none-any.whl (5.0 MB)\n",
      "\u001b[2K   \u001b[90m━━━━━━━━━━━━━━━━━━━━━━━━━━━━━━━━━━━━━━━━\u001b[0m \u001b[32m5.0/5.0 MB\u001b[0m \u001b[31m360.3 kB/s\u001b[0m eta \u001b[36m0:00:00\u001b[0m00:01\u001b[0m00:01\u001b[0m\n",
      "\u001b[?25hDownloading tensorflow_metadata-1.14.0-py3-none-any.whl (28 kB)\n",
      "Downloading etils-1.5.2-py3-none-any.whl (140 kB)\n",
      "\u001b[2K   \u001b[90m━━━━━━━━━━━━━━━━━━━━━━━━━━━━━━━━━━━━━━━\u001b[0m \u001b[32m140.6/140.6 kB\u001b[0m \u001b[31m710.5 kB/s\u001b[0m eta \u001b[36m0:00:00\u001b[0ma \u001b[36m0:00:01\u001b[0m\n",
      "\u001b[?25hDownloading importlib_resources-6.1.1-py3-none-any.whl (33 kB)\n",
      "Building wheels for collected packages: promise\n",
      "  Building wheel for promise (setup.py) ... \u001b[?25ldone\n",
      "\u001b[?25h  Created wheel for promise: filename=promise-2.3-py3-none-any.whl size=21486 sha256=1f01afc6e7798c7e66709293e38e31ffa45d6fd1554bec6b56b8c63c966a0aae\n",
      "  Stored in directory: /Users/minkexiu/Library/Caches/pip/wheels/90/74/b1/9b54c896b8d9409e9268329d4d45ede8a8040abe91c8879932\n",
      "Successfully built promise\n",
      "Installing collected packages: dm-tree, tensorflow-io, protobuf, promise, importlib_resources, etils, absl-py, tensorflow-metadata, tfds-nightly\n",
      "  Attempting uninstall: protobuf\n",
      "    Found existing installation: protobuf 4.22.5\n",
      "    Uninstalling protobuf-4.22.5:\n",
      "      Successfully uninstalled protobuf-4.22.5\n",
      "  Attempting uninstall: absl-py\n",
      "    Found existing installation: absl-py 2.0.0\n",
      "    Uninstalling absl-py-2.0.0:\n",
      "      Successfully uninstalled absl-py-2.0.0\n",
      "\u001b[31mERROR: pip's dependency resolver does not currently take into account all the packages that are installed. This behaviour is the source of the following dependency conflicts.\n",
      "grpcio-status 1.59.3 requires protobuf>=4.21.6, but you have protobuf 3.20.3 which is incompatible.\u001b[0m\u001b[31m\n",
      "\u001b[0mSuccessfully installed absl-py-1.4.0 dm-tree-0.1.8 etils-1.5.2 importlib_resources-6.1.1 promise-2.3 protobuf-3.20.3 tensorflow-io-0.34.0 tensorflow-metadata-1.14.0 tfds-nightly-4.9.3.dev202311230044\n"
     ]
    }
   ],
   "source": [
    "# !pip install tensorflow tensorflow-io tfds-nightly "
   ]
  },
  {
   "cell_type": "code",
   "execution_count": 10,
   "id": "ee9f6b86",
   "metadata": {
    "collapsed": true
   },
   "outputs": [
    {
     "name": "stdout",
     "output_type": "stream",
     "text": [
      "Requirement already satisfied: tensorflow_gnn in /Users/minkexiu/anaconda3/lib/python3.11/site-packages (0.2.0)\n",
      "Requirement already satisfied: apache-beam[gcp]>=2.32 in /Users/minkexiu/anaconda3/lib/python3.11/site-packages (from tensorflow_gnn) (2.52.0)\n",
      "Requirement already satisfied: networkx in /Users/minkexiu/anaconda3/lib/python3.11/site-packages (from tensorflow_gnn) (3.1)\n",
      "Requirement already satisfied: pyarrow in /Users/minkexiu/anaconda3/lib/python3.11/site-packages (from tensorflow_gnn) (11.0.0)\n",
      "Requirement already satisfied: tensorflow>=2.7.0 in /Users/minkexiu/anaconda3/lib/python3.11/site-packages (from tensorflow_gnn) (2.15.0)\n",
      "Requirement already satisfied: crcmod<2.0,>=1.7 in /Users/minkexiu/anaconda3/lib/python3.11/site-packages (from apache-beam[gcp]>=2.32->tensorflow_gnn) (1.7)\n",
      "Requirement already satisfied: orjson<4,>=3.9.7 in /Users/minkexiu/anaconda3/lib/python3.11/site-packages (from apache-beam[gcp]>=2.32->tensorflow_gnn) (3.9.10)\n",
      "Requirement already satisfied: dill<0.3.2,>=0.3.1.1 in /Users/minkexiu/anaconda3/lib/python3.11/site-packages (from apache-beam[gcp]>=2.32->tensorflow_gnn) (0.3.1.1)\n",
      "Requirement already satisfied: cloudpickle~=2.2.1 in /Users/minkexiu/anaconda3/lib/python3.11/site-packages (from apache-beam[gcp]>=2.32->tensorflow_gnn) (2.2.1)\n",
      "Requirement already satisfied: fastavro<2,>=0.23.6 in /Users/minkexiu/anaconda3/lib/python3.11/site-packages (from apache-beam[gcp]>=2.32->tensorflow_gnn) (1.9.0)\n",
      "Requirement already satisfied: fasteners<1.0,>=0.3 in /Users/minkexiu/anaconda3/lib/python3.11/site-packages (from apache-beam[gcp]>=2.32->tensorflow_gnn) (0.19)\n",
      "Requirement already satisfied: grpcio!=1.48.0,<2,>=1.33.1 in /Users/minkexiu/anaconda3/lib/python3.11/site-packages (from apache-beam[gcp]>=2.32->tensorflow_gnn) (1.59.3)\n",
      "Requirement already satisfied: hdfs<3.0.0,>=2.1.0 in /Users/minkexiu/anaconda3/lib/python3.11/site-packages (from apache-beam[gcp]>=2.32->tensorflow_gnn) (2.7.3)\n",
      "Requirement already satisfied: httplib2<0.23.0,>=0.8 in /Users/minkexiu/anaconda3/lib/python3.11/site-packages (from apache-beam[gcp]>=2.32->tensorflow_gnn) (0.20.4)\n",
      "Requirement already satisfied: js2py<1,>=0.74 in /Users/minkexiu/anaconda3/lib/python3.11/site-packages (from apache-beam[gcp]>=2.32->tensorflow_gnn) (0.74)\n",
      "Requirement already satisfied: jsonschema<5.0.0,>=4.0.0 in /Users/minkexiu/anaconda3/lib/python3.11/site-packages (from apache-beam[gcp]>=2.32->tensorflow_gnn) (4.17.3)\n",
      "Requirement already satisfied: numpy<1.25.0,>=1.14.3 in /Users/minkexiu/anaconda3/lib/python3.11/site-packages (from apache-beam[gcp]>=2.32->tensorflow_gnn) (1.24.3)\n",
      "Requirement already satisfied: objsize<0.7.0,>=0.6.1 in /Users/minkexiu/anaconda3/lib/python3.11/site-packages (from apache-beam[gcp]>=2.32->tensorflow_gnn) (0.6.1)\n",
      "Requirement already satisfied: packaging>=22.0 in /Users/minkexiu/anaconda3/lib/python3.11/site-packages (from apache-beam[gcp]>=2.32->tensorflow_gnn) (23.1)\n",
      "Requirement already satisfied: pymongo<5.0.0,>=3.8.0 in /Users/minkexiu/anaconda3/lib/python3.11/site-packages (from apache-beam[gcp]>=2.32->tensorflow_gnn) (4.6.1)\n",
      "Requirement already satisfied: proto-plus<2,>=1.7.1 in /Users/minkexiu/anaconda3/lib/python3.11/site-packages (from apache-beam[gcp]>=2.32->tensorflow_gnn) (1.22.3)\n",
      "Requirement already satisfied: protobuf!=4.0.*,!=4.21.*,!=4.22.0,!=4.23.*,!=4.24.*,<4.26.0,>=3.20.3 in /Users/minkexiu/anaconda3/lib/python3.11/site-packages (from apache-beam[gcp]>=2.32->tensorflow_gnn) (3.20.3)\n",
      "Requirement already satisfied: pydot<2,>=1.2.0 in /Users/minkexiu/anaconda3/lib/python3.11/site-packages (from apache-beam[gcp]>=2.32->tensorflow_gnn) (1.4.2)\n",
      "Requirement already satisfied: python-dateutil<3,>=2.8.0 in /Users/minkexiu/anaconda3/lib/python3.11/site-packages (from apache-beam[gcp]>=2.32->tensorflow_gnn) (2.8.2)\n",
      "Requirement already satisfied: pytz>=2018.3 in /Users/minkexiu/anaconda3/lib/python3.11/site-packages (from apache-beam[gcp]>=2.32->tensorflow_gnn) (2023.3.post1)\n",
      "Requirement already satisfied: regex>=2020.6.8 in /Users/minkexiu/anaconda3/lib/python3.11/site-packages (from apache-beam[gcp]>=2.32->tensorflow_gnn) (2022.7.9)\n",
      "Requirement already satisfied: requests<3.0.0,>=2.24.0 in /Users/minkexiu/anaconda3/lib/python3.11/site-packages (from apache-beam[gcp]>=2.32->tensorflow_gnn) (2.31.0)\n",
      "Requirement already satisfied: typing-extensions>=3.7.0 in /Users/minkexiu/anaconda3/lib/python3.11/site-packages (from apache-beam[gcp]>=2.32->tensorflow_gnn) (4.7.1)\n",
      "Requirement already satisfied: zstandard<1,>=0.18.0 in /Users/minkexiu/anaconda3/lib/python3.11/site-packages (from apache-beam[gcp]>=2.32->tensorflow_gnn) (0.19.0)\n",
      "Requirement already satisfied: pyarrow-hotfix<1 in /Users/minkexiu/anaconda3/lib/python3.11/site-packages (from apache-beam[gcp]>=2.32->tensorflow_gnn) (0.6)\n",
      "Requirement already satisfied: cachetools<6,>=3.1.0 in /Users/minkexiu/anaconda3/lib/python3.11/site-packages (from apache-beam[gcp]>=2.32->tensorflow_gnn) (5.3.2)\n",
      "Requirement already satisfied: google-api-core<3,>=2.0.0 in /Users/minkexiu/anaconda3/lib/python3.11/site-packages (from apache-beam[gcp]>=2.32->tensorflow_gnn) (2.14.0)\n",
      "Requirement already satisfied: google-apitools<0.5.32,>=0.5.31 in /Users/minkexiu/anaconda3/lib/python3.11/site-packages (from apache-beam[gcp]>=2.32->tensorflow_gnn) (0.5.31)\n",
      "Requirement already satisfied: google-auth<3,>=1.18.0 in /Users/minkexiu/anaconda3/lib/python3.11/site-packages (from apache-beam[gcp]>=2.32->tensorflow_gnn) (2.24.0)\n",
      "Requirement already satisfied: google-auth-httplib2<0.2.0,>=0.1.0 in /Users/minkexiu/anaconda3/lib/python3.11/site-packages (from apache-beam[gcp]>=2.32->tensorflow_gnn) (0.1.1)\n",
      "Requirement already satisfied: google-cloud-datastore<3,>=2.0.0 in /Users/minkexiu/anaconda3/lib/python3.11/site-packages (from apache-beam[gcp]>=2.32->tensorflow_gnn) (2.18.0)\n",
      "Requirement already satisfied: google-cloud-pubsub<3,>=2.1.0 in /Users/minkexiu/anaconda3/lib/python3.11/site-packages (from apache-beam[gcp]>=2.32->tensorflow_gnn) (2.18.4)\n",
      "Requirement already satisfied: google-cloud-pubsublite<2,>=1.2.0 in /Users/minkexiu/anaconda3/lib/python3.11/site-packages (from apache-beam[gcp]>=2.32->tensorflow_gnn) (1.8.3)\n",
      "Requirement already satisfied: google-cloud-bigquery<4,>=2.0.0 in /Users/minkexiu/anaconda3/lib/python3.11/site-packages (from apache-beam[gcp]>=2.32->tensorflow_gnn) (3.13.0)\n",
      "Requirement already satisfied: google-cloud-bigquery-storage<3,>=2.6.3 in /Users/minkexiu/anaconda3/lib/python3.11/site-packages (from apache-beam[gcp]>=2.32->tensorflow_gnn) (2.23.0)\n",
      "Requirement already satisfied: google-cloud-core<3,>=2.0.0 in /Users/minkexiu/anaconda3/lib/python3.11/site-packages (from apache-beam[gcp]>=2.32->tensorflow_gnn) (2.3.3)\n",
      "Requirement already satisfied: google-cloud-bigtable<3,>=2.19.0 in /Users/minkexiu/anaconda3/lib/python3.11/site-packages (from apache-beam[gcp]>=2.32->tensorflow_gnn) (2.21.0)\n",
      "Requirement already satisfied: google-cloud-spanner<4,>=3.0.0 in /Users/minkexiu/anaconda3/lib/python3.11/site-packages (from apache-beam[gcp]>=2.32->tensorflow_gnn) (3.40.1)\n",
      "Requirement already satisfied: google-cloud-dlp<4,>=3.0.0 in /Users/minkexiu/anaconda3/lib/python3.11/site-packages (from apache-beam[gcp]>=2.32->tensorflow_gnn) (3.13.0)\n",
      "Requirement already satisfied: google-cloud-language<3,>=2.0 in /Users/minkexiu/anaconda3/lib/python3.11/site-packages (from apache-beam[gcp]>=2.32->tensorflow_gnn) (2.11.1)\n",
      "Requirement already satisfied: google-cloud-videointelligence<3,>=2.0 in /Users/minkexiu/anaconda3/lib/python3.11/site-packages (from apache-beam[gcp]>=2.32->tensorflow_gnn) (2.11.4)\n",
      "Requirement already satisfied: google-cloud-vision<4,>=2 in /Users/minkexiu/anaconda3/lib/python3.11/site-packages (from apache-beam[gcp]>=2.32->tensorflow_gnn) (3.4.5)\n",
      "Requirement already satisfied: google-cloud-recommendations-ai<0.11.0,>=0.1.0 in /Users/minkexiu/anaconda3/lib/python3.11/site-packages (from apache-beam[gcp]>=2.32->tensorflow_gnn) (0.10.5)\n",
      "Requirement already satisfied: google-cloud-aiplatform<2.0,>=1.26.0 in /Users/minkexiu/anaconda3/lib/python3.11/site-packages (from apache-beam[gcp]>=2.32->tensorflow_gnn) (1.36.4)\n",
      "Requirement already satisfied: tensorflow-macos==2.15.0 in /Users/minkexiu/anaconda3/lib/python3.11/site-packages (from tensorflow>=2.7.0->tensorflow_gnn) (2.15.0)\n"
     ]
    },
    {
     "name": "stdout",
     "output_type": "stream",
     "text": [
      "Requirement already satisfied: absl-py>=1.0.0 in /Users/minkexiu/anaconda3/lib/python3.11/site-packages (from tensorflow-macos==2.15.0->tensorflow>=2.7.0->tensorflow_gnn) (1.4.0)\n",
      "Requirement already satisfied: astunparse>=1.6.0 in /Users/minkexiu/anaconda3/lib/python3.11/site-packages (from tensorflow-macos==2.15.0->tensorflow>=2.7.0->tensorflow_gnn) (1.6.3)\n",
      "Requirement already satisfied: flatbuffers>=23.5.26 in /Users/minkexiu/anaconda3/lib/python3.11/site-packages (from tensorflow-macos==2.15.0->tensorflow>=2.7.0->tensorflow_gnn) (23.5.26)\n",
      "Requirement already satisfied: gast!=0.5.0,!=0.5.1,!=0.5.2,>=0.2.1 in /Users/minkexiu/anaconda3/lib/python3.11/site-packages (from tensorflow-macos==2.15.0->tensorflow>=2.7.0->tensorflow_gnn) (0.5.4)\n",
      "Requirement already satisfied: google-pasta>=0.1.1 in /Users/minkexiu/anaconda3/lib/python3.11/site-packages (from tensorflow-macos==2.15.0->tensorflow>=2.7.0->tensorflow_gnn) (0.2.0)\n",
      "Requirement already satisfied: h5py>=2.9.0 in /Users/minkexiu/anaconda3/lib/python3.11/site-packages (from tensorflow-macos==2.15.0->tensorflow>=2.7.0->tensorflow_gnn) (3.9.0)\n",
      "Requirement already satisfied: libclang>=13.0.0 in /Users/minkexiu/anaconda3/lib/python3.11/site-packages (from tensorflow-macos==2.15.0->tensorflow>=2.7.0->tensorflow_gnn) (16.0.6)\n",
      "Requirement already satisfied: ml-dtypes~=0.2.0 in /Users/minkexiu/anaconda3/lib/python3.11/site-packages (from tensorflow-macos==2.15.0->tensorflow>=2.7.0->tensorflow_gnn) (0.2.0)\n",
      "Requirement already satisfied: opt-einsum>=2.3.2 in /Users/minkexiu/anaconda3/lib/python3.11/site-packages (from tensorflow-macos==2.15.0->tensorflow>=2.7.0->tensorflow_gnn) (3.3.0)\n",
      "Requirement already satisfied: setuptools in /Users/minkexiu/anaconda3/lib/python3.11/site-packages (from tensorflow-macos==2.15.0->tensorflow>=2.7.0->tensorflow_gnn) (68.0.0)\n",
      "Requirement already satisfied: six>=1.12.0 in /Users/minkexiu/anaconda3/lib/python3.11/site-packages (from tensorflow-macos==2.15.0->tensorflow>=2.7.0->tensorflow_gnn) (1.16.0)\n",
      "Requirement already satisfied: termcolor>=1.1.0 in /Users/minkexiu/anaconda3/lib/python3.11/site-packages (from tensorflow-macos==2.15.0->tensorflow>=2.7.0->tensorflow_gnn) (2.4.0)\n",
      "Requirement already satisfied: wrapt<1.15,>=1.11.0 in /Users/minkexiu/anaconda3/lib/python3.11/site-packages (from tensorflow-macos==2.15.0->tensorflow>=2.7.0->tensorflow_gnn) (1.14.1)\n",
      "Requirement already satisfied: tensorflow-io-gcs-filesystem>=0.23.1 in /Users/minkexiu/anaconda3/lib/python3.11/site-packages (from tensorflow-macos==2.15.0->tensorflow>=2.7.0->tensorflow_gnn) (0.34.0)\n",
      "Requirement already satisfied: tensorboard<2.16,>=2.15 in /Users/minkexiu/anaconda3/lib/python3.11/site-packages (from tensorflow-macos==2.15.0->tensorflow>=2.7.0->tensorflow_gnn) (2.15.1)\n",
      "Requirement already satisfied: tensorflow-estimator<2.16,>=2.15.0 in /Users/minkexiu/anaconda3/lib/python3.11/site-packages (from tensorflow-macos==2.15.0->tensorflow>=2.7.0->tensorflow_gnn) (2.15.0)\n",
      "Requirement already satisfied: keras<2.16,>=2.15.0 in /Users/minkexiu/anaconda3/lib/python3.11/site-packages (from tensorflow-macos==2.15.0->tensorflow>=2.7.0->tensorflow_gnn) (2.15.0)\n",
      "Requirement already satisfied: googleapis-common-protos<2.0.dev0,>=1.56.2 in /Users/minkexiu/anaconda3/lib/python3.11/site-packages (from google-api-core<3,>=2.0.0->apache-beam[gcp]>=2.32->tensorflow_gnn) (1.61.0)\n",
      "Requirement already satisfied: oauth2client>=1.4.12 in /Users/minkexiu/anaconda3/lib/python3.11/site-packages (from google-apitools<0.5.32,>=0.5.31->apache-beam[gcp]>=2.32->tensorflow_gnn) (4.1.3)\n",
      "Requirement already satisfied: pyasn1-modules>=0.2.1 in /Users/minkexiu/anaconda3/lib/python3.11/site-packages (from google-auth<3,>=1.18.0->apache-beam[gcp]>=2.32->tensorflow_gnn) (0.2.8)\n",
      "Requirement already satisfied: rsa<5,>=3.1.4 in /Users/minkexiu/anaconda3/lib/python3.11/site-packages (from google-auth<3,>=1.18.0->apache-beam[gcp]>=2.32->tensorflow_gnn) (4.9)\n",
      "Requirement already satisfied: google-cloud-storage<3.0.0dev,>=1.32.0 in /Users/minkexiu/anaconda3/lib/python3.11/site-packages (from google-cloud-aiplatform<2.0,>=1.26.0->apache-beam[gcp]>=2.32->tensorflow_gnn) (2.13.0)\n",
      "Requirement already satisfied: google-cloud-resource-manager<3.0.0dev,>=1.3.3 in /Users/minkexiu/anaconda3/lib/python3.11/site-packages (from google-cloud-aiplatform<2.0,>=1.26.0->apache-beam[gcp]>=2.32->tensorflow_gnn) (1.10.4)\n",
      "Requirement already satisfied: shapely<3.0.0dev in /Users/minkexiu/anaconda3/lib/python3.11/site-packages (from google-cloud-aiplatform<2.0,>=1.26.0->apache-beam[gcp]>=2.32->tensorflow_gnn) (2.0.2)\n",
      "Requirement already satisfied: google-resumable-media<3.0dev,>=0.6.0 in /Users/minkexiu/anaconda3/lib/python3.11/site-packages (from google-cloud-bigquery<4,>=2.0.0->apache-beam[gcp]>=2.32->tensorflow_gnn) (2.6.0)\n",
      "Requirement already satisfied: grpc-google-iam-v1<1.0.0dev,>=0.12.4 in /Users/minkexiu/anaconda3/lib/python3.11/site-packages (from google-cloud-bigtable<3,>=2.19.0->apache-beam[gcp]>=2.32->tensorflow_gnn) (0.12.7)\n",
      "Requirement already satisfied: grpcio-status>=1.33.2 in /Users/minkexiu/anaconda3/lib/python3.11/site-packages (from google-cloud-pubsub<3,>=2.1.0->apache-beam[gcp]>=2.32->tensorflow_gnn) (1.59.3)\n",
      "Requirement already satisfied: overrides<7.0.0,>=6.0.1 in /Users/minkexiu/anaconda3/lib/python3.11/site-packages (from google-cloud-pubsublite<2,>=1.2.0->apache-beam[gcp]>=2.32->tensorflow_gnn) (6.5.0)\n",
      "Requirement already satisfied: sqlparse>=0.4.4 in /Users/minkexiu/anaconda3/lib/python3.11/site-packages (from google-cloud-spanner<4,>=3.0.0->apache-beam[gcp]>=2.32->tensorflow_gnn) (0.4.4)\n",
      "Requirement already satisfied: docopt in /Users/minkexiu/anaconda3/lib/python3.11/site-packages (from hdfs<3.0.0,>=2.1.0->apache-beam[gcp]>=2.32->tensorflow_gnn) (0.6.2)\n",
      "Requirement already satisfied: pyparsing!=3.0.0,!=3.0.1,!=3.0.2,!=3.0.3,<4,>=2.4.2 in /Users/minkexiu/anaconda3/lib/python3.11/site-packages (from httplib2<0.23.0,>=0.8->apache-beam[gcp]>=2.32->tensorflow_gnn) (3.0.9)\n",
      "Requirement already satisfied: tzlocal>=1.2 in /Users/minkexiu/anaconda3/lib/python3.11/site-packages (from js2py<1,>=0.74->apache-beam[gcp]>=2.32->tensorflow_gnn) (5.2)\n",
      "Requirement already satisfied: pyjsparser>=2.5.1 in /Users/minkexiu/anaconda3/lib/python3.11/site-packages (from js2py<1,>=0.74->apache-beam[gcp]>=2.32->tensorflow_gnn) (2.7.1)\n",
      "Requirement already satisfied: attrs>=17.4.0 in /Users/minkexiu/anaconda3/lib/python3.11/site-packages (from jsonschema<5.0.0,>=4.0.0->apache-beam[gcp]>=2.32->tensorflow_gnn) (22.1.0)\n",
      "Requirement already satisfied: pyrsistent!=0.17.0,!=0.17.1,!=0.17.2,>=0.14.0 in /Users/minkexiu/anaconda3/lib/python3.11/site-packages (from jsonschema<5.0.0,>=4.0.0->apache-beam[gcp]>=2.32->tensorflow_gnn) (0.18.0)\n",
      "Requirement already satisfied: dnspython<3.0.0,>=1.16.0 in /Users/minkexiu/anaconda3/lib/python3.11/site-packages (from pymongo<5.0.0,>=3.8.0->apache-beam[gcp]>=2.32->tensorflow_gnn) (2.4.2)\n",
      "Requirement already satisfied: charset-normalizer<4,>=2 in /Users/minkexiu/anaconda3/lib/python3.11/site-packages (from requests<3.0.0,>=2.24.0->apache-beam[gcp]>=2.32->tensorflow_gnn) (2.0.4)\n",
      "Requirement already satisfied: idna<4,>=2.5 in /Users/minkexiu/anaconda3/lib/python3.11/site-packages (from requests<3.0.0,>=2.24.0->apache-beam[gcp]>=2.32->tensorflow_gnn) (3.4)\n",
      "Requirement already satisfied: urllib3<3,>=1.21.1 in /Users/minkexiu/anaconda3/lib/python3.11/site-packages (from requests<3.0.0,>=2.24.0->apache-beam[gcp]>=2.32->tensorflow_gnn) (1.26.16)\n",
      "Requirement already satisfied: certifi>=2017.4.17 in /Users/minkexiu/anaconda3/lib/python3.11/site-packages (from requests<3.0.0,>=2.24.0->apache-beam[gcp]>=2.32->tensorflow_gnn) (2023.11.17)\n",
      "Requirement already satisfied: wheel<1.0,>=0.23.0 in /Users/minkexiu/anaconda3/lib/python3.11/site-packages (from astunparse>=1.6.0->tensorflow-macos==2.15.0->tensorflow>=2.7.0->tensorflow_gnn) (0.38.4)\n",
      "Requirement already satisfied: google-crc32c<2.0dev,>=1.0 in /Users/minkexiu/anaconda3/lib/python3.11/site-packages (from google-cloud-storage<3.0.0dev,>=1.32.0->google-cloud-aiplatform<2.0,>=1.26.0->apache-beam[gcp]>=2.32->tensorflow_gnn) (1.5.0)\n",
      "Collecting protobuf!=4.0.*,!=4.21.*,!=4.22.0,!=4.23.*,!=4.24.*,<4.26.0,>=3.20.3 (from apache-beam[gcp]>=2.32->tensorflow_gnn)\n"
     ]
    },
    {
     "name": "stdout",
     "output_type": "stream",
     "text": [
      "  Obtaining dependency information for protobuf!=4.0.*,!=4.21.*,!=4.22.0,!=4.23.*,!=4.24.*,<4.26.0,>=3.20.3 from https://files.pythonhosted.org/packages/e6/db/7b2edc72807d45d72f9db42f3eb86ddaf37f9e55d923159b1dbfc9d835bc/protobuf-4.25.1-cp37-abi3-macosx_10_9_universal2.whl.metadata\n",
      "  Using cached protobuf-4.25.1-cp37-abi3-macosx_10_9_universal2.whl.metadata (541 bytes)\n",
      "Requirement already satisfied: pyasn1>=0.1.7 in /Users/minkexiu/anaconda3/lib/python3.11/site-packages (from oauth2client>=1.4.12->google-apitools<0.5.32,>=0.5.31->apache-beam[gcp]>=2.32->tensorflow_gnn) (0.4.8)\n",
      "Requirement already satisfied: google-auth-oauthlib<2,>=0.5 in /Users/minkexiu/anaconda3/lib/python3.11/site-packages (from tensorboard<2.16,>=2.15->tensorflow-macos==2.15.0->tensorflow>=2.7.0->tensorflow_gnn) (1.1.0)\n",
      "Requirement already satisfied: markdown>=2.6.8 in /Users/minkexiu/anaconda3/lib/python3.11/site-packages (from tensorboard<2.16,>=2.15->tensorflow-macos==2.15.0->tensorflow>=2.7.0->tensorflow_gnn) (3.4.1)\n",
      "  Using cached protobuf-4.22.5-cp37-abi3-macosx_10_9_universal2.whl (397 kB)\n",
      "Requirement already satisfied: tensorboard-data-server<0.8.0,>=0.7.0 in /Users/minkexiu/anaconda3/lib/python3.11/site-packages (from tensorboard<2.16,>=2.15->tensorflow-macos==2.15.0->tensorflow>=2.7.0->tensorflow_gnn) (0.7.2)\n",
      "Requirement already satisfied: werkzeug>=1.0.1 in /Users/minkexiu/anaconda3/lib/python3.11/site-packages (from tensorboard<2.16,>=2.15->tensorflow-macos==2.15.0->tensorflow>=2.7.0->tensorflow_gnn) (2.2.3)\n",
      "Requirement already satisfied: requests-oauthlib>=0.7.0 in /Users/minkexiu/anaconda3/lib/python3.11/site-packages (from google-auth-oauthlib<2,>=0.5->tensorboard<2.16,>=2.15->tensorflow-macos==2.15.0->tensorflow>=2.7.0->tensorflow_gnn) (1.3.1)\n",
      "Requirement already satisfied: MarkupSafe>=2.1.1 in /Users/minkexiu/anaconda3/lib/python3.11/site-packages (from werkzeug>=1.0.1->tensorboard<2.16,>=2.15->tensorflow-macos==2.15.0->tensorflow>=2.7.0->tensorflow_gnn) (2.1.1)\n",
      "Requirement already satisfied: oauthlib>=3.0.0 in /Users/minkexiu/anaconda3/lib/python3.11/site-packages (from requests-oauthlib>=0.7.0->google-auth-oauthlib<2,>=0.5->tensorboard<2.16,>=2.15->tensorflow-macos==2.15.0->tensorflow>=2.7.0->tensorflow_gnn) (3.2.2)\n",
      "Installing collected packages: protobuf\n",
      "  Attempting uninstall: protobuf\n",
      "    Found existing installation: protobuf 3.20.3\n",
      "    Uninstalling protobuf-3.20.3:\n",
      "      Successfully uninstalled protobuf-3.20.3\n",
      "\u001b[31mERROR: pip's dependency resolver does not currently take into account all the packages that are installed. This behaviour is the source of the following dependency conflicts.\n",
      "tensorflow-metadata 1.14.0 requires protobuf<4.21,>=3.20.3, but you have protobuf 4.22.5 which is incompatible.\u001b[0m\u001b[31m\n",
      "\u001b[0mSuccessfully installed protobuf-4.22.5\n"
     ]
    }
   ],
   "source": [
    "# !pip install tensorflow_gnn"
   ]
  },
  {
   "cell_type": "code",
   "execution_count": 1,
   "id": "de7eac01",
   "metadata": {},
   "outputs": [],
   "source": [
    "# !pip install httplib2"
   ]
  },
  {
   "cell_type": "code",
   "execution_count": null,
   "id": "5c3648b8",
   "metadata": {},
   "outputs": [],
   "source": []
  },
  {
   "cell_type": "code",
   "execution_count": null,
   "id": "e0649d97",
   "metadata": {},
   "outputs": [],
   "source": []
  },
  {
   "cell_type": "code",
   "execution_count": null,
   "id": "3636a111",
   "metadata": {},
   "outputs": [],
   "source": []
  },
  {
   "cell_type": "code",
   "execution_count": null,
   "id": "ab055626",
   "metadata": {},
   "outputs": [],
   "source": []
  },
  {
   "cell_type": "code",
   "execution_count": null,
   "id": "72e31682",
   "metadata": {},
   "outputs": [],
   "source": []
  },
  {
   "cell_type": "code",
   "execution_count": null,
   "id": "4ffeff2d",
   "metadata": {},
   "outputs": [],
   "source": []
  },
  {
   "cell_type": "code",
   "execution_count": 3,
   "id": "e5122262",
   "metadata": {},
   "outputs": [
    {
     "ename": "ModuleNotFoundError",
     "evalue": "No module named 'keras.engine'",
     "output_type": "error",
     "traceback": [
      "\u001b[0;31m---------------------------------------------------------------------------\u001b[0m",
      "\u001b[0;31mModuleNotFoundError\u001b[0m                       Traceback (most recent call last)",
      "Cell \u001b[0;32mIn[3], line 8\u001b[0m\n\u001b[1;32m      5\u001b[0m \u001b[38;5;28;01mimport\u001b[39;00m \u001b[38;5;21;01mtensorflow\u001b[39;00m \u001b[38;5;28;01mas\u001b[39;00m \u001b[38;5;21;01mtf\u001b[39;00m\n\u001b[1;32m      6\u001b[0m tf\u001b[38;5;241m.\u001b[39mget_logger()\u001b[38;5;241m.\u001b[39msetLevel(\u001b[38;5;124m'\u001b[39m\u001b[38;5;124mERROR\u001b[39m\u001b[38;5;124m'\u001b[39m)\n\u001b[0;32m----> 8\u001b[0m \u001b[38;5;28;01mimport\u001b[39;00m \u001b[38;5;21;01mtensorflow_gnn\u001b[39;00m \u001b[38;5;28;01mas\u001b[39;00m \u001b[38;5;21;01mtfgnn\u001b[39;00m\n",
      "File \u001b[0;32m~/anaconda3/lib/python3.11/site-packages/tensorflow_gnn/__init__.py:15\u001b[0m\n\u001b[1;32m      1\u001b[0m \u001b[38;5;124;03m\"\"\"Public interface for TensorFlow GNN package.\u001b[39;00m\n\u001b[1;32m      2\u001b[0m \n\u001b[1;32m      3\u001b[0m \u001b[38;5;124;03mAll the public symbols, data types and functions are provided from this\u001b[39;00m\n\u001b[0;32m   (...)\u001b[0m\n\u001b[1;32m     11\u001b[0m \u001b[38;5;124;03m`Field`, and a `GraphTensorSpec` describes an instance of `GraphTensor`.\u001b[39;00m\n\u001b[1;32m     12\u001b[0m \u001b[38;5;124;03m\"\"\"\u001b[39;00m\n\u001b[1;32m     14\u001b[0m \u001b[38;5;28;01mfrom\u001b[39;00m \u001b[38;5;21;01mtensorflow_gnn\u001b[39;00m \u001b[38;5;28;01mimport\u001b[39;00m version\n\u001b[0;32m---> 15\u001b[0m \u001b[38;5;28;01mfrom\u001b[39;00m \u001b[38;5;21;01mtensorflow_gnn\u001b[39;00m\u001b[38;5;21;01m.\u001b[39;00m\u001b[38;5;21;01mgraph\u001b[39;00m \u001b[38;5;28;01mimport\u001b[39;00m adjacency\n\u001b[1;32m     16\u001b[0m \u001b[38;5;28;01mfrom\u001b[39;00m \u001b[38;5;21;01mtensorflow_gnn\u001b[39;00m\u001b[38;5;21;01m.\u001b[39;00m\u001b[38;5;21;01mgraph\u001b[39;00m \u001b[38;5;28;01mimport\u001b[39;00m batching_utils\n\u001b[1;32m     17\u001b[0m \u001b[38;5;28;01mfrom\u001b[39;00m \u001b[38;5;21;01mtensorflow_gnn\u001b[39;00m\u001b[38;5;21;01m.\u001b[39;00m\u001b[38;5;21;01mgraph\u001b[39;00m \u001b[38;5;28;01mimport\u001b[39;00m graph_constants\n",
      "File \u001b[0;32m~/anaconda3/lib/python3.11/site-packages/tensorflow_gnn/graph/adjacency.py:7\u001b[0m\n\u001b[1;32m      5\u001b[0m \u001b[38;5;28;01mimport\u001b[39;00m \u001b[38;5;21;01mtensorflow\u001b[39;00m \u001b[38;5;28;01mas\u001b[39;00m \u001b[38;5;21;01mtf\u001b[39;00m\n\u001b[1;32m      6\u001b[0m \u001b[38;5;28;01mfrom\u001b[39;00m \u001b[38;5;21;01mtensorflow_gnn\u001b[39;00m\u001b[38;5;21;01m.\u001b[39;00m\u001b[38;5;21;01mgraph\u001b[39;00m \u001b[38;5;28;01mimport\u001b[39;00m graph_constants \u001b[38;5;28;01mas\u001b[39;00m const\n\u001b[0;32m----> 7\u001b[0m \u001b[38;5;28;01mfrom\u001b[39;00m \u001b[38;5;21;01mtensorflow_gnn\u001b[39;00m\u001b[38;5;21;01m.\u001b[39;00m\u001b[38;5;21;01mgraph\u001b[39;00m \u001b[38;5;28;01mimport\u001b[39;00m graph_piece \u001b[38;5;28;01mas\u001b[39;00m gp\n\u001b[1;32m      8\u001b[0m \u001b[38;5;28;01mfrom\u001b[39;00m \u001b[38;5;21;01mtensorflow_gnn\u001b[39;00m\u001b[38;5;21;01m.\u001b[39;00m\u001b[38;5;21;01mgraph\u001b[39;00m \u001b[38;5;28;01mimport\u001b[39;00m tensor_utils \u001b[38;5;28;01mas\u001b[39;00m utils\n\u001b[1;32m     10\u001b[0m \u001b[38;5;66;03m# pylint: disable=g-direct-tensorflow-import\u001b[39;00m\n",
      "File \u001b[0;32m~/anaconda3/lib/python3.11/site-packages/tensorflow_gnn/graph/graph_piece.py:12\u001b[0m\n\u001b[1;32m      9\u001b[0m \u001b[38;5;28;01mimport\u001b[39;00m \u001b[38;5;21;01mtensorflow\u001b[39;00m \u001b[38;5;28;01mas\u001b[39;00m \u001b[38;5;21;01mtf\u001b[39;00m\n\u001b[1;32m     11\u001b[0m \u001b[38;5;28;01mfrom\u001b[39;00m \u001b[38;5;21;01mtensorflow_gnn\u001b[39;00m\u001b[38;5;21;01m.\u001b[39;00m\u001b[38;5;21;01mgraph\u001b[39;00m \u001b[38;5;28;01mimport\u001b[39;00m graph_constants \u001b[38;5;28;01mas\u001b[39;00m const\n\u001b[0;32m---> 12\u001b[0m \u001b[38;5;28;01mfrom\u001b[39;00m \u001b[38;5;21;01mtensorflow_gnn\u001b[39;00m\u001b[38;5;21;01m.\u001b[39;00m\u001b[38;5;21;01mgraph\u001b[39;00m \u001b[38;5;28;01mimport\u001b[39;00m tensor_utils \u001b[38;5;28;01mas\u001b[39;00m utils\n\u001b[1;32m     14\u001b[0m \u001b[38;5;66;03m# pylint: disable=g-direct-tensorflow-import\u001b[39;00m\n\u001b[1;32m     15\u001b[0m \u001b[38;5;28;01mfrom\u001b[39;00m \u001b[38;5;21;01mtensorflow\u001b[39;00m\u001b[38;5;21;01m.\u001b[39;00m\u001b[38;5;21;01mpython\u001b[39;00m\u001b[38;5;21;01m.\u001b[39;00m\u001b[38;5;21;01mframework\u001b[39;00m \u001b[38;5;28;01mimport\u001b[39;00m composite_tensor\n",
      "File \u001b[0;32m~/anaconda3/lib/python3.11/site-packages/tensorflow_gnn/graph/tensor_utils.py:4\u001b[0m\n\u001b[1;32m      1\u001b[0m \u001b[38;5;124;03m\"\"\"Utils for tensors and ragged tensors.\"\"\"\u001b[39;00m\n\u001b[1;32m      2\u001b[0m \u001b[38;5;28;01mfrom\u001b[39;00m \u001b[38;5;21;01mtyping\u001b[39;00m \u001b[38;5;28;01mimport\u001b[39;00m List, Optional, Text, Union, Mapping\n\u001b[0;32m----> 4\u001b[0m \u001b[38;5;28;01mfrom\u001b[39;00m \u001b[38;5;21;01mkeras\u001b[39;00m\u001b[38;5;21;01m.\u001b[39;00m\u001b[38;5;21;01mengine\u001b[39;00m \u001b[38;5;28;01mimport\u001b[39;00m keras_tensor \u001b[38;5;28;01mas\u001b[39;00m kt\n\u001b[1;32m      5\u001b[0m \u001b[38;5;28;01mimport\u001b[39;00m \u001b[38;5;21;01mtensorflow\u001b[39;00m \u001b[38;5;28;01mas\u001b[39;00m \u001b[38;5;21;01mtf\u001b[39;00m\n\u001b[1;32m      7\u001b[0m Value \u001b[38;5;241m=\u001b[39m Union[tf\u001b[38;5;241m.\u001b[39mTensor, tf\u001b[38;5;241m.\u001b[39mRaggedTensor]\n",
      "\u001b[0;31mModuleNotFoundError\u001b[0m: No module named 'keras.engine'"
     ]
    }
   ],
   "source": [
    "# import pygraphviz as pgv\n",
    "from tqdm import tqdm\n",
    "from IPython.display import Image\n",
    "\n",
    "import tensorflow as tf\n",
    "tf.get_logger().setLevel('ERROR')\n",
    "\n",
    "import tensorflow_gnn as tfgnn\n",
    "import tensorflow_datasets as tfds\n",
    "\n",
    "from tensorflow_gnn import runner\n",
    "from tensorflow_gnn.models import gat_v2\n",
    "\n",
    "print(f'Using TensorFlow v{tf.__version__} and TensorFlow-GNN v{tfgnn.__version__}')\n",
    "print(f'GPUs available: {tf.config.list_physical_devices(\"GPU\")}')"
   ]
  },
  {
   "cell_type": "code",
   "execution_count": 6,
   "id": "0521341a",
   "metadata": {},
   "outputs": [
    {
     "name": "stdout",
     "output_type": "stream",
     "text": [
      "\u001b[33mDEPRECATION: --build-option and --global-option are deprecated. pip 23.3 will enforce this behaviour change. A possible replacement is to use --config-settings. Discussion can be found at https://github.com/pypa/pip/issues/11859\u001b[0m\u001b[33m\n",
      "\u001b[0m\u001b[33mWARNING: Implying --no-binary=:all: due to the presence of --build-option / --global-option.\u001b[0m\u001b[33m\n",
      "\u001b[0mCollecting pygraphviz\n",
      "  Using cached pygraphviz-1.11.zip (120 kB)\n",
      "  Preparing metadata (setup.py) ... \u001b[?25ldone\n",
      "\u001b[?25hBuilding wheels for collected packages: pygraphviz\n",
      "  Building wheel for pygraphviz (setup.py) ... \u001b[?25ldone\n",
      "\u001b[?25h  Created wheel for pygraphviz: filename=pygraphviz-1.11-cp311-cp311-macosx_11_0_arm64.whl size=98710 sha256=b6e2539bd11069fbc30d5aa56100daf6905e3812832a81b37d497649d4c3583c\n",
      "  Stored in directory: /Users/minkexiu/Library/Caches/pip/wheels/c8/03/73/b754941d55845a8b326f6de528bc70e65774838c76effa6d51\n",
      "Successfully built pygraphviz\n",
      "Installing collected packages: pygraphviz\n",
      "Successfully installed pygraphviz-1.11\n"
     ]
    }
   ],
   "source": [
    "# !python -m pip install \\\n",
    "#     --global-option=build_ext \\\n",
    "#     --global-option=\"-I$(brew --prefix graphviz)/include/\" \\\n",
    "#     --global-option=\"-L$(brew --prefix graphviz)/lib/\" \\\n",
    "#     pygraphviz"
   ]
  },
  {
   "cell_type": "code",
   "execution_count": null,
   "id": "1981c4d9",
   "metadata": {},
   "outputs": [],
   "source": []
  }
 ],
 "metadata": {
  "kernelspec": {
   "display_name": "Python 3 (ipykernel)",
   "language": "python",
   "name": "python3"
  },
  "language_info": {
   "codemirror_mode": {
    "name": "ipython",
    "version": 3
   },
   "file_extension": ".py",
   "mimetype": "text/x-python",
   "name": "python",
   "nbconvert_exporter": "python",
   "pygments_lexer": "ipython3",
   "version": "3.11.5"
  }
 },
 "nbformat": 4,
 "nbformat_minor": 5
}
