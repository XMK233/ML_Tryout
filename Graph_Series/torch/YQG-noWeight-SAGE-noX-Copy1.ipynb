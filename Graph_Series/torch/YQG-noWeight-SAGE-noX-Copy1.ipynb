{
 "cells": [
  {
   "cell_type": "markdown",
   "id": "ffeb9589",
   "metadata": {},
   "source": [
    "https://medium.com/@pytorch_geometric/link-prediction-on-heterogeneous-graphs-with-pyg-6d5c29677c70\n",
    "\n",
    "这里，我们尝试，不要初始特征，让初始特征变成embedding。"
   ]
  },
  {
   "cell_type": "code",
   "execution_count": 1,
   "id": "2e5a7b44",
   "metadata": {},
   "outputs": [],
   "source": [
    "import os.path as osp\n",
    "import torch\n",
    "from torch_geometric.utils import negative_sampling\n",
    "from torch_geometric.datasets import Planetoid\n",
    "import torch_geometric.transforms as T\n",
    "from torch_geometric.utils import train_test_split_edges\n",
    "import torch.nn.functional as F\n",
    "from sklearn.metrics import roc_auc_score"
   ]
  },
  {
   "cell_type": "code",
   "execution_count": 2,
   "id": "805e186b",
   "metadata": {},
   "outputs": [],
   "source": [
    "import pandas as pd\n",
    "import numpy as np"
   ]
  },
  {
   "cell_type": "code",
   "execution_count": null,
   "id": "c11372a2",
   "metadata": {},
   "outputs": [],
   "source": []
  },
  {
   "cell_type": "code",
   "execution_count": 3,
   "id": "af76a140",
   "metadata": {},
   "outputs": [],
   "source": [
    "# import torch_scatter, torch_sparse, torch_cluster, torch_spline_conv, torch_geometric"
   ]
  },
  {
   "cell_type": "code",
   "execution_count": 4,
   "id": "61e23bd4",
   "metadata": {},
   "outputs": [],
   "source": [
    "# pip install torch==2.1.1 torch-scatter==2.1.2 torch-sparse==0.6.18 torch-cluster==1.6.3 torch-spline-conv==1.2.2 torch-geometric==2.4.0 --target=./"
   ]
  },
  {
   "cell_type": "code",
   "execution_count": 5,
   "id": "7364019f",
   "metadata": {},
   "outputs": [],
   "source": [
    "df_ori = pd.read_csv(\"sample.csv\").head(10000).drop(columns = [\"report_year\"])\n",
    "\n",
    "node_order = sorted(list(set(df_ori.credit_code.to_list() + df_ori.outcredit_code.to_list())))\n",
    "\n",
    "mapping = {\n",
    "    ci: idx for idx, ci in enumerate(node_order)\n",
    "}\n",
    "for col in df_ori:\n",
    "    df_ori[col] = df_ori[col].map(mapping)"
   ]
  },
  {
   "cell_type": "code",
   "execution_count": null,
   "id": "5381f988",
   "metadata": {},
   "outputs": [],
   "source": []
  },
  {
   "cell_type": "code",
   "execution_count": 6,
   "id": "bd4173b4",
   "metadata": {},
   "outputs": [],
   "source": [
    "from torch_geometric.data import Data\n",
    "\n",
    "data = Data(\n",
    "    num_nodes = len(mapping),\n",
    "    edge_index=torch.tensor(\n",
    "        df_ori.T.to_numpy(), \n",
    "        dtype = torch.long\n",
    "    )\n",
    ")"
   ]
  },
  {
   "cell_type": "code",
   "execution_count": 7,
   "id": "012acdcc",
   "metadata": {},
   "outputs": [
    {
     "data": {
      "text/plain": [
       "True"
      ]
     },
     "execution_count": 7,
     "metadata": {},
     "output_type": "execute_result"
    }
   ],
   "source": [
    "data.is_directed()"
   ]
  },
  {
   "cell_type": "code",
   "execution_count": 8,
   "id": "c8348f4e",
   "metadata": {},
   "outputs": [],
   "source": [
    "n_nodes = data.num_nodes\n",
    "hidden_channels = 64"
   ]
  },
  {
   "cell_type": "code",
   "execution_count": 9,
   "id": "d0eec09c",
   "metadata": {},
   "outputs": [],
   "source": [
    "transform = T.RandomLinkSplit(\n",
    "    num_val=0.1,\n",
    "    num_test=0.1,\n",
    "    disjoint_train_ratio=0.3,\n",
    "    neg_sampling_ratio=2.0,\n",
    "    add_negative_train_samples=False,    \n",
    ")\n",
    "train_data, val_data, test_data = transform(data)"
   ]
  },
  {
   "cell_type": "code",
   "execution_count": 10,
   "id": "04cb29c3",
   "metadata": {},
   "outputs": [],
   "source": [
    "from torch_geometric.loader import LinkNeighborLoader\n",
    "train_loader = LinkNeighborLoader(\n",
    "    data=train_data,\n",
    "    num_neighbors=[\n",
    "        -1,# 10, \n",
    "        -1, # 5\n",
    "    ],\n",
    "    neg_sampling_ratio=2.0,\n",
    "    batch_size=128,\n",
    "    shuffle=True,\n",
    ")"
   ]
  },
  {
   "cell_type": "code",
   "execution_count": 11,
   "id": "baa3ae80",
   "metadata": {},
   "outputs": [
    {
     "data": {
      "text/html": [
       "<div>\n",
       "<style scoped>\n",
       "    .dataframe tbody tr th:only-of-type {\n",
       "        vertical-align: middle;\n",
       "    }\n",
       "\n",
       "    .dataframe tbody tr th {\n",
       "        vertical-align: top;\n",
       "    }\n",
       "\n",
       "    .dataframe thead th {\n",
       "        text-align: right;\n",
       "    }\n",
       "</style>\n",
       "<table border=\"1\" class=\"dataframe\">\n",
       "  <thead>\n",
       "    <tr style=\"text-align: right;\">\n",
       "      <th></th>\n",
       "      <th>col_0</th>\n",
       "      <th>col_1</th>\n",
       "      <th>col_2</th>\n",
       "      <th>col_3</th>\n",
       "      <th>col_4</th>\n",
       "      <th>col_5</th>\n",
       "      <th>col_6</th>\n",
       "      <th>col_7</th>\n",
       "      <th>col_8</th>\n",
       "      <th>col_9</th>\n",
       "      <th>...</th>\n",
       "      <th>col_54</th>\n",
       "      <th>col_55</th>\n",
       "      <th>col_56</th>\n",
       "      <th>col_57</th>\n",
       "      <th>col_58</th>\n",
       "      <th>col_59</th>\n",
       "      <th>col_60</th>\n",
       "      <th>col_61</th>\n",
       "      <th>col_62</th>\n",
       "      <th>col_63</th>\n",
       "    </tr>\n",
       "  </thead>\n",
       "  <tbody>\n",
       "    <tr>\n",
       "      <th>0</th>\n",
       "      <td>0.204166</td>\n",
       "      <td>-1.913129</td>\n",
       "      <td>0.224228</td>\n",
       "      <td>-0.798225</td>\n",
       "      <td>2.311201</td>\n",
       "      <td>-0.734143</td>\n",
       "      <td>-0.890415</td>\n",
       "      <td>2.116769</td>\n",
       "      <td>0.367596</td>\n",
       "      <td>0.745665</td>\n",
       "      <td>...</td>\n",
       "      <td>-0.932779</td>\n",
       "      <td>0.261779</td>\n",
       "      <td>-0.184092</td>\n",
       "      <td>0.589380</td>\n",
       "      <td>0.075864</td>\n",
       "      <td>1.148578</td>\n",
       "      <td>-1.244520</td>\n",
       "      <td>-1.590388</td>\n",
       "      <td>-0.749513</td>\n",
       "      <td>0.494159</td>\n",
       "    </tr>\n",
       "    <tr>\n",
       "      <th>1</th>\n",
       "      <td>-0.213372</td>\n",
       "      <td>1.305606</td>\n",
       "      <td>-1.012688</td>\n",
       "      <td>0.645469</td>\n",
       "      <td>-1.282616</td>\n",
       "      <td>-0.434324</td>\n",
       "      <td>-1.887497</td>\n",
       "      <td>-1.587650</td>\n",
       "      <td>0.387500</td>\n",
       "      <td>-0.392872</td>\n",
       "      <td>...</td>\n",
       "      <td>0.438843</td>\n",
       "      <td>-1.588360</td>\n",
       "      <td>2.654335</td>\n",
       "      <td>0.668084</td>\n",
       "      <td>0.635473</td>\n",
       "      <td>-0.326247</td>\n",
       "      <td>-0.343727</td>\n",
       "      <td>0.970685</td>\n",
       "      <td>-0.365338</td>\n",
       "      <td>-0.759091</td>\n",
       "    </tr>\n",
       "    <tr>\n",
       "      <th>2</th>\n",
       "      <td>-0.625264</td>\n",
       "      <td>-2.347703</td>\n",
       "      <td>-1.274370</td>\n",
       "      <td>-0.675747</td>\n",
       "      <td>-0.079451</td>\n",
       "      <td>0.771739</td>\n",
       "      <td>-0.031718</td>\n",
       "      <td>-1.899585</td>\n",
       "      <td>-0.215473</td>\n",
       "      <td>1.388394</td>\n",
       "      <td>...</td>\n",
       "      <td>-0.464952</td>\n",
       "      <td>-0.567257</td>\n",
       "      <td>0.549657</td>\n",
       "      <td>-0.690892</td>\n",
       "      <td>-0.913559</td>\n",
       "      <td>-0.637127</td>\n",
       "      <td>-1.107562</td>\n",
       "      <td>-0.776902</td>\n",
       "      <td>-0.323069</td>\n",
       "      <td>-2.251067</td>\n",
       "    </tr>\n",
       "    <tr>\n",
       "      <th>3</th>\n",
       "      <td>-0.454974</td>\n",
       "      <td>0.771563</td>\n",
       "      <td>-0.169056</td>\n",
       "      <td>0.671824</td>\n",
       "      <td>0.625613</td>\n",
       "      <td>0.636769</td>\n",
       "      <td>-1.380048</td>\n",
       "      <td>0.127225</td>\n",
       "      <td>0.915895</td>\n",
       "      <td>-1.412789</td>\n",
       "      <td>...</td>\n",
       "      <td>-0.618219</td>\n",
       "      <td>0.665512</td>\n",
       "      <td>-0.049737</td>\n",
       "      <td>-0.096232</td>\n",
       "      <td>0.808627</td>\n",
       "      <td>-0.845300</td>\n",
       "      <td>-2.135978</td>\n",
       "      <td>-0.529514</td>\n",
       "      <td>0.482361</td>\n",
       "      <td>-1.698244</td>\n",
       "    </tr>\n",
       "    <tr>\n",
       "      <th>4</th>\n",
       "      <td>-1.815911</td>\n",
       "      <td>-0.360211</td>\n",
       "      <td>-0.820130</td>\n",
       "      <td>-0.984728</td>\n",
       "      <td>-0.906629</td>\n",
       "      <td>1.167074</td>\n",
       "      <td>-0.149966</td>\n",
       "      <td>-1.214211</td>\n",
       "      <td>-0.305907</td>\n",
       "      <td>-0.194863</td>\n",
       "      <td>...</td>\n",
       "      <td>-0.417437</td>\n",
       "      <td>2.206745</td>\n",
       "      <td>-0.103622</td>\n",
       "      <td>-0.939314</td>\n",
       "      <td>0.134920</td>\n",
       "      <td>0.378280</td>\n",
       "      <td>0.385108</td>\n",
       "      <td>1.428602</td>\n",
       "      <td>-1.430276</td>\n",
       "      <td>-1.149042</td>\n",
       "    </tr>\n",
       "    <tr>\n",
       "      <th>...</th>\n",
       "      <td>...</td>\n",
       "      <td>...</td>\n",
       "      <td>...</td>\n",
       "      <td>...</td>\n",
       "      <td>...</td>\n",
       "      <td>...</td>\n",
       "      <td>...</td>\n",
       "      <td>...</td>\n",
       "      <td>...</td>\n",
       "      <td>...</td>\n",
       "      <td>...</td>\n",
       "      <td>...</td>\n",
       "      <td>...</td>\n",
       "      <td>...</td>\n",
       "      <td>...</td>\n",
       "      <td>...</td>\n",
       "      <td>...</td>\n",
       "      <td>...</td>\n",
       "      <td>...</td>\n",
       "      <td>...</td>\n",
       "      <td>...</td>\n",
       "    </tr>\n",
       "    <tr>\n",
       "      <th>10267</th>\n",
       "      <td>0.272824</td>\n",
       "      <td>-1.647135</td>\n",
       "      <td>0.213967</td>\n",
       "      <td>-0.534543</td>\n",
       "      <td>-0.419478</td>\n",
       "      <td>-0.547089</td>\n",
       "      <td>0.557933</td>\n",
       "      <td>-1.523871</td>\n",
       "      <td>0.265893</td>\n",
       "      <td>-0.057150</td>\n",
       "      <td>...</td>\n",
       "      <td>0.759211</td>\n",
       "      <td>-0.390345</td>\n",
       "      <td>1.357873</td>\n",
       "      <td>-1.888997</td>\n",
       "      <td>-2.419361</td>\n",
       "      <td>0.382690</td>\n",
       "      <td>0.532714</td>\n",
       "      <td>-0.316429</td>\n",
       "      <td>-2.431507</td>\n",
       "      <td>-1.294023</td>\n",
       "    </tr>\n",
       "    <tr>\n",
       "      <th>10268</th>\n",
       "      <td>-0.920462</td>\n",
       "      <td>0.869821</td>\n",
       "      <td>0.366213</td>\n",
       "      <td>0.600005</td>\n",
       "      <td>-0.803093</td>\n",
       "      <td>1.714525</td>\n",
       "      <td>-0.464417</td>\n",
       "      <td>-0.901931</td>\n",
       "      <td>0.164131</td>\n",
       "      <td>-0.013455</td>\n",
       "      <td>...</td>\n",
       "      <td>0.814906</td>\n",
       "      <td>-0.869550</td>\n",
       "      <td>0.693782</td>\n",
       "      <td>-1.796077</td>\n",
       "      <td>-0.344530</td>\n",
       "      <td>-1.417625</td>\n",
       "      <td>0.754893</td>\n",
       "      <td>0.429027</td>\n",
       "      <td>0.163029</td>\n",
       "      <td>0.081340</td>\n",
       "    </tr>\n",
       "    <tr>\n",
       "      <th>10269</th>\n",
       "      <td>0.843906</td>\n",
       "      <td>1.481964</td>\n",
       "      <td>0.667393</td>\n",
       "      <td>-0.876184</td>\n",
       "      <td>1.009999</td>\n",
       "      <td>-0.296200</td>\n",
       "      <td>-1.767485</td>\n",
       "      <td>0.388130</td>\n",
       "      <td>0.151410</td>\n",
       "      <td>0.232196</td>\n",
       "      <td>...</td>\n",
       "      <td>1.391059</td>\n",
       "      <td>-0.405664</td>\n",
       "      <td>0.583687</td>\n",
       "      <td>1.340488</td>\n",
       "      <td>-0.233576</td>\n",
       "      <td>0.604424</td>\n",
       "      <td>0.726584</td>\n",
       "      <td>2.412103</td>\n",
       "      <td>-0.505816</td>\n",
       "      <td>-0.276736</td>\n",
       "    </tr>\n",
       "    <tr>\n",
       "      <th>10270</th>\n",
       "      <td>-0.041046</td>\n",
       "      <td>-0.788669</td>\n",
       "      <td>-0.207257</td>\n",
       "      <td>1.542667</td>\n",
       "      <td>0.908246</td>\n",
       "      <td>-2.995111</td>\n",
       "      <td>-0.451971</td>\n",
       "      <td>-0.303380</td>\n",
       "      <td>0.504326</td>\n",
       "      <td>1.612450</td>\n",
       "      <td>...</td>\n",
       "      <td>2.596516</td>\n",
       "      <td>-0.365549</td>\n",
       "      <td>-1.624916</td>\n",
       "      <td>-0.740118</td>\n",
       "      <td>-0.695535</td>\n",
       "      <td>0.925779</td>\n",
       "      <td>-1.271072</td>\n",
       "      <td>-0.153407</td>\n",
       "      <td>1.005416</td>\n",
       "      <td>-0.803567</td>\n",
       "    </tr>\n",
       "    <tr>\n",
       "      <th>10271</th>\n",
       "      <td>0.034325</td>\n",
       "      <td>0.675097</td>\n",
       "      <td>-0.068468</td>\n",
       "      <td>-0.999973</td>\n",
       "      <td>-0.157344</td>\n",
       "      <td>0.457640</td>\n",
       "      <td>0.692044</td>\n",
       "      <td>-0.575366</td>\n",
       "      <td>-0.205712</td>\n",
       "      <td>0.718009</td>\n",
       "      <td>...</td>\n",
       "      <td>-1.697356</td>\n",
       "      <td>-3.058212</td>\n",
       "      <td>2.053301</td>\n",
       "      <td>0.912296</td>\n",
       "      <td>-0.808123</td>\n",
       "      <td>-1.535163</td>\n",
       "      <td>0.855070</td>\n",
       "      <td>-2.059011</td>\n",
       "      <td>-1.274728</td>\n",
       "      <td>-0.442362</td>\n",
       "    </tr>\n",
       "  </tbody>\n",
       "</table>\n",
       "<p>10272 rows × 64 columns</p>\n",
       "</div>"
      ],
      "text/plain": [
       "          col_0     col_1     col_2     col_3     col_4     col_5     col_6  \\\n",
       "0      0.204166 -1.913129  0.224228 -0.798225  2.311201 -0.734143 -0.890415   \n",
       "1     -0.213372  1.305606 -1.012688  0.645469 -1.282616 -0.434324 -1.887497   \n",
       "2     -0.625264 -2.347703 -1.274370 -0.675747 -0.079451  0.771739 -0.031718   \n",
       "3     -0.454974  0.771563 -0.169056  0.671824  0.625613  0.636769 -1.380048   \n",
       "4     -1.815911 -0.360211 -0.820130 -0.984728 -0.906629  1.167074 -0.149966   \n",
       "...         ...       ...       ...       ...       ...       ...       ...   \n",
       "10267  0.272824 -1.647135  0.213967 -0.534543 -0.419478 -0.547089  0.557933   \n",
       "10268 -0.920462  0.869821  0.366213  0.600005 -0.803093  1.714525 -0.464417   \n",
       "10269  0.843906  1.481964  0.667393 -0.876184  1.009999 -0.296200 -1.767485   \n",
       "10270 -0.041046 -0.788669 -0.207257  1.542667  0.908246 -2.995111 -0.451971   \n",
       "10271  0.034325  0.675097 -0.068468 -0.999973 -0.157344  0.457640  0.692044   \n",
       "\n",
       "          col_7     col_8     col_9  ...    col_54    col_55    col_56  \\\n",
       "0      2.116769  0.367596  0.745665  ... -0.932779  0.261779 -0.184092   \n",
       "1     -1.587650  0.387500 -0.392872  ...  0.438843 -1.588360  2.654335   \n",
       "2     -1.899585 -0.215473  1.388394  ... -0.464952 -0.567257  0.549657   \n",
       "3      0.127225  0.915895 -1.412789  ... -0.618219  0.665512 -0.049737   \n",
       "4     -1.214211 -0.305907 -0.194863  ... -0.417437  2.206745 -0.103622   \n",
       "...         ...       ...       ...  ...       ...       ...       ...   \n",
       "10267 -1.523871  0.265893 -0.057150  ...  0.759211 -0.390345  1.357873   \n",
       "10268 -0.901931  0.164131 -0.013455  ...  0.814906 -0.869550  0.693782   \n",
       "10269  0.388130  0.151410  0.232196  ...  1.391059 -0.405664  0.583687   \n",
       "10270 -0.303380  0.504326  1.612450  ...  2.596516 -0.365549 -1.624916   \n",
       "10271 -0.575366 -0.205712  0.718009  ... -1.697356 -3.058212  2.053301   \n",
       "\n",
       "         col_57    col_58    col_59    col_60    col_61    col_62    col_63  \n",
       "0      0.589380  0.075864  1.148578 -1.244520 -1.590388 -0.749513  0.494159  \n",
       "1      0.668084  0.635473 -0.326247 -0.343727  0.970685 -0.365338 -0.759091  \n",
       "2     -0.690892 -0.913559 -0.637127 -1.107562 -0.776902 -0.323069 -2.251067  \n",
       "3     -0.096232  0.808627 -0.845300 -2.135978 -0.529514  0.482361 -1.698244  \n",
       "4     -0.939314  0.134920  0.378280  0.385108  1.428602 -1.430276 -1.149042  \n",
       "...         ...       ...       ...       ...       ...       ...       ...  \n",
       "10267 -1.888997 -2.419361  0.382690  0.532714 -0.316429 -2.431507 -1.294023  \n",
       "10268 -1.796077 -0.344530 -1.417625  0.754893  0.429027  0.163029  0.081340  \n",
       "10269  1.340488 -0.233576  0.604424  0.726584  2.412103 -0.505816 -0.276736  \n",
       "10270 -0.740118 -0.695535  0.925779 -1.271072 -0.153407  1.005416 -0.803567  \n",
       "10271  0.912296 -0.808123 -1.535163  0.855070 -2.059011 -1.274728 -0.442362  \n",
       "\n",
       "[10272 rows x 64 columns]"
      ]
     },
     "execution_count": 11,
     "metadata": {},
     "output_type": "execute_result"
    }
   ],
   "source": [
    "from torch_geometric.nn import SAGEConv\n",
    "import torch.nn.functional as F\n",
    "class GNN(torch.nn.Module):\n",
    "    def __init__(self, in_channels, out_channels):\n",
    "        super().__init__()\n",
    "        self.conv1 = SAGEConv(in_channels, 128)\n",
    "        self.conv2 = SAGEConv(128, out_channels)\n",
    "    def forward(self, x, edge_index) :\n",
    "        x = F.relu(self.conv1(x, edge_index))\n",
    "        x = self.conv2(x, edge_index)\n",
    "        return x\n",
    "\n",
    "class Classifier(torch.nn.Module):\n",
    "    def forward(self, x_from, x_to,):\n",
    "        return (x_from * x_to).sum(dim=-1)\n",
    "\n",
    "class Model(torch.nn.Module):\n",
    "    def __init__(self, in_channels, out_channels):\n",
    "        super().__init__()\n",
    "        self.emb = torch.nn.Embedding(n_nodes, in_channels)\n",
    "        self.gnn = GNN(in_channels, out_channels)\n",
    "        self.classifier = Classifier()\n",
    "    def forward(self, data):\n",
    "        x_out = self.gnn(\n",
    "            self.emb(data.n_id), \n",
    "            data.edge_label_index\n",
    "        )\n",
    "        pred = self.classifier(\n",
    "            x_out[data.edge_label_index[0]], ## 边的起始点。\n",
    "            x_out[data.edge_label_index[-1]] ## 边的终结点。\n",
    "        )\n",
    "        return pred\n",
    "        \n",
    "model = Model(in_channels=hidden_channels, out_channels=64)\n",
    "\n",
    "weights = model.emb.weight.detach().numpy()\n",
    "pd.DataFrame(weights, columns = [f\"col_{i}\" for i in range(weights.shape[1])])"
   ]
  },
  {
   "cell_type": "code",
   "execution_count": 12,
   "id": "25c03b01",
   "metadata": {},
   "outputs": [],
   "source": [
    "# !pip install torch-scatter torch-sparse -f https://data.pyg.org/whl/torch-2.1.0+cu111.html\n",
    "# import torch_geometric\n",
    "# torch_geometric.typing.WITH_TORCH_SPARSE"
   ]
  },
  {
   "cell_type": "code",
   "execution_count": 13,
   "id": "bf5a4fcc",
   "metadata": {},
   "outputs": [
    {
     "name": "stdout",
     "output_type": "stream",
     "text": [
      "Device: 'cpu'\n"
     ]
    },
    {
     "name": "stderr",
     "output_type": "stream",
     "text": [
      "100%|█████████████████████████████████████████████████████████████████| 44/44 [00:00<00:00, 206.03it/s]\n"
     ]
    },
    {
     "name": "stdout",
     "output_type": "stream",
     "text": [
      "Epoch: 001, Loss: 0.6267\n"
     ]
    },
    {
     "name": "stderr",
     "output_type": "stream",
     "text": [
      "100%|█████████████████████████████████████████████████████████████████| 44/44 [00:00<00:00, 283.42it/s]\n"
     ]
    },
    {
     "name": "stdout",
     "output_type": "stream",
     "text": [
      "Epoch: 002, Loss: 0.4416\n"
     ]
    },
    {
     "name": "stderr",
     "output_type": "stream",
     "text": [
      "100%|█████████████████████████████████████████████████████████████████| 44/44 [00:00<00:00, 259.05it/s]\n"
     ]
    },
    {
     "name": "stdout",
     "output_type": "stream",
     "text": [
      "Epoch: 003, Loss: 0.3564\n"
     ]
    },
    {
     "name": "stderr",
     "output_type": "stream",
     "text": [
      "100%|█████████████████████████████████████████████████████████████████| 44/44 [00:00<00:00, 264.26it/s]\n"
     ]
    },
    {
     "name": "stdout",
     "output_type": "stream",
     "text": [
      "Epoch: 004, Loss: 0.2915\n"
     ]
    },
    {
     "name": "stderr",
     "output_type": "stream",
     "text": [
      "100%|█████████████████████████████████████████████████████████████████| 44/44 [00:00<00:00, 214.93it/s]\n"
     ]
    },
    {
     "name": "stdout",
     "output_type": "stream",
     "text": [
      "Epoch: 005, Loss: 0.2605\n"
     ]
    },
    {
     "name": "stderr",
     "output_type": "stream",
     "text": [
      "100%|█████████████████████████████████████████████████████████████████| 44/44 [00:00<00:00, 265.72it/s]\n"
     ]
    },
    {
     "name": "stdout",
     "output_type": "stream",
     "text": [
      "Epoch: 006, Loss: 0.2346\n"
     ]
    },
    {
     "name": "stderr",
     "output_type": "stream",
     "text": [
      "100%|█████████████████████████████████████████████████████████████████| 44/44 [00:00<00:00, 256.10it/s]\n"
     ]
    },
    {
     "name": "stdout",
     "output_type": "stream",
     "text": [
      "Epoch: 007, Loss: 0.2140\n"
     ]
    },
    {
     "name": "stderr",
     "output_type": "stream",
     "text": [
      "100%|█████████████████████████████████████████████████████████████████| 44/44 [00:00<00:00, 270.14it/s]\n"
     ]
    },
    {
     "name": "stdout",
     "output_type": "stream",
     "text": [
      "Epoch: 008, Loss: 0.1983\n"
     ]
    },
    {
     "name": "stderr",
     "output_type": "stream",
     "text": [
      "100%|█████████████████████████████████████████████████████████████████| 44/44 [00:00<00:00, 275.58it/s]"
     ]
    },
    {
     "name": "stdout",
     "output_type": "stream",
     "text": [
      "Epoch: 009, Loss: 0.1846\n"
     ]
    },
    {
     "name": "stderr",
     "output_type": "stream",
     "text": [
      "\n"
     ]
    }
   ],
   "source": [
    "import tqdm\n",
    "import torch.nn.functional as F\n",
    "device = torch.device('cuda' if torch.cuda.is_available() else 'cpu')\n",
    "print(f\"Device: '{device}'\")\n",
    "model = model.to(device)\n",
    "optimizer = torch.optim.Adam(model.parameters(), lr=0.001)\n",
    "for epoch in range(1, 10):\n",
    "    total_loss = total_examples = 0\n",
    "    for sampled_data in tqdm.tqdm(train_loader):        \n",
    "        optimizer.zero_grad()\n",
    "        sampled_data.to(device)\n",
    "        pred = model(sampled_data)\n",
    "        ground_truth = sampled_data.edge_label\n",
    "        loss = F.binary_cross_entropy_with_logits(pred, ground_truth)\n",
    "        loss.backward()\n",
    "        optimizer.step()\n",
    "        total_loss += float(loss) * pred.numel()\n",
    "        total_examples += pred.numel()\n",
    "    \n",
    "#     break\n",
    "    \n",
    "    print(f\"Epoch: {epoch:03d}, Loss: {total_loss / total_examples:.4f}\")\n",
    "    "
   ]
  },
  {
   "cell_type": "code",
   "execution_count": 14,
   "id": "dd6cfa4b",
   "metadata": {},
   "outputs": [],
   "source": [
    "# !pip install torch-scatter torch-sparse torch-cluster torch-spline-conv torch-geometric"
   ]
  },
  {
   "cell_type": "code",
   "execution_count": null,
   "id": "1e582f08",
   "metadata": {},
   "outputs": [],
   "source": []
  },
  {
   "cell_type": "code",
   "execution_count": 15,
   "id": "47216f29",
   "metadata": {},
   "outputs": [],
   "source": [
    "test_loader = LinkNeighborLoader(\n",
    "    data=val_data,\n",
    "    num_neighbors=[10, 5],\n",
    "    neg_sampling_ratio=2.0,\n",
    "    batch_size=128,\n",
    "    shuffle=True,\n",
    ")"
   ]
  },
  {
   "cell_type": "code",
   "execution_count": 16,
   "id": "7ab50d98",
   "metadata": {},
   "outputs": [
    {
     "name": "stderr",
     "output_type": "stream",
     "text": [
      "100%|██████████████████████████████████████████| 63/63 [00:00<00:00, 401.29it/s]"
     ]
    },
    {
     "name": "stdout",
     "output_type": "stream",
     "text": [
      "\n",
      "Validation AUC: 0.7791\n"
     ]
    },
    {
     "name": "stderr",
     "output_type": "stream",
     "text": [
      "\n"
     ]
    }
   ],
   "source": [
    "from sklearn.metrics import roc_auc_score\n",
    "preds = []\n",
    "ground_truths = []\n",
    "for sampled_data in tqdm.tqdm(test_loader):\n",
    "    with torch.no_grad():\n",
    "        sampled_data.to(device)\n",
    "        preds.append(model(sampled_data))\n",
    "        ground_truths.append(sampled_data.edge_label)\n",
    "pred = torch.cat(preds, dim=0).cpu().numpy()\n",
    "ground_truth = torch.cat(ground_truths, dim=0).cpu().numpy()\n",
    "auc = roc_auc_score(ground_truth, pred)\n",
    "print()\n",
    "print(f\"Validation AUC: {auc:.4f}\")"
   ]
  },
  {
   "cell_type": "code",
   "execution_count": 17,
   "id": "1d06aa8b",
   "metadata": {},
   "outputs": [
    {
     "data": {
      "text/plain": [
       "Embedding(15810, 64)"
      ]
     },
     "execution_count": 17,
     "metadata": {},
     "output_type": "execute_result"
    }
   ],
   "source": [
    "model.emb"
   ]
  },
  {
   "cell_type": "code",
   "execution_count": 18,
   "id": "912e8b15",
   "metadata": {},
   "outputs": [],
   "source": [
    "weights = model.emb.weight.detach().numpy()\n",
    "df_rst = pd.DataFrame(weights, columns = [f\"col_{i}\" for i in range(weights.shape[1])])\n",
    "df_rst[\"company_id\"] = node_order\n",
    "df_rst.to_csv(\"embedding.csv\", index=False)"
   ]
  },
  {
   "cell_type": "code",
   "execution_count": null,
   "id": "4feb8414",
   "metadata": {},
   "outputs": [],
   "source": []
  },
  {
   "cell_type": "code",
   "execution_count": null,
   "id": "e13f3a1a",
   "metadata": {},
   "outputs": [],
   "source": []
  },
  {
   "cell_type": "code",
   "execution_count": null,
   "id": "3c3ee0f4",
   "metadata": {},
   "outputs": [],
   "source": []
  },
  {
   "cell_type": "code",
   "execution_count": null,
   "id": "d8286c01",
   "metadata": {},
   "outputs": [],
   "source": []
  },
  {
   "cell_type": "code",
   "execution_count": null,
   "id": "aa7dc7f9",
   "metadata": {},
   "outputs": [],
   "source": []
  },
  {
   "cell_type": "code",
   "execution_count": null,
   "id": "2b4fbb98",
   "metadata": {},
   "outputs": [],
   "source": []
  }
 ],
 "metadata": {
  "kernelspec": {
   "display_name": "Python 3 (ipykernel)",
   "language": "python",
   "name": "python3"
  },
  "language_info": {
   "codemirror_mode": {
    "name": "ipython",
    "version": 3
   },
   "file_extension": ".py",
   "mimetype": "text/x-python",
   "name": "python",
   "nbconvert_exporter": "python",
   "pygments_lexer": "ipython3",
   "version": "3.11.0"
  },
  "toc": {
   "base_numbering": 1,
   "nav_menu": {},
   "number_sections": true,
   "sideBar": true,
   "skip_h1_title": false,
   "title_cell": "Table of Contents",
   "title_sidebar": "Contents",
   "toc_cell": false,
   "toc_position": {
    "height": "calc(100% - 180px)",
    "left": "10px",
    "top": "150px",
    "width": "173px"
   },
   "toc_section_display": true,
   "toc_window_display": true
  }
 },
 "nbformat": 4,
 "nbformat_minor": 5
}
