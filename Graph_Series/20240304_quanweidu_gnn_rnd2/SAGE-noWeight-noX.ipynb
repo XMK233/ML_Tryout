{
 "cells": [
  {
   "cell_type": "code",
   "execution_count": 13,
   "id": "acbc69b0-dd2f-43bc-8503-c679eccc01bc",
   "metadata": {},
   "outputs": [],
   "source": [
    "import os.path as osp\n",
    "import torch, tqdm\n",
    "from torch_geometric.utils import negative_sampling\n",
    "from torch_geometric.datasets import Planetoid\n",
    "import torch_geometric.transforms as T\n",
    "from torch_geometric.utils import train_test_split_edges\n",
    "import torch.nn.functional as F\n",
    "from sklearn.metrics import roc_auc_score\n",
    "\n",
    "import pandas as pd\n",
    "import numpy as np"
   ]
  },
  {
   "cell_type": "code",
   "execution_count": null,
   "id": "823b1430-e619-4b33-812d-e383eaf20239",
   "metadata": {},
   "outputs": [],
   "source": []
  },
  {
   "cell_type": "code",
   "execution_count": 2,
   "id": "9e4a3cc2-3646-4bc0-a013-5b769c436330",
   "metadata": {},
   "outputs": [
    {
     "data": {
      "text/html": [
       "<div>\n",
       "<style scoped>\n",
       "    .dataframe tbody tr th:only-of-type {\n",
       "        vertical-align: middle;\n",
       "    }\n",
       "\n",
       "    .dataframe tbody tr th {\n",
       "        vertical-align: top;\n",
       "    }\n",
       "\n",
       "    .dataframe thead th {\n",
       "        text-align: right;\n",
       "    }\n",
       "</style>\n",
       "<table border=\"1\" class=\"dataframe\">\n",
       "  <thead>\n",
       "    <tr style=\"text-align: right;\">\n",
       "      <th></th>\n",
       "      <th>company_id</th>\n",
       "      <th>investor_id</th>\n",
       "    </tr>\n",
       "  </thead>\n",
       "  <tbody>\n",
       "    <tr>\n",
       "      <th>0</th>\n",
       "      <td>4708640</td>\n",
       "      <td>4708666</td>\n",
       "    </tr>\n",
       "    <tr>\n",
       "      <th>1</th>\n",
       "      <td>5310348</td>\n",
       "      <td>5310352</td>\n",
       "    </tr>\n",
       "    <tr>\n",
       "      <th>2</th>\n",
       "      <td>5835331</td>\n",
       "      <td>1468298</td>\n",
       "    </tr>\n",
       "    <tr>\n",
       "      <th>3</th>\n",
       "      <td>6339545</td>\n",
       "      <td>2901375</td>\n",
       "    </tr>\n",
       "    <tr>\n",
       "      <th>4</th>\n",
       "      <td>7140015</td>\n",
       "      <td>7140222</td>\n",
       "    </tr>\n",
       "    <tr>\n",
       "      <th>...</th>\n",
       "      <td>...</td>\n",
       "      <td>...</td>\n",
       "    </tr>\n",
       "    <tr>\n",
       "      <th>99995</th>\n",
       "      <td>71211319</td>\n",
       "      <td>12986379</td>\n",
       "    </tr>\n",
       "    <tr>\n",
       "      <th>99996</th>\n",
       "      <td>121778646</td>\n",
       "      <td>121778647</td>\n",
       "    </tr>\n",
       "    <tr>\n",
       "      <th>99997</th>\n",
       "      <td>36615212</td>\n",
       "      <td>4773902</td>\n",
       "    </tr>\n",
       "    <tr>\n",
       "      <th>99998</th>\n",
       "      <td>78441325</td>\n",
       "      <td>123692</td>\n",
       "    </tr>\n",
       "    <tr>\n",
       "      <th>99999</th>\n",
       "      <td>85916228</td>\n",
       "      <td>65708480</td>\n",
       "    </tr>\n",
       "  </tbody>\n",
       "</table>\n",
       "<p>100000 rows × 2 columns</p>\n",
       "</div>"
      ],
      "text/plain": [
       "       company_id  investor_id\n",
       "0         4708640      4708666\n",
       "1         5310348      5310352\n",
       "2         5835331      1468298\n",
       "3         6339545      2901375\n",
       "4         7140015      7140222\n",
       "...           ...          ...\n",
       "99995    71211319     12986379\n",
       "99996   121778646    121778647\n",
       "99997    36615212      4773902\n",
       "99998    78441325       123692\n",
       "99999    85916228     65708480\n",
       "\n",
       "[100000 rows x 2 columns]"
      ]
     },
     "execution_count": 2,
     "metadata": {},
     "output_type": "execute_result"
    }
   ],
   "source": [
    "df_ori = pd.read_csv(\"tst.csv\").drop(columns=[\"amount\"])\n",
    "df_ori"
   ]
  },
  {
   "cell_type": "code",
   "execution_count": 3,
   "id": "91686798-6f33-498b-91ca-3c0cfe0eb641",
   "metadata": {},
   "outputs": [],
   "source": [
    "## 涉及到的所有的节点：\n",
    "node_order = sorted(\n",
    "    list(\n",
    "        set(\n",
    "            df_ori.company_id.to_list() + df_ori.investor_id.to_list()\n",
    "        )\n",
    "    )\n",
    ")"
   ]
  },
  {
   "cell_type": "code",
   "execution_count": 4,
   "id": "306490eb-6fdb-4993-af44-31eb72dbe728",
   "metadata": {},
   "outputs": [],
   "source": [
    "## 节点转为映射值：\n",
    "mapping = {\n",
    "    ci: idx for idx, ci in enumerate(node_order)\n",
    "}\n",
    "for col in [\"investor_id\", \"company_id\"]:\n",
    "    df_ori[col] = df_ori[col].map(mapping)"
   ]
  },
  {
   "cell_type": "code",
   "execution_count": 5,
   "id": "59d08916-3409-47ad-a6f9-fc8d37c3c845",
   "metadata": {},
   "outputs": [],
   "source": [
    "from torch_geometric.data import Data\n",
    "data = Data(\n",
    "    num_nodes = len(mapping),\n",
    "    edge_index=torch.tensor(\n",
    "        df_ori.T.to_numpy(), \n",
    "        dtype = torch.long\n",
    "    )\n",
    ")"
   ]
  },
  {
   "cell_type": "code",
   "execution_count": 6,
   "id": "237a8f4d-3655-4893-a8dd-ac058df1eed7",
   "metadata": {},
   "outputs": [],
   "source": [
    "n_nodes = data.num_nodes\n",
    "hidden_channels = 64"
   ]
  },
  {
   "cell_type": "code",
   "execution_count": 7,
   "id": "235cb341-0bb7-432b-8372-6331b7762730",
   "metadata": {},
   "outputs": [],
   "source": [
    "transform = T.RandomLinkSplit(\n",
    "    num_val=0.1,\n",
    "    num_test=0.1,\n",
    "    disjoint_train_ratio=0.3,\n",
    "    neg_sampling_ratio=2.0,\n",
    "    add_negative_train_samples=False,    \n",
    ")\n",
    "train_data, val_data, test_data = transform(data)"
   ]
  },
  {
   "cell_type": "code",
   "execution_count": 10,
   "id": "a83a4c15-dd0a-4cf8-b623-1eab968eaf80",
   "metadata": {},
   "outputs": [],
   "source": [
    "from torch_geometric.loader import LinkNeighborLoader\n",
    "train_loader = LinkNeighborLoader(\n",
    "    data=train_data,\n",
    "    num_neighbors=[\n",
    "        -1, # 10, \n",
    "        -1, # 5\n",
    "    ],\n",
    "    neg_sampling_ratio=2.0,\n",
    "    batch_size=128,\n",
    "    shuffle=True,\n",
    ")"
   ]
  },
  {
   "cell_type": "code",
   "execution_count": 14,
   "id": "05a83393-3c7b-4de8-93e3-f938a172da89",
   "metadata": {},
   "outputs": [
    {
     "name": "stderr",
     "output_type": "stream",
     "text": [
      "  0%|                                                   | 0/438 [00:00<?, ?it/s]\n"
     ]
    }
   ],
   "source": [
    "## 我们这边看一下这些数据里面具体都是什么样子的。\n",
    "for sampled_data in tqdm.tqdm(train_loader):\n",
    "    break"
   ]
  },
  {
   "cell_type": "code",
   "execution_count": 15,
   "id": "422791c5-9e72-4003-b223-f59d03f4dda1",
   "metadata": {},
   "outputs": [
    {
     "data": {
      "text/plain": [
       "Data(edge_index=[2, 603], num_nodes=1239, edge_label=[384], edge_label_index=[2, 384], n_id=[1239], e_id=[603], input_id=[128])"
      ]
     },
     "execution_count": 15,
     "metadata": {},
     "output_type": "execute_result"
    }
   ],
   "source": [
    "sampled_data\n",
    "## 我们进去仔细看了一下，发现了一些华点。"
   ]
  },
  {
   "cell_type": "code",
   "execution_count": 16,
   "id": "713e3699-7f5b-472d-9026-604cb3c00cfc",
   "metadata": {},
   "outputs": [
    {
     "data": {
      "text/plain": [
       "EdgeIndex([[ 767,  768,  769,  ..., 1237,  764, 1238],\n",
       "           [   4,    5,    5,  ...,  747,  761,  798]],\n",
       "          sparse_size=(1239, 1239), nnz=603, sort_order=col)"
      ]
     },
     "execution_count": 16,
     "metadata": {},
     "output_type": "execute_result"
    }
   ],
   "source": [
    "sampled_data.edge_index\n",
    "## 这些就是抽出来的边。"
   ]
  },
  {
   "cell_type": "code",
   "execution_count": 17,
   "id": "08ec78c7-16c7-4752-a234-f2b9c42ef76f",
   "metadata": {},
   "outputs": [],
   "source": [
    "from_node, to_node = sampled_data.edge_index"
   ]
  },
  {
   "cell_type": "code",
   "execution_count": 25,
   "id": "7b0d9859-76e2-4b2b-82bc-836a9a0c690c",
   "metadata": {},
   "outputs": [
    {
     "data": {
      "text/plain": [
       "[{'edge_index': EdgeIndex([[ 767,  768,  769,  ..., 1237,  764, 1238],\n",
       "            [   4,    5,    5,  ...,  747,  761,  798]],\n",
       "           sparse_size=(1239, 1239), nnz=603, sort_order=col), 'num_nodes': 1239, 'edge_label': tensor([1., 1., 1., 1., 1., 1., 1., 1., 1., 1., 1., 1., 1., 1., 1., 1., 1., 1.,\n",
       "         1., 1., 1., 1., 1., 1., 1., 1., 1., 1., 1., 1., 1., 1., 1., 1., 1., 1.,\n",
       "         1., 1., 1., 1., 1., 1., 1., 1., 1., 1., 1., 1., 1., 1., 1., 1., 1., 1.,\n",
       "         1., 1., 1., 1., 1., 1., 1., 1., 1., 1., 1., 1., 1., 1., 1., 1., 1., 1.,\n",
       "         1., 1., 1., 1., 1., 1., 1., 1., 1., 1., 1., 1., 1., 1., 1., 1., 1., 1.,\n",
       "         1., 1., 1., 1., 1., 1., 1., 1., 1., 1., 1., 1., 1., 1., 1., 1., 1., 1.,\n",
       "         1., 1., 1., 1., 1., 1., 1., 1., 1., 1., 1., 1., 1., 1., 1., 1., 1., 1.,\n",
       "         1., 1., 0., 0., 0., 0., 0., 0., 0., 0., 0., 0., 0., 0., 0., 0., 0., 0.,\n",
       "         0., 0., 0., 0., 0., 0., 0., 0., 0., 0., 0., 0., 0., 0., 0., 0., 0., 0.,\n",
       "         0., 0., 0., 0., 0., 0., 0., 0., 0., 0., 0., 0., 0., 0., 0., 0., 0., 0.,\n",
       "         0., 0., 0., 0., 0., 0., 0., 0., 0., 0., 0., 0., 0., 0., 0., 0., 0., 0.,\n",
       "         0., 0., 0., 0., 0., 0., 0., 0., 0., 0., 0., 0., 0., 0., 0., 0., 0., 0.,\n",
       "         0., 0., 0., 0., 0., 0., 0., 0., 0., 0., 0., 0., 0., 0., 0., 0., 0., 0.,\n",
       "         0., 0., 0., 0., 0., 0., 0., 0., 0., 0., 0., 0., 0., 0., 0., 0., 0., 0.,\n",
       "         0., 0., 0., 0., 0., 0., 0., 0., 0., 0., 0., 0., 0., 0., 0., 0., 0., 0.,\n",
       "         0., 0., 0., 0., 0., 0., 0., 0., 0., 0., 0., 0., 0., 0., 0., 0., 0., 0.,\n",
       "         0., 0., 0., 0., 0., 0., 0., 0., 0., 0., 0., 0., 0., 0., 0., 0., 0., 0.,\n",
       "         0., 0., 0., 0., 0., 0., 0., 0., 0., 0., 0., 0., 0., 0., 0., 0., 0., 0.,\n",
       "         0., 0., 0., 0., 0., 0., 0., 0., 0., 0., 0., 0., 0., 0., 0., 0., 0., 0.,\n",
       "         0., 0., 0., 0., 0., 0., 0., 0., 0., 0., 0., 0., 0., 0., 0., 0., 0., 0.,\n",
       "         0., 0., 0., 0., 0., 0., 0., 0., 0., 0., 0., 0., 0., 0., 0., 0., 0., 0.,\n",
       "         0., 0., 0., 0., 0., 0.]), 'edge_label_index': tensor([[ 97, 451, 185, 210, 340, 344, 583, 261, 508, 202, 417, 346, 664, 378,\n",
       "           65, 683, 737, 548, 370, 670, 729, 150, 486, 368, 720, 666, 307, 133,\n",
       "          645,  75, 757,  50, 448, 361, 265, 225, 233, 607, 731, 509, 655,  72,\n",
       "          719,  85, 606, 529, 492,  57,  46, 624, 741, 321, 515, 763, 125, 476,\n",
       "          589, 556, 480,   0, 711, 764, 183, 748, 749, 514,  10, 314, 740, 354,\n",
       "          709, 575, 151, 536, 192, 544, 405, 342, 408, 258, 449, 349, 688, 687,\n",
       "          222,  93, 329, 305, 520, 700, 649, 597, 350, 141, 547, 284, 462, 579,\n",
       "          684, 428,  14,  94, 207, 485, 177, 373, 139, 289, 704, 707, 348, 680,\n",
       "          359, 338, 678, 277, 171, 255, 525, 652, 404, 584, 390, 726, 513, 365,\n",
       "          499, 621, 197, 286, 196, 377, 474, 374, 211, 302, 437, 443, 743, 681,\n",
       "          275, 317, 438, 693, 270, 488, 297,  11, 560, 309, 274, 503, 528, 173,\n",
       "           34, 494, 656, 199,  21, 696, 650, 250, 647, 324, 172, 418, 119,   5,\n",
       "          304, 609, 759, 364, 659,  88,   2, 695, 619, 193, 228, 142, 227, 745,\n",
       "          532, 160, 616, 198, 721, 618, 208, 253, 464, 531, 533, 487, 644, 498,\n",
       "           17, 524, 180, 562,  32, 131, 766,  23, 195, 423, 375, 651, 110, 101,\n",
       "          356, 396, 674, 574, 506, 334, 123, 234, 577, 614, 360, 717, 395,  71,\n",
       "          282, 758, 554, 402, 353, 610, 502, 550,  99,  91, 622, 713, 496,  36,\n",
       "          220, 424, 433, 400, 596, 668,  66, 235, 634, 706, 303, 679, 742, 226,\n",
       "          419,  37, 188, 117,   8, 104, 103, 702, 507, 565, 615, 332, 416,  95,\n",
       "          339, 454, 686,  12, 283, 667, 431, 137,  68, 215, 121, 473, 435, 204,\n",
       "          453, 179, 546, 658, 518, 641, 194, 366, 145, 439, 638, 351, 372,  41,\n",
       "           30, 576, 170, 639, 135, 134, 388, 484, 323,  42, 403, 739, 357, 398,\n",
       "          521, 571, 751,  63, 569,  92, 206, 482, 753, 161, 409, 288, 203, 446,\n",
       "          627,  28, 691, 298, 628, 387, 563,  22, 256, 673, 539,  18, 442,   4,\n",
       "          436, 292,  49,  67, 613, 568, 510, 760, 648, 590, 413, 522,  44, 587,\n",
       "          290, 154, 294, 570,  61, 573, 240, 191, 315, 296, 337, 617, 545, 325,\n",
       "          675, 306, 422,  98, 260, 287, 380, 471, 755, 336, 516, 318, 623, 705,\n",
       "          229, 598, 200, 765, 224, 231],\n",
       "         [269, 444, 186, 429,  70, 312, 701, 165, 213,  55, 463, 465, 636, 379,\n",
       "           66, 295, 735, 257,  77, 632, 526, 136, 460, 113, 586, 262, 273, 148,\n",
       "          643,  76, 642,  51, 441,  27, 251,  39, 178, 602, 538, 455, 527, 266,\n",
       "          718,  86, 248, 495, 412, 703,  24, 592, 594, 156, 105, 710, 535, 440,\n",
       "          566, 561, 167, 490, 407, 761, 184, 728, 319, 415, 278, 267, 732, 355,\n",
       "          671, 187, 152, 640, 129, 537, 107, 239, 263, 259, 450, 143, 715, 411,\n",
       "          219, 301,  20,  89, 432, 637, 631, 588, 246, 205, 723,  84, 157, 580,\n",
       "          698, 341,  15,  87, 603,  47,  80, 382, 140,  78, 534, 699, 383, 430,\n",
       "          285, 280, 689,  43, 100, 238, 477, 593, 126, 567, 327, 725, 491,  60,\n",
       "          427, 600, 727, 343,  53, 159, 115,  90, 722, 714, 108, 112, 654, 162,\n",
       "           74, 578, 181, 467, 300, 264,  69, 511, 330, 500, 585,   3, 420, 146,\n",
       "           40, 164, 389, 299, 410, 244, 708,  54, 470, 595, 155, 736, 665, 130,\n",
       "          559, 335, 322, 397, 245, 676, 472,   7, 376, 393,  29, 734, 144, 128,\n",
       "           25, 434, 102, 175, 466, 182, 543, 744, 385, 555, 268, 331, 604, 478,\n",
       "          391, 217, 345, 316, 724, 747, 333, 697, 541, 394,  19, 738, 114, 249,\n",
       "          558, 633, 629, 605, 124, 746, 657, 456, 381, 310, 328,  16,  31, 367,\n",
       "          672, 519, 363, 223, 517,  82, 168, 118, 447, 469, 369, 733, 601, 230,\n",
       "          401, 712, 551, 122, 626, 646, 505, 120, 149, 692, 425, 414, 209, 214,\n",
       "          291, 663, 241, 176, 611, 221, 347, 166, 483, 190,  64,  81, 243,  62,\n",
       "           26, 237, 276,  52, 504,  45, 630, 661, 216, 218, 358, 384, 106, 620,\n",
       "          690, 730, 386, 158, 421, 553, 169,  33, 572, 564, 392, 662, 540, 599,\n",
       "          582, 371, 468, 457, 426, 685,   6, 475, 201, 352, 581, 530, 279, 281,\n",
       "          138, 493, 311,  58, 653, 406, 399, 591, 682, 212, 313, 132,  38, 756,\n",
       "            1, 479,  59, 189,  48, 272, 669, 716, 625, 635, 163, 271, 489, 481,\n",
       "          612, 459, 512, 147, 549, 252, 542, 109, 308, 660,  13, 677,  79, 752,\n",
       "          762, 461, 116,  73, 552, 608, 242, 236, 557, 127,   9, 523,  35, 501,\n",
       "          232, 452, 153, 111,  96, 497, 458, 174,  83, 320, 293, 754,  56, 362,\n",
       "          694, 326, 254, 445, 247, 750]]), 'n_id': tensor([    22,    409,    578,  ..., 175018, 162230, 147266]), 'e_id': tensor([14963,  6465, 26405, 29519, 43808, 21097, 18951,  4331, 33256,  2766,\n",
       "         12075, 26421, 33355, 12319, 45164, 42798, 28132, 35633, 13881, 10450,\n",
       "         53876, 50398, 16113, 44561, 42805, 54647, 19009, 24371, 41084,  3643,\n",
       "         46913, 19015, 28067,  8629, 54149, 10615, 48006, 40623, 44728, 46356,\n",
       "          4671,  7977, 42739, 52777,  4131,   711, 18052, 28766, 26943, 34661,\n",
       "          5513, 12801, 46771, 19810, 23425, 52954, 39007, 49351, 22987, 44945,\n",
       "         27453, 41578, 16643, 42486, 10926, 10766,  5256, 32856,  8193,  7611,\n",
       "          1189, 41859,  4122,  8317, 16876, 55832, 50959,  3100, 35926, 17448,\n",
       "         37813, 20373,  6977, 45891,  6251,  2882,  2630, 25055, 17598,  2000,\n",
       "         42717, 53008, 31730, 35823,  8999,  1345,  4922, 34218, 42115, 38271,\n",
       "         28929,  8796, 38580, 40655,   518,  8678,  6337, 47815, 48594, 11353,\n",
       "         46037, 15714, 23817, 36695, 16947, 29265, 54825, 34057, 40447, 13518,\n",
       "         49136, 39735, 19905, 33059, 11639, 49400, 46333,  3087, 50223, 23892,\n",
       "          5863, 29405, 44788,  4499, 21836, 24853,  5870, 41460, 11386, 22011,\n",
       "          5294, 48291, 37335, 18942, 15284, 23134, 24898, 53418, 46311, 54134,\n",
       "         37509, 38766, 32327, 51818, 27677, 53439,   543, 37738,   787, 19935,\n",
       "          8790, 22760, 36553, 51174, 35709, 32779,  2255, 30685, 27082, 50501,\n",
       "         38172, 28780, 39974, 20797, 45224, 14376, 48276, 50510, 42854, 55720,\n",
       "         35689, 24729,  4070, 24728, 45980, 20180, 35682, 41344, 36145, 54036,\n",
       "           769, 35398, 47268, 48262,  4842, 54160,  5951, 40073, 45090, 29245,\n",
       "         26186,   498, 17771, 55396, 19127, 50014, 42034, 52437, 37278, 55470,\n",
       "         36725, 28432, 38579,  7155, 54171, 13925, 50258, 38082, 42269,  3746,\n",
       "         36728,  5041, 20790, 35033, 19163, 19867, 39937, 36956, 10067,  4053,\n",
       "         16186, 38743, 45116, 32270, 13528, 16190, 17859,  5039,  8360, 47076,\n",
       "         42903, 23230, 23439, 45710,  9808, 54403, 48392, 48777, 38542, 13242,\n",
       "         36534, 39019, 33529, 43187, 43793, 15911,  5196,  1097,  2566,  9524,\n",
       "         47367, 45883, 18760,  7341, 25284, 19256, 13953, 30915, 19704, 34757,\n",
       "         13131, 52577, 27221, 10105, 23263, 33646, 54869, 15633, 14314,  1835,\n",
       "         28452, 42596, 54735, 44905, 31465,  9103, 16531, 34763, 35964, 52330,\n",
       "         20528, 15880, 19332, 21044,  5520, 25348, 42555, 50333, 26074, 39141,\n",
       "         42542, 26633, 19877, 37213, 16550,  8439, 31143, 38459, 30932, 49207,\n",
       "         44626, 54246,  4019, 38010, 23303, 52113, 22067, 23306, 43398, 21535,\n",
       "         31028, 46727, 15815, 26615, 55638, 22943, 27456, 13889, 37996,  9402,\n",
       "         51365, 48473, 14010,   647, 18229, 37898, 18226, 54274, 54877, 51120,\n",
       "         20404, 43175, 52217,  8904, 35987, 42508, 35373,  3070,  2450, 46166,\n",
       "         35995, 44131,  7729,  1137, 20002,  2135, 39585, 12288, 54723,  5453,\n",
       "         42240, 45159, 32768, 17950,  5335,  4947, 39246, 50480, 27346, 46497,\n",
       "         54301, 21857, 49833, 11538, 50127, 50895, 32549, 15749,  4699,  3438,\n",
       "         45146, 14005,  5414, 12912, 33246, 28846,  2959, 36027, 47207, 38356,\n",
       "         54333,  3022, 47742, 28426,  1900, 53772, 13472, 33789, 49500, 45058,\n",
       "         26524, 36820,  4894, 50871, 36092, 10522, 27384, 45805, 15732, 31697,\n",
       "          6872, 20265,  1585, 55750, 48180, 24029,  1228, 37724, 23855, 30126,\n",
       "         42401, 23991, 28904, 46952, 51447, 46268, 45543, 38897, 49452, 47006,\n",
       "         40122, 43210, 10244, 22882,   999, 45992, 48820, 53558, 45154, 28019,\n",
       "         14848, 17804, 20583, 30911, 40472, 50264, 27618, 22237, 51847, 30204,\n",
       "         46042, 25233, 16338, 49639,  5666, 38796, 19342, 29927, 40881, 49222,\n",
       "          1866,  8979, 55715, 38263, 41682, 38775, 24646, 17936,  7773, 48547,\n",
       "          8035, 37764, 17664, 26239, 42928, 27554, 16770, 50660, 20676, 11604,\n",
       "         24498,  8646, 40680, 12396, 50172, 55347, 34380,  4449, 39233, 39902,\n",
       "         51638, 40029,  4703,  7693, 50486, 27489, 49122, 53589, 22273,  2421,\n",
       "          1358, 44767,  7809,  8809, 37825, 28234, 14560,  3127, 41048,  1917,\n",
       "         49543, 39088, 52391,  7642, 51192, 46350,  1280, 44789,  5415, 21850,\n",
       "         53083, 15666, 37289, 43394,  8609, 36326, 14257, 40787, 23600, 12005,\n",
       "         54409, 35223, 51138, 29325, 12432, 47120, 55391, 49601, 18728,   495,\n",
       "         49680, 38048, 44402, 37758, 39222, 27764, 52066, 25859, 33142, 23706,\n",
       "          7733, 33179, 51657, 19334, 42250,  7487, 15243,  3148, 15744, 32486,\n",
       "         35793, 13118,  3849, 33094, 22439, 53606, 18320, 36361, 31677,   805,\n",
       "         49023, 50255, 21055,  2614, 29842, 16526, 44355, 52815, 39027,  7894,\n",
       "         42781, 28291, 16636,  2890, 23125, 17525, 55917, 35586,  3528, 29917,\n",
       "         16196,  7120,  7093, 21573, 32781, 54878,  2110, 18513, 53635, 26752,\n",
       "         20007, 38871,  6988]), 'input_id': tensor([43210, 55347, 42717, 20676, 40623, 22237, 17525, 20373, 38271,  3643,\n",
       "          2421,  1358, 22439,  8979, 54149, 17804, 53635, 34057,  4671, 33094,\n",
       "         15666,  8193, 27489, 44945, 37758, 49136,   999,  4122, 49023, 46356,\n",
       "           805, 19009, 50172, 28132, 29265, 16113,  2630, 42250, 14257, 51638,\n",
       "         37289, 49452,  7093, 18052, 23817, 39088, 17664, 35586, 45164, 52066,\n",
       "         33142, 55832, 52954, 29917,  8609, 12396, 49601, 29325, 45891, 41048,\n",
       "          8035, 38871,  2000, 54878, 30204, 42928, 45992, 47006, 18513, 19342,\n",
       "         16526, 53008,  8317, 36361, 32856, 36326, 49351,  6337, 53439, 40447,\n",
       "          4449, 41859,  7120, 37764, 38580, 30911, 26421, 26943, 24498, 53606,\n",
       "          3849, 39222, 46037,  4922, 21573,   711, 50959, 38048,  2890, 38796,\n",
       "         33256, 28766,  7487, 54647, 52777, 55715,  7611,  7977, 43394, 23125,\n",
       "         38263, 11604, 28019, 53558, 42781, 42805, 12801,  8678,  7809, 25859,\n",
       "         10766, 18728, 16338, 32781,  1917, 28067, 50660, 19334])}]"
      ]
     },
     "execution_count": 25,
     "metadata": {},
     "output_type": "execute_result"
    }
   ],
   "source": [
    "sampled_data.node_stores"
   ]
  },
  {
   "cell_type": "code",
   "execution_count": null,
   "id": "809692d5-4496-474c-857b-b0572c013bb2",
   "metadata": {},
   "outputs": [],
   "source": []
  },
  {
   "cell_type": "code",
   "execution_count": null,
   "id": "b652f109-114e-4326-8bde-6b83f55b5ae5",
   "metadata": {},
   "outputs": [],
   "source": []
  },
  {
   "cell_type": "code",
   "execution_count": null,
   "id": "52f90a0e-d5e3-40c1-96e8-f8713e31e832",
   "metadata": {},
   "outputs": [],
   "source": [
    "from torch_geometric.nn import SAGEConv\n",
    "import torch.nn.functional as F\n",
    "class GNN(torch.nn.Module):\n",
    "    def __init__(self, in_channels, out_channels):\n",
    "        super().__init__()\n",
    "        self.conv1 = SAGEConv(in_channels, 128)\n",
    "        self.conv2 = SAGEConv(128, out_channels)\n",
    "    def forward(self, x, edge_index) :\n",
    "        x = F.relu(self.conv1(x, edge_index))\n",
    "        x = self.conv2(x, edge_index)\n",
    "        return x\n",
    "\n",
    "class Classifier(torch.nn.Module):\n",
    "    def forward(self, x_from, x_to,):\n",
    "        return (x_from * x_to).sum(dim=-1)\n",
    "\n",
    "class Model(torch.nn.Module):\n",
    "    def __init__(self, in_channels, out_channels):\n",
    "        super().__init__()\n",
    "        self.emb = torch.nn.Embedding(n_nodes, in_channels)\n",
    "        self.gnn = GNN(in_channels, out_channels)\n",
    "        self.classifier = Classifier()\n",
    "    def forward(self, data):\n",
    "        x_out = self.gnn(\n",
    "            self.emb(data.n_id), \n",
    "            data.edge_label_index\n",
    "        )\n",
    "        pred = self.classifier(\n",
    "            x_out[data.edge_label_index[0]], ## 边的起始点。\n",
    "            x_out[data.edge_label_index[-1]] ## 边的终结点。\n",
    "        )\n",
    "        return pred\n",
    "        \n",
    "model = Model(in_channels=hidden_channels, out_channels=64)\n",
    "\n",
    "weights = model.emb.weight.detach().numpy()\n",
    "# pd.DataFrame(weights, columns = [f\"col_{i}\" for i in range(weights.shape[1])])"
   ]
  },
  {
   "cell_type": "code",
   "execution_count": null,
   "id": "70c3a84e-e812-41f2-819f-6caf399ea366",
   "metadata": {},
   "outputs": [],
   "source": [
    "import tqdm\n",
    "import torch.nn.functional as F\n",
    "device = torch.device(\"mps\")#('cuda' if torch.cuda.is_available() else 'cpu')\n",
    "print(f\"Device: '{device}'\")\n",
    "model = model.to(device)\n",
    "optimizer = torch.optim.Adam(model.parameters(), lr=0.001)\n",
    "for epoch in range(1, 10):\n",
    "    total_loss = total_examples = 0\n",
    "    for sampled_data in tqdm.tqdm(train_loader):        \n",
    "        optimizer.zero_grad()\n",
    "        sampled_data.to(device)\n",
    "        pred = model(sampled_data)\n",
    "        ground_truth = sampled_data.edge_label\n",
    "        loss = F.binary_cross_entropy_with_logits(pred, ground_truth)\n",
    "        loss.backward()\n",
    "        optimizer.step()\n",
    "        total_loss += float(loss) * pred.numel()\n",
    "        total_examples += pred.numel()\n",
    "    \n",
    "#     break\n",
    "    \n",
    "    print(f\"Epoch: {epoch:03d}, Loss: {total_loss / total_examples:.4f}\")\n",
    "    "
   ]
  },
  {
   "cell_type": "code",
   "execution_count": null,
   "id": "675b99ee-5389-4dd3-99a5-724cba2d579e",
   "metadata": {},
   "outputs": [],
   "source": [
    "!pip3 install pyg_lib"
   ]
  },
  {
   "cell_type": "code",
   "execution_count": null,
   "id": "8004f0b1-6326-4e8b-b5fa-cd6c8cd557ce",
   "metadata": {},
   "outputs": [],
   "source": []
  },
  {
   "cell_type": "code",
   "execution_count": null,
   "id": "34859cee-12ec-4cfc-a763-b196694215e6",
   "metadata": {},
   "outputs": [],
   "source": [
    "import torch_geometric"
   ]
  },
  {
   "cell_type": "code",
   "execution_count": null,
   "id": "5db75699-a205-4fef-b1cd-02baaa3e5c4a",
   "metadata": {},
   "outputs": [],
   "source": [
    "torch_geometric.__version__"
   ]
  },
  {
   "cell_type": "code",
   "execution_count": null,
   "id": "e6b172a6-f236-46cc-8fa4-998064af871a",
   "metadata": {},
   "outputs": [],
   "source": [
    "!pip3 install pyg-lib -f https://data.pyg.org/whl/torch-2.2.2+cpu.html\n"
   ]
  },
  {
   "cell_type": "code",
   "execution_count": null,
   "id": "92bcff8d-b324-4f68-b10b-6998001f0706",
   "metadata": {},
   "outputs": [],
   "source": [
    "import pip3._internal"
   ]
  },
  {
   "cell_type": "code",
   "execution_count": null,
   "id": "55f1a6ef-57cb-4f15-b9cd-028006d7e6f0",
   "metadata": {},
   "outputs": [],
   "source": [
    "pip._internal#.pep425tags.get_supported()"
   ]
  },
  {
   "cell_type": "code",
   "execution_count": null,
   "id": "029c1440-62da-4ef3-8d5d-89c0ea09f00e",
   "metadata": {},
   "outputs": [],
   "source": [
    "pip._internal.Optional"
   ]
  },
  {
   "cell_type": "code",
   "execution_count": null,
   "id": "53c3e418-685f-4cd0-81f6-faf2022949fc",
   "metadata": {},
   "outputs": [],
   "source": [
    "pip._internal.pep425tags"
   ]
  },
  {
   "cell_type": "code",
   "execution_count": null,
   "id": "d5a02c24-0a9e-498f-91b3-71da280e2539",
   "metadata": {},
   "outputs": [],
   "source": []
  },
  {
   "cell_type": "code",
   "execution_count": null,
   "id": "9e5b7c5e-9a67-4f8b-8e9d-0c2415bf66ea",
   "metadata": {},
   "outputs": [],
   "source": []
  },
  {
   "cell_type": "code",
   "execution_count": null,
   "id": "875313e4-2bb7-499a-a164-6f31d91dff44",
   "metadata": {},
   "outputs": [],
   "source": [
    "!pwd"
   ]
  },
  {
   "cell_type": "code",
   "execution_count": null,
   "id": "2f31f682-6091-4c1a-aee8-bc9293159c3f",
   "metadata": {},
   "outputs": [],
   "source": [
    "!pip3 install ../../../../../Downloads/torch_scatter-2.1.2-cp39-cp39-macosx_11_0_x86_64.whl"
   ]
  },
  {
   "cell_type": "code",
   "execution_count": null,
   "id": "122239fc-d930-4de7-9687-b4e10c78daf6",
   "metadata": {},
   "outputs": [],
   "source": []
  },
  {
   "cell_type": "code",
   "execution_count": null,
   "id": "8c0f3b50-a0cf-4b34-8059-c9a73c26f601",
   "metadata": {},
   "outputs": [],
   "source": []
  },
  {
   "cell_type": "code",
   "execution_count": null,
   "id": "c0b93226-b623-4768-935c-3f91c438d517",
   "metadata": {},
   "outputs": [],
   "source": []
  },
  {
   "cell_type": "code",
   "execution_count": null,
   "id": "fd9e87a6-51a6-4bef-9d7c-b91b111bf04d",
   "metadata": {},
   "outputs": [],
   "source": []
  },
  {
   "cell_type": "code",
   "execution_count": null,
   "id": "9cbcf3ab-ccac-4fa7-b73f-9996b3726442",
   "metadata": {},
   "outputs": [],
   "source": [
    "!pip3 install torch_scatter torch_sparse torch_cluster torch_spline_conv -f https://data.pyg.org/whl/torch-2.2.0+cpu.html"
   ]
  },
  {
   "cell_type": "code",
   "execution_count": null,
   "id": "7a0b2ab3-e46d-4de5-93f0-750f8bec8dd6",
   "metadata": {},
   "outputs": [],
   "source": []
  },
  {
   "cell_type": "code",
   "execution_count": null,
   "id": "dba448cf-33e0-45a3-82a3-c75dd4891d67",
   "metadata": {},
   "outputs": [],
   "source": []
  },
  {
   "cell_type": "code",
   "execution_count": null,
   "id": "89f00d03-9661-4cae-9731-41f52a83cc7c",
   "metadata": {},
   "outputs": [],
   "source": []
  },
  {
   "cell_type": "code",
   "execution_count": null,
   "id": "f05b1395-7f0c-4bd5-8d5b-4f4051c218dc",
   "metadata": {},
   "outputs": [],
   "source": []
  }
 ],
 "metadata": {
  "kernelspec": {
   "display_name": "Python 3 (ipykernel)",
   "language": "python",
   "name": "python3"
  },
  "language_info": {
   "codemirror_mode": {
    "name": "ipython",
    "version": 3
   },
   "file_extension": ".py",
   "mimetype": "text/x-python",
   "name": "python",
   "nbconvert_exporter": "python",
   "pygments_lexer": "ipython3",
   "version": "3.12.0"
  }
 },
 "nbformat": 4,
 "nbformat_minor": 5
}
