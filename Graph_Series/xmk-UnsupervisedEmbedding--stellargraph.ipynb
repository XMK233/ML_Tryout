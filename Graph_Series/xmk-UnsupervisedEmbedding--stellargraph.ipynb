{
 "cells": [
  {
   "cell_type": "markdown",
   "id": "da8d00ef",
   "metadata": {},
   "source": [
    "xmk: 我们尝试一下自己做，最终的目的就是要获取一下embedding。"
   ]
  },
  {
   "cell_type": "code",
   "execution_count": 4,
   "id": "9447de6e",
   "metadata": {},
   "outputs": [
    {
     "name": "stderr",
     "output_type": "stream",
     "text": [
      "/Users/minkexiu/opt/miniforge3/lib/python3.9/site-packages/requests/__init__.py:102: RequestsDependencyWarning: urllib3 (1.26.8) or chardet (5.2.0)/charset_normalizer (2.0.12) doesn't match a supported version!\n",
      "  warnings.warn(\"urllib3 ({}) or chardet ({})/charset_normalizer ({}) doesn't match a supported \"\n"
     ]
    }
   ],
   "source": [
    "import matplotlib.pyplot as plt\n",
    "# from math import isclose\n",
    "from sklearn.decomposition import PCA\n",
    "import os\n",
    "import networkx as nx\n",
    "import numpy as np\n",
    "import pandas as pd\n",
    "from stellargraph import StellarGraph, datasets\n",
    "# from stellargraph.data import EdgeSplitter\n",
    "# from collections import Counter\n",
    "import multiprocessing\n",
    "from IPython.display import display, HTML\n",
    "from sklearn.model_selection import train_test_split\n",
    "\n",
    "%matplotlib inline"
   ]
  },
  {
   "cell_type": "code",
   "execution_count": 5,
   "id": "516206e7",
   "metadata": {},
   "outputs": [
    {
     "data": {
      "text/html": [
       "The Cora dataset consists of 2708 scientific publications classified into one of seven classes. The citation network consists of 5429 links. Each publication in the dataset is described by a 0/1-valued word vector indicating the absence/presence of the corresponding word from the dictionary. The dictionary consists of 1433 unique words."
      ],
      "text/plain": [
       "<IPython.core.display.HTML object>"
      ]
     },
     "metadata": {},
     "output_type": "display_data"
    }
   ],
   "source": [
    "dataset = datasets.Cora()\n",
    "display(HTML(dataset.description))\n",
    "graph, _ = dataset.load(largest_connected_component_only=True, str_node_ids=True)"
   ]
  },
  {
   "cell_type": "code",
   "execution_count": 3,
   "id": "60e37b43",
   "metadata": {},
   "outputs": [
    {
     "name": "stdout",
     "output_type": "stream",
     "text": [
      "StellarGraph: Undirected multigraph\n",
      " Nodes: 2485, Edges: 5209\n",
      "\n",
      " Node types:\n",
      "  paper: [2485]\n",
      "    Features: float32 vector, length 1433\n",
      "    Edge types: paper-cites->paper\n",
      "\n",
      " Edge types:\n",
      "    paper-cites->paper: [5209]\n",
      "        Weights: all 1 (default)\n",
      "        Features: none\n"
     ]
    }
   ],
   "source": [
    "print(graph.info())"
   ]
  },
  {
   "cell_type": "code",
   "execution_count": 4,
   "id": "14baea8a",
   "metadata": {},
   "outputs": [],
   "source": [
    "from stellargraph.data import BiasedRandomWalk\n",
    "\n",
    "\n",
    "def create_biased_random_walker(graph, walk_num, walk_length):\n",
    "    # parameter settings for \"p\" and \"q\":\n",
    "    p = 1.0\n",
    "    q = 1.0\n",
    "    return BiasedRandomWalk(graph, n=walk_num, length=walk_length, p=p, q=q)"
   ]
  },
  {
   "cell_type": "code",
   "execution_count": 5,
   "id": "1575ac9d",
   "metadata": {},
   "outputs": [],
   "source": [
    "walk_length = 5\n",
    "epochs = 6\n",
    "batch_size = 50"
   ]
  },
  {
   "cell_type": "code",
   "execution_count": 6,
   "id": "a7528799",
   "metadata": {},
   "outputs": [],
   "source": [
    "from stellargraph.data import UnsupervisedSampler\n",
    "from tensorflow import keras\n",
    "from stellargraph.layer import link_classification"
   ]
  },
  {
   "cell_type": "code",
   "execution_count": 7,
   "id": "3c96dec1",
   "metadata": {},
   "outputs": [
    {
     "name": "stdout",
     "output_type": "stream",
     "text": [
      "link_classification: using 'ip' method to combine node embeddings into edge embeddings\n"
     ]
    },
    {
     "name": "stderr",
     "output_type": "stream",
     "text": [
      "/Users/minkexiu/opt/miniforge3/lib/python3.9/site-packages/keras/optimizer_v2/adam.py:105: UserWarning: The `lr` argument is deprecated, use `learning_rate` instead.\n",
      "  super(Adam, self).__init__(name, **kwargs)\n",
      "2023-11-23 17:19:29.942020: W tensorflow/core/platform/profile_utils/cpu_utils.cc:128] Failed to get CPU frequency: 0 Hz\n"
     ]
    },
    {
     "name": "stdout",
     "output_type": "stream",
     "text": [
      "Epoch 1/6\n",
      "398/398 - 8s - loss: 0.5600 - binary_accuracy: 0.7515 - 8s/epoch - 19ms/step\n",
      "Epoch 2/6\n",
      "398/398 - 7s - loss: 0.5411 - binary_accuracy: 0.7743 - 7s/epoch - 18ms/step\n",
      "Epoch 3/6\n",
      "398/398 - 7s - loss: 0.5384 - binary_accuracy: 0.7847 - 7s/epoch - 18ms/step\n",
      "Epoch 4/6\n",
      "398/398 - 7s - loss: 0.5346 - binary_accuracy: 0.7909 - 7s/epoch - 19ms/step\n",
      "Epoch 5/6\n",
      "398/398 - 7s - loss: 0.5349 - binary_accuracy: 0.7944 - 7s/epoch - 18ms/step\n",
      "Epoch 6/6\n",
      "398/398 - 7s - loss: 0.5362 - binary_accuracy: 0.7930 - 7s/epoch - 18ms/step\n"
     ]
    }
   ],
   "source": [
    "from stellargraph.mapper import GraphSAGELinkGenerator, GraphSAGENodeGenerator\n",
    "from stellargraph.layer import GraphSAGE\n",
    "\n",
    "# def graphsage_embedding(graph, name):\n",
    "\n",
    "# Set the embedding dimensions, the numbers of sampled neighboring nodes and walk number:\n",
    "dimensions = [128, 128]\n",
    "num_samples = [10, 5]\n",
    "walk_number = 1\n",
    "\n",
    "# print(f\"Training GraphSAGE for '{name}':\")\n",
    "\n",
    "graph_node_list = list(graph.nodes())\n",
    "\n",
    "# Create the biased random walker to generate random walks\n",
    "walker = create_biased_random_walker(graph, walk_number, walk_length)\n",
    "\n",
    "# Create the unsupervised sampler to sample (target, context) pairs from random walks\n",
    "unsupervised_samples = UnsupervisedSampler(\n",
    "    graph, nodes=graph_node_list, walker=walker\n",
    ")\n",
    "\n",
    "# Define a GraphSAGE training generator, which generates batches of training pairs\n",
    "generator = GraphSAGELinkGenerator(graph, batch_size, num_samples)\n",
    "\n",
    "# Create the GraphSAGE model\n",
    "graphsage = GraphSAGE(\n",
    "    layer_sizes=dimensions,\n",
    "    generator=generator,\n",
    "    bias=True,\n",
    "    dropout=0.0,\n",
    "    normalize=\"l2\",\n",
    ")\n",
    "\n",
    "# Build the model and expose input and output sockets of GraphSAGE, for node pair inputs\n",
    "x_inp, x_out = graphsage.in_out_tensors()\n",
    "\n",
    "# Use the link_classification function to generate the output of the GraphSAGE model\n",
    "prediction = link_classification(\n",
    "    output_dim=1, output_act=\"sigmoid\", edge_embedding_method=\"ip\"\n",
    ")(x_out)\n",
    "\n",
    "# Stack the GraphSAGE encoder and prediction layer into a Keras model, and specify the loss\n",
    "model = keras.Model(inputs=x_inp, outputs=prediction)\n",
    "model.compile(\n",
    "    optimizer=keras.optimizers.Adam(lr=1e-3),\n",
    "    loss=keras.losses.binary_crossentropy,\n",
    "    metrics=[keras.metrics.binary_accuracy],\n",
    ")\n",
    "\n",
    "# Train the model\n",
    "model.fit(\n",
    "    generator.flow(unsupervised_samples),\n",
    "    epochs=epochs,\n",
    "    verbose=2,\n",
    "    use_multiprocessing=False,\n",
    "    workers=4,\n",
    "    shuffle=True,\n",
    ")\n",
    "\n",
    "# Build the model to predict node representations from node features with the learned GraphSAGE model parameters\n",
    "x_inp_src = x_inp[0::2]\n",
    "x_out_src = x_out[0]\n",
    "embedding_model = keras.Model(inputs=x_inp_src, outputs=x_out_src)\n",
    "\n",
    "# Get representations for all nodes in ``graph``\n",
    "node_gen = GraphSAGENodeGenerator(graph, batch_size, num_samples).flow(\n",
    "    graph_node_list\n",
    ")\n",
    "node_embeddings = embedding_model.predict(node_gen, workers=1, verbose=0)\n",
    "\n",
    "# def get_embedding(u):\n",
    "#     u_index = graph_node_list.index(u)\n",
    "#     return node_embeddings[u_index]\n",
    "\n",
    "# return get_embedding"
   ]
  },
  {
   "cell_type": "code",
   "execution_count": 9,
   "id": "10af2646",
   "metadata": {},
   "outputs": [
    {
     "data": {
      "text/plain": [
       "(2485, 128)"
      ]
     },
     "execution_count": 9,
     "metadata": {},
     "output_type": "execute_result"
    }
   ],
   "source": [
    "node_embeddings.shape"
   ]
  },
  {
   "cell_type": "code",
   "execution_count": 12,
   "id": "dd396f2d",
   "metadata": {},
   "outputs": [
    {
     "data": {
      "text/html": [
       "<div>\n",
       "<style scoped>\n",
       "    .dataframe tbody tr th:only-of-type {\n",
       "        vertical-align: middle;\n",
       "    }\n",
       "\n",
       "    .dataframe tbody tr th {\n",
       "        vertical-align: top;\n",
       "    }\n",
       "\n",
       "    .dataframe thead th {\n",
       "        text-align: right;\n",
       "    }\n",
       "</style>\n",
       "<table border=\"1\" class=\"dataframe\">\n",
       "  <thead>\n",
       "    <tr style=\"text-align: right;\">\n",
       "      <th></th>\n",
       "      <th>col_0</th>\n",
       "      <th>col_1</th>\n",
       "      <th>col_2</th>\n",
       "      <th>col_3</th>\n",
       "      <th>col_4</th>\n",
       "      <th>col_5</th>\n",
       "      <th>col_6</th>\n",
       "      <th>col_7</th>\n",
       "      <th>col_8</th>\n",
       "      <th>col_9</th>\n",
       "      <th>...</th>\n",
       "      <th>col_118</th>\n",
       "      <th>col_119</th>\n",
       "      <th>col_120</th>\n",
       "      <th>col_121</th>\n",
       "      <th>col_122</th>\n",
       "      <th>col_123</th>\n",
       "      <th>col_124</th>\n",
       "      <th>col_125</th>\n",
       "      <th>col_126</th>\n",
       "      <th>col_127</th>\n",
       "    </tr>\n",
       "  </thead>\n",
       "  <tbody>\n",
       "    <tr>\n",
       "      <th>0</th>\n",
       "      <td>0.125639</td>\n",
       "      <td>0.037899</td>\n",
       "      <td>-0.060162</td>\n",
       "      <td>-0.034127</td>\n",
       "      <td>0.039009</td>\n",
       "      <td>-0.092451</td>\n",
       "      <td>-0.040883</td>\n",
       "      <td>-0.143016</td>\n",
       "      <td>-0.036907</td>\n",
       "      <td>-0.110292</td>\n",
       "      <td>...</td>\n",
       "      <td>-0.005976</td>\n",
       "      <td>0.100427</td>\n",
       "      <td>0.139106</td>\n",
       "      <td>-0.024013</td>\n",
       "      <td>0.121216</td>\n",
       "      <td>0.038344</td>\n",
       "      <td>-0.081775</td>\n",
       "      <td>0.243015</td>\n",
       "      <td>-0.122498</td>\n",
       "      <td>0.105455</td>\n",
       "    </tr>\n",
       "    <tr>\n",
       "      <th>1</th>\n",
       "      <td>-0.037125</td>\n",
       "      <td>-0.084273</td>\n",
       "      <td>-0.025988</td>\n",
       "      <td>-0.007329</td>\n",
       "      <td>-0.035599</td>\n",
       "      <td>-0.005473</td>\n",
       "      <td>0.048691</td>\n",
       "      <td>0.027475</td>\n",
       "      <td>0.032161</td>\n",
       "      <td>0.038053</td>\n",
       "      <td>...</td>\n",
       "      <td>-0.102702</td>\n",
       "      <td>-0.276421</td>\n",
       "      <td>0.096836</td>\n",
       "      <td>-0.121819</td>\n",
       "      <td>-0.215990</td>\n",
       "      <td>-0.078925</td>\n",
       "      <td>-0.135694</td>\n",
       "      <td>0.039910</td>\n",
       "      <td>0.188367</td>\n",
       "      <td>0.046014</td>\n",
       "    </tr>\n",
       "    <tr>\n",
       "      <th>2</th>\n",
       "      <td>-0.007121</td>\n",
       "      <td>-0.013519</td>\n",
       "      <td>0.060606</td>\n",
       "      <td>0.008421</td>\n",
       "      <td>0.016279</td>\n",
       "      <td>0.017287</td>\n",
       "      <td>-0.050240</td>\n",
       "      <td>-0.043012</td>\n",
       "      <td>0.052959</td>\n",
       "      <td>0.010345</td>\n",
       "      <td>...</td>\n",
       "      <td>0.044987</td>\n",
       "      <td>-0.007048</td>\n",
       "      <td>-0.057462</td>\n",
       "      <td>-0.034908</td>\n",
       "      <td>0.133628</td>\n",
       "      <td>0.071029</td>\n",
       "      <td>0.000228</td>\n",
       "      <td>-0.007571</td>\n",
       "      <td>0.093483</td>\n",
       "      <td>-0.137894</td>\n",
       "    </tr>\n",
       "    <tr>\n",
       "      <th>3</th>\n",
       "      <td>-0.026033</td>\n",
       "      <td>0.013021</td>\n",
       "      <td>0.039247</td>\n",
       "      <td>0.020212</td>\n",
       "      <td>0.016811</td>\n",
       "      <td>0.000646</td>\n",
       "      <td>-0.057095</td>\n",
       "      <td>-0.037960</td>\n",
       "      <td>0.025462</td>\n",
       "      <td>-0.025608</td>\n",
       "      <td>...</td>\n",
       "      <td>0.056685</td>\n",
       "      <td>-0.000662</td>\n",
       "      <td>-0.081845</td>\n",
       "      <td>-0.025931</td>\n",
       "      <td>0.129672</td>\n",
       "      <td>0.094335</td>\n",
       "      <td>0.012142</td>\n",
       "      <td>0.006770</td>\n",
       "      <td>0.106190</td>\n",
       "      <td>-0.149273</td>\n",
       "    </tr>\n",
       "    <tr>\n",
       "      <th>4</th>\n",
       "      <td>-0.002963</td>\n",
       "      <td>-0.039001</td>\n",
       "      <td>0.149685</td>\n",
       "      <td>-0.141665</td>\n",
       "      <td>0.065819</td>\n",
       "      <td>-0.096245</td>\n",
       "      <td>0.000559</td>\n",
       "      <td>-0.130199</td>\n",
       "      <td>-0.035878</td>\n",
       "      <td>-0.040521</td>\n",
       "      <td>...</td>\n",
       "      <td>0.004715</td>\n",
       "      <td>0.134088</td>\n",
       "      <td>-0.046262</td>\n",
       "      <td>0.027129</td>\n",
       "      <td>0.174941</td>\n",
       "      <td>0.060874</td>\n",
       "      <td>0.083064</td>\n",
       "      <td>0.080971</td>\n",
       "      <td>-0.022242</td>\n",
       "      <td>0.079496</td>\n",
       "    </tr>\n",
       "    <tr>\n",
       "      <th>...</th>\n",
       "      <td>...</td>\n",
       "      <td>...</td>\n",
       "      <td>...</td>\n",
       "      <td>...</td>\n",
       "      <td>...</td>\n",
       "      <td>...</td>\n",
       "      <td>...</td>\n",
       "      <td>...</td>\n",
       "      <td>...</td>\n",
       "      <td>...</td>\n",
       "      <td>...</td>\n",
       "      <td>...</td>\n",
       "      <td>...</td>\n",
       "      <td>...</td>\n",
       "      <td>...</td>\n",
       "      <td>...</td>\n",
       "      <td>...</td>\n",
       "      <td>...</td>\n",
       "      <td>...</td>\n",
       "      <td>...</td>\n",
       "      <td>...</td>\n",
       "    </tr>\n",
       "    <tr>\n",
       "      <th>2480</th>\n",
       "      <td>0.037329</td>\n",
       "      <td>0.048570</td>\n",
       "      <td>0.019255</td>\n",
       "      <td>-0.009525</td>\n",
       "      <td>-0.027434</td>\n",
       "      <td>0.015536</td>\n",
       "      <td>0.051639</td>\n",
       "      <td>-0.031082</td>\n",
       "      <td>-0.016124</td>\n",
       "      <td>0.011653</td>\n",
       "      <td>...</td>\n",
       "      <td>0.169767</td>\n",
       "      <td>0.143130</td>\n",
       "      <td>0.169336</td>\n",
       "      <td>0.268570</td>\n",
       "      <td>0.192503</td>\n",
       "      <td>0.004831</td>\n",
       "      <td>-0.047785</td>\n",
       "      <td>0.027546</td>\n",
       "      <td>-0.183254</td>\n",
       "      <td>0.007093</td>\n",
       "    </tr>\n",
       "    <tr>\n",
       "      <th>2481</th>\n",
       "      <td>-0.005255</td>\n",
       "      <td>0.088725</td>\n",
       "      <td>-0.021719</td>\n",
       "      <td>0.021321</td>\n",
       "      <td>-0.044354</td>\n",
       "      <td>0.016525</td>\n",
       "      <td>0.044843</td>\n",
       "      <td>-0.020543</td>\n",
       "      <td>-0.019718</td>\n",
       "      <td>0.048924</td>\n",
       "      <td>...</td>\n",
       "      <td>0.183138</td>\n",
       "      <td>0.120295</td>\n",
       "      <td>0.149323</td>\n",
       "      <td>0.259667</td>\n",
       "      <td>0.170614</td>\n",
       "      <td>-0.014542</td>\n",
       "      <td>-0.041933</td>\n",
       "      <td>0.046331</td>\n",
       "      <td>-0.129212</td>\n",
       "      <td>-0.027432</td>\n",
       "    </tr>\n",
       "    <tr>\n",
       "      <th>2482</th>\n",
       "      <td>0.009050</td>\n",
       "      <td>0.082403</td>\n",
       "      <td>0.003552</td>\n",
       "      <td>-0.003589</td>\n",
       "      <td>-0.052748</td>\n",
       "      <td>0.057156</td>\n",
       "      <td>0.078848</td>\n",
       "      <td>-0.031178</td>\n",
       "      <td>0.002797</td>\n",
       "      <td>0.055609</td>\n",
       "      <td>...</td>\n",
       "      <td>0.152775</td>\n",
       "      <td>0.104083</td>\n",
       "      <td>0.163879</td>\n",
       "      <td>0.256179</td>\n",
       "      <td>0.134577</td>\n",
       "      <td>-0.021883</td>\n",
       "      <td>-0.051193</td>\n",
       "      <td>0.033391</td>\n",
       "      <td>-0.180290</td>\n",
       "      <td>0.014722</td>\n",
       "    </tr>\n",
       "    <tr>\n",
       "      <th>2483</th>\n",
       "      <td>-0.159819</td>\n",
       "      <td>0.019725</td>\n",
       "      <td>0.009750</td>\n",
       "      <td>0.013587</td>\n",
       "      <td>-0.022355</td>\n",
       "      <td>-0.028463</td>\n",
       "      <td>-0.031145</td>\n",
       "      <td>0.019994</td>\n",
       "      <td>-0.109458</td>\n",
       "      <td>-0.073868</td>\n",
       "      <td>...</td>\n",
       "      <td>0.114370</td>\n",
       "      <td>-0.050271</td>\n",
       "      <td>-0.111632</td>\n",
       "      <td>0.119926</td>\n",
       "      <td>-0.045934</td>\n",
       "      <td>0.098546</td>\n",
       "      <td>0.010439</td>\n",
       "      <td>0.033512</td>\n",
       "      <td>0.178907</td>\n",
       "      <td>-0.175016</td>\n",
       "    </tr>\n",
       "    <tr>\n",
       "      <th>2484</th>\n",
       "      <td>0.048816</td>\n",
       "      <td>0.015495</td>\n",
       "      <td>-0.073330</td>\n",
       "      <td>0.082418</td>\n",
       "      <td>0.004996</td>\n",
       "      <td>0.054273</td>\n",
       "      <td>0.021388</td>\n",
       "      <td>0.093612</td>\n",
       "      <td>0.007150</td>\n",
       "      <td>-0.018535</td>\n",
       "      <td>...</td>\n",
       "      <td>-0.169741</td>\n",
       "      <td>0.072157</td>\n",
       "      <td>-0.096827</td>\n",
       "      <td>-0.149616</td>\n",
       "      <td>-0.112369</td>\n",
       "      <td>-0.033840</td>\n",
       "      <td>0.217095</td>\n",
       "      <td>-0.056430</td>\n",
       "      <td>-0.082739</td>\n",
       "      <td>0.098671</td>\n",
       "    </tr>\n",
       "  </tbody>\n",
       "</table>\n",
       "<p>2485 rows × 128 columns</p>\n",
       "</div>"
      ],
      "text/plain": [
       "         col_0     col_1     col_2     col_3     col_4     col_5     col_6  \\\n",
       "0     0.125639  0.037899 -0.060162 -0.034127  0.039009 -0.092451 -0.040883   \n",
       "1    -0.037125 -0.084273 -0.025988 -0.007329 -0.035599 -0.005473  0.048691   \n",
       "2    -0.007121 -0.013519  0.060606  0.008421  0.016279  0.017287 -0.050240   \n",
       "3    -0.026033  0.013021  0.039247  0.020212  0.016811  0.000646 -0.057095   \n",
       "4    -0.002963 -0.039001  0.149685 -0.141665  0.065819 -0.096245  0.000559   \n",
       "...        ...       ...       ...       ...       ...       ...       ...   \n",
       "2480  0.037329  0.048570  0.019255 -0.009525 -0.027434  0.015536  0.051639   \n",
       "2481 -0.005255  0.088725 -0.021719  0.021321 -0.044354  0.016525  0.044843   \n",
       "2482  0.009050  0.082403  0.003552 -0.003589 -0.052748  0.057156  0.078848   \n",
       "2483 -0.159819  0.019725  0.009750  0.013587 -0.022355 -0.028463 -0.031145   \n",
       "2484  0.048816  0.015495 -0.073330  0.082418  0.004996  0.054273  0.021388   \n",
       "\n",
       "         col_7     col_8     col_9  ...   col_118   col_119   col_120  \\\n",
       "0    -0.143016 -0.036907 -0.110292  ... -0.005976  0.100427  0.139106   \n",
       "1     0.027475  0.032161  0.038053  ... -0.102702 -0.276421  0.096836   \n",
       "2    -0.043012  0.052959  0.010345  ...  0.044987 -0.007048 -0.057462   \n",
       "3    -0.037960  0.025462 -0.025608  ...  0.056685 -0.000662 -0.081845   \n",
       "4    -0.130199 -0.035878 -0.040521  ...  0.004715  0.134088 -0.046262   \n",
       "...        ...       ...       ...  ...       ...       ...       ...   \n",
       "2480 -0.031082 -0.016124  0.011653  ...  0.169767  0.143130  0.169336   \n",
       "2481 -0.020543 -0.019718  0.048924  ...  0.183138  0.120295  0.149323   \n",
       "2482 -0.031178  0.002797  0.055609  ...  0.152775  0.104083  0.163879   \n",
       "2483  0.019994 -0.109458 -0.073868  ...  0.114370 -0.050271 -0.111632   \n",
       "2484  0.093612  0.007150 -0.018535  ... -0.169741  0.072157 -0.096827   \n",
       "\n",
       "       col_121   col_122   col_123   col_124   col_125   col_126   col_127  \n",
       "0    -0.024013  0.121216  0.038344 -0.081775  0.243015 -0.122498  0.105455  \n",
       "1    -0.121819 -0.215990 -0.078925 -0.135694  0.039910  0.188367  0.046014  \n",
       "2    -0.034908  0.133628  0.071029  0.000228 -0.007571  0.093483 -0.137894  \n",
       "3    -0.025931  0.129672  0.094335  0.012142  0.006770  0.106190 -0.149273  \n",
       "4     0.027129  0.174941  0.060874  0.083064  0.080971 -0.022242  0.079496  \n",
       "...        ...       ...       ...       ...       ...       ...       ...  \n",
       "2480  0.268570  0.192503  0.004831 -0.047785  0.027546 -0.183254  0.007093  \n",
       "2481  0.259667  0.170614 -0.014542 -0.041933  0.046331 -0.129212 -0.027432  \n",
       "2482  0.256179  0.134577 -0.021883 -0.051193  0.033391 -0.180290  0.014722  \n",
       "2483  0.119926 -0.045934  0.098546  0.010439  0.033512  0.178907 -0.175016  \n",
       "2484 -0.149616 -0.112369 -0.033840  0.217095 -0.056430 -0.082739  0.098671  \n",
       "\n",
       "[2485 rows x 128 columns]"
      ]
     },
     "execution_count": 12,
     "metadata": {},
     "output_type": "execute_result"
    }
   ],
   "source": [
    "pd.DataFrame(node_embeddings, columns = [f\"col_{i}\" for i in range(node_embeddings.shape[1])])"
   ]
  },
  {
   "cell_type": "code",
   "execution_count": 1,
   "id": "47c8bae4",
   "metadata": {},
   "outputs": [
    {
     "data": {
      "text/plain": [
       "'/Users/minkexiu/Documents/GitHub/ML_Tryout/Graph_Series'"
      ]
     },
     "execution_count": 1,
     "metadata": {},
     "output_type": "execute_result"
    }
   ],
   "source": [
    "pwd"
   ]
  },
  {
   "cell_type": "code",
   "execution_count": 2,
   "id": "a6d9d86d",
   "metadata": {},
   "outputs": [
    {
     "name": "stdout",
     "output_type": "stream",
     "text": [
      "2.0.0                           \u001b[34mPublic\u001b[m\u001b[m\r\n",
      "\u001b[34mApplications\u001b[m\u001b[m                    df_fdt.csv\r\n",
      "\u001b[34mDesktop\u001b[m\u001b[m                         java_error_in_pycharm_22319.log\r\n",
      "\u001b[34mDocuments\u001b[m\u001b[m                       java_error_in_pycharm_5789.log\r\n",
      "\u001b[34mDownloads\u001b[m\u001b[m                       java_error_in_pycharm_74657.log\r\n",
      "\u001b[34mIdeaProjects\u001b[m\u001b[m                    jbr_err_pid74657.log\r\n",
      "\u001b[34mLibrary\u001b[m\u001b[m                         \u001b[34mnltk_data\u001b[m\u001b[m\r\n",
      "LightGBM_compilation.log        \u001b[34mopt\u001b[m\u001b[m\r\n",
      "\u001b[34mMovies\u001b[m\u001b[m                          sn-article.tex\r\n",
      "\u001b[34mMusic\u001b[m\u001b[m                           \u001b[34mstellargraph-datasets\u001b[m\u001b[m\r\n",
      "\u001b[35mOneDrive\u001b[m\u001b[m                        total_20220401_20220915.csv\r\n",
      "\u001b[34mPictures\u001b[m\u001b[m                        xyz.java\r\n",
      "\u001b[34mPostman\u001b[m\u001b[m                         \u001b[34m同步空间\u001b[m\u001b[m\r\n"
     ]
    }
   ],
   "source": [
    "!ls ~"
   ]
  },
  {
   "cell_type": "code",
   "execution_count": null,
   "id": "62a30766",
   "metadata": {},
   "outputs": [],
   "source": []
  },
  {
   "cell_type": "code",
   "execution_count": null,
   "id": "5c966ef9",
   "metadata": {},
   "outputs": [],
   "source": []
  },
  {
   "cell_type": "markdown",
   "id": "4618c04e",
   "metadata": {},
   "source": [
    "# 自己设计数据集\n",
    "\n",
    "https://stellargraph.readthedocs.io/en/stable/demos/basics/loading-pandas.html\n",
    "\n",
    "我们可以构建一个带边权重的有向图。\n",
    "\n",
    "然后我们再构建一个特征集，特征集的 index 要是 companyid，或者是什么注册号之类的。。"
   ]
  },
  {
   "cell_type": "code",
   "execution_count": 13,
   "id": "ed7f9f13",
   "metadata": {},
   "outputs": [
    {
     "data": {
      "text/html": [
       "<div>\n",
       "<style scoped>\n",
       "    .dataframe tbody tr th:only-of-type {\n",
       "        vertical-align: middle;\n",
       "    }\n",
       "\n",
       "    .dataframe tbody tr th {\n",
       "        vertical-align: top;\n",
       "    }\n",
       "\n",
       "    .dataframe thead th {\n",
       "        text-align: right;\n",
       "    }\n",
       "</style>\n",
       "<table border=\"1\" class=\"dataframe\">\n",
       "  <thead>\n",
       "    <tr style=\"text-align: right;\">\n",
       "      <th></th>\n",
       "      <th>source</th>\n",
       "      <th>target</th>\n",
       "    </tr>\n",
       "  </thead>\n",
       "  <tbody>\n",
       "    <tr>\n",
       "      <th>0</th>\n",
       "      <td>a</td>\n",
       "      <td>b</td>\n",
       "    </tr>\n",
       "    <tr>\n",
       "      <th>1</th>\n",
       "      <td>b</td>\n",
       "      <td>c</td>\n",
       "    </tr>\n",
       "    <tr>\n",
       "      <th>2</th>\n",
       "      <td>c</td>\n",
       "      <td>d</td>\n",
       "    </tr>\n",
       "    <tr>\n",
       "      <th>3</th>\n",
       "      <td>d</td>\n",
       "      <td>a</td>\n",
       "    </tr>\n",
       "    <tr>\n",
       "      <th>4</th>\n",
       "      <td>a</td>\n",
       "      <td>c</td>\n",
       "    </tr>\n",
       "  </tbody>\n",
       "</table>\n",
       "</div>"
      ],
      "text/plain": [
       "  source target\n",
       "0      a      b\n",
       "1      b      c\n",
       "2      c      d\n",
       "3      d      a\n",
       "4      a      c"
      ]
     },
     "execution_count": 13,
     "metadata": {},
     "output_type": "execute_result"
    }
   ],
   "source": [
    "square_edges = pd.DataFrame(\n",
    "    {\"source\": [\"a\", \"b\", \"c\", \"d\", \"a\"], \"target\": [\"b\", \"c\", \"d\", \"a\", \"c\"]}\n",
    ")\n",
    "square_edges"
   ]
  },
  {
   "cell_type": "code",
   "execution_count": 14,
   "id": "e44b9de8",
   "metadata": {},
   "outputs": [],
   "source": [
    "square = StellarGraph(edges=square_edges)"
   ]
  },
  {
   "cell_type": "code",
   "execution_count": 15,
   "id": "b0f10c9b",
   "metadata": {},
   "outputs": [
    {
     "data": {
      "text/plain": [
       "Index(['a', 'b', 'c', 'd'], dtype='object')"
      ]
     },
     "execution_count": 15,
     "metadata": {},
     "output_type": "execute_result"
    }
   ],
   "source": [
    "square.nodes()"
   ]
  },
  {
   "cell_type": "code",
   "execution_count": 20,
   "id": "d11b9ed7",
   "metadata": {},
   "outputs": [
    {
     "data": {
      "text/plain": [
       "(2485, 1433)"
      ]
     },
     "execution_count": 20,
     "metadata": {},
     "output_type": "execute_result"
    }
   ],
   "source": [
    "graph.node_features().shape"
   ]
  },
  {
   "cell_type": "code",
   "execution_count": null,
   "id": "a23a99c7",
   "metadata": {},
   "outputs": [],
   "source": []
  }
 ],
 "metadata": {
  "kernelspec": {
   "display_name": "Python 3 (ipykernel)",
   "language": "python",
   "name": "python3"
  },
  "language_info": {
   "codemirror_mode": {
    "name": "ipython",
    "version": 3
   },
   "file_extension": ".py",
   "mimetype": "text/x-python",
   "name": "python",
   "nbconvert_exporter": "python",
   "pygments_lexer": "ipython3",
   "version": "3.9.10"
  },
  "toc": {
   "base_numbering": 1,
   "nav_menu": {},
   "number_sections": true,
   "sideBar": true,
   "skip_h1_title": false,
   "title_cell": "Table of Contents",
   "title_sidebar": "Contents",
   "toc_cell": false,
   "toc_position": {},
   "toc_section_display": true,
   "toc_window_display": false
  }
 },
 "nbformat": 4,
 "nbformat_minor": 5
}
