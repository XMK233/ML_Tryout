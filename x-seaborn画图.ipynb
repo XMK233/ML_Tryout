{
 "cells": [
  {
   "cell_type": "code",
   "execution_count": 1,
   "id": "204f8882",
   "metadata": {},
   "outputs": [],
   "source": [
    "import xgboost as xgb\n",
    "import lightgbm as lgb\n",
    "from sklearn.preprocessing import LabelEncoder, StandardScaler\n",
    "from sklearn.linear_model import LogisticRegression\n",
    "from sklearn.svm import SVC\n",
    "from sklearn.neighbors import KNeighborsClassifier\n",
    "from catboost import CatBoostRegressor, CatBoostClassifier\n",
    "import pandas as pd\n",
    "import numpy as np\n",
    "import tqdm, datetime, pickle\n",
    "from sklearn.datasets import make_classification\n",
    "from sklearn.ensemble import RandomForestClassifier\n",
    "\n",
    "import torch\n",
    "import torch.nn.functional as F\n",
    "from torch.utils.data import DataLoader\n",
    "\n",
    "import ngboost as ngb\n",
    "\n",
    "from sklearn import datasets\n",
    "\n",
    "import plotnine\n",
    "from plotnine import *\n",
    "\n",
    "import seaborn as sns\n",
    "\n",
    "# from keras.models import Sequential\n",
    "# from keras.layers import Dense, Dropout, Activation, Flatten"
   ]
  },
  {
   "cell_type": "code",
   "execution_count": null,
   "id": "59be7875",
   "metadata": {},
   "outputs": [],
   "source": [
    "import numpy as np\n",
    "import seaborn as sns; sns.set()\n",
    "import matplotlib.pyplot as plt\n",
    "uniform_data = np.random.rand(10, 12)\n",
    "## 定义一下多图并列：\n",
    "f, [[ax0, ax1], [ax2, ax3]] = plt.subplots(, 2, figsize=(23, 20))\n",
    "sns.heatmap(cross_, ax = ax0, cmap = sns.cm.rocket_r, annot=True) \n",
    "## `cmap = sns.cm.rocket_r`表示，值越大则颜色越深；默认是反过来的。\n",
    "## annot=True就可以把数字填进去。\n",
    "sns.heatmap(uniform_data, ax = ax1)\n",
    "sns.heatmap(uniform_data, ax = ax2)\n",
    "sns.heatmap(uniform_data, ax = ax3)\n",
    "\n",
    "## x, y轴的反转：\n",
    "# ax0.invert_xaxis()\n",
    "# ax1.invert_yaxis()\n",
    "# ax2.invert_yaxis()\n",
    "# ax3.invert_yaxis()\n",
    "\n",
    "## 旋转轴的标签：\n",
    "ax0.set_xticklabels(ax0.get_xticklabels(),rotation=30)\n",
    "ax0.set_yticklabels(ax0.get_yticklabels(),rotation=30)\n",
    "\n",
    "plt.show()"
   ]
  },
  {
   "cell_type": "code",
   "execution_count": null,
   "id": "7918b153",
   "metadata": {},
   "outputs": [],
   "source": []
  },
  {
   "cell_type": "code",
   "execution_count": null,
   "id": "baed88d1",
   "metadata": {},
   "outputs": [],
   "source": []
  },
  {
   "cell_type": "code",
   "execution_count": null,
   "id": "b3b1b3d2",
   "metadata": {},
   "outputs": [],
   "source": []
  }
 ],
 "metadata": {
  "kernelspec": {
   "display_name": "Python 3 (ipykernel)",
   "language": "python",
   "name": "python3"
  },
  "language_info": {
   "codemirror_mode": {
    "name": "ipython",
    "version": 3
   },
   "file_extension": ".py",
   "mimetype": "text/x-python",
   "name": "python",
   "nbconvert_exporter": "python",
   "pygments_lexer": "ipython3",
   "version": "3.9.7"
  },
  "toc": {
   "base_numbering": 1,
   "nav_menu": {},
   "number_sections": true,
   "sideBar": true,
   "skip_h1_title": false,
   "title_cell": "Table of Contents",
   "title_sidebar": "Contents",
   "toc_cell": false,
   "toc_position": {},
   "toc_section_display": true,
   "toc_window_display": false
  }
 },
 "nbformat": 4,
 "nbformat_minor": 5
}
