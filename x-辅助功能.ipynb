{
 "cells": [
  {
   "cell_type": "code",
   "execution_count": 58,
   "id": "840316db",
   "metadata": {},
   "outputs": [
    {
     "data": {
      "text/html": [
       "<div>\n",
       "<style scoped>\n",
       "    .dataframe tbody tr th:only-of-type {\n",
       "        vertical-align: middle;\n",
       "    }\n",
       "\n",
       "    .dataframe tbody tr th {\n",
       "        vertical-align: top;\n",
       "    }\n",
       "\n",
       "    .dataframe thead th {\n",
       "        text-align: right;\n",
       "    }\n",
       "</style>\n",
       "<table border=\"1\" class=\"dataframe\">\n",
       "  <thead>\n",
       "    <tr style=\"text-align: right;\">\n",
       "      <th></th>\n",
       "      <th>aaa</th>\n",
       "      <th>bbb</th>\n",
       "    </tr>\n",
       "  </thead>\n",
       "  <tbody>\n",
       "    <tr>\n",
       "      <th>0</th>\n",
       "      <td>1</td>\n",
       "      <td>4</td>\n",
       "    </tr>\n",
       "    <tr>\n",
       "      <th>1</th>\n",
       "      <td>2</td>\n",
       "      <td>5</td>\n",
       "    </tr>\n",
       "    <tr>\n",
       "      <th>2</th>\n",
       "      <td>3</td>\n",
       "      <td>6</td>\n",
       "    </tr>\n",
       "  </tbody>\n",
       "</table>\n",
       "</div>"
      ],
      "text/plain": [
       "   aaa  bbb\n",
       "0    1    4\n",
       "1    2    5\n",
       "2    3    6"
      ]
     },
     "execution_count": 58,
     "metadata": {},
     "output_type": "execute_result"
    }
   ],
   "source": [
    "df = pd.DataFrame(\n",
    "    {\n",
    "        \"aaa\": [1, 2, 3],\n",
    "        \"bbb\": [4, 5, 6]\n",
    "    }\n",
    ")\n"
   ]
  },
  {
   "cell_type": "code",
   "execution_count": 59,
   "id": "5ad51203",
   "metadata": {},
   "outputs": [
    {
     "data": {
      "text/plain": [
       "False"
      ]
     },
     "execution_count": 59,
     "metadata": {},
     "output_type": "execute_result"
    }
   ],
   "source": [
    "set([\"aaa\"]) in set([\"aaa\", \"bbb\"])"
   ]
  },
  {
   "cell_type": "code",
   "execution_count": null,
   "id": "9663be47",
   "metadata": {},
   "outputs": [],
   "source": []
  },
  {
   "cell_type": "code",
   "execution_count": null,
   "id": "1881e8c9",
   "metadata": {},
   "outputs": [],
   "source": []
  },
  {
   "cell_type": "code",
   "execution_count": null,
   "id": "27fda1c0",
   "metadata": {},
   "outputs": [],
   "source": [
    "nm1 = f\"feas_tongdun-tongdunHitRuleDetailFeature-408\"\n",
    "nm2 = f\"feas_tongdun-tongdunReloanFeature-301\"\n",
    "all_feas_1, feas_cols_v2_upper_1, feas_cols_v2_1 = get_all_feas(f\"{nm1}.txt\", f\"{nm1}.parquet\")\n",
    "all_feas_2, feas_cols_v2_upper_2, feas_cols_v2_2 = get_all_feas(f\"{nm2}.txt\", f\"{nm2}.parquet\")\n",
    "all_feas = pd.concat(\n",
    "    [\n",
    "        all_feas_1, \n",
    "        all_feas_2[all_feas_2.columns[5:]]\n",
    "    ],\n",
    "    axis = 1\n",
    ")\n",
    "gc.collect()"
   ]
  },
  {
   "cell_type": "code",
   "execution_count": null,
   "id": "480a8dbf",
   "metadata": {},
   "outputs": [],
   "source": [
    "feas_list = []\n",
    "feas_df = None"
   ]
  },
  {
   "cell_type": "code",
   "execution_count": null,
   "id": "b5a4e478",
   "metadata": {},
   "outputs": [],
   "source": [
    "with open(\"sorted_feas_importance/feas_tongdun-someComb-709-515.txt\", \"r\") as f:\n",
    "    feas_new = [i.strip().lower() for i in f.readlines()]\n",
    "    feas_list += feas_new\n",
    "feas_df = all_feas # .loc[:, feas_new]\n",
    "feas_df.shape, len(feas_list)"
   ]
  },
  {
   "cell_type": "code",
   "execution_count": null,
   "id": "2973f228",
   "metadata": {},
   "outputs": [],
   "source": [
    "for fea_list_name in [\n",
    "    \"feas_comb-85-60\", \"feas_tongdun-tongdunReloanHitRuleDetailFeature-669-176\",\n",
    "    \"feas_tongdun-others-297-129\", \"feas_tongdun-tongdunDeriveFeature-720-234\", \n",
    "    \"feas_bairong-822-345\"\n",
    "]:\n",
    "    print(fea_list_name) ## \n",
    "    tmp_nm = fea_list_name.rsplit(\"-\", 1)[0] ## 得到 feas_comb-85\n",
    "    all_feas_1, feas_cols_v2_upper_1, feas_cols_v2_1 = get_all_feas(f\"{tmp_nm}.txt\", f\"{tmp_nm}.parquet\")\n",
    "    # print(all_feas_1.shape)\n",
    "    with open(f\"sorted_feas_importance/{fea_list_name}.txt\", \"r\") as f:\n",
    "        feas_new = [i.strip().lower() for i in f.readlines()]\n",
    "        feas_list += feas_new\n",
    "    # print(\"concating...\")\n",
    "    feas_df = pd.concat([feas_df, all_feas_1.loc[:, feas_new]], axis = 1)"
   ]
  },
  {
   "cell_type": "code",
   "execution_count": null,
   "id": "ff827072",
   "metadata": {},
   "outputs": [],
   "source": [
    "feas_df.shape, len(feas_list)"
   ]
  },
  {
   "cell_type": "code",
   "execution_count": null,
   "id": "4b8ae4ca",
   "metadata": {},
   "outputs": [],
   "source": [
    "target_label = \"target_1d\"\n",
    "y = feas_df[target_label]\n",
    "train, test = train_test_split(feas_df, test_size=0.25, random_state=30, shuffle=True, stratify=y)"
   ]
  },
  {
   "cell_type": "code",
   "execution_count": null,
   "id": "67eda896",
   "metadata": {},
   "outputs": [],
   "source": [
    "nm = f\"thirdParty_v1-{len(feas_list)}\"\n",
    "nm"
   ]
  },
  {
   "cell_type": "code",
   "execution_count": null,
   "id": "fe0d1baa",
   "metadata": {},
   "outputs": [],
   "source": [
    "model_path = train_original_model_1(\n",
    "    train, test, \n",
    "    feas_list, \n",
    "    f\"{nm}-origin\", \n",
    "    \"trained_models\",\n",
    "    \"target_1d\",\n",
    ")\n",
    "model_path"
   ]
  },
  {
   "cell_type": "code",
   "execution_count": null,
   "id": "8a4fadb1",
   "metadata": {},
   "outputs": [],
   "source": []
  },
  {
   "cell_type": "code",
   "execution_count": null,
   "id": "68d6e8e4",
   "metadata": {},
   "outputs": [],
   "source": []
  },
  {
   "cell_type": "code",
   "execution_count": null,
   "id": "0cfd9ce8",
   "metadata": {},
   "outputs": [],
   "source": []
  },
  {
   "cell_type": "code",
   "execution_count": null,
   "id": "1f27e20f",
   "metadata": {},
   "outputs": [],
   "source": []
  },
  {
   "cell_type": "code",
   "execution_count": 55,
   "id": "816e00e6",
   "metadata": {},
   "outputs": [
    {
     "name": "stdout",
     "output_type": "stream",
     "text": [
      "475\n",
      "445\n",
      "415\n",
      "385\n",
      "355\n",
      "325\n",
      "295\n",
      "265\n",
      "235\n",
      "205\n"
     ]
    }
   ],
   "source": [
    "for j in range(10):\n",
    "    i = 475 - j*30\n",
    "    print(i)"
   ]
  },
  {
   "cell_type": "code",
   "execution_count": 1,
   "id": "8d2ac1ee",
   "metadata": {},
   "outputs": [],
   "source": [
    "import xgboost as xgb\n",
    "import lightgbm as lgb\n",
    "from sklearn.preprocessing import LabelEncoder, StandardScaler\n",
    "from sklearn.linear_model import LogisticRegression\n",
    "from sklearn.svm import SVC\n",
    "from sklearn.neighbors import KNeighborsClassifier\n",
    "from catboost import CatBoostRegressor, CatBoostClassifier\n",
    "import pandas as pd\n",
    "import numpy as np\n",
    "import tqdm, datetime, pickle\n",
    "from sklearn.datasets import make_classification\n",
    "from sklearn.ensemble import RandomForestClassifier\n",
    "\n",
    "import torch\n",
    "import torch.nn.functional as F\n",
    "from torch.utils.data import DataLoader\n",
    "\n",
    "import ngboost as ngb\n",
    "\n",
    "from sklearn import datasets\n",
    "\n",
    "import plotnine\n",
    "from plotnine import *\n",
    "\n",
    "import seaborn as sns\n",
    "\n",
    "import os\n",
    "\n",
    "# from keras.models import Sequential\n",
    "# from keras.layers import Dense, Dropout, Activation, Flatten"
   ]
  },
  {
   "cell_type": "code",
   "execution_count": null,
   "id": "368266e5",
   "metadata": {},
   "outputs": [],
   "source": []
  },
  {
   "cell_type": "code",
   "execution_count": null,
   "id": "3d4192c9",
   "metadata": {},
   "outputs": [],
   "source": []
  },
  {
   "cell_type": "code",
   "execution_count": null,
   "id": "44afcc76",
   "metadata": {},
   "outputs": [],
   "source": []
  },
  {
   "cell_type": "markdown",
   "id": "7616e2c3",
   "metadata": {},
   "source": [
    "# 处理埋点特征列表"
   ]
  },
  {
   "cell_type": "code",
   "execution_count": 11,
   "id": "ffcea3c4",
   "metadata": {},
   "outputs": [],
   "source": [
    "with open(\"/Users/minkexiu/Desktop/dongzhi_v2_features_list.txt\", \"r\") as f:\n",
    "    feas_cols_v2 = [_.strip() for _ in f.readlines()]"
   ]
  },
  {
   "cell_type": "code",
   "execution_count": 13,
   "id": "a4063a9c",
   "metadata": {},
   "outputs": [],
   "source": [
    "maidian_list = pd.read_csv(\"/Users/minkexiu/Desktop/feas_maidian.csv\")[\"Feature_Name\"].values"
   ]
  },
  {
   "cell_type": "code",
   "execution_count": 21,
   "id": "60f7d36b",
   "metadata": {},
   "outputs": [],
   "source": [
    "maidian_feas = [_.lower() for _ in list(maidian_list[4:])]"
   ]
  },
  {
   "cell_type": "code",
   "execution_count": 23,
   "id": "40017976",
   "metadata": {},
   "outputs": [
    {
     "data": {
      "text/plain": [
       "484"
      ]
     },
     "execution_count": 23,
     "metadata": {},
     "output_type": "execute_result"
    }
   ],
   "source": [
    "len(\n",
    "    set(maidian_feas).intersection(\n",
    "        set(feas_cols_v2)\n",
    "    )\n",
    ")"
   ]
  },
  {
   "cell_type": "markdown",
   "id": "83a30aaa",
   "metadata": {},
   "source": [
    "# 处理行为特征列表"
   ]
  },
  {
   "cell_type": "code",
   "execution_count": 6,
   "id": "62264de1",
   "metadata": {},
   "outputs": [],
   "source": [
    "with open(\"/Users/minkexiu/Desktop/dongzhi_v2_features_list.txt\", \"r\") as f:\n",
    "    feas_cols_v2 = [_.strip() for _ in f.readlines()]"
   ]
  },
  {
   "cell_type": "code",
   "execution_count": 28,
   "id": "2bb6653d",
   "metadata": {},
   "outputs": [
    {
     "data": {
      "text/plain": [
       "1678"
      ]
     },
     "execution_count": 28,
     "metadata": {},
     "output_type": "execute_result"
    }
   ],
   "source": [
    "len(feas_cols_v2)"
   ]
  },
  {
   "cell_type": "code",
   "execution_count": 42,
   "id": "f73cabba",
   "metadata": {},
   "outputs": [
    {
     "name": "stdout",
     "output_type": "stream",
     "text": [
      "term4.csv 407 627\n",
      "term3.csv 0 737\n",
      "term2.csv 91 115\n",
      "term1.csv 116 228\n"
     ]
    }
   ],
   "source": [
    "fea_files_dir = \"/Users/minkexiu/Desktop/行为特征/\"\n",
    "for fname in os.listdir(fea_files_dir):\n",
    "    feas = list(pd.read_csv(os.path.join(fea_files_dir, fname)).iloc[:, 0])\n",
    "    feas = [_.lower() for _ in feas]\n",
    "    feas = set(feas)\n",
    "    itsct = feas.intersection(set(feas_cols_v2))\n",
    "    print(fname, len(itsct), len(feas))"
   ]
  },
  {
   "cell_type": "code",
   "execution_count": 29,
   "id": "316669f2",
   "metadata": {},
   "outputs": [
    {
     "data": {
      "text/plain": [
       "614"
      ]
     },
     "execution_count": 29,
     "metadata": {},
     "output_type": "execute_result"
    }
   ],
   "source": [
    "407+91+116"
   ]
  },
  {
   "cell_type": "code",
   "execution_count": 30,
   "id": "81329bf7",
   "metadata": {},
   "outputs": [
    {
     "data": {
      "text/plain": [
       "1098"
      ]
     },
     "execution_count": 30,
     "metadata": {},
     "output_type": "execute_result"
    }
   ],
   "source": [
    "1098"
   ]
  },
  {
   "cell_type": "code",
   "execution_count": 39,
   "id": "088cb5a2",
   "metadata": {},
   "outputs": [],
   "source": [
    "feas_comb_old = pd.read_csv(\"/Users/minkexiu/Desktop/第三方特征列表/feas_comb_old-4054.csv\")[\"名称\"].apply(lambda x: x.lower()).values\n",
    "feas_comb_old = list(feas_comb_old)"
   ]
  },
  {
   "cell_type": "code",
   "execution_count": 40,
   "id": "513b85a0",
   "metadata": {},
   "outputs": [
    {
     "data": {
      "text/plain": [
       "548"
      ]
     },
     "execution_count": 40,
     "metadata": {},
     "output_type": "execute_result"
    }
   ],
   "source": [
    "len(\n",
    "    set(feas_comb_old).intersection(\n",
    "        set(feas_cols_v2)\n",
    "    )\n",
    ")"
   ]
  },
  {
   "cell_type": "code",
   "execution_count": 41,
   "id": "7e00e272",
   "metadata": {},
   "outputs": [
    {
     "data": {
      "text/plain": [
       "1646"
      ]
     },
     "execution_count": 41,
     "metadata": {},
     "output_type": "execute_result"
    }
   ],
   "source": [
    "1098+548"
   ]
  },
  {
   "cell_type": "markdown",
   "id": "34a0161c",
   "metadata": {},
   "source": [
    "----------"
   ]
  },
  {
   "cell_type": "code",
   "execution_count": 44,
   "id": "131f3b63",
   "metadata": {},
   "outputs": [],
   "source": [
    "with open(\"/Users/minkexiu/Desktop/dongzhi_v2_features_list.txt\", \"r\") as f:\n",
    "    feas_cols_v2 = set([_.strip() for _ in f.readlines()])"
   ]
  },
  {
   "cell_type": "code",
   "execution_count": 45,
   "id": "3ca6b17f",
   "metadata": {},
   "outputs": [],
   "source": [
    "fea_files_dir = \"/Users/minkexiu/Desktop/行为特征/\"\n",
    "total_terms = []\n",
    "for fname in os.listdir(fea_files_dir):\n",
    "    feas = list(pd.read_csv(os.path.join(fea_files_dir, fname)).iloc[:, 0])\n",
    "    feas = [_.lower() for _ in feas]\n",
    "    total_terms += feas\n",
    "total_terms = set(total_terms)"
   ]
  },
  {
   "cell_type": "code",
   "execution_count": 46,
   "id": "1d7b7467",
   "metadata": {},
   "outputs": [],
   "source": [
    "feas_comb_old = pd.read_csv(\"/Users/minkexiu/Desktop/第三方特征列表/feas_comb_old-4054.csv\")[\"名称\"].apply(lambda x: x.lower()).values\n",
    "feas_comb_old = set(feas_comb_old)"
   ]
  },
  {
   "cell_type": "code",
   "execution_count": 47,
   "id": "06e92576",
   "metadata": {},
   "outputs": [],
   "source": [
    "maidian_list = pd.read_csv(\"/Users/minkexiu/Desktop/feas_maidian.csv\")[\"Feature_Name\"].values\n",
    "maidian_feas = set([_.lower() for _ in list(maidian_list[4:])])"
   ]
  },
  {
   "cell_type": "code",
   "execution_count": 50,
   "id": "81e82d0e",
   "metadata": {},
   "outputs": [
    {
     "data": {
      "text/plain": [
       "{'loanbillingbehaviorfeature___billingstatisticsfeature_100d___numberofbillingsinexpire',\n",
       " 'loanbillingbehaviorfeature___billingstatisticsfeature_100d___numberofoverdueprincipal',\n",
       " 'loanbillingbehaviorfeature___billingstatisticsfeature_150d___numberofbillingsinexpire',\n",
       " 'loanbillingbehaviorfeature___billingstatisticsfeature_150d___numberofoverdueprincipal',\n",
       " 'loanbillingbehaviorfeature___billingstatisticsfeature_150d___numberofprincipalinexpire',\n",
       " 'loanbillingbehaviorfeature___billingstatisticsfeature_200d___numberofoverdueprincipal',\n",
       " 'loanbillingbehaviorfeature___billingstatisticsfeature_50d___numberofoverdueprincipal',\n",
       " 'loanbillingbehaviorfeature___billingstatisticsfeature_50d___numberofprincipalinexpire',\n",
       " 'loanbillingbehaviorfeature___billingstatisticsfeature_50to100d___numberofprincipalinexpire',\n",
       " 'qianhaifeature___largecredooscore',\n",
       " 'qianhaifeature___loancredooscore',\n",
       " 'qianhaimultiloanfeature___amount',\n",
       " 'qianhaimultiloanfeature___bnkamount',\n",
       " 'qianhaimultiloanfeature___cnssamount',\n",
       " 'qianhaimultiloanfeature___industrybaksize',\n",
       " 'qianhaimultiloanfeature___industrycnssize',\n",
       " 'qianhaimultiloanfeature___industryinssize',\n",
       " 'qianhaimultiloanfeature___industrymapping',\n",
       " 'qianhaimultiloanfeature___industrymclsize',\n",
       " 'qianhaimultiloanfeature___industryothsize',\n",
       " 'qianhaimultiloanfeature___industryp2psize',\n",
       " 'qianhaimultiloanfeature___industrysetsize',\n",
       " 'qianhaimultiloanfeature___industrythrsize',\n",
       " 'qianhaimultiloanfeature___industrytrusize',\n",
       " 'qianhaimultiloanfeature___p2pamount',\n",
       " 'qianhaimultiloanfeature___queryamountm3',\n",
       " 'qianhaimultiloanfeature___queryamountm6',\n",
       " 'qianhaimultiloanfeature___queryrecordsize',\n",
       " 'qianhaimultiloanfeature___reason01size',\n",
       " 'qianhaimultiloanfeature___reason03size',\n",
       " 'qianhaimultiloanfeature___reason99size',\n",
       " 'qianhaimultiloanfeature___reasoncodemapping'}"
      ]
     },
     "execution_count": 50,
     "metadata": {},
     "output_type": "execute_result"
    }
   ],
   "source": [
    "feas_cols_v2 - total_terms - feas_comb_old - maidian_feas"
   ]
  },
  {
   "cell_type": "code",
   "execution_count": null,
   "id": "04a7ae59",
   "metadata": {},
   "outputs": [],
   "source": []
  },
  {
   "cell_type": "markdown",
   "id": "3f3b87ac",
   "metadata": {},
   "source": [
    "# 处理行为特征列表"
   ]
  },
  {
   "cell_type": "code",
   "execution_count": 32,
   "id": "20fb8e94",
   "metadata": {},
   "outputs": [],
   "source": [
    "feas_aliyun = [\n",
    "    \"描述-阿里云.csv\",\n",
    "    \"名称-aliyun.csv\",\n",
    "    \"数据源-阿里云.csv\",\n",
    "]\n",
    "\n",
    "feas_baihang = [\n",
    "    \"描述-百行.csv\",\n",
    "    \"名称-baihang.csv\",\n",
    "    \"数据源-百行征信.csv\",\n",
    "]\n",
    "\n",
    "feas_bairong = [\n",
    "    \"名称-bairong.csv\",\n",
    "    \"数据源-百融.csv\",\n",
    "]\n",
    "\n",
    "feas_fulllink = [\n",
    "    \"名称-fulllink.csv\",\n",
    "    \"数据源-孚临金科.csv\",\n",
    "    \n",
    "]\n",
    "\n",
    "feas_hengzhipuhui = [\n",
    "    \"名称-hengzhipuhui.csv\", \n",
    "    \"数据源-恒指普惠.csv\",\n",
    "]\n",
    "\n",
    "feas_jiguang = [\n",
    "    \"描述-极光.csv\",\n",
    "    \"名称-jiguang.csv\",\n",
    "    \"数据源-极光.csv\",\n",
    "]\n",
    "\n",
    "feas_nifa = [\n",
    "    \"名称-nifa.csv\",\n",
    "    \"数据源-中互金.csv\",\n",
    "]\n",
    "\n",
    "feas_tencent = [\n",
    "    \"名称-tencent.csv\",\n",
    "    \"数据源-腾讯云.csv\",\n",
    "]\n",
    "\n",
    "feas_tongdun = [\n",
    "    \"描述-同盾.csv\",\n",
    "    \"名称-tongdun.csv\",\n",
    "    \"数据源-同盾.csv\",\n",
    "    \"数据源-同盾借款｜异常借款.csv\",\n",
    "]\n",
    "\n",
    "feas_xinyan = [\n",
    "    \"名称-xinyan.csv\",\n",
    "    \"数据源-新颜.csv\",\n",
    "    \n",
    "]"
   ]
  },
  {
   "cell_type": "code",
   "execution_count": 33,
   "id": "8cc41788",
   "metadata": {},
   "outputs": [],
   "source": [
    "fea_files_dir = \"/Users/minkexiu/Desktop/第三方特征列表/\""
   ]
  },
  {
   "cell_type": "code",
   "execution_count": 34,
   "id": "a3012c6b",
   "metadata": {},
   "outputs": [
    {
     "name": "stdout",
     "output_type": "stream",
     "text": [
      "feas_baihang (752, 10)\n",
      "feas_bairong (822, 10)\n",
      "feas_tongdun (2395, 10)\n",
      "feas_comb (227, 10)\n"
     ]
    }
   ],
   "source": [
    "import os\n",
    "def combine_fea_files(l, fdir = \"thirdParty_feas_list/\"):\n",
    "    '''\n",
    "    把l里面的文件读出来，然后合并在一起\n",
    "    '''\n",
    "    dfs = []\n",
    "    for f in l:\n",
    "        fpath = os.path.join(fdir, f)\n",
    "        if not dfs:\n",
    "            dfs.append(pd.read_csv(fpath, \"\\t\"))\n",
    "        else:\n",
    "            dfs.append(\n",
    "                pd.read_csv(fpath, \"\\t\")[dfs[0].columns]\n",
    "            )\n",
    "    return pd.concat(dfs)\n",
    "\n",
    "def combine_fea_files_1(l, new_feaFile_name, fdir = \"/Users/minkexiu/Desktop/第三方特征列表/\"):\n",
    "    '''\n",
    "    把l里面的文件读出来，然后合并在一起\n",
    "    '''\n",
    "    \n",
    "    first_line = None\n",
    "    all_lines = set()\n",
    "    for f in l:\n",
    "        fpath = os.path.join(fdir, f)\n",
    "        with open(fpath, \"r\") as fp:\n",
    "            lines = fp.readlines()\n",
    "        if not first_line:\n",
    "            first_line = lines[0].strip()\n",
    "        for line in lines[1:-1]:\n",
    "            all_lines.add(line.strip())\n",
    "    \n",
    "    columns = first_line.split(\"\\t\")\n",
    "    df_data = [[] for _ in columns]\n",
    "    \n",
    "    for line in all_lines:\n",
    "        for col_num, val in enumerate(line.split(\"\\t\")):\n",
    "            df_data[col_num].append(val)\n",
    "    \n",
    "    final_df = pd.DataFrame({k:v for k, v in zip(columns, df_data)})\n",
    "    final_df.to_csv(\n",
    "        os.path.join(fdir, new_feaFile_name + f\"-{final_df.shape[0]}.csv\"),\n",
    "        index=False\n",
    "    )\n",
    "    print(new_feaFile_name, final_df.shape)\n",
    "    return \n",
    "\n",
    "combine_fea_files_1(feas_baihang, \"feas_baihang\")\n",
    "combine_fea_files_1(feas_bairong, \"feas_bairong\")\n",
    "# combine_fea_files_1(feas_jiguang, \"feas_jiguang\")\n",
    "combine_fea_files_1(feas_tongdun, \"feas_tongdun\")\n",
    "\n",
    "## 似乎aliyun，fullink，hengzhipuhui，nifa，tencent，xinyan，jiguang目测可以混一起使用。\n",
    "combine_fea_files_1(\n",
    "    feas_aliyun + feas_fulllink + feas_hengzhipuhui + feas_nifa + feas_tencent + feas_xinyan + feas_jiguang,\n",
    "    \"feas_comb\"\n",
    ")"
   ]
  },
  {
   "cell_type": "code",
   "execution_count": 35,
   "id": "1a26b36f",
   "metadata": {},
   "outputs": [
    {
     "name": "stdout",
     "output_type": "stream",
     "text": [
      "feas_comb_old (4054, 10)\n"
     ]
    }
   ],
   "source": [
    "## dongzhiv2用的所有的第三方特征\n",
    "combine_fea_files_1(\n",
    "    feas_nifa + feas_xinyan + feas_tongdun + feas_bairong + feas_baihang, \n",
    "    \"feas_comb_old\"\n",
    ")"
   ]
  },
  {
   "cell_type": "code",
   "execution_count": 13,
   "id": "7c2de92a",
   "metadata": {},
   "outputs": [
    {
     "name": "stdout",
     "output_type": "stream",
     "text": [
      "tongdunHitRuleDetailFeature 408\n",
      "tongdunReloanHitRuleDetailFeature 669\n",
      "tongdunFeatureDifference 287\n",
      "tongdunDeriveFeature 720\n",
      "tongdunReloanFeature 301\n",
      "tongdunMultiLoanSubtractMedianFeature 4\n",
      "tongdun_numberOfLoan_3M 1\n",
      "ticket_maxNumberOfUserShareOneDeviceDifferentiatedByTongdun 1\n",
      "ticket_numberOfDeviceDifferentiatedByTongdun 1\n",
      "tongdun_numberOfLoan_6M 1\n",
      "tongdun_numberOfLoan_1M 1\n",
      "tongdun_numberOfLoan_12M 1\n"
     ]
    }
   ],
   "source": [
    "from collections import defaultdict\n",
    "def process_column_name(filePath):\n",
    "    df = pd.read_csv(filePath)\n",
    "    fea_start_part = defaultdict(list)\n",
    "    for fea_name in df[\"名称\"]:\n",
    "        fea_start_part[fea_name.split(\"___\")[0]].append(fea_name)\n",
    "    \n",
    "    for key in fea_start_part:\n",
    "        print(key, len(fea_start_part[key]))\n",
    "    \n",
    "process_column_name(fea_files_dir + \"feas_tongdun-2395.csv\")"
   ]
  },
  {
   "cell_type": "code",
   "execution_count": 14,
   "id": "e7eb703f",
   "metadata": {},
   "outputs": [],
   "source": [
    "tongdun_df = pd.read_csv(fea_files_dir + \"feas_tongdun-2395.csv\")"
   ]
  },
  {
   "cell_type": "code",
   "execution_count": 15,
   "id": "60846f18",
   "metadata": {},
   "outputs": [],
   "source": [
    "startswiths = [\"tongdunDeriveFeature\", \"tongdunReloanHitRuleDetailFeature\", \"tongdunHitRuleDetailFeature\", \"tongdunReloanFeature\"]\n",
    "for startswith in startswiths:\n",
    "    _df = tongdun_df[tongdun_df[\"名称\"].astype(str).apply(lambda x: x.startswith(startswith))]\n",
    "    _df.to_csv(fea_files_dir + f\"feas_tongdun-{startswith}-{_df.shape[0]}.csv\")\n",
    "_df = tongdun_df[tongdun_df[\"名称\"].astype(str).apply(lambda x: x.split(\"___\")[0] not in startswiths)]\n",
    "_df.to_csv(fea_files_dir + f\"feas_tongdun-others-{_df.shape[0]}.csv\")"
   ]
  },
  {
   "cell_type": "code",
   "execution_count": null,
   "id": "59436569",
   "metadata": {},
   "outputs": [],
   "source": []
  },
  {
   "cell_type": "code",
   "execution_count": 16,
   "id": "db2c349e",
   "metadata": {},
   "outputs": [
    {
     "name": "stdout",
     "output_type": "stream",
     "text": [
      "[] 822\n",
      "feas_bairong-822.txt \n",
      "\n",
      "['system___new_datasource_jiguang_sub_model_score'] 226\n",
      "feas_comb-226.txt \n",
      "\n",
      "[] 408\n",
      "feas_tongdun-tongdunHitRuleDetailFeature-408.txt \n",
      "\n",
      "[] 720\n",
      "feas_tongdun-tongdunDeriveFeature-720.txt \n",
      "\n",
      "[] 301\n",
      "feas_tongdun-tongdunReloanFeature-301.txt \n",
      "\n",
      "['system___new_datasource_baihang_sub_model_score'] 751\n",
      "feas_baihang-751.txt \n",
      "\n",
      "[] 669\n",
      "feas_tongdun-tongdunReloanHitRuleDetailFeature-669.txt \n",
      "\n",
      "[] 297\n",
      "feas_tongdun-others-297.txt \n",
      "\n",
      "thrPty-sys-2.txt\n"
     ]
    }
   ],
   "source": [
    "sys_feas = []\n",
    "for fname in os.listdir(fea_files_dir):\n",
    "    if not (fname.startswith(\"feas_\") and fname.endswith(\".csv\")):\n",
    "        continue\n",
    "    df = pd.read_csv(os.path.join(fea_files_dir, fname))\n",
    "    \n",
    "    tmp_sys_fea = [fea for fea in df[\"名称\"] if fea.startswith(\"system\")]\n",
    "    sys_feas += tmp_sys_fea\n",
    "    other_feas = [fea for fea in df[\"名称\"] if not fea.startswith(\"system\")]\n",
    "    \n",
    "    print(tmp_sys_fea, len(other_feas))\n",
    "    \n",
    "    name = \"-\".join(fname.split(\".\")[0].split(\"-\")[:-1])\n",
    "    \n",
    "    new_name = f\"{name}-{len(other_feas)}.txt\"\n",
    "    print(new_name, \"\\n\")\n",
    "    with open(os.path.join(fea_files_dir, new_name), \"w\", encoding=\"utf-8\") as f:\n",
    "        f.write(\"\\n\".join(other_feas))\n",
    "\n",
    "new_name = f\"thrPty-sys-{len(sys_feas)}.txt\"\n",
    "print(new_name)\n",
    "with open(os.path.join(fea_files_dir, new_name), \"w\", encoding=\"utf-8\") as f:\n",
    "    f.write(\"\\n\".join(sys_feas))"
   ]
  },
  {
   "attachments": {
    "image.png": {
     "image/png": "[encoded data removed]"
    }
   },
   "cell_type": "markdown",
   "id": "0674da79",
   "metadata": {},
   "source": [
    "![image.png](attachment:image.png)\n"
   ]
  },
  {
   "cell_type": "code",
   "execution_count": 24,
   "id": "80b626f4",
   "metadata": {},
   "outputs": [],
   "source": [
    "final_list = []\n",
    "for fname in os.listdir(fea_files_dir):\n",
    "    if not (fname.endswith(\".txt\") and fname.startswith(\"feas_\")):\n",
    "        continue\n",
    "    fpath = os.path.join(fea_files_dir, fname)\n",
    "    with open(fpath, \"r\") as f:\n",
    "        feas_cols_v2_upper = [i.strip() for i in f.readlines()]\n",
    "    final_list += feas_cols_v2_upper\n",
    "    \n",
    "new_name = \"thrPty-nonSys-4194.txt\"\n",
    "with open(os.path.join(fea_files_dir, new_name), \"w\", encoding=\"utf-8\") as f:\n",
    "    f.write(\"\\n\".join(final_list))"
   ]
  },
  {
   "cell_type": "code",
   "execution_count": null,
   "id": "0df7d52e",
   "metadata": {},
   "outputs": [],
   "source": []
  },
  {
   "cell_type": "code",
   "execution_count": null,
   "id": "c1146602",
   "metadata": {},
   "outputs": [],
   "source": []
  },
  {
   "cell_type": "code",
   "execution_count": null,
   "id": "606838f3",
   "metadata": {},
   "outputs": [],
   "source": []
  },
  {
   "cell_type": "code",
   "execution_count": null,
   "id": "64ed9210",
   "metadata": {},
   "outputs": [],
   "source": []
  },
  {
   "cell_type": "code",
   "execution_count": 21,
   "id": "80d22838",
   "metadata": {},
   "outputs": [
    {
     "data": {
      "text/plain": [
       "array([0, 0, 1, 3, 1, 0])"
      ]
     },
     "execution_count": 21,
     "metadata": {},
     "output_type": "execute_result"
    }
   ],
   "source": [
    "m = np.array([\n",
    "    \n",
    "    [\n",
    "        0.697185,\n",
    "0.669568,\n",
    "0.650829,\n",
    "0.90286,\n",
    "0.57615,\n",
    "0.45\n",
    "    ],\n",
    "    [\n",
    "        0.695575,\n",
    "0.667142,\n",
    "0.654323,\n",
    "0.938112,\n",
    "0.646893,\n",
    "0.45\n",
    "    ],\n",
    "    [\n",
    "        0.693228,\n",
    "0.658256,\n",
    "0.649816,\n",
    "0.940675,\n",
    "0.574639,\n",
    "0.45\n",
    "    ],\n",
    "    [\n",
    "        0.689214,\n",
    "0.653531,\n",
    "0.645529,\n",
    "0.948462,\n",
    "0.590543,\n",
    "0.45,\n",
    "    ],\n",
    "    [\n",
    "        0.680041,\n",
    "0.640843,\n",
    "0.640576,\n",
    "0.944018,\n",
    "0.554699,\n",
    "0.45,\n",
    "    ],\n",
    "    \n",
    "    [\n",
    "        0.664595,\n",
    "0.63499,\n",
    "0.63173,\n",
    "0.93189,\n",
    "0.576103,\n",
    "0.45,\n",
    "    ]\n",
    "])\n",
    "mt = m.T\n",
    "mt.argmax(axis=1)"
   ]
  },
  {
   "cell_type": "code",
   "execution_count": 27,
   "id": "e0958bc8",
   "metadata": {},
   "outputs": [
    {
     "name": "stdout",
     "output_type": "stream",
     "text": [
      "2\n",
      "1\n",
      "2\n",
      "5\n",
      "1\n",
      "3\n",
      "2\n",
      "1\n",
      "2\n",
      "5\n",
      "1\n",
      "3\n",
      "2\n",
      "1\n",
      "2\n",
      "5\n",
      "1\n",
      "3\n"
     ]
    }
   ],
   "source": [
    "m = np.array([\n",
    "    [\n",
    "        0.721841,\n",
    "0.687536,\n",
    "0.661552,\n",
    "0.73026,\n",
    "0.699451,\n",
    "0.836813,\n",
    "0.725444,\n",
    "0.691348,\n",
    "0.66422,\n",
    "0.702327,\n",
    "0.689718,\n",
    "0.836813,\n",
    "0.725769,\n",
    "0.691278,\n",
    "0.663331,\n",
    "0.693787,\n",
    "0.686702,\n",
    "0.836813,\n",
    "    ],\n",
    "    [\n",
    "        0.727002,\n",
    "0.689597,\n",
    "0.668721,\n",
    "0.741389,\n",
    "0.729993,\n",
    "0.834191,\n",
    "0.731981,\n",
    "0.693368,\n",
    "0.67175,\n",
    "0.709971,\n",
    "0.719936,\n",
    "0.834191,\n",
    "0.732985,\n",
    "0.693703,\n",
    "0.672708,\n",
    "0.701966,\n",
    "0.717343,\n",
    "0.834191,\n",
    "    ],\n",
    "    [\n",
    "        0.727825,\n",
    "0.678922,\n",
    "0.669,\n",
    "0.765353,\n",
    "0.69183,\n",
    "0.834539,\n",
    "0.734311,\n",
    "0.683467,\n",
    "0.673476,\n",
    "0.733883,\n",
    "0.676167,\n",
    "0.834539,\n",
    "0.736137,\n",
    "0.683548,\n",
    "0.674327,\n",
    "0.726748,\n",
    "0.670782,\n",
    "0.834539,\n",
    "    ],\n",
    "    [\n",
    "        0.725143,\n",
    "0.6771,\n",
    "0.663777,\n",
    "0.774955,\n",
    "0.70191,\n",
    "0.845396,\n",
    "0.73122,\n",
    "0.68275,\n",
    "0.669021,\n",
    "0.742921,\n",
    "0.687723,\n",
    "0.845396,\n",
    "0.732759,\n",
    "0.683429,\n",
    "0.670682,\n",
    "0.736314,\n",
    "0.683066,\n",
    "0.845396,\n",
    "    ],\n",
    "    [\n",
    "      0.715962,\n",
    "0.667221,\n",
    "0.662794,\n",
    "0.788443,\n",
    "0.686522,\n",
    "0.84189,\n",
    "0.721265,\n",
    "0.673536,\n",
    "0.668911,\n",
    "0.757035,\n",
    "0.672315,\n",
    "0.84189,\n",
    "0.723742,\n",
    "0.674278,\n",
    "0.670529,\n",
    "0.751974,\n",
    "0.666635,\n",
    "0.84189  ,\n",
    "    ],\n",
    "    [\n",
    "        0.6978,\n",
    "0.661462,\n",
    "0.652945,\n",
    "0.802317,\n",
    "0.704198,\n",
    "0.837537,\n",
    "0.7051,\n",
    "0.668447,\n",
    "0.659575,\n",
    "0.770785,\n",
    "0.690424,\n",
    "0.837537,\n",
    "0.70737,\n",
    "0.669233,\n",
    "0.661799,\n",
    "0.765711,\n",
    "0.684984,\n",
    "0.837537,\n",
    "    ],\n",
    "])\n",
    "mt = m.T\n",
    "for i in mt.argmax(axis=1):\n",
    "    print(i)"
   ]
  },
  {
   "cell_type": "code",
   "execution_count": 28,
   "id": "b1bac1fa",
   "metadata": {},
   "outputs": [
    {
     "name": "stdout",
     "output_type": "stream",
     "text": [
      "3\n",
      "1\n",
      "4\n",
      "5\n",
      "1\n",
      "0\n",
      "3\n",
      "5\n",
      "3\n",
      "5\n",
      "5\n",
      "0\n"
     ]
    }
   ],
   "source": [
    "m = np.array([\n",
    "    [\n",
    "        0.709583,\n",
    "0.689685,\n",
    "0.702,\n",
    "0.618362,\n",
    "0.613519,\n",
    "0.45,\n",
    "        0.72896,\n",
    "0.735774,\n",
    "0.700133,\n",
    "0.626385,\n",
    "0.652642,\n",
    "0.45,\n",
    "    ],\n",
    "    [\n",
    "        0.73029,\n",
    "0.700979,\n",
    "0.720099,\n",
    "0.644195,\n",
    "0.644513,\n",
    "0.45,\n",
    "        0.742516,\n",
    "0.750629,\n",
    "0.724609,\n",
    "0.644944,\n",
    "0.66957,\n",
    "0.45,\n",
    "    ],\n",
    "    [\n",
    "        0.735157,\n",
    "0.670963,\n",
    "0.721434,\n",
    "0.668106,\n",
    "0.592933,\n",
    "0.45,\n",
    "        0.743747,\n",
    "0.751123,\n",
    "0.730095,\n",
    "0.654619,\n",
    "0.677057,\n",
    "0.45,\n",
    "    ],\n",
    "    [\n",
    "        0.742363,\n",
    "0.66841,\n",
    "0.724493,\n",
    "0.685404,\n",
    "0.599806,\n",
    "0.45,\n",
    "        0.743789,\n",
    "0.752717,\n",
    "0.733239,\n",
    "0.667224,\n",
    "0.688026,\n",
    "0.45,\n",
    "    ],\n",
    "    [\n",
    "        0.739452,\n",
    "0.660463,\n",
    "0.727386,\n",
    "0.707451,\n",
    "0.592014,\n",
    "0.45,\n",
    "        0.740668,\n",
    "0.751045,\n",
    "0.727111,\n",
    "0.688751,\n",
    "0.700002,\n",
    "0.45,\n",
    "    ],\n",
    "    [\n",
    "        0.719169,\n",
    "0.663832,\n",
    "0.715317,\n",
    "0.734526,\n",
    "0.606094,\n",
    "0.45,\n",
    "        0.724846,\n",
    "0.756548,\n",
    "0.722307,\n",
    "0.701217,\n",
    "0.717138,\n",
    "0.45,\n",
    "    ]\n",
    "])\n",
    "mt = m.T\n",
    "for i in mt.argmax(axis=1):\n",
    "    print(i)"
   ]
  },
  {
   "cell_type": "code",
   "execution_count": null,
   "id": "c95123a9",
   "metadata": {},
   "outputs": [],
   "source": [
    "for "
   ]
  },
  {
   "cell_type": "code",
   "execution_count": 31,
   "id": "a02a64a4",
   "metadata": {},
   "outputs": [
    {
     "name": "stdout",
     "output_type": "stream",
     "text": [
      "hour\n",
      "hour\n",
      "1d\n",
      "7d\n",
      "1d\n",
      "hour\n",
      "3d\n",
      "1d\n",
      "3d\n",
      "35d\n",
      "1d\n",
      "7d\n",
      "3d\n",
      "1d\n",
      "3d\n",
      "35d\n",
      "1d\n",
      "7d\n",
      "3d\n",
      "1d\n",
      "3d\n",
      "35d\n",
      "1d\n",
      "7d\n",
      "7d\n",
      "1d\n",
      "15d\n",
      "35d\n",
      "1d\n",
      "hour\n",
      "7d\n",
      "35d\n",
      "7d\n",
      "35d\n",
      "35d\n",
      "hour\n"
     ]
    }
   ],
   "source": [
    "mapping = {\n",
    "    \"0\": \"hour\",\n",
    "    \"1\": \"1d\",\n",
    "    \"2\": \"3d\",\n",
    "    \"3\": \"7d\",\n",
    "    \"4\": \"15d\",\n",
    "    \"5\": \"35d\",\n",
    "}\n",
    "rst = '''0\n",
    "0\n",
    "1\n",
    "3\n",
    "1\n",
    "0\n",
    "2\n",
    "1\n",
    "2\n",
    "5\n",
    "1\n",
    "3\n",
    "2\n",
    "1\n",
    "2\n",
    "5\n",
    "1\n",
    "3\n",
    "2\n",
    "1\n",
    "2\n",
    "5\n",
    "1\n",
    "3\n",
    "3\n",
    "1\n",
    "4\n",
    "5\n",
    "1\n",
    "0\n",
    "3\n",
    "5\n",
    "3\n",
    "5\n",
    "5\n",
    "0'''\n",
    "for i in rst.split(\"\\n\"):\n",
    "    print(mapping[i])"
   ]
  },
  {
   "cell_type": "code",
   "execution_count": null,
   "id": "a269440f",
   "metadata": {},
   "outputs": [],
   "source": []
  },
  {
   "cell_type": "code",
   "execution_count": null,
   "id": "e04911be",
   "metadata": {},
   "outputs": [],
   "source": []
  },
  {
   "cell_type": "code",
   "execution_count": null,
   "id": "d0046bca",
   "metadata": {},
   "outputs": [],
   "source": []
  },
  {
   "cell_type": "code",
   "execution_count": 11,
   "id": "e486e960",
   "metadata": {},
   "outputs": [],
   "source": [
    "data_train = pd.read_csv(\"preprocessedDataset/pre1.csv\")\n",
    "numerical_category_fewValues = [\n",
    "    \"homeOwnership\", \n",
    "    \"verificationStatus\",\n",
    "    \"initialListStatus\",\n",
    "    \"applicationType\",\n",
    "    \"n11\",\n",
    "    \"n12\",\n",
    "]\n",
    "numerical_category_manyValues = [\n",
    "    \"regionCode\",\n",
    "    \"employmentTitle\",\n",
    "    \"purpose\",\n",
    "    \"postCode\",\n",
    "    \"title\",\n",
    "]\n",
    "date_type = [\n",
    "    'issueDate',\n",
    "    'earliesCreditLine',\n",
    "    'issueDateDT',\n",
    "    'earliesCreditLineDT',\n",
    "    'earliesCreditLineYear',\n",
    "    'earliesCreditLineMonth',\n",
    "    'issueYear',\n",
    "    'issueMonth'\n",
    "]\n",
    "numerical_serial = [\n",
    "    \"loanAmnt\",\"interestRate\",\"installment\",\"annualIncome\",\"dti\",\"delinquency_2years\",\"ficoRangeLow\",\"ficoRangeHigh\",\"openAcc\",\n",
    "    \"pubRec\",\"pubRecBankruptcies\",\"revolBal\",\"revolUtil\",\"totalAcc\",\"n0\",\"n1\",\"n2\",\"n3\",\n",
    "    \"n4\",\"n5\",\"n6\",\"n7\",\"n8\",\"n9\",\"n10\",\"n13\",\"n14\",\n",
    "    \"term\", \n",
    "]\n",
    "object_serial = [\n",
    "    \"grade\",\n",
    "    \"subGrade\", \n",
    "    \"employmentLength\"\n",
    "]"
   ]
  },
  {
   "cell_type": "code",
   "execution_count": 12,
   "id": "5fc92c5c",
   "metadata": {},
   "outputs": [],
   "source": [
    "features = [f for f in data_train.columns if f not in ['id', 'isDefault', \"policyCode\", \"issueDate\", \"earliesCreditLine\"] and '_outliers' not in f]\n",
    "y_full = data_train['isDefault']\n",
    "x_full = data_train[features]\n",
    "\n",
    "from sklearn.model_selection import train_test_split\n",
    "\n",
    "X_, X_test, y_, y_test = train_test_split(x_full, y_full, test_size=0.5, random_state=0)\n",
    "X_train, X_valid, y_train, y_valid = train_test_split(X_, y_, test_size=0.6, random_state=0)\n",
    "del X_, y_"
   ]
  },
  {
   "cell_type": "code",
   "execution_count": 13,
   "id": "1dd206fe",
   "metadata": {},
   "outputs": [],
   "source": [
    "dtrain = xgb.DMatrix(X_train.to_numpy())\n",
    "dtest = xgb.DMatrix(X_valid.to_numpy())"
   ]
  },
  {
   "cell_type": "code",
   "execution_count": 14,
   "id": "ea66b061",
   "metadata": {},
   "outputs": [
    {
     "ename": "XGBoostError",
     "evalue": "[14:58:50] /Users/runner/miniforge3/conda-bld/xgboost-split_1645117948562/work/src/objective/regression_obj.cu:58: Check failed: preds.Size() == info.labels_.Size() (160000 vs. 0) :  labels are not correctly providedpreds.size=160000, label.size=0, Loss: binary:logistic\nStack trace:\n  [bt] (0) 1   libxgboost.dylib                    0x000000013479c364 dmlc::LogMessageFatal::~LogMessageFatal() + 116\n  [bt] (1) 2   libxgboost.dylib                    0x00000001348af1ad xgboost::obj::RegLossObj<xgboost::obj::LogisticClassification>::GetGradient(xgboost::HostDeviceVector<float> const&, xgboost::MetaInfo const&, int, xgboost::HostDeviceVector<xgboost::detail::GradientPairInternal<float> >*) + 493\n  [bt] (2) 3   libxgboost.dylib                    0x000000013484a5f4 xgboost::LearnerImpl::UpdateOneIter(int, std::__1::shared_ptr<xgboost::DMatrix>) + 612\n  [bt] (3) 4   libxgboost.dylib                    0x00000001347a08f7 XGBoosterUpdateOneIter + 151\n  [bt] (4) 5   libffi.7.dylib                      0x000000010d449ead ffi_call_unix64 + 85\n  [bt] (5) 6   ???                                 0x0000000309d11d80 0x0 + 13049601408\n\n",
     "output_type": "error",
     "traceback": [
      "\u001b[0;31m---------------------------------------------------------------------------\u001b[0m",
      "\u001b[0;31mXGBoostError\u001b[0m                              Traceback (most recent call last)",
      "\u001b[0;32m/var/folders/rc/5v8dff5j52303vp04pm0xz6c0000gn/T/ipykernel_20003/3765594579.py\u001b[0m in \u001b[0;36m<module>\u001b[0;34m\u001b[0m\n\u001b[1;32m     10\u001b[0m     \u001b[0;34m'colsample_bytree'\u001b[0m\u001b[0;34m:\u001b[0m \u001b[0;36m0.8\u001b[0m\u001b[0;34m,\u001b[0m\u001b[0;34m\u001b[0m\u001b[0;34m\u001b[0m\u001b[0m\n\u001b[1;32m     11\u001b[0m }\n\u001b[0;32m---> 12\u001b[0;31m model = xgb.train(params, dtrain, num_boost_round=10000, evals=[(dtrain, 'train'), (dtest, 'test')],\n\u001b[0m\u001b[1;32m     13\u001b[0m                                                   early_stopping_rounds=50,verbose_eval=200)\n",
      "\u001b[0;32m~/opt/anaconda3/lib/python3.9/site-packages/xgboost/training.py\u001b[0m in \u001b[0;36mtrain\u001b[0;34m(params, dtrain, num_boost_round, evals, obj, feval, maximize, early_stopping_rounds, evals_result, verbose_eval, xgb_model, callbacks)\u001b[0m\n\u001b[1;32m    186\u001b[0m     \u001b[0mBooster\u001b[0m \u001b[0;34m:\u001b[0m \u001b[0ma\u001b[0m \u001b[0mtrained\u001b[0m \u001b[0mbooster\u001b[0m \u001b[0mmodel\u001b[0m\u001b[0;34m\u001b[0m\u001b[0;34m\u001b[0m\u001b[0m\n\u001b[1;32m    187\u001b[0m     \"\"\"\n\u001b[0;32m--> 188\u001b[0;31m     bst = _train_internal(params, dtrain,\n\u001b[0m\u001b[1;32m    189\u001b[0m                           \u001b[0mnum_boost_round\u001b[0m\u001b[0;34m=\u001b[0m\u001b[0mnum_boost_round\u001b[0m\u001b[0;34m,\u001b[0m\u001b[0;34m\u001b[0m\u001b[0;34m\u001b[0m\u001b[0m\n\u001b[1;32m    190\u001b[0m                           \u001b[0mevals\u001b[0m\u001b[0;34m=\u001b[0m\u001b[0mevals\u001b[0m\u001b[0;34m,\u001b[0m\u001b[0;34m\u001b[0m\u001b[0;34m\u001b[0m\u001b[0m\n",
      "\u001b[0;32m~/opt/anaconda3/lib/python3.9/site-packages/xgboost/training.py\u001b[0m in \u001b[0;36m_train_internal\u001b[0;34m(params, dtrain, num_boost_round, evals, obj, feval, xgb_model, callbacks, evals_result, maximize, verbose_eval, early_stopping_rounds)\u001b[0m\n\u001b[1;32m     79\u001b[0m         \u001b[0;32mif\u001b[0m \u001b[0mcallbacks\u001b[0m\u001b[0;34m.\u001b[0m\u001b[0mbefore_iteration\u001b[0m\u001b[0;34m(\u001b[0m\u001b[0mbst\u001b[0m\u001b[0;34m,\u001b[0m \u001b[0mi\u001b[0m\u001b[0;34m,\u001b[0m \u001b[0mdtrain\u001b[0m\u001b[0;34m,\u001b[0m \u001b[0mevals\u001b[0m\u001b[0;34m)\u001b[0m\u001b[0;34m:\u001b[0m\u001b[0;34m\u001b[0m\u001b[0;34m\u001b[0m\u001b[0m\n\u001b[1;32m     80\u001b[0m             \u001b[0;32mbreak\u001b[0m\u001b[0;34m\u001b[0m\u001b[0;34m\u001b[0m\u001b[0m\n\u001b[0;32m---> 81\u001b[0;31m         \u001b[0mbst\u001b[0m\u001b[0;34m.\u001b[0m\u001b[0mupdate\u001b[0m\u001b[0;34m(\u001b[0m\u001b[0mdtrain\u001b[0m\u001b[0;34m,\u001b[0m \u001b[0mi\u001b[0m\u001b[0;34m,\u001b[0m \u001b[0mobj\u001b[0m\u001b[0;34m)\u001b[0m\u001b[0;34m\u001b[0m\u001b[0;34m\u001b[0m\u001b[0m\n\u001b[0m\u001b[1;32m     82\u001b[0m         \u001b[0;32mif\u001b[0m \u001b[0mcallbacks\u001b[0m\u001b[0;34m.\u001b[0m\u001b[0mafter_iteration\u001b[0m\u001b[0;34m(\u001b[0m\u001b[0mbst\u001b[0m\u001b[0;34m,\u001b[0m \u001b[0mi\u001b[0m\u001b[0;34m,\u001b[0m \u001b[0mdtrain\u001b[0m\u001b[0;34m,\u001b[0m \u001b[0mevals\u001b[0m\u001b[0;34m)\u001b[0m\u001b[0;34m:\u001b[0m\u001b[0;34m\u001b[0m\u001b[0;34m\u001b[0m\u001b[0m\n\u001b[1;32m     83\u001b[0m             \u001b[0;32mbreak\u001b[0m\u001b[0;34m\u001b[0m\u001b[0;34m\u001b[0m\u001b[0m\n",
      "\u001b[0;32m~/opt/anaconda3/lib/python3.9/site-packages/xgboost/core.py\u001b[0m in \u001b[0;36mupdate\u001b[0;34m(self, dtrain, iteration, fobj)\u001b[0m\n\u001b[1;32m   1678\u001b[0m \u001b[0;34m\u001b[0m\u001b[0m\n\u001b[1;32m   1679\u001b[0m         \u001b[0;32mif\u001b[0m \u001b[0mfobj\u001b[0m \u001b[0;32mis\u001b[0m \u001b[0;32mNone\u001b[0m\u001b[0;34m:\u001b[0m\u001b[0;34m\u001b[0m\u001b[0;34m\u001b[0m\u001b[0m\n\u001b[0;32m-> 1680\u001b[0;31m             _check_call(_LIB.XGBoosterUpdateOneIter(self.handle,\n\u001b[0m\u001b[1;32m   1681\u001b[0m                                                     \u001b[0mctypes\u001b[0m\u001b[0;34m.\u001b[0m\u001b[0mc_int\u001b[0m\u001b[0;34m(\u001b[0m\u001b[0miteration\u001b[0m\u001b[0;34m)\u001b[0m\u001b[0;34m,\u001b[0m\u001b[0;34m\u001b[0m\u001b[0;34m\u001b[0m\u001b[0m\n\u001b[1;32m   1682\u001b[0m                                                     dtrain.handle))\n",
      "\u001b[0;32m~/opt/anaconda3/lib/python3.9/site-packages/xgboost/core.py\u001b[0m in \u001b[0;36m_check_call\u001b[0;34m(ret)\u001b[0m\n\u001b[1;32m    216\u001b[0m     \"\"\"\n\u001b[1;32m    217\u001b[0m     \u001b[0;32mif\u001b[0m \u001b[0mret\u001b[0m \u001b[0;34m!=\u001b[0m \u001b[0;36m0\u001b[0m\u001b[0;34m:\u001b[0m\u001b[0;34m\u001b[0m\u001b[0;34m\u001b[0m\u001b[0m\n\u001b[0;32m--> 218\u001b[0;31m         \u001b[0;32mraise\u001b[0m \u001b[0mXGBoostError\u001b[0m\u001b[0;34m(\u001b[0m\u001b[0mpy_str\u001b[0m\u001b[0;34m(\u001b[0m\u001b[0m_LIB\u001b[0m\u001b[0;34m.\u001b[0m\u001b[0mXGBGetLastError\u001b[0m\u001b[0;34m(\u001b[0m\u001b[0;34m)\u001b[0m\u001b[0;34m)\u001b[0m\u001b[0;34m)\u001b[0m\u001b[0;34m\u001b[0m\u001b[0;34m\u001b[0m\u001b[0m\n\u001b[0m\u001b[1;32m    219\u001b[0m \u001b[0;34m\u001b[0m\u001b[0m\n\u001b[1;32m    220\u001b[0m \u001b[0;34m\u001b[0m\u001b[0m\n",
      "\u001b[0;31mXGBoostError\u001b[0m: [14:58:50] /Users/runner/miniforge3/conda-bld/xgboost-split_1645117948562/work/src/objective/regression_obj.cu:58: Check failed: preds.Size() == info.labels_.Size() (160000 vs. 0) :  labels are not correctly providedpreds.size=160000, label.size=0, Loss: binary:logistic\nStack trace:\n  [bt] (0) 1   libxgboost.dylib                    0x000000013479c364 dmlc::LogMessageFatal::~LogMessageFatal() + 116\n  [bt] (1) 2   libxgboost.dylib                    0x00000001348af1ad xgboost::obj::RegLossObj<xgboost::obj::LogisticClassification>::GetGradient(xgboost::HostDeviceVector<float> const&, xgboost::MetaInfo const&, int, xgboost::HostDeviceVector<xgboost::detail::GradientPairInternal<float> >*) + 493\n  [bt] (2) 3   libxgboost.dylib                    0x000000013484a5f4 xgboost::LearnerImpl::UpdateOneIter(int, std::__1::shared_ptr<xgboost::DMatrix>) + 612\n  [bt] (3) 4   libxgboost.dylib                    0x00000001347a08f7 XGBoosterUpdateOneIter + 151\n  [bt] (4) 5   libffi.7.dylib                      0x000000010d449ead ffi_call_unix64 + 85\n  [bt] (5) 6   ???                                 0x0000000309d11d80 0x0 + 13049601408\n\n"
     ]
    }
   ],
   "source": [
    "params={\n",
    "    'booster':'gbtree',\n",
    "    'objective': 'binary:logistic',\n",
    "    'eval_metric': 'auc',\n",
    "    'max_depth': 5,\n",
    "    'scale_pos_weight': 3,\n",
    "    'learning_rate': 0.1, \n",
    "    'reg_lambda': 5,\n",
    "    'reg_alpha': 0, \n",
    "    'colsample_bytree': 0.8,\n",
    "}\n",
    "model = xgb.train(params, dtrain, num_boost_round=10000, evals=[(dtrain, 'train'), (dtest, 'test')],\n",
    "                                                  early_stopping_rounds=50,verbose_eval=200)"
   ]
  },
  {
   "cell_type": "code",
   "execution_count": null,
   "id": "be0d527a",
   "metadata": {},
   "outputs": [],
   "source": []
  },
  {
   "cell_type": "code",
   "execution_count": null,
   "id": "c30fc3dd",
   "metadata": {},
   "outputs": [],
   "source": []
  },
  {
   "cell_type": "code",
   "execution_count": null,
   "id": "3298c39c",
   "metadata": {},
   "outputs": [],
   "source": []
  },
  {
   "cell_type": "code",
   "execution_count": 1,
   "id": "74130951",
   "metadata": {},
   "outputs": [],
   "source": [
    "from PIL import Image, ImageDraw"
   ]
  },
  {
   "cell_type": "code",
   "execution_count": 2,
   "id": "1745894a",
   "metadata": {},
   "outputs": [],
   "source": [
    "pic1 = Image.open(\"/Users/minkexiu/Desktop/test.png\")"
   ]
  },
  {
   "cell_type": "code",
   "execution_count": 3,
   "id": "649ac9fb",
   "metadata": {},
   "outputs": [
    {
     "data": {
      "text/plain": [
       "(952, 252)"
      ]
     },
     "execution_count": 3,
     "metadata": {},
     "output_type": "execute_result"
    }
   ],
   "source": [
    "pic1.size"
   ]
  },
  {
   "cell_type": "code",
   "execution_count": 4,
   "id": "15b198a3",
   "metadata": {},
   "outputs": [],
   "source": [
    "to_image = Image.new('RGB', (pic1.size[0], pic1.size[1]), color=1) #创建一个新图"
   ]
  },
  {
   "cell_type": "code",
   "execution_count": 5,
   "id": "32c53f41",
   "metadata": {},
   "outputs": [],
   "source": [
    "draw = ImageDraw.Draw(pic1)"
   ]
  },
  {
   "cell_type": "code",
   "execution_count": 6,
   "id": "ce01f646",
   "metadata": {},
   "outputs": [],
   "source": [
    "# y = 31\n",
    "y = 145\n",
    "draw.line(\n",
    "    [\n",
    "        (0, y),\n",
    "        (pic1.size[0],  y)\n",
    "    ], \n",
    "    fill=\"red\"\n",
    ")"
   ]
  },
  {
   "cell_type": "code",
   "execution_count": 7,
   "id": "8d0ca53c",
   "metadata": {},
   "outputs": [],
   "source": [
    "pic1.show()"
   ]
  },
  {
   "cell_type": "code",
   "execution_count": 8,
   "id": "fae03add",
   "metadata": {},
   "outputs": [
    {
     "data": {
      "text/plain": [
       "138"
      ]
     },
     "execution_count": 8,
     "metadata": {},
     "output_type": "execute_result"
    }
   ],
   "source": [
    "107 + 31"
   ]
  },
  {
   "cell_type": "code",
   "execution_count": 9,
   "id": "8c23d880",
   "metadata": {},
   "outputs": [
    {
     "ename": "NameError",
     "evalue": "name 'n' is not defined",
     "output_type": "error",
     "traceback": [
      "\u001b[0;31m---------------------------------------------------------------------------\u001b[0m",
      "\u001b[0;31mNameError\u001b[0m                                 Traceback (most recent call last)",
      "\u001b[0;32m/var/folders/rc/5v8dff5j52303vp04pm0xz6c0000gn/T/ipykernel_20003/181754799.py\u001b[0m in \u001b[0;36m<module>\u001b[0;34m\u001b[0m\n\u001b[0;32m----> 1\u001b[0;31m \u001b[0;34m(\u001b[0m\u001b[0;36m138\u001b[0m \u001b[0;34m/\u001b[0m \u001b[0;36m252\u001b[0m\u001b[0;34m)\u001b[0m \u001b[0;34m*\u001b[0m \u001b[0;36m1.5\u001b[0m \u001b[0;34m+\u001b[0m \u001b[0;34m(\u001b[0m\u001b[0;36m114\u001b[0m \u001b[0;34m/\u001b[0m \u001b[0;36m252\u001b[0m \u001b[0;34m/\u001b[0m \u001b[0;36m3\u001b[0m\u001b[0;34m)\u001b[0m \u001b[0;34m*\u001b[0m \u001b[0;36m1.5\u001b[0m \u001b[0;34m*\u001b[0m \u001b[0mn\u001b[0m\u001b[0;34m\u001b[0m\u001b[0;34m\u001b[0m\u001b[0m\n\u001b[0m",
      "\u001b[0;31mNameError\u001b[0m: name 'n' is not defined"
     ]
    }
   ],
   "source": [
    "(138 / 252) * 1.5 + (114 / 252 / 3) * 1.5 * n"
   ]
  },
  {
   "cell_type": "code",
   "execution_count": null,
   "id": "f649d726",
   "metadata": {},
   "outputs": [],
   "source": []
  },
  {
   "cell_type": "code",
   "execution_count": null,
   "id": "136094c2",
   "metadata": {},
   "outputs": [],
   "source": []
  },
  {
   "cell_type": "raw",
   "id": "a0c533ca",
   "metadata": {},
   "source": [
    "import datetime"
   ]
  },
  {
   "cell_type": "raw",
   "id": "02dd3287",
   "metadata": {},
   "source": [
    "start_date = datetime.datetime.strptime(\"2021-07-01\", \"%Y-%m-%d\")"
   ]
  },
  {
   "cell_type": "raw",
   "id": "5e5a6c18",
   "metadata": {},
   "source": [
    "start_date + datetime.timedelta()"
   ]
  }
 ],
 "metadata": {
  "kernelspec": {
   "display_name": "Python 3 (ipykernel)",
   "language": "python",
   "name": "python3"
  },
  "language_info": {
   "codemirror_mode": {
    "name": "ipython",
    "version": 3
   },
   "file_extension": ".py",
   "mimetype": "text/x-python",
   "name": "python",
   "nbconvert_exporter": "python",
   "pygments_lexer": "ipython3",
   "version": "3.9.7"
  },
  "toc": {
   "base_numbering": 1,
   "nav_menu": {},
   "number_sections": true,
   "sideBar": true,
   "skip_h1_title": false,
   "title_cell": "Table of Contents",
   "title_sidebar": "Contents",
   "toc_cell": false,
   "toc_position": {},
   "toc_section_display": true,
   "toc_window_display": false
  }
 },
 "nbformat": 4,
 "nbformat_minor": 5
}
