{
 "cells": [
  {
   "cell_type": "markdown",
   "id": "c23ed0dc",
   "metadata": {},
   "source": [
    "Reference: https://github.com/KaydenCheung/Deep-Learning/tree/main/RS/DeepFM "
   ]
  },
  {
   "cell_type": "code",
   "execution_count": 1,
   "id": "dfe0f503",
   "metadata": {},
   "outputs": [],
   "source": [
    "import xgboost as xgb\n",
    "import lightgbm as lgb\n",
    "from sklearn.preprocessing import LabelEncoder, StandardScaler\n",
    "from sklearn.linear_model import LogisticRegression\n",
    "from sklearn.svm import SVC\n",
    "from sklearn.neighbors import KNeighborsClassifier\n",
    "from catboost import CatBoostRegressor, CatBoostClassifier\n",
    "import pandas as pd\n",
    "import numpy as np\n",
    "import tqdm, datetime, pickle\n",
    "from sklearn.datasets import make_classification\n",
    "from sklearn.ensemble import RandomForestClassifier\n",
    "\n",
    "from sklearn.model_selection import train_test_split\n",
    "\n",
    "import torch, os\n",
    "import torch.nn.functional as F\n",
    "from torch.utils.data import DataLoader\n",
    "import torch.utils.data as Data\n",
    "\n",
    "import ngboost as ngb\n",
    "\n",
    "from sklearn import datasets\n",
    "\n",
    "import time\n",
    "\n",
    "from sklearn.metrics import roc_auc_score, accuracy_score, f1_score, precision_score, recall_score, classification_report, confusion_matrix"
   ]
  },
  {
   "cell_type": "markdown",
   "id": "6c0ae26b",
   "metadata": {},
   "source": [
    "# utils"
   ]
  },
  {
   "cell_type": "code",
   "execution_count": 2,
   "id": "c87287ee",
   "metadata": {},
   "outputs": [],
   "source": [
    "import pandas as pd\n",
    "from tqdm import tqdm\n",
    "from sklearn.preprocessing import LabelEncoder\n",
    "\n",
    "\n",
    "def sparse_feat(feat, feat_num):\n",
    "    return {'feat': feat, 'feat_num': feat_num}\n",
    "\n",
    "\n",
    "def dense_feat(feat):\n",
    "    return {'feat': feat}\n",
    "\n",
    "\n",
    "# def process_dense_feats(data, feats):\n",
    "#     data[feats] = data[feats].fillna(0)\n",
    "#     for f in tqdm(feats, desc='process_dense_feats'):\n",
    "#         mean = data[f].mean()\n",
    "#         std = data[f].std()\n",
    "#         data[f] = (data[f] - mean) / (std + 1e-12)\n",
    "#     return data\n",
    "\n",
    "\n",
    "# def process_sparse_feats(data, feats):\n",
    "#     data[feats] = data[feats].fillna('-1')\n",
    "#     for f in tqdm(feats, desc='process_sparse_feats'):\n",
    "#         label_encoder = LabelEncoder()\n",
    "#         data[f] = label_encoder.fit_transform(data[f])\n",
    "#     return data\n",
    "\n",
    "\n",
    "def create_dataset(dense_feats, sparse_feats, features_toBe_removed = [], file='./data/criteo_sampled_data.csv'):\n",
    "    data = pd.read_csv(file)\n",
    "    data = data[list(set(data.columns) - set(features_toBe_removed))]\n",
    "    \n",
    "    dense_feats = list(set(dense_feats) - set(features_toBe_removed))\n",
    "    sparse_feats = list(set(sparse_feats) - set(features_toBe_removed))\n",
    "    \n",
    "    # data = process_dense_feats(data, dense_feats)             # 处理缺失值并标准化\n",
    "    # data = process_sparse_feats(data, sparse_feats)           # 处理缺失值并映射\n",
    "    \n",
    "    feat_columns = [[dense_feat(feat) for feat in dense_feats]] + [[sparse_feat(feat, len(data[feat].unique())) for feat in sparse_feats]]\n",
    "\n",
    "    return data, feat_columns, dense_feats, sparse_feats"
   ]
  },
  {
   "cell_type": "markdown",
   "id": "bfa75670",
   "metadata": {},
   "source": [
    "# DeepFM model"
   ]
  },
  {
   "cell_type": "code",
   "execution_count": 3,
   "id": "e2841d69",
   "metadata": {},
   "outputs": [],
   "source": [
    "import torch\n",
    "import torch.nn as nn\n",
    "\n",
    "\n",
    "class DeepFM(nn.Module):\n",
    "    def __init__(self, feat_columns, emb_size):\n",
    "        super().__init__()\n",
    "\n",
    "        dense_feats, sparse_feats = feat_columns[0], feat_columns[1]\n",
    "        self.dense_size = len(dense_feats)\n",
    "        self.sparse_size = len(sparse_feats) * emb_size\n",
    "\n",
    "        '''FM'''\n",
    "        self.w = nn.Linear(self.dense_size, 1, bias=True)\n",
    "        self.sparse_first_emd = nn.ModuleList([nn.Embedding(feat['feat_num'], 1) for feat in sparse_feats])\n",
    "        self.sparse_second_emd = nn.ModuleList([nn.Embedding(feat['feat_num'], emb_size) for feat in sparse_feats])\n",
    "\n",
    "        '''DNN'''\n",
    "        self.dnn = nn.Sequential(\n",
    "            nn.Linear(self.dense_size + self.sparse_size, 200),\n",
    "            nn.ReLU(),\n",
    "            nn.Dropout(0.3),\n",
    "            nn.Linear(200, 200),\n",
    "            nn.ReLU(),\n",
    "            nn.Dropout(0.2),\n",
    "            nn.Linear(200, 200),\n",
    "            nn.ReLU(),\n",
    "            nn.Dropout(0.2),\n",
    "            nn.Linear(200, 1)\n",
    "        )\n",
    "\n",
    "        self.sigmoid = nn.Sigmoid()\n",
    "\n",
    "    def forward(self, inputs):\n",
    "        sparse_inputs, dense_inputs = inputs\n",
    "\n",
    "        '''FM一阶'''\n",
    "        fm_first_dense = self.w(dense_inputs)                                 # [batch_size, 1]\n",
    "        fm_first_sparse = torch.cat([self.sparse_first_emd[i](sparse_inputs[:, i])for i in range(sparse_inputs.shape[1])], -1)    # [batch_size, n]\n",
    "        fm_first_sparse = torch.sum(fm_first_sparse, 1, keepdim=True)         # [batch_size, 1]\n",
    "        fm_first = fm_first_dense + fm_first_sparse                           # [batch_size ,1]\n",
    "\n",
    "        '''FM二阶'''\n",
    "        fm_second_sparse = torch.cat([self.sparse_second_emd[i](sparse_inputs[:, i])for i in range(sparse_inputs.shape[1])], -1)\n",
    "        fm_second_sparse = fm_second_sparse.reshape(sparse_inputs.shape[0], sparse_inputs.shape[1], -1)        # [batch_size, n, emb_size]\n",
    "\n",
    "        square_of_sum = torch.sum(fm_second_sparse, 1) ** 2\n",
    "        sum_of_square = torch.sum(fm_second_sparse ** 2, 1)\n",
    "        fm_second = square_of_sum - sum_of_square\n",
    "        fm_second = 0.5 * torch.sum(fm_second, 1, keepdim=True)                # [batch_size, 1]\n",
    "\n",
    "        '''DNN'''\n",
    "        dnn_out = torch.flatten(fm_second_sparse, 1)                           # [batch_size, sparse_size]\n",
    "        dnn_out = torch.cat([dense_inputs, dnn_out], 1)                        # [batch_size, dense_size + sparse_size]\n",
    "        dnn_out = self.dnn(dnn_out)                                            # [batch_size, 1]\n",
    "\n",
    "        output = fm_first + fm_second + dnn_out\n",
    "        output = self.sigmoid(output)\n",
    "        return output"
   ]
  },
  {
   "cell_type": "code",
   "execution_count": 4,
   "id": "e885f229",
   "metadata": {},
   "outputs": [],
   "source": [
    "## ?torch.sum\n",
    "## sum([ 0.0569, -0.2475,  0.0737, -0.3429])"
   ]
  },
  {
   "cell_type": "markdown",
   "id": "903377cf",
   "metadata": {},
   "source": [
    "# Training"
   ]
  },
  {
   "cell_type": "code",
   "execution_count": 4,
   "id": "dc37fb80",
   "metadata": {},
   "outputs": [],
   "source": [
    "def cal_acc(outputs, labels):\n",
    "    outputs[outputs >= 0.5] = 1\n",
    "    outputs[outputs < 0.5] = 0\n",
    "    accuracy = torch.sum(torch.eq(outputs, labels)).item()\n",
    "    return accuracy\n",
    "\n",
    "def training(model, train_loader, valid_loader, batch_size, lr, epochs, device):\n",
    "    loss = nn.BCELoss()\n",
    "    loss = loss.to(device)\n",
    "    optimizer = torch.optim.Adam(model.parameters(), lr=lr, weight_decay=0.001)\n",
    "    scheduler = torch.optim.lr_scheduler.StepLR(optimizer, step_size=1, gamma=0.8)\n",
    "    best_auc = 0\n",
    "\n",
    "    for epoch in range(epochs):\n",
    "        model.train()\n",
    "        start_time = time.time()\n",
    "        total_loss, total_acc = 0, 0\n",
    "        for i, x in enumerate(train_loader):\n",
    "            sparse_data, dense_data, labels = x[0], x[1], x[2]\n",
    "            sparse_data, dense_data, labels = sparse_data.to(device), dense_data.to(device), labels.to(device)\n",
    "            outputs = model((sparse_data, dense_data)).view(-1)\n",
    "            batch_loss = loss(outputs, labels)\n",
    "            optimizer.zero_grad()\n",
    "            batch_loss.backward()\n",
    "            optimizer.step()\n",
    "\n",
    "            total_loss += batch_loss.item()\n",
    "            total_acc += cal_acc(outputs, labels) / batch_size\n",
    "            if (i+1) % 2000 == 0 or (i + 1) == len(train_loader):\n",
    "                print('Epoch {:02d} | Step {:04d} / {} | ACC:{:.3f} | Loss {:.4f} | Time {:.4f}'.format(epoch, i+1, len(\n",
    "                    train_loader), total_acc / (i + 1) * 100, total_loss / (i + 1), time.time() - start_time))\n",
    "        scheduler.step()\n",
    "\n",
    "        model.eval()\n",
    "        start_time = time.time()\n",
    "        with torch.no_grad():\n",
    "            total_loss, total_acc = 0, 0\n",
    "            valid_preds, valid_labels = [], []\n",
    "            for i, x in enumerate(tqdm(valid_loader, desc='Valid')):\n",
    "                sparse_data, dense_data, labels = x[0], x[1], x[2]\n",
    "                sparse_data, dense_data, labels = sparse_data.to(device), dense_data.to(device), labels.to(device)\n",
    "\n",
    "                outputs = model((sparse_data, dense_data)).view(-1)\n",
    "                valid_preds.extend(outputs.cpu().numpy().tolist())\n",
    "                valid_labels.extend(labels.cpu())\n",
    "\n",
    "                total_loss += loss(outputs, labels).item()\n",
    "                total_acc += cal_acc(outputs, labels) / batch_size\n",
    "\n",
    "        cur_auc = roc_auc_score(valid_labels, valid_preds)\n",
    "        if cur_auc > best_auc:\n",
    "            best_auc = cur_auc\n",
    "            torch.save(model, 'trainedModel/ckpt.pth')\n",
    "        print('Epoch {:02d} | Valid | AUC:{:.4f} | BestAUC:{:.4f} |ACC:{:.3f} | Loss {:.4f} | Time {:.4f}'.format(\n",
    "            epoch, cur_auc, best_auc, total_acc / (len(valid_loader)) * 100, total_loss / len(valid_loader), time.time() - start_time))"
   ]
  },
  {
   "cell_type": "code",
   "execution_count": 5,
   "id": "9635b2bc",
   "metadata": {},
   "outputs": [],
   "source": [
    "numerical_category_fewValues = [\n",
    "    \"homeOwnership\", \n",
    "    \"verificationStatus\",\n",
    "    \"initialListStatus\",\n",
    "    \"applicationType\",\n",
    "    \"n11\",\n",
    "    \"n12\",\n",
    "]\n",
    "numerical_category_manyValues = [\n",
    "    \"regionCode\",\n",
    "    \"employmentTitle\",\n",
    "    \"purpose\",\n",
    "    \"postCode\",\n",
    "    \"title\",\n",
    "]\n",
    "date_type = [\n",
    "    'issueDate',\n",
    "    'earliesCreditLine',\n",
    "    'issueDateDT',\n",
    "    'earliesCreditLineDT',\n",
    "    'earliesCreditLineYear',\n",
    "    'earliesCreditLineMonth',\n",
    "    'issueYear',\n",
    "    'issueMonth'\n",
    "]\n",
    "numerical_serial = [\n",
    "    \"loanAmnt\",\"interestRate\",\"installment\",\"annualIncome\",\"dti\",\"delinquency_2years\",\"ficoRangeLow\",\"ficoRangeHigh\",\"openAcc\",\n",
    "    \"pubRec\",\"pubRecBankruptcies\",\"revolBal\",\"revolUtil\",\"totalAcc\",\"n0\",\"n1\",\"n2\",\"n3\",\n",
    "    \"n4\",\"n5\",\"n6\",\"n7\",\"n8\",\"n9\",\"n10\",\"n13\",\"n14\",\n",
    "    \"term\", \n",
    "]\n",
    "object_serial = [\n",
    "    \"grade\",\n",
    "    \"subGrade\", \n",
    "    \"employmentLength\"\n",
    "]"
   ]
  },
  {
   "cell_type": "code",
   "execution_count": 29,
   "id": "fc489ad1",
   "metadata": {},
   "outputs": [],
   "source": [
    "device = torch.device('cuda:0' if torch.cuda.is_available() else 'cpu')\n",
    "data, feat_columns, dense_feats, sparse_feats = create_dataset(\n",
    "    date_type + numerical_serial + object_serial + [\"title\", \"postCode\", \"employmentTitle\"], \n",
    "    list(\n",
    "        set(numerical_category_fewValues + numerical_category_manyValues) - set([\"title\", \"postCode\", \"employmentTitle\"])\n",
    "    ), \n",
    "    ['id', \"policyCode\", \"issueDate\", \"earliesCreditLine\"],\n",
    "    file = \"preprocessedDataset/pre1.csv\", \n",
    ")"
   ]
  },
  {
   "cell_type": "code",
   "execution_count": 30,
   "id": "ab776368",
   "metadata": {},
   "outputs": [
    {
     "data": {
      "text/plain": [
       "[[{'feat': 'ficoRangeLow'},\n",
       "  {'feat': 'n4'},\n",
       "  {'feat': 'subGrade'},\n",
       "  {'feat': 'n8'},\n",
       "  {'feat': 'n6'},\n",
       "  {'feat': 'issueYear'},\n",
       "  {'feat': 'earliesCreditLineYear'},\n",
       "  {'feat': 'earliesCreditLineDT'},\n",
       "  {'feat': 'issueDateDT'},\n",
       "  {'feat': 'installment'},\n",
       "  {'feat': 'issueMonth'},\n",
       "  {'feat': 'term'},\n",
       "  {'feat': 'employmentLength'},\n",
       "  {'feat': 'n10'},\n",
       "  {'feat': 'n1'},\n",
       "  {'feat': 'n5'},\n",
       "  {'feat': 'n7'},\n",
       "  {'feat': 'n2'},\n",
       "  {'feat': 'n0'},\n",
       "  {'feat': 'delinquency_2years'},\n",
       "  {'feat': 'n9'},\n",
       "  {'feat': 'employmentTitle'},\n",
       "  {'feat': 'loanAmnt'},\n",
       "  {'feat': 'dti'},\n",
       "  {'feat': 'openAcc'},\n",
       "  {'feat': 'annualIncome'},\n",
       "  {'feat': 'n3'},\n",
       "  {'feat': 'ficoRangeHigh'},\n",
       "  {'feat': 'pubRecBankruptcies'},\n",
       "  {'feat': 'n13'},\n",
       "  {'feat': 'revolBal'},\n",
       "  {'feat': 'revolUtil'},\n",
       "  {'feat': 'n14'},\n",
       "  {'feat': 'grade'},\n",
       "  {'feat': 'title'},\n",
       "  {'feat': 'totalAcc'},\n",
       "  {'feat': 'pubRec'},\n",
       "  {'feat': 'interestRate'},\n",
       "  {'feat': 'earliesCreditLineMonth'},\n",
       "  {'feat': 'postCode'}],\n",
       " [{'feat': 'n11', 'feat_num': 5},\n",
       "  {'feat': 'regionCode', 'feat_num': 51},\n",
       "  {'feat': 'homeOwnership', 'feat_num': 6},\n",
       "  {'feat': 'purpose', 'feat_num': 14},\n",
       "  {'feat': 'n12', 'feat_num': 5},\n",
       "  {'feat': 'initialListStatus', 'feat_num': 2},\n",
       "  {'feat': 'applicationType', 'feat_num': 2},\n",
       "  {'feat': 'verificationStatus', 'feat_num': 3}]]"
      ]
     },
     "execution_count": 30,
     "metadata": {},
     "output_type": "execute_result"
    }
   ],
   "source": [
    "feat_columns"
   ]
  },
  {
   "cell_type": "code",
   "execution_count": 31,
   "id": "60376d2b",
   "metadata": {},
   "outputs": [
    {
     "data": {
      "text/plain": [
       "['ficoRangeLow',\n",
       " 'n4',\n",
       " 'subGrade',\n",
       " 'n8',\n",
       " 'n6',\n",
       " 'issueYear',\n",
       " 'earliesCreditLineYear',\n",
       " 'earliesCreditLineDT',\n",
       " 'issueDateDT',\n",
       " 'installment',\n",
       " 'issueMonth',\n",
       " 'term',\n",
       " 'employmentLength',\n",
       " 'n10',\n",
       " 'n1',\n",
       " 'n5',\n",
       " 'n7',\n",
       " 'n2',\n",
       " 'n0',\n",
       " 'delinquency_2years',\n",
       " 'n9',\n",
       " 'employmentTitle',\n",
       " 'loanAmnt',\n",
       " 'dti',\n",
       " 'openAcc',\n",
       " 'annualIncome',\n",
       " 'n3',\n",
       " 'ficoRangeHigh',\n",
       " 'pubRecBankruptcies',\n",
       " 'n13',\n",
       " 'revolBal',\n",
       " 'revolUtil',\n",
       " 'n14',\n",
       " 'grade',\n",
       " 'title',\n",
       " 'totalAcc',\n",
       " 'pubRec',\n",
       " 'interestRate',\n",
       " 'earliesCreditLineMonth',\n",
       " 'postCode']"
      ]
     },
     "execution_count": 31,
     "metadata": {},
     "output_type": "execute_result"
    }
   ],
   "source": [
    "dense_feats"
   ]
  },
  {
   "cell_type": "code",
   "execution_count": 32,
   "id": "4695002e",
   "metadata": {},
   "outputs": [
    {
     "data": {
      "text/plain": [
       "['n11',\n",
       " 'regionCode',\n",
       " 'homeOwnership',\n",
       " 'purpose',\n",
       " 'n12',\n",
       " 'initialListStatus',\n",
       " 'applicationType',\n",
       " 'verificationStatus']"
      ]
     },
     "execution_count": 32,
     "metadata": {},
     "output_type": "execute_result"
    }
   ],
   "source": [
    "sparse_feats"
   ]
  },
  {
   "cell_type": "code",
   "execution_count": 33,
   "id": "63dd42c3",
   "metadata": {},
   "outputs": [],
   "source": [
    "train, valid = train_test_split(data, test_size=0.3)"
   ]
  },
  {
   "cell_type": "code",
   "execution_count": 34,
   "id": "70333f8c",
   "metadata": {},
   "outputs": [],
   "source": [
    "train_dataset = Data.TensorDataset(\n",
    "    torch.LongTensor(\n",
    "        train[sparse_feats].values\n",
    "    ),\n",
    "    torch.FloatTensor(\n",
    "        StandardScaler().fit_transform(train[dense_feats].values)\n",
    "    ),\n",
    "    torch.FloatTensor(\n",
    "        train['isDefault'].values\n",
    "    )\n",
    ")\n",
    "train_loader = Data.DataLoader(dataset=train_dataset, batch_size=32, shuffle=True)\n",
    "valid_dataset = Data.TensorDataset(\n",
    "    torch.LongTensor(\n",
    "        valid[sparse_feats].values\n",
    "    ),\n",
    "    torch.FloatTensor(\n",
    "        StandardScaler().fit_transform(valid[dense_feats].values)\n",
    "    ),\n",
    "    torch.FloatTensor(valid['isDefault'].values)\n",
    ")\n",
    "valid_loader = Data.DataLoader(dataset=valid_dataset, batch_size=32, shuffle=False)"
   ]
  },
  {
   "cell_type": "code",
   "execution_count": 35,
   "id": "17edabd7",
   "metadata": {},
   "outputs": [
    {
     "name": "stdout",
     "output_type": "stream",
     "text": [
      "Epoch 00 | Step 2000 / 17500 | ACC:78.264 | Loss 0.6033 | Time 6.8281\n",
      "Epoch 00 | Step 4000 / 17500 | ACC:78.648 | Loss 0.5601 | Time 13.9663\n",
      "Epoch 00 | Step 6000 / 17500 | ACC:78.758 | Loss 0.5345 | Time 20.7862\n",
      "Epoch 00 | Step 8000 / 17500 | ACC:78.802 | Loss 0.5329 | Time 27.5789\n",
      "Epoch 00 | Step 10000 / 17500 | ACC:78.959 | Loss 0.5239 | Time 34.3654\n",
      "Epoch 00 | Step 12000 / 17500 | ACC:78.995 | Loss 0.5329 | Time 41.2155\n",
      "Epoch 00 | Step 14000 / 17500 | ACC:79.050 | Loss 0.5248 | Time 48.0198\n",
      "Epoch 00 | Step 16000 / 17500 | ACC:79.109 | Loss 0.5188 | Time 54.7808\n",
      "Epoch 00 | Step 17500 / 17500 | ACC:79.095 | Loss 0.5276 | Time 59.8523\n"
     ]
    },
    {
     "name": "stderr",
     "output_type": "stream",
     "text": [
      "Valid: 100%|████████████████████████████████| 7500/7500 [00:06<00:00, 1167.97it/s]\n"
     ]
    },
    {
     "name": "stdout",
     "output_type": "stream",
     "text": [
      "Epoch 00 | Valid | AUC:0.6876 | BestAUC:0.6876 |ACC:79.492 | Loss 0.4751 | Time 7.7908\n",
      "Epoch 01 | Step 2000 / 17500 | ACC:79.834 | Loss 0.4685 | Time 6.8504\n",
      "Epoch 01 | Step 4000 / 17500 | ACC:79.509 | Loss 0.6234 | Time 13.6776\n",
      "Epoch 01 | Step 6000 / 17500 | ACC:79.531 | Loss 0.5729 | Time 20.5240\n",
      "Epoch 01 | Step 8000 / 17500 | ACC:79.557 | Loss 0.5473 | Time 27.3450\n",
      "Epoch 01 | Step 10000 / 17500 | ACC:79.483 | Loss 0.5459 | Time 34.1680\n",
      "Epoch 01 | Step 12000 / 17500 | ACC:79.517 | Loss 0.5333 | Time 40.9914\n",
      "Epoch 01 | Step 14000 / 17500 | ACC:79.492 | Loss 0.5349 | Time 47.8678\n",
      "Epoch 01 | Step 16000 / 17500 | ACC:79.499 | Loss 0.5270 | Time 54.8533\n",
      "Epoch 01 | Step 17500 / 17500 | ACC:79.519 | Loss 0.5219 | Time 60.0083\n"
     ]
    },
    {
     "name": "stderr",
     "output_type": "stream",
     "text": [
      "Valid: 100%|████████████████████████████████| 7500/7500 [00:06<00:00, 1174.67it/s]\n"
     ]
    },
    {
     "name": "stdout",
     "output_type": "stream",
     "text": [
      "Epoch 01 | Valid | AUC:0.6899 | BestAUC:0.6899 |ACC:79.635 | Loss 0.4763 | Time 7.8247\n",
      "Epoch 02 | Step 2000 / 17500 | ACC:79.484 | Loss 0.4824 | Time 6.9305\n",
      "Epoch 02 | Step 4000 / 17500 | ACC:79.585 | Loss 0.4751 | Time 13.8287\n",
      "Epoch 02 | Step 6000 / 17500 | ACC:79.666 | Loss 0.4724 | Time 20.6820\n",
      "Epoch 02 | Step 8000 / 17500 | ACC:79.614 | Loss 0.4768 | Time 27.5809\n",
      "Epoch 02 | Step 10000 / 17500 | ACC:79.686 | Loss 0.4742 | Time 34.4914\n",
      "Epoch 02 | Step 12000 / 17500 | ACC:79.657 | Loss 0.4748 | Time 41.3867\n",
      "Epoch 02 | Step 14000 / 17500 | ACC:79.697 | Loss 0.4740 | Time 48.2726\n",
      "Epoch 02 | Step 16000 / 17500 | ACC:79.724 | Loss 0.4727 | Time 55.1595\n",
      "Epoch 02 | Step 17500 / 17500 | ACC:79.752 | Loss 0.4721 | Time 60.3563\n"
     ]
    },
    {
     "name": "stderr",
     "output_type": "stream",
     "text": [
      "Valid: 100%|████████████████████████████████| 7500/7500 [00:06<00:00, 1180.45it/s]\n"
     ]
    },
    {
     "name": "stdout",
     "output_type": "stream",
     "text": [
      "Epoch 02 | Valid | AUC:0.6973 | BestAUC:0.6973 |ACC:79.840 | Loss 0.4642 | Time 7.7841\n",
      "Epoch 03 | Step 2000 / 17500 | ACC:79.814 | Loss 0.4719 | Time 6.8291\n",
      "Epoch 03 | Step 4000 / 17500 | ACC:79.920 | Loss 0.4676 | Time 13.9416\n",
      "Epoch 03 | Step 6000 / 17500 | ACC:79.848 | Loss 0.4684 | Time 20.9654\n",
      "Epoch 03 | Step 8000 / 17500 | ACC:79.886 | Loss 0.4672 | Time 27.8033\n",
      "Epoch 03 | Step 10000 / 17500 | ACC:79.911 | Loss 0.4661 | Time 34.6255\n",
      "Epoch 03 | Step 12000 / 17500 | ACC:79.860 | Loss 0.4681 | Time 41.4401\n",
      "Epoch 03 | Step 14000 / 17500 | ACC:79.874 | Loss 0.4675 | Time 48.2673\n",
      "Epoch 03 | Step 16000 / 17500 | ACC:79.869 | Loss 0.4677 | Time 55.1164\n",
      "Epoch 03 | Step 17500 / 17500 | ACC:79.878 | Loss 0.4673 | Time 60.2341\n"
     ]
    },
    {
     "name": "stderr",
     "output_type": "stream",
     "text": [
      "Valid: 100%|████████████████████████████████| 7500/7500 [00:06<00:00, 1181.20it/s]\n"
     ]
    },
    {
     "name": "stdout",
     "output_type": "stream",
     "text": [
      "Epoch 03 | Valid | AUC:0.6832 | BestAUC:0.6973 |ACC:79.533 | Loss 0.4711 | Time 7.7834\n",
      "Epoch 04 | Step 2000 / 17500 | ACC:80.023 | Loss 0.4611 | Time 6.8728\n",
      "Epoch 04 | Step 4000 / 17500 | ACC:80.138 | Loss 0.4604 | Time 13.7002\n",
      "Epoch 04 | Step 6000 / 17500 | ACC:80.168 | Loss 0.4608 | Time 20.5631\n",
      "Epoch 04 | Step 8000 / 17500 | ACC:80.133 | Loss 0.4607 | Time 27.3845\n",
      "Epoch 04 | Step 10000 / 17500 | ACC:80.101 | Loss 0.4619 | Time 34.2201\n",
      "Epoch 04 | Step 12000 / 17500 | ACC:80.050 | Loss 0.4627 | Time 41.0403\n",
      "Epoch 04 | Step 14000 / 17500 | ACC:80.050 | Loss 0.4621 | Time 47.8901\n",
      "Epoch 04 | Step 16000 / 17500 | ACC:80.040 | Loss 0.4623 | Time 54.7176\n",
      "Epoch 04 | Step 17500 / 17500 | ACC:80.040 | Loss 0.4623 | Time 59.8297\n"
     ]
    },
    {
     "name": "stderr",
     "output_type": "stream",
     "text": [
      "Valid: 100%|████████████████████████████████| 7500/7500 [00:06<00:00, 1190.18it/s]\n"
     ]
    },
    {
     "name": "stdout",
     "output_type": "stream",
     "text": [
      "Epoch 04 | Valid | AUC:0.6931 | BestAUC:0.6973 |ACC:79.885 | Loss 0.4654 | Time 7.7415\n",
      "Epoch 05 | Step 2000 / 17500 | ACC:80.163 | Loss 0.4592 | Time 6.8869\n",
      "Epoch 05 | Step 4000 / 17500 | ACC:79.943 | Loss 0.4621 | Time 13.7395\n",
      "Epoch 05 | Step 6000 / 17500 | ACC:79.973 | Loss 0.4610 | Time 20.5901\n",
      "Epoch 05 | Step 8000 / 17500 | ACC:79.973 | Loss 0.4612 | Time 27.4879\n",
      "Epoch 05 | Step 10000 / 17500 | ACC:80.034 | Loss 0.4609 | Time 34.3342\n",
      "Epoch 05 | Step 12000 / 17500 | ACC:80.032 | Loss 0.4608 | Time 41.2149\n",
      "Epoch 05 | Step 14000 / 17500 | ACC:80.063 | Loss 0.4602 | Time 48.3752\n",
      "Epoch 05 | Step 16000 / 17500 | ACC:80.058 | Loss 0.4601 | Time 55.3335\n",
      "Epoch 05 | Step 17500 / 17500 | ACC:80.079 | Loss 0.4600 | Time 60.4889\n"
     ]
    },
    {
     "name": "stderr",
     "output_type": "stream",
     "text": [
      "Valid: 100%|████████████████████████████████| 7500/7500 [00:06<00:00, 1187.61it/s]\n"
     ]
    },
    {
     "name": "stdout",
     "output_type": "stream",
     "text": [
      "Epoch 05 | Valid | AUC:0.7065 | BestAUC:0.7065 |ACC:80.020 | Loss 0.4591 | Time 7.7538\n",
      "Epoch 06 | Step 2000 / 17500 | ACC:80.198 | Loss 0.4573 | Time 6.9111\n",
      "Epoch 06 | Step 4000 / 17500 | ACC:80.192 | Loss 0.4584 | Time 13.7475\n",
      "Epoch 06 | Step 6000 / 17500 | ACC:80.143 | Loss 0.4590 | Time 20.5690\n",
      "Epoch 06 | Step 8000 / 17500 | ACC:80.225 | Loss 0.4580 | Time 27.4015\n",
      "Epoch 06 | Step 10000 / 17500 | ACC:80.202 | Loss 0.4578 | Time 34.2290\n",
      "Epoch 06 | Step 12000 / 17500 | ACC:80.238 | Loss 0.4572 | Time 41.0813\n",
      "Epoch 06 | Step 14000 / 17500 | ACC:80.202 | Loss 0.4576 | Time 47.9245\n",
      "Epoch 06 | Step 16000 / 17500 | ACC:80.155 | Loss 0.4583 | Time 54.7316\n",
      "Epoch 06 | Step 17500 / 17500 | ACC:80.152 | Loss 0.4581 | Time 59.8825\n"
     ]
    },
    {
     "name": "stderr",
     "output_type": "stream",
     "text": [
      "Valid: 100%|████████████████████████████████| 7500/7500 [00:06<00:00, 1155.21it/s]\n"
     ]
    },
    {
     "name": "stdout",
     "output_type": "stream",
     "text": [
      "Epoch 06 | Valid | AUC:0.7053 | BestAUC:0.7065 |ACC:80.129 | Loss 0.4612 | Time 7.9362\n",
      "Epoch 07 | Step 2000 / 17500 | ACC:80.277 | Loss 0.4556 | Time 7.1352\n",
      "Epoch 07 | Step 4000 / 17500 | ACC:80.364 | Loss 0.4536 | Time 14.1259\n",
      "Epoch 07 | Step 6000 / 17500 | ACC:80.346 | Loss 0.4535 | Time 21.3952\n",
      "Epoch 07 | Step 8000 / 17500 | ACC:80.330 | Loss 0.4543 | Time 28.3822\n",
      "Epoch 07 | Step 10000 / 17500 | ACC:80.277 | Loss 0.4552 | Time 35.4090\n",
      "Epoch 07 | Step 12000 / 17500 | ACC:80.226 | Loss 0.4558 | Time 42.7031\n",
      "Epoch 07 | Step 14000 / 17500 | ACC:80.193 | Loss 0.4564 | Time 49.8699\n",
      "Epoch 07 | Step 16000 / 17500 | ACC:80.170 | Loss 0.4567 | Time 56.8548\n",
      "Epoch 07 | Step 17500 / 17500 | ACC:80.176 | Loss 0.4566 | Time 61.9691\n"
     ]
    },
    {
     "name": "stderr",
     "output_type": "stream",
     "text": [
      "Valid: 100%|████████████████████████████████| 7500/7500 [00:06<00:00, 1180.65it/s]\n"
     ]
    },
    {
     "name": "stdout",
     "output_type": "stream",
     "text": [
      "Epoch 07 | Valid | AUC:0.7105 | BestAUC:0.7105 |ACC:80.117 | Loss 0.4562 | Time 7.7949\n",
      "Epoch 08 | Step 2000 / 17500 | ACC:80.219 | Loss 0.4567 | Time 6.8852\n",
      "Epoch 08 | Step 4000 / 17500 | ACC:80.020 | Loss 0.4586 | Time 13.7397\n",
      "Epoch 08 | Step 6000 / 17500 | ACC:80.060 | Loss 0.4585 | Time 20.5732\n",
      "Epoch 08 | Step 8000 / 17500 | ACC:80.091 | Loss 0.4580 | Time 27.4132\n",
      "Epoch 08 | Step 10000 / 17500 | ACC:80.127 | Loss 0.4574 | Time 34.2263\n",
      "Epoch 08 | Step 12000 / 17500 | ACC:80.137 | Loss 0.4571 | Time 41.0613\n",
      "Epoch 08 | Step 14000 / 17500 | ACC:80.201 | Loss 0.4561 | Time 47.8869\n",
      "Epoch 08 | Step 16000 / 17500 | ACC:80.226 | Loss 0.4556 | Time 54.7336\n",
      "Epoch 08 | Step 17500 / 17500 | ACC:80.248 | Loss 0.4554 | Time 60.1104\n"
     ]
    },
    {
     "name": "stderr",
     "output_type": "stream",
     "text": [
      "Valid: 100%|████████████████████████████████| 7500/7500 [00:06<00:00, 1165.28it/s]\n"
     ]
    },
    {
     "name": "stdout",
     "output_type": "stream",
     "text": [
      "Epoch 08 | Valid | AUC:0.7101 | BestAUC:0.7105 |ACC:80.240 | Loss 0.4557 | Time 7.9271\n",
      "Epoch 09 | Step 2000 / 17500 | ACC:80.345 | Loss 0.4533 | Time 7.1082\n",
      "Epoch 09 | Step 4000 / 17500 | ACC:80.333 | Loss 0.4534 | Time 14.1287\n",
      "Epoch 09 | Step 6000 / 17500 | ACC:80.253 | Loss 0.4551 | Time 21.0611\n",
      "Epoch 09 | Step 8000 / 17500 | ACC:80.290 | Loss 0.4542 | Time 28.1451\n",
      "Epoch 09 | Step 10000 / 17500 | ACC:80.272 | Loss 0.4545 | Time 35.0408\n",
      "Epoch 09 | Step 12000 / 17500 | ACC:80.253 | Loss 0.4546 | Time 42.3186\n",
      "Epoch 09 | Step 14000 / 17500 | ACC:80.253 | Loss 0.4550 | Time 49.3346\n",
      "Epoch 09 | Step 16000 / 17500 | ACC:80.262 | Loss 0.4548 | Time 56.6107\n",
      "Epoch 09 | Step 17500 / 17500 | ACC:80.261 | Loss 0.4547 | Time 62.1987\n"
     ]
    },
    {
     "name": "stderr",
     "output_type": "stream",
     "text": [
      "Valid: 100%|████████████████████████████████| 7500/7500 [00:06<00:00, 1157.38it/s]\n"
     ]
    },
    {
     "name": "stdout",
     "output_type": "stream",
     "text": [
      "Epoch 09 | Valid | AUC:0.7121 | BestAUC:0.7121 |ACC:79.955 | Loss 0.4562 | Time 7.9536\n",
      "Epoch 10 | Step 2000 / 17500 | ACC:80.364 | Loss 0.4523 | Time 7.2195\n",
      "Epoch 10 | Step 4000 / 17500 | ACC:80.461 | Loss 0.4521 | Time 14.3840\n",
      "Epoch 10 | Step 6000 / 17500 | ACC:80.467 | Loss 0.4518 | Time 21.4961\n",
      "Epoch 10 | Step 8000 / 17500 | ACC:80.391 | Loss 0.4524 | Time 28.5858\n",
      "Epoch 10 | Step 10000 / 17500 | ACC:80.337 | Loss 0.4534 | Time 35.6690\n",
      "Epoch 10 | Step 12000 / 17500 | ACC:80.305 | Loss 0.4533 | Time 42.8463\n",
      "Epoch 10 | Step 14000 / 17500 | ACC:80.286 | Loss 0.4537 | Time 50.0818\n",
      "Epoch 10 | Step 16000 / 17500 | ACC:80.292 | Loss 0.4537 | Time 57.1451\n",
      "Epoch 10 | Step 17500 / 17500 | ACC:80.273 | Loss 0.4540 | Time 62.5867\n"
     ]
    },
    {
     "name": "stderr",
     "output_type": "stream",
     "text": [
      "Valid: 100%|████████████████████████████████| 7500/7500 [00:06<00:00, 1143.50it/s]\n"
     ]
    },
    {
     "name": "stdout",
     "output_type": "stream",
     "text": [
      "Epoch 10 | Valid | AUC:0.7121 | BestAUC:0.7121 |ACC:80.257 | Loss 0.4553 | Time 8.1064\n",
      "Epoch 11 | Step 2000 / 17500 | ACC:80.209 | Loss 0.4553 | Time 7.0585\n",
      "Epoch 11 | Step 4000 / 17500 | ACC:80.237 | Loss 0.4547 | Time 14.0164\n",
      "Epoch 11 | Step 6000 / 17500 | ACC:80.228 | Loss 0.4544 | Time 21.0143\n",
      "Epoch 11 | Step 8000 / 17500 | ACC:80.229 | Loss 0.4543 | Time 28.2146\n",
      "Epoch 11 | Step 10000 / 17500 | ACC:80.259 | Loss 0.4543 | Time 35.3919\n",
      "Epoch 11 | Step 12000 / 17500 | ACC:80.284 | Loss 0.4539 | Time 42.8175\n",
      "Epoch 11 | Step 14000 / 17500 | ACC:80.335 | Loss 0.4532 | Time 49.7734\n",
      "Epoch 11 | Step 16000 / 17500 | ACC:80.304 | Loss 0.4534 | Time 56.7757\n",
      "Epoch 11 | Step 17500 / 17500 | ACC:80.300 | Loss 0.4536 | Time 61.9944\n"
     ]
    },
    {
     "name": "stderr",
     "output_type": "stream",
     "text": [
      "Valid: 100%|████████████████████████████████| 7500/7500 [00:06<00:00, 1136.96it/s]\n"
     ]
    },
    {
     "name": "stdout",
     "output_type": "stream",
     "text": [
      "Epoch 11 | Valid | AUC:0.7125 | BestAUC:0.7125 |ACC:80.132 | Loss 0.4547 | Time 8.1181\n",
      "Epoch 12 | Step 2000 / 17500 | ACC:80.264 | Loss 0.4539 | Time 6.8943\n",
      "Epoch 12 | Step 4000 / 17500 | ACC:80.301 | Loss 0.4527 | Time 13.7666\n",
      "Epoch 12 | Step 6000 / 17500 | ACC:80.372 | Loss 0.4523 | Time 20.6675\n",
      "Epoch 12 | Step 8000 / 17500 | ACC:80.289 | Loss 0.4531 | Time 27.5198\n",
      "Epoch 12 | Step 10000 / 17500 | ACC:80.278 | Loss 0.4535 | Time 34.4446\n",
      "Epoch 12 | Step 12000 / 17500 | ACC:80.298 | Loss 0.4533 | Time 41.3323\n",
      "Epoch 12 | Step 14000 / 17500 | ACC:80.291 | Loss 0.4536 | Time 48.2462\n",
      "Epoch 12 | Step 16000 / 17500 | ACC:80.304 | Loss 0.4533 | Time 55.1182\n",
      "Epoch 12 | Step 17500 / 17500 | ACC:80.310 | Loss 0.4532 | Time 60.3078\n"
     ]
    },
    {
     "name": "stderr",
     "output_type": "stream",
     "text": [
      "Valid: 100%|████████████████████████████████| 7500/7500 [00:06<00:00, 1176.91it/s]\n"
     ]
    },
    {
     "name": "stdout",
     "output_type": "stream",
     "text": [
      "Epoch 12 | Valid | AUC:0.7136 | BestAUC:0.7136 |ACC:80.164 | Loss 0.4546 | Time 7.8102\n",
      "Epoch 13 | Step 2000 / 17500 | ACC:80.205 | Loss 0.4533 | Time 6.9558\n",
      "Epoch 13 | Step 4000 / 17500 | ACC:80.347 | Loss 0.4522 | Time 13.9180\n",
      "Epoch 13 | Step 6000 / 17500 | ACC:80.255 | Loss 0.4532 | Time 20.8760\n",
      "Epoch 13 | Step 8000 / 17500 | ACC:80.321 | Loss 0.4527 | Time 27.7781\n",
      "Epoch 13 | Step 10000 / 17500 | ACC:80.296 | Loss 0.4529 | Time 34.7594\n",
      "Epoch 13 | Step 12000 / 17500 | ACC:80.303 | Loss 0.4529 | Time 41.6851\n",
      "Epoch 13 | Step 14000 / 17500 | ACC:80.288 | Loss 0.4535 | Time 48.6227\n",
      "Epoch 13 | Step 16000 / 17500 | ACC:80.325 | Loss 0.4528 | Time 55.5227\n",
      "Epoch 13 | Step 17500 / 17500 | ACC:80.319 | Loss 0.4529 | Time 60.8096\n"
     ]
    },
    {
     "name": "stderr",
     "output_type": "stream",
     "text": [
      "Valid: 100%|████████████████████████████████| 7500/7500 [00:06<00:00, 1128.37it/s]\n"
     ]
    },
    {
     "name": "stdout",
     "output_type": "stream",
     "text": [
      "Epoch 13 | Valid | AUC:0.7142 | BestAUC:0.7142 |ACC:80.149 | Loss 0.4542 | Time 8.1459\n",
      "Epoch 14 | Step 2000 / 17500 | ACC:80.227 | Loss 0.4532 | Time 7.7684\n",
      "Epoch 14 | Step 4000 / 17500 | ACC:80.384 | Loss 0.4516 | Time 14.7821\n",
      "Epoch 14 | Step 6000 / 17500 | ACC:80.375 | Loss 0.4520 | Time 21.7219\n",
      "Epoch 14 | Step 8000 / 17500 | ACC:80.389 | Loss 0.4520 | Time 28.6076\n",
      "Epoch 14 | Step 10000 / 17500 | ACC:80.405 | Loss 0.4522 | Time 35.4622\n",
      "Epoch 14 | Step 12000 / 17500 | ACC:80.377 | Loss 0.4526 | Time 42.3287\n",
      "Epoch 14 | Step 14000 / 17500 | ACC:80.365 | Loss 0.4527 | Time 49.2392\n",
      "Epoch 14 | Step 16000 / 17500 | ACC:80.339 | Loss 0.4529 | Time 56.3156\n",
      "Epoch 14 | Step 17500 / 17500 | ACC:80.339 | Loss 0.4526 | Time 61.5470\n"
     ]
    },
    {
     "name": "stderr",
     "output_type": "stream",
     "text": [
      "Valid: 100%|████████████████████████████████| 7500/7500 [00:06<00:00, 1170.94it/s]\n"
     ]
    },
    {
     "name": "stdout",
     "output_type": "stream",
     "text": [
      "Epoch 14 | Valid | AUC:0.7155 | BestAUC:0.7155 |ACC:80.250 | Loss 0.4533 | Time 7.8655\n",
      "Epoch 15 | Step 2000 / 17500 | ACC:80.520 | Loss 0.4503 | Time 7.0197\n",
      "Epoch 15 | Step 4000 / 17500 | ACC:80.426 | Loss 0.4508 | Time 13.9494\n",
      "Epoch 15 | Step 6000 / 17500 | ACC:80.316 | Loss 0.4523 | Time 20.8496\n",
      "Epoch 15 | Step 8000 / 17500 | ACC:80.311 | Loss 0.4524 | Time 27.7707\n",
      "Epoch 15 | Step 10000 / 17500 | ACC:80.379 | Loss 0.4520 | Time 34.7059\n",
      "Epoch 15 | Step 12000 / 17500 | ACC:80.382 | Loss 0.4517 | Time 41.5949\n",
      "Epoch 15 | Step 14000 / 17500 | ACC:80.372 | Loss 0.4516 | Time 48.4823\n",
      "Epoch 15 | Step 16000 / 17500 | ACC:80.319 | Loss 0.4524 | Time 55.4067\n",
      "Epoch 15 | Step 17500 / 17500 | ACC:80.329 | Loss 0.4524 | Time 60.5550\n"
     ]
    },
    {
     "name": "stderr",
     "output_type": "stream",
     "text": [
      "Valid: 100%|████████████████████████████████| 7500/7500 [00:06<00:00, 1181.10it/s]\n"
     ]
    },
    {
     "name": "stdout",
     "output_type": "stream",
     "text": [
      "Epoch 15 | Valid | AUC:0.7150 | BestAUC:0.7155 |ACC:80.205 | Loss 0.4536 | Time 7.7973\n",
      "Epoch 16 | Step 2000 / 17500 | ACC:80.741 | Loss 0.4474 | Time 6.9661\n",
      "Epoch 16 | Step 4000 / 17500 | ACC:80.585 | Loss 0.4502 | Time 14.2173\n",
      "Epoch 16 | Step 6000 / 17500 | ACC:80.528 | Loss 0.4503 | Time 21.4849\n",
      "Epoch 16 | Step 8000 / 17500 | ACC:80.454 | Loss 0.4506 | Time 28.4504\n",
      "Epoch 16 | Step 10000 / 17500 | ACC:80.437 | Loss 0.4509 | Time 35.7327\n",
      "Epoch 16 | Step 12000 / 17500 | ACC:80.404 | Loss 0.4516 | Time 42.7655\n",
      "Epoch 16 | Step 14000 / 17500 | ACC:80.396 | Loss 0.4518 | Time 49.7340\n",
      "Epoch 16 | Step 16000 / 17500 | ACC:80.361 | Loss 0.4521 | Time 56.6617\n",
      "Epoch 16 | Step 17500 / 17500 | ACC:80.350 | Loss 0.4522 | Time 61.8476\n"
     ]
    },
    {
     "name": "stderr",
     "output_type": "stream",
     "text": [
      "Valid: 100%|████████████████████████████████| 7500/7500 [00:06<00:00, 1158.91it/s]\n"
     ]
    },
    {
     "name": "stdout",
     "output_type": "stream",
     "text": [
      "Epoch 16 | Valid | AUC:0.7153 | BestAUC:0.7155 |ACC:80.243 | Loss 0.4534 | Time 7.9301\n",
      "Epoch 17 | Step 2000 / 17500 | ACC:80.295 | Loss 0.4521 | Time 6.9162\n",
      "Epoch 17 | Step 4000 / 17500 | ACC:80.283 | Loss 0.4529 | Time 13.8520\n",
      "Epoch 17 | Step 6000 / 17500 | ACC:80.240 | Loss 0.4532 | Time 20.8837\n",
      "Epoch 17 | Step 8000 / 17500 | ACC:80.257 | Loss 0.4535 | Time 28.0363\n",
      "Epoch 17 | Step 10000 / 17500 | ACC:80.291 | Loss 0.4530 | Time 35.4380\n",
      "Epoch 17 | Step 12000 / 17500 | ACC:80.315 | Loss 0.4527 | Time 42.5744\n",
      "Epoch 17 | Step 14000 / 17500 | ACC:80.330 | Loss 0.4524 | Time 49.5933\n",
      "Epoch 17 | Step 16000 / 17500 | ACC:80.354 | Loss 0.4522 | Time 56.7014\n",
      "Epoch 17 | Step 17500 / 17500 | ACC:80.348 | Loss 0.4521 | Time 62.1154\n"
     ]
    },
    {
     "name": "stderr",
     "output_type": "stream",
     "text": [
      "Valid: 100%|████████████████████████████████| 7500/7500 [00:06<00:00, 1123.77it/s]\n"
     ]
    },
    {
     "name": "stdout",
     "output_type": "stream",
     "text": [
      "Epoch 17 | Valid | AUC:0.7159 | BestAUC:0.7159 |ACC:80.198 | Loss 0.4532 | Time 8.1661\n",
      "Epoch 18 | Step 2000 / 17500 | ACC:80.088 | Loss 0.4554 | Time 7.5738\n",
      "Epoch 18 | Step 4000 / 17500 | ACC:80.424 | Loss 0.4518 | Time 14.9617\n",
      "Epoch 18 | Step 6000 / 17500 | ACC:80.391 | Loss 0.4518 | Time 22.0740\n",
      "Epoch 18 | Step 8000 / 17500 | ACC:80.287 | Loss 0.4529 | Time 28.9048\n",
      "Epoch 18 | Step 10000 / 17500 | ACC:80.384 | Loss 0.4512 | Time 35.8449\n",
      "Epoch 18 | Step 12000 / 17500 | ACC:80.371 | Loss 0.4515 | Time 42.7258\n",
      "Epoch 18 | Step 14000 / 17500 | ACC:80.341 | Loss 0.4520 | Time 49.5692\n",
      "Epoch 18 | Step 16000 / 17500 | ACC:80.357 | Loss 0.4518 | Time 56.4618\n",
      "Epoch 18 | Step 17500 / 17500 | ACC:80.349 | Loss 0.4520 | Time 61.5665\n"
     ]
    },
    {
     "name": "stderr",
     "output_type": "stream",
     "text": [
      "Valid: 100%|████████████████████████████████| 7500/7500 [00:06<00:00, 1089.93it/s]\n"
     ]
    },
    {
     "name": "stdout",
     "output_type": "stream",
     "text": [
      "Epoch 18 | Valid | AUC:0.7154 | BestAUC:0.7159 |ACC:80.279 | Loss 0.4532 | Time 8.3789\n",
      "Epoch 19 | Step 2000 / 17500 | ACC:80.544 | Loss 0.4500 | Time 7.3284\n",
      "Epoch 19 | Step 4000 / 17500 | ACC:80.469 | Loss 0.4511 | Time 14.8500\n",
      "Epoch 19 | Step 6000 / 17500 | ACC:80.464 | Loss 0.4510 | Time 22.2810\n",
      "Epoch 19 | Step 8000 / 17500 | ACC:80.417 | Loss 0.4511 | Time 29.6508\n",
      "Epoch 19 | Step 10000 / 17500 | ACC:80.388 | Loss 0.4513 | Time 37.0301\n",
      "Epoch 19 | Step 12000 / 17500 | ACC:80.383 | Loss 0.4515 | Time 44.4405\n",
      "Epoch 19 | Step 14000 / 17500 | ACC:80.365 | Loss 0.4520 | Time 51.8806\n",
      "Epoch 19 | Step 16000 / 17500 | ACC:80.368 | Loss 0.4519 | Time 59.3888\n",
      "Epoch 19 | Step 17500 / 17500 | ACC:80.372 | Loss 0.4519 | Time 64.8401\n"
     ]
    },
    {
     "name": "stderr",
     "output_type": "stream",
     "text": [
      "Valid: 100%|████████████████████████████████| 7500/7500 [00:06<00:00, 1139.10it/s]\n"
     ]
    },
    {
     "name": "stdout",
     "output_type": "stream",
     "text": [
      "Epoch 19 | Valid | AUC:0.7154 | BestAUC:0.7159 |ACC:80.221 | Loss 0.4533 | Time 8.0742\n"
     ]
    }
   ],
   "source": [
    "# if os.path.exists('ckpt.pth'):\n",
    "#     model = torch.load('ckpt.pth')\n",
    "# else:\n",
    "model = DeepFM(feat_columns, 10)\n",
    "model.to(device)\n",
    "\n",
    "training(\n",
    "    model, train_loader, valid_loader, \n",
    "    32, 0.02, 20, ## batch_size, learning rate, epoch\n",
    "    device\n",
    ")"
   ]
  },
  {
   "cell_type": "markdown",
   "id": "05040c6b",
   "metadata": {},
   "source": [
    "--------"
   ]
  },
  {
   "cell_type": "markdown",
   "id": "81a9318b",
   "metadata": {},
   "source": [
    "看来，怎么训练也就这么个水平了。最高也就0.715这个级别了。"
   ]
  },
  {
   "cell_type": "markdown",
   "id": "7ac03bd1",
   "metadata": {},
   "source": [
    "---------------"
   ]
  },
  {
   "cell_type": "code",
   "execution_count": 13,
   "id": "bc40794f",
   "metadata": {},
   "outputs": [],
   "source": [
    "df = pd.read_csv(\"preprocessedDataset/pre1.csv\")"
   ]
  },
  {
   "cell_type": "code",
   "execution_count": 14,
   "id": "e3cdfe38",
   "metadata": {},
   "outputs": [
    {
     "data": {
      "text/plain": [
       "DeepFM(\n",
       "  (w): Linear(in_features=42, out_features=1, bias=True)\n",
       "  (sparse_first_emd): ModuleList(\n",
       "    (0): Embedding(5, 1)\n",
       "    (1): Embedding(6, 1)\n",
       "    (2): Embedding(5, 1)\n",
       "    (3): Embedding(2, 1)\n",
       "    (4): Embedding(2, 1)\n",
       "    (5): Embedding(3, 1)\n",
       "  )\n",
       "  (sparse_second_emd): ModuleList(\n",
       "    (0): Embedding(5, 5)\n",
       "    (1): Embedding(6, 5)\n",
       "    (2): Embedding(5, 5)\n",
       "    (3): Embedding(2, 5)\n",
       "    (4): Embedding(2, 5)\n",
       "    (5): Embedding(3, 5)\n",
       "  )\n",
       "  (dnn): Sequential(\n",
       "    (0): Linear(in_features=72, out_features=200, bias=True)\n",
       "    (1): ReLU()\n",
       "    (2): Dropout(p=0.3, inplace=False)\n",
       "    (3): Linear(in_features=200, out_features=200, bias=True)\n",
       "    (4): ReLU()\n",
       "    (5): Dropout(p=0.2, inplace=False)\n",
       "    (6): Linear(in_features=200, out_features=200, bias=True)\n",
       "    (7): ReLU()\n",
       "    (8): Dropout(p=0.2, inplace=False)\n",
       "    (9): Linear(in_features=200, out_features=1, bias=True)\n",
       "  )\n",
       "  (sigmoid): Sigmoid()\n",
       ")"
      ]
     },
     "execution_count": 14,
     "metadata": {},
     "output_type": "execute_result"
    }
   ],
   "source": [
    "model"
   ]
  },
  {
   "cell_type": "code",
   "execution_count": 15,
   "id": "68ce2e2f",
   "metadata": {},
   "outputs": [],
   "source": [
    "dn = torch.LongTensor(train[sparse_feats].values)"
   ]
  },
  {
   "cell_type": "code",
   "execution_count": 16,
   "id": "3a2b619b",
   "metadata": {},
   "outputs": [
    {
     "name": "stdout",
     "output_type": "stream",
     "text": [
      "tensor(4) tensor(0)\n",
      "tensor(5) tensor(0)\n",
      "tensor(4) tensor(0)\n",
      "tensor(1) tensor(0)\n",
      "tensor(1) tensor(0)\n",
      "tensor(2) tensor(0)\n"
     ]
    }
   ],
   "source": [
    "for i in range(dn.shape[1]):\n",
    "    print(dn[:, i].max(), dn[:, i].min())"
   ]
  },
  {
   "cell_type": "code",
   "execution_count": null,
   "id": "bdc82738",
   "metadata": {},
   "outputs": [],
   "source": []
  }
 ],
 "metadata": {
  "kernelspec": {
   "display_name": "Python 3 (ipykernel)",
   "language": "python",
   "name": "python3"
  },
  "language_info": {
   "codemirror_mode": {
    "name": "ipython",
    "version": 3
   },
   "file_extension": ".py",
   "mimetype": "text/x-python",
   "name": "python",
   "nbconvert_exporter": "python",
   "pygments_lexer": "ipython3",
   "version": "3.9.7"
  },
  "toc": {
   "base_numbering": 1,
   "nav_menu": {},
   "number_sections": true,
   "sideBar": true,
   "skip_h1_title": false,
   "title_cell": "Table of Contents",
   "title_sidebar": "Contents",
   "toc_cell": false,
   "toc_position": {},
   "toc_section_display": true,
   "toc_window_display": false
  }
 },
 "nbformat": 4,
 "nbformat_minor": 5
}
