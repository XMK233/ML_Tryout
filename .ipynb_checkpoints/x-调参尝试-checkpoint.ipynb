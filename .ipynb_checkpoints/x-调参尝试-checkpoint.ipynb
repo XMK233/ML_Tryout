{
 "cells": [
  {
   "cell_type": "code",
   "execution_count": 7,
   "id": "af1d793c",
   "metadata": {},
   "outputs": [
    {
     "name": "stdout",
     "output_type": "stream",
     "text": [
      "|target_hour|1|2\n",
      "|target_1d|3|4\n",
      "|target_3d|5|6\n",
      "|target_7d|7|8\n",
      "|target_15d|9|10\n"
     ]
    }
   ],
   "source": [
    "labels = [\"target_hour\", \"target_1d\", \"target_3d\", \"target_7d\", \"target_15d\",]\n",
    "score_cols = [\"a\", \"b\"]\n",
    "label_aucs = {\n",
    "    \"a\": [1, 3, 5, 7, 9],\n",
    "    \"b\": [2, 4, 6, 8, 10]\n",
    "}\n"
   ]
  },
  {
   "cell_type": "code",
   "execution_count": null,
   "id": "add781de",
   "metadata": {},
   "outputs": [],
   "source": []
  }
 ],
 "metadata": {
  "kernelspec": {
   "display_name": "Python 3 (ipykernel)",
   "language": "python",
   "name": "python3"
  },
  "language_info": {
   "codemirror_mode": {
    "name": "ipython",
    "version": 3
   },
   "file_extension": ".py",
   "mimetype": "text/x-python",
   "name": "python",
   "nbconvert_exporter": "python",
   "pygments_lexer": "ipython3",
   "version": "3.9.7"
  },
  "toc": {
   "base_numbering": 1,
   "nav_menu": {},
   "number_sections": true,
   "sideBar": true,
   "skip_h1_title": false,
   "title_cell": "Table of Contents",
   "title_sidebar": "Contents",
   "toc_cell": false,
   "toc_position": {},
   "toc_section_display": true,
   "toc_window_display": false
  }
 },
 "nbformat": 4,
 "nbformat_minor": 5
}
