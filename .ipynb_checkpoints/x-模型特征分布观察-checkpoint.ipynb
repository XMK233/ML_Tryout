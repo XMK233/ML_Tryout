{
 "cells": [
  {
   "cell_type": "code",
   "execution_count": 1,
   "id": "221b5989",
   "metadata": {},
   "outputs": [],
   "source": [
    "import xgboost as xgb\n",
    "import lightgbm as lgb\n",
    "from sklearn.preprocessing import LabelEncoder, StandardScaler\n",
    "from sklearn.linear_model import LogisticRegression\n",
    "from sklearn.svm import SVC\n",
    "from sklearn.neighbors import KNeighborsClassifier\n",
    "from catboost import CatBoostRegressor, CatBoostClassifier\n",
    "import pandas as pd\n",
    "import numpy as np\n",
    "import tqdm, datetime, pickle\n",
    "from sklearn.datasets import make_classification\n",
    "from sklearn.ensemble import RandomForestClassifier\n",
    "\n",
    "import torch\n",
    "import torch.nn.functional as F\n",
    "from torch.utils.data import DataLoader\n",
    "\n",
    "import ngboost as ngb\n",
    "\n",
    "from sklearn import datasets\n",
    "\n",
    "import plotnine\n",
    "from plotnine import *\n",
    "\n",
    "import matplotlib.pyplot as plt\n",
    "import seaborn as sns\n",
    "\n",
    "# from keras.models import Sequential\n",
    "# from keras.layers import Dense, Dropout, Activation, Flatten"
   ]
  },
  {
   "cell_type": "code",
   "execution_count": 2,
   "id": "726a08ca",
   "metadata": {},
   "outputs": [],
   "source": [
    "data_train = pd.read_csv(\"preprocessedDataset/pre1.csv\")\n",
    "numerical_category_fewValues = [\n",
    "    \"homeOwnership\", \n",
    "    \"verificationStatus\",\n",
    "    \"initialListStatus\",\n",
    "    \"applicationType\",\n",
    "    \"n11\",\n",
    "    \"n12\",\n",
    "]\n",
    "numerical_category_manyValues = [\n",
    "    \"regionCode\",\n",
    "    \"employmentTitle\",\n",
    "    \"purpose\",\n",
    "    \"postCode\",\n",
    "    \"title\",\n",
    "]\n",
    "date_type = [\n",
    "    'issueDate',\n",
    "    'earliesCreditLine',\n",
    "    'issueDateDT',\n",
    "    'earliesCreditLineDT',\n",
    "    'earliesCreditLineYear',\n",
    "    'earliesCreditLineMonth',\n",
    "    'issueYear',\n",
    "    'issueMonth'\n",
    "]\n",
    "numerical_serial = [\n",
    "    \"loanAmnt\",\"interestRate\",\"installment\",\"annualIncome\",\"dti\",\"delinquency_2years\",\"ficoRangeLow\",\"ficoRangeHigh\",\"openAcc\",\n",
    "    \"pubRec\",\"pubRecBankruptcies\",\"revolBal\",\"revolUtil\",\"totalAcc\",\"n0\",\"n1\",\"n2\",\"n3\",\n",
    "    \"n4\",\"n5\",\"n6\",\"n7\",\"n8\",\"n9\",\"n10\",\"n13\",\"n14\",\n",
    "    \"term\", \n",
    "]\n",
    "object_serial = [\n",
    "    \"grade\",\n",
    "    \"subGrade\", \n",
    "    \"employmentLength\"\n",
    "]"
   ]
  },
  {
   "cell_type": "code",
   "execution_count": 3,
   "id": "666edd61",
   "metadata": {},
   "outputs": [
    {
     "data": {
      "text/plain": [
       "['loanAmnt',\n",
       " 'term',\n",
       " 'interestRate',\n",
       " 'installment',\n",
       " 'grade',\n",
       " 'subGrade',\n",
       " 'employmentTitle',\n",
       " 'employmentLength',\n",
       " 'homeOwnership',\n",
       " 'annualIncome',\n",
       " 'verificationStatus',\n",
       " 'purpose',\n",
       " 'postCode',\n",
       " 'regionCode',\n",
       " 'dti',\n",
       " 'delinquency_2years',\n",
       " 'ficoRangeLow',\n",
       " 'ficoRangeHigh',\n",
       " 'openAcc',\n",
       " 'pubRec',\n",
       " 'pubRecBankruptcies',\n",
       " 'revolBal',\n",
       " 'revolUtil',\n",
       " 'totalAcc',\n",
       " 'initialListStatus',\n",
       " 'applicationType',\n",
       " 'title',\n",
       " 'n0',\n",
       " 'n1',\n",
       " 'n2',\n",
       " 'n3',\n",
       " 'n4',\n",
       " 'n5',\n",
       " 'n6',\n",
       " 'n7',\n",
       " 'n8',\n",
       " 'n9',\n",
       " 'n10',\n",
       " 'n11',\n",
       " 'n12',\n",
       " 'n13',\n",
       " 'n14',\n",
       " 'issueYear',\n",
       " 'issueMonth',\n",
       " 'earliesCreditLineYear',\n",
       " 'earliesCreditLineMonth',\n",
       " 'issueDateDT',\n",
       " 'earliesCreditLineDT']"
      ]
     },
     "execution_count": 3,
     "metadata": {},
     "output_type": "execute_result"
    }
   ],
   "source": [
    "features = [f for f in data_train.columns if f not in ['id', 'isDefault', \"policyCode\", \"issueDate\", \"earliesCreditLine\"] and '_outliers' not in f]\n",
    "features"
   ]
  },
  {
   "cell_type": "code",
   "execution_count": 4,
   "id": "f9a9d8be",
   "metadata": {},
   "outputs": [
    {
     "data": {
      "text/plain": [
       "48"
      ]
     },
     "execution_count": 4,
     "metadata": {},
     "output_type": "execute_result"
    }
   ],
   "source": [
    "len(features)"
   ]
  },
  {
   "cell_type": "markdown",
   "id": "8c522dbb",
   "metadata": {},
   "source": [
    "# 看看各个模型的特征的重要性"
   ]
  },
  {
   "cell_type": "code",
   "execution_count": 5,
   "id": "7f05ae33",
   "metadata": {},
   "outputs": [],
   "source": [
    "## 载回来模型\n",
    "## 打出特征重要性\n",
    "## 对比各个模型topK重要的特征，有无重叠。\n",
    "## 观察这些特征的分布有何变化。"
   ]
  },
  {
   "cell_type": "markdown",
   "id": "5b2f12ef",
   "metadata": {},
   "source": [
    "## 看第一个模型"
   ]
  },
  {
   "cell_type": "code",
   "execution_count": 6,
   "id": "b283df0e",
   "metadata": {},
   "outputs": [],
   "source": [
    "xgb_model = xgb.Booster()\n",
    "xgb_model.load_model(\"trainedModel/xgb.json\")"
   ]
  },
  {
   "cell_type": "code",
   "execution_count": 10,
   "id": "e80fdd1c",
   "metadata": {},
   "outputs": [
    {
     "name": "stdout",
     "output_type": "stream",
     "text": [
      "[('loanAmnt', 279.0), ('term', 99.0), ('interestRate', 326.0), ('installment', 405.0), ('grade', 60.0), ('subGrade', 168.0), ('employmentTitle', 413.0), ('employmentLength', 193.0), ('homeOwnership', 127.0), ('annualIncome', 483.0), ('verificationStatus', 55.0), ('purpose', 94.0), ('postCode', 416.0), ('regionCode', 308.0), ('dti', 522.0), ('delinquency_2years', 46.0), ('ficoRangeLow', 243.0), ('ficoRangeHigh', 41.0), ('openAcc', 136.0), ('pubRec', 30.0), ('pubRecBankruptcies', 30.0), ('revolBal', 506.0), ('revolUtil', 418.0), ('totalAcc', 247.0), ('initialListStatus', 16.0), ('applicationType', 16.0), ('title', 171.0), ('n0', 69.0), ('n1', 77.0), ('n2', 138.0), ('n3', 27.0), ('n4', 115.0), ('n5', 138.0), ('n6', 211.0), ('n7', 112.0), ('n8', 147.0), ('n9', 105.0), ('n10', 88.0), ('n11', 40.0), ('n12', 5.0), ('n13', 38.0), ('n14', 146.0), ('issueYear', 61.0), ('issueMonth', 133.0), ('earliesCreditLineYear', 118.0), ('earliesCreditLineMonth', 131.0), ('issueDateDT', 498.0), ('earliesCreditLineDT', 353.0)]\n"
     ]
    }
   ],
   "source": [
    "iptc_scores = xgb_model.get_score(importance_type=\"weight\")\n",
    "importances = []\n",
    "for i in range(len(iptc_scores)):\n",
    "    importances.append((features[i], iptc_scores[f\"f{i}\"]))\n",
    "print(importances)"
   ]
  },
  {
   "cell_type": "code",
   "execution_count": 13,
   "id": "491fa3a8",
   "metadata": {},
   "outputs": [],
   "source": [
    "importances.sort(key=lambda x: x[1], reverse=True)"
   ]
  },
  {
   "cell_type": "code",
   "execution_count": 7,
   "id": "a8a96f0e",
   "metadata": {},
   "outputs": [
    {
     "data": {
      "text/plain": [
       "{'f0': 6448.12451171875,\n",
       " 'f1': 11195.53125,\n",
       " 'f2': 9621.7607421875,\n",
       " 'f3': 7699.3125,\n",
       " 'f4': 55231.9609375,\n",
       " 'f5': 65446.22265625,\n",
       " 'f6': 5889.23681640625,\n",
       " 'f7': 4850.93017578125,\n",
       " 'f8': 7598.779296875,\n",
       " 'f9': 9826.2578125,\n",
       " 'f10': 991.3743896484375,\n",
       " 'f11': 1089.248291015625,\n",
       " 'f12': 5211.89697265625,\n",
       " 'f13': 4680.6123046875,\n",
       " 'f14': 11062.994140625,\n",
       " 'f15': 661.503662109375,\n",
       " 'f16': 6684.41259765625,\n",
       " 'f17': 892.2213745117188,\n",
       " 'f18': 1539.60302734375,\n",
       " 'f19': 423.0745849609375,\n",
       " 'f20': 385.1983337402344,\n",
       " 'f21': 8511.4599609375,\n",
       " 'f22': 5221.64404296875,\n",
       " 'f23': 3272.8525390625,\n",
       " 'f24': 178.6141357421875,\n",
       " 'f25': 209.86859130859375,\n",
       " 'f26': 2731.55615234375,\n",
       " 'f27': 897.3029174804688,\n",
       " 'f28': 869.5144653320312,\n",
       " 'f29': 3983.014404296875,\n",
       " 'f30': 820.5599975585938,\n",
       " 'f31': 1444.63916015625,\n",
       " 'f32': 1778.4495849609375,\n",
       " 'f33': 3069.72216796875,\n",
       " 'f34': 1258.7452392578125,\n",
       " 'f35': 1993.488037109375,\n",
       " 'f36': 1973.67333984375,\n",
       " 'f37': 1183.4654541015625,\n",
       " 'f38': 1484.2349853515625,\n",
       " 'f39': 120.89144897460938,\n",
       " 'f40': 511.59521484375,\n",
       " 'f41': 3590.72021484375,\n",
       " 'f42': 1197.6380615234375,\n",
       " 'f43': 1487.34814453125,\n",
       " 'f44': 1472.5675048828125,\n",
       " 'f45': 1290.7454833984375,\n",
       " 'f46': 21429.259765625,\n",
       " 'f47': 5606.5185546875}"
      ]
     },
     "execution_count": 7,
     "metadata": {},
     "output_type": "execute_result"
    }
   ],
   "source": []
  },
  {
   "cell_type": "code",
   "execution_count": null,
   "id": "244b9a0a",
   "metadata": {},
   "outputs": [],
   "source": []
  },
  {
   "cell_type": "code",
   "execution_count": 14,
   "id": "1ea4102d",
   "metadata": {},
   "outputs": [
    {
     "data": {
      "text/plain": [
       "[('dti', 522.0),\n",
       " ('revolBal', 506.0),\n",
       " ('issueDateDT', 498.0),\n",
       " ('annualIncome', 483.0),\n",
       " ('revolUtil', 418.0),\n",
       " ('postCode', 416.0),\n",
       " ('employmentTitle', 413.0),\n",
       " ('installment', 405.0),\n",
       " ('earliesCreditLineDT', 353.0),\n",
       " ('interestRate', 326.0),\n",
       " ('regionCode', 308.0),\n",
       " ('loanAmnt', 279.0),\n",
       " ('totalAcc', 247.0),\n",
       " ('ficoRangeLow', 243.0),\n",
       " ('n6', 211.0),\n",
       " ('employmentLength', 193.0),\n",
       " ('title', 171.0),\n",
       " ('subGrade', 168.0),\n",
       " ('n8', 147.0),\n",
       " ('n14', 146.0),\n",
       " ('n2', 138.0),\n",
       " ('n5', 138.0),\n",
       " ('openAcc', 136.0),\n",
       " ('issueMonth', 133.0),\n",
       " ('earliesCreditLineMonth', 131.0),\n",
       " ('homeOwnership', 127.0),\n",
       " ('earliesCreditLineYear', 118.0),\n",
       " ('n4', 115.0),\n",
       " ('n7', 112.0),\n",
       " ('n9', 105.0),\n",
       " ('term', 99.0),\n",
       " ('purpose', 94.0),\n",
       " ('n10', 88.0),\n",
       " ('n1', 77.0),\n",
       " ('n0', 69.0),\n",
       " ('issueYear', 61.0),\n",
       " ('grade', 60.0),\n",
       " ('verificationStatus', 55.0),\n",
       " ('delinquency_2years', 46.0),\n",
       " ('ficoRangeHigh', 41.0),\n",
       " ('n11', 40.0),\n",
       " ('n13', 38.0),\n",
       " ('pubRec', 30.0),\n",
       " ('pubRecBankruptcies', 30.0),\n",
       " ('n3', 27.0),\n",
       " ('initialListStatus', 16.0),\n",
       " ('applicationType', 16.0),\n",
       " ('n12', 5.0)]"
      ]
     },
     "execution_count": 14,
     "metadata": {},
     "output_type": "execute_result"
    }
   ],
   "source": [
    "importances"
   ]
  },
  {
   "cell_type": "code",
   "execution_count": 10,
   "id": "2ba9103d",
   "metadata": {},
   "outputs": [
    {
     "data": {
      "text/plain": [
       "6417"
      ]
     },
     "execution_count": 10,
     "metadata": {},
     "output_type": "execute_result"
    }
   ],
   "source": [
    "23*279"
   ]
  },
  {
   "cell_type": "code",
   "execution_count": 8,
   "id": "f78088a5",
   "metadata": {},
   "outputs": [
    {
     "data": {
      "text/plain": [
       "{'f0': 279.0,\n",
       " 'f1': 99.0,\n",
       " 'f2': 326.0,\n",
       " 'f3': 405.0,\n",
       " 'f4': 60.0,\n",
       " 'f5': 168.0,\n",
       " 'f6': 413.0,\n",
       " 'f7': 193.0,\n",
       " 'f8': 127.0,\n",
       " 'f9': 483.0,\n",
       " 'f10': 55.0,\n",
       " 'f11': 94.0,\n",
       " 'f12': 416.0,\n",
       " 'f13': 308.0,\n",
       " 'f14': 522.0,\n",
       " 'f15': 46.0,\n",
       " 'f16': 243.0,\n",
       " 'f17': 41.0,\n",
       " 'f18': 136.0,\n",
       " 'f19': 30.0,\n",
       " 'f20': 30.0,\n",
       " 'f21': 506.0,\n",
       " 'f22': 418.0,\n",
       " 'f23': 247.0,\n",
       " 'f24': 16.0,\n",
       " 'f25': 16.0,\n",
       " 'f26': 171.0,\n",
       " 'f27': 69.0,\n",
       " 'f28': 77.0,\n",
       " 'f29': 138.0,\n",
       " 'f30': 27.0,\n",
       " 'f31': 115.0,\n",
       " 'f32': 138.0,\n",
       " 'f33': 211.0,\n",
       " 'f34': 112.0,\n",
       " 'f35': 147.0,\n",
       " 'f36': 105.0,\n",
       " 'f37': 88.0,\n",
       " 'f38': 40.0,\n",
       " 'f39': 5.0,\n",
       " 'f40': 38.0,\n",
       " 'f41': 146.0,\n",
       " 'f42': 61.0,\n",
       " 'f43': 133.0,\n",
       " 'f44': 118.0,\n",
       " 'f45': 131.0,\n",
       " 'f46': 498.0,\n",
       " 'f47': 353.0}"
      ]
     },
     "execution_count": 8,
     "metadata": {},
     "output_type": "execute_result"
    }
   ],
   "source": [
    "xgb_model.get_score(importance_type=\"weight\")"
   ]
  },
  {
   "cell_type": "markdown",
   "id": "f972e4bc",
   "metadata": {},
   "source": [
    "## 看第二个模型"
   ]
  },
  {
   "cell_type": "code",
   "execution_count": 9,
   "id": "134144e3",
   "metadata": {},
   "outputs": [
    {
     "data": {
      "text/plain": [
       "{'f0': 23.111557006835938,\n",
       " 'f1': 113.08617401123047,\n",
       " 'f2': 29.514602661132812,\n",
       " 'f3': 19.010648727416992,\n",
       " 'f4': 920.5326538085938,\n",
       " 'f5': 389.56085205078125,\n",
       " 'f6': 14.259653091430664,\n",
       " 'f7': 25.134353637695312,\n",
       " 'f8': 59.832908630371094,\n",
       " 'f9': 20.344219207763672,\n",
       " 'f10': 18.024988174438477,\n",
       " 'f11': 11.587747573852539,\n",
       " 'f12': 12.52859878540039,\n",
       " 'f13': 15.196793556213379,\n",
       " 'f14': 21.1934757232666,\n",
       " 'f15': 14.380514144897461,\n",
       " 'f16': 27.507871627807617,\n",
       " 'f17': 21.761497497558594,\n",
       " 'f18': 11.320610046386719,\n",
       " 'f19': 14.102486610412598,\n",
       " 'f20': 12.839944839477539,\n",
       " 'f21': 16.821067810058594,\n",
       " 'f22': 12.491971015930176,\n",
       " 'f23': 13.250414848327637,\n",
       " 'f24': 11.163383483886719,\n",
       " 'f25': 13.11678695678711,\n",
       " 'f26': 15.97401237487793,\n",
       " 'f27': 13.004389762878418,\n",
       " 'f28': 11.29239559173584,\n",
       " 'f29': 28.862422943115234,\n",
       " 'f30': 30.391111373901367,\n",
       " 'f31': 12.562079429626465,\n",
       " 'f32': 12.88731575012207,\n",
       " 'f33': 14.548446655273438,\n",
       " 'f34': 11.238797187805176,\n",
       " 'f35': 13.561142921447754,\n",
       " 'f36': 18.79688835144043,\n",
       " 'f37': 13.448471069335938,\n",
       " 'f38': 37.105873107910156,\n",
       " 'f39': 24.17828941345215,\n",
       " 'f40': 13.463031768798828,\n",
       " 'f41': 24.59397315979004,\n",
       " 'f42': 19.633411407470703,\n",
       " 'f43': 11.183069229125977,\n",
       " 'f44': 12.479385375976562,\n",
       " 'f45': 9.853018760681152,\n",
       " 'f46': 43.030643463134766,\n",
       " 'f47': 15.882489204406738}"
      ]
     },
     "execution_count": 9,
     "metadata": {},
     "output_type": "execute_result"
    }
   ],
   "source": [
    "xgb_model.get_score(importance_type=\"gain\")"
   ]
  },
  {
   "cell_type": "code",
   "execution_count": 5,
   "id": "37e1c361",
   "metadata": {},
   "outputs": [
    {
     "data": {
      "text/plain": [
       "<catboost.core.CatBoostClassifier at 0x7ff07a1e82b0>"
      ]
     },
     "execution_count": 5,
     "metadata": {},
     "output_type": "execute_result"
    }
   ],
   "source": [
    "cat_model = CatBoostClassifier() # parameters not required.\n",
    "cat_model.load_model('trainedModel/cat.json')"
   ]
  },
  {
   "cell_type": "code",
   "execution_count": 19,
   "id": "25e47791",
   "metadata": {},
   "outputs": [
    {
     "data": {
      "text/plain": [
       "[('interestRate', 8.544284567479268),\n",
       " ('subGrade', 8.455588622847726),\n",
       " ('issueDateDT', 7.292582446550343),\n",
       " ('grade', 6.8886481397303845),\n",
       " ('term', 6.766828342784674),\n",
       " ('dti', 4.547846794904137),\n",
       " ('revolBal', 3.9271204264193305),\n",
       " ('annualIncome', 3.838212889522154),\n",
       " ('homeOwnership', 3.8064945918046322),\n",
       " ('loanAmnt', 3.1377419383371126),\n",
       " ('installment', 2.7116562373655464),\n",
       " ('ficoRangeLow', 2.700264715543778),\n",
       " ('n14', 2.432823652116279),\n",
       " ('employmentLength', 2.2092957418962604),\n",
       " ('regionCode', 2.197072701138165),\n",
       " ('revolUtil', 2.106320217772542),\n",
       " ('earliesCreditLineDT', 2.0400492335430647),\n",
       " ('employmentTitle', 2.035281632571486),\n",
       " ('ficoRangeHigh', 1.9907445362869305),\n",
       " ('postCode', 1.8732479098769317),\n",
       " ('n6', 1.5954844967735338),\n",
       " ('totalAcc', 1.5195593697529897),\n",
       " ('issueYear', 1.4290790536061346),\n",
       " ('n9', 1.333984232767719),\n",
       " ('title', 1.220950701468404),\n",
       " ('n3', 1.1762135764196455),\n",
       " ('verificationStatus', 1.1184680861228542),\n",
       " ('issueMonth', 0.9729774099889283),\n",
       " ('n5', 0.9233495094574445),\n",
       " ('n8', 0.8872344665813693),\n",
       " ('earliesCreditLineMonth', 0.7361328366760066),\n",
       " ('earliesCreditLineYear', 0.7330760374101573),\n",
       " ('purpose', 0.6904925403074208),\n",
       " ('openAcc', 0.6828480657334758),\n",
       " ('n11', 0.676086786048325),\n",
       " ('n4', 0.6102182218793405),\n",
       " ('n2', 0.5645153450494622),\n",
       " ('n7', 0.5628159395859533),\n",
       " ('pubRec', 0.5137902007919756),\n",
       " ('n1', 0.5044457213364156),\n",
       " ('delinquency_2years', 0.4687899961589732),\n",
       " ('n10', 0.4005425656367188),\n",
       " ('n0', 0.3910488507760699),\n",
       " ('pubRecBankruptcies', 0.34469290611056463),\n",
       " ('n13', 0.18921643183654369),\n",
       " ('applicationType', 0.144140026123467),\n",
       " ('initialListStatus', 0.0941288622565051),\n",
       " ('n12', 0.013612424852804637)]"
      ]
     },
     "execution_count": 19,
     "metadata": {},
     "output_type": "execute_result"
    }
   ],
   "source": [
    "iptc_scores = cat_model.get_feature_importance()\n",
    "importances1 = []\n",
    "for i in range(len(iptc_scores)):\n",
    "    importances1.append((features[i], iptc_scores[i]))\n",
    "importances1.sort(key=lambda x: x[1], reverse=True)\n",
    "importances1"
   ]
  },
  {
   "cell_type": "markdown",
   "id": "1f111bb9",
   "metadata": {},
   "source": [
    "## 对比一下"
   ]
  },
  {
   "cell_type": "code",
   "execution_count": 24,
   "id": "06c5f945",
   "metadata": {},
   "outputs": [],
   "source": [
    "feas1 = [_[0] for _ in importances[:10]]\n",
    "feas2 = [_[0] for _ in importances1[:10]]"
   ]
  },
  {
   "cell_type": "code",
   "execution_count": 25,
   "id": "4b307c4e",
   "metadata": {},
   "outputs": [
    {
     "data": {
      "text/plain": [
       "(['dti',\n",
       "  'revolBal',\n",
       "  'issueDateDT',\n",
       "  'annualIncome',\n",
       "  'revolUtil',\n",
       "  'postCode',\n",
       "  'employmentTitle',\n",
       "  'installment',\n",
       "  'earliesCreditLineDT',\n",
       "  'interestRate'],\n",
       " ['interestRate',\n",
       "  'subGrade',\n",
       "  'issueDateDT',\n",
       "  'grade',\n",
       "  'term',\n",
       "  'dti',\n",
       "  'revolBal',\n",
       "  'annualIncome',\n",
       "  'homeOwnership',\n",
       "  'loanAmnt'])"
      ]
     },
     "execution_count": 25,
     "metadata": {},
     "output_type": "execute_result"
    }
   ],
   "source": [
    "feas1, feas2"
   ]
  },
  {
   "cell_type": "code",
   "execution_count": 26,
   "id": "ad1a798d",
   "metadata": {},
   "outputs": [
    {
     "data": {
      "text/plain": [
       "{'annualIncome', 'dti', 'interestRate', 'issueDateDT', 'revolBal'}"
      ]
     },
     "execution_count": 26,
     "metadata": {},
     "output_type": "execute_result"
    }
   ],
   "source": [
    "itsct = set(feas1).intersection(set(feas2))\n",
    "itsct"
   ]
  },
  {
   "cell_type": "markdown",
   "id": "9ea950fe",
   "metadata": {},
   "source": [
    "# 看看这些特征的分布的变化"
   ]
  },
  {
   "cell_type": "markdown",
   "id": "0c51a7dd",
   "metadata": {},
   "source": [
    "我们先尝试一下对单个特征进行观察。"
   ]
  },
  {
   "cell_type": "markdown",
   "id": "c410d93a",
   "metadata": {},
   "source": [
    "## 密度图"
   ]
  },
  {
   "cell_type": "code",
   "execution_count": 34,
   "id": "83aa6156",
   "metadata": {},
   "outputs": [
    {
     "name": "stderr",
     "output_type": "stream",
     "text": [
      "No handles with labels found to put in legend.\n"
     ]
    },
    {
     "data": {
      "image/png": "[encoded data removed]",
      "text/plain": [
       "<Figure size 720x720 with 1 Axes>"
      ]
     },
     "metadata": {
      "needs_background": "light"
     },
     "output_type": "display_data"
    }
   ],
   "source": [
    "df = data_train\n",
    "fea = \"interestRate\"\n",
    "\n",
    "plt.figure(figsize = (10, 10))\n",
    "sns.kdeplot(df[fea], shade=True)\n",
    "plt.legend(title=\"kernel bandwidth value\")\n",
    "plt.show()"
   ]
  },
  {
   "cell_type": "code",
   "execution_count": 41,
   "id": "c786414c",
   "metadata": {
    "scrolled": false
   },
   "outputs": [
    {
     "name": "stderr",
     "output_type": "stream",
     "text": [
      "100%|█████████████████████████████████████████████| 5/5 [00:01<00:00,  3.34it/s]\n"
     ]
    },
    {
     "data": {
      "image/png": "[encoded data removed]",
      "text/plain": [
       "<Figure size 720x720 with 1 Axes>"
      ]
     },
     "metadata": {
      "needs_background": "light"
     },
     "output_type": "display_data"
    }
   ],
   "source": [
    "## \n",
    "fea = \"issueDateDT\"\n",
    "df = data_train\n",
    "\n",
    "plt.figure(figsize = (10, 10))\n",
    "n_batches = 4\n",
    "nrow_interval = df.shape[0] // n_batches - 5 ## 把原来的数据分成5份，然后逐份来做预测。否则实在太久。\n",
    "legends = []\n",
    "for i in tqdm.tqdm(range(n_batches + 1)):\n",
    "    if i == n_batches:\n",
    "        part_data = df.loc[i*nrow_interval:, :]\n",
    "    else:\n",
    "        part_data = df.loc[i*nrow_interval: (i+1)*nrow_interval - 1, :] ## 用loc来切片，“行”这一维度，竟然是上下限都保留！！\n",
    "    legends.append(f\"part {i}\")\n",
    "    sns.kdeplot(part_data[fea], shade=True)\n",
    "plt.legend(legends)\n",
    "plt.show()"
   ]
  },
  {
   "cell_type": "markdown",
   "id": "c4904a41",
   "metadata": {},
   "source": [
    "## 柱状图"
   ]
  },
  {
   "cell_type": "markdown",
   "id": "a08900a0",
   "metadata": {},
   "source": [
    "因为分布图看着有些糊涂，都挤在一起。所以我们可以考虑用柱状图分开展示。\n",
    "\n",
    "可以用sns的hue来做。"
   ]
  },
  {
   "cell_type": "code",
   "execution_count": 5,
   "id": "f6e55561",
   "metadata": {},
   "outputs": [],
   "source": [
    "from sklearn.preprocessing import KBinsDiscretizer"
   ]
  },
  {
   "cell_type": "raw",
   "id": "f30d31fa",
   "metadata": {},
   "source": [
    "enc = KBinsDiscretizer(n_bins=20, encode=\"ordinal\")\n",
    "X_binned = enc.fit_transform(df[[\"issueDateDT\"]])\n",
    "X_binned"
   ]
  },
  {
   "cell_type": "raw",
   "id": "5b8c8204",
   "metadata": {},
   "source": [
    "tmp_df = pd.DataFrame(X_binned, columns=[\"binned_fea\"])\n",
    "tmp_df1 = pd.DataFrame(tmp_df[\"binned_fea\"].value_counts()).reset_index()\n",
    "tmp_df1.rename(columns={\"index\": \"bin_num\", \"binned_fea\": \"bin_counts\"}, inplace=True)\n",
    "tmp_df1.sort_values(\"bin_num\", inplace=True)\n",
    "tmp_df1.reset_index(drop=True, inplace=True)\n",
    "tmp_df1[\"Month\"] = \"Let'sSayMonth1\"\n",
    "tmp_df1"
   ]
  },
  {
   "cell_type": "code",
   "execution_count": null,
   "id": "35e3ca1b",
   "metadata": {},
   "outputs": [
    {
     "name": "stderr",
     "output_type": "stream",
     "text": [
      "\r",
      "  0%|                                                     | 0/5 [00:00<?, ?it/s]"
     ]
    },
    {
     "name": "stdout",
     "output_type": "stream",
     "text": [
      "(199995, 53)\n",
      "here we are 1\n",
      "here we are 2\n"
     ]
    },
    {
     "name": "stderr",
     "output_type": "stream",
     "text": [
      "/Users/minkexiu/opt/anaconda3/lib/python3.9/site-packages/pandas/core/algorithms.py:862: SparseEfficiencyWarning: Comparing sparse matrices using == is inefficient, try using != instead.\n"
     ]
    }
   ],
   "source": [
    "## \n",
    "fea = \"issueDateDT\"\n",
    "df = data_train\n",
    "\n",
    "n_bins = 20\n",
    "enc = KBinsDiscretizer(n_bins=n_bins)\n",
    "binned_rst_list = []\n",
    "\n",
    "## 把原来的数据分成5份，然后逐份来做。\n",
    "n_batches = 4\n",
    "nrow_interval = df.shape[0] // n_batches - 5 \n",
    "for i in tqdm.tqdm(range(n_batches + 1)):\n",
    "    if i == n_batches:\n",
    "        part_data = df.loc[i*nrow_interval:, :]\n",
    "        print(\"we are here\")\n",
    "    else:\n",
    "        part_data = df.loc[i*nrow_interval: (i+1)*nrow_interval - 1, :] ## 用loc来切片，“行”这一维度，竟然是上下限都保留！！\n",
    "    print(part_data.shape)\n",
    "    ## 这里我们来实际搞事情：\n",
    "    if i == 0:\n",
    "        X_binned = enc.fit_transform(part_data[[fea]])\n",
    "    else:\n",
    "        X_binned = enc.transform(part_data[[fea]])\n",
    "    print(\"here we are 1\")\n",
    "    tmp_df = pd.DataFrame(X_binned, columns=[\"binned_fea\"])\n",
    "    print(\"here we are 2\")\n",
    "    tmp_df1 = pd.DataFrame(tmp_df[\"binned_fea\"].value_counts()).reset_index()\n",
    "    print(\"here we are 3\")\n",
    "    tmp_df1.rename(columns={\"index\": \"bin_num\", \"binned_fea\": \"bin_counts\"}, inplace=True)\n",
    "    print(\"here we are 4\")\n",
    "    tmp_df1.sort_values(\"bin_num\", inplace=True)\n",
    "    print(\"here we are 5\")\n",
    "    tmp_df1.reset_index(drop=True, inplace=True)\n",
    "    print(\"here we are 6\")\n",
    "    tmp_df1[\"Month\"] = f\"Part_{i}\"\n",
    "    print(\"here we are 7\")\n",
    "    binned_rst_list.append(tmp_df1)\n",
    "    print(\"here we are 8\")\n",
    "\n",
    "pd.concat(binned_rst_list)"
   ]
  },
  {
   "cell_type": "code",
   "execution_count": null,
   "id": "272c7ebf",
   "metadata": {},
   "outputs": [],
   "source": []
  }
 ],
 "metadata": {
  "kernelspec": {
   "display_name": "Python 3 (ipykernel)",
   "language": "python",
   "name": "python3"
  },
  "language_info": {
   "codemirror_mode": {
    "name": "ipython",
    "version": 3
   },
   "file_extension": ".py",
   "mimetype": "text/x-python",
   "name": "python",
   "nbconvert_exporter": "python",
   "pygments_lexer": "ipython3",
   "version": "3.9.7"
  },
  "toc": {
   "base_numbering": 1,
   "nav_menu": {},
   "number_sections": true,
   "sideBar": true,
   "skip_h1_title": false,
   "title_cell": "Table of Contents",
   "title_sidebar": "Contents",
   "toc_cell": false,
   "toc_position": {
    "height": "calc(100% - 180px)",
    "left": "10px",
    "top": "150px",
    "width": "261.818px"
   },
   "toc_section_display": true,
   "toc_window_display": true
  }
 },
 "nbformat": 4,
 "nbformat_minor": 5
}
